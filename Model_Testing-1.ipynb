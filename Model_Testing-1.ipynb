{
  "cells": [
    {
      "cell_type": "code",
      "execution_count": null,
      "metadata": {
        "id": "SisNzpqxb7KX"
      },
      "outputs": [],
      "source": [
        "import pandas as pd\n"
      ]
    },
    {
      "cell_type": "code",
      "execution_count": null,
      "metadata": {
        "colab": {
          "base_uri": "https://localhost:8080/",
          "height": 423
        },
        "id": "X0SYqsKjcvkD",
        "outputId": "f00e919a-3f3d-43b4-8023-190579286457"
      },
      "outputs": [
        {
          "output_type": "execute_result",
          "data": {
            "text/plain": [
              "      Unnamed: 0  Avg_Pop_Size   Pop_Trend  N_loc  lifespan_Imp  \\\n",
              "0              0        400000      Stable     11          15.0   \n",
              "1              1          2656  Decreasing     11          12.0   \n",
              "2              2        200000      Stable     11          35.0   \n",
              "3              3         17500  Increasing     11          41.5   \n",
              "4              4         50000     Unknown     11          41.5   \n",
              "...          ...           ...         ...    ...           ...   \n",
              "1799        1799          2000  Increasing      1          19.0   \n",
              "1800        1800          2750  Decreasing      9          20.0   \n",
              "1801        1801      27500000  Decreasing      1          11.0   \n",
              "1802        1802        113715  Decreasing      1          17.0   \n",
              "1803        1803       2000000  Decreasing     11          17.0   \n",
              "\n",
              "      pregDuration_Imp  Carnivore  Herbivore  Omnivore  Pop_Trend1  \\\n",
              "0                 61.0          1          0         0           2   \n",
              "1                103.0          1          0         0           3   \n",
              "2                 56.0          0          0         1           2   \n",
              "3                365.0          1          0         0           0   \n",
              "4                495.0          1          0         0           1   \n",
              "...                ...        ...        ...       ...         ...   \n",
              "1799             120.0          0          0         1           0   \n",
              "1800             120.0          1          0         0           3   \n",
              "1801             120.0          1          0         0           3   \n",
              "1802             120.0          0          1         0           3   \n",
              "1803             120.0          1          0         0           3   \n",
              "\n",
              "      population status1         pop_status1  \n",
              "0                      2  Least concern (LC)  \n",
              "1                      1     Endangered (EN)  \n",
              "2                      2  Least concern (LC)  \n",
              "3                      1     Endangered (EN)  \n",
              "4                      0     Endangered (EN)  \n",
              "...                  ...                 ...  \n",
              "1799                   3     Endangered (EN)  \n",
              "1800                   3     Endangered (EN)  \n",
              "1801                   2  Least concern (LC)  \n",
              "1802                   2  Least concern (LC)  \n",
              "1803                   2  Least concern (LC)  \n",
              "\n",
              "[1804 rows x 12 columns]"
            ],
            "text/html": [
              "\n",
              "  <div id=\"df-c825360d-fee9-4537-b6b3-95094ddb6f8f\">\n",
              "    <div class=\"colab-df-container\">\n",
              "      <div>\n",
              "<style scoped>\n",
              "    .dataframe tbody tr th:only-of-type {\n",
              "        vertical-align: middle;\n",
              "    }\n",
              "\n",
              "    .dataframe tbody tr th {\n",
              "        vertical-align: top;\n",
              "    }\n",
              "\n",
              "    .dataframe thead th {\n",
              "        text-align: right;\n",
              "    }\n",
              "</style>\n",
              "<table border=\"1\" class=\"dataframe\">\n",
              "  <thead>\n",
              "    <tr style=\"text-align: right;\">\n",
              "      <th></th>\n",
              "      <th>Unnamed: 0</th>\n",
              "      <th>Avg_Pop_Size</th>\n",
              "      <th>Pop_Trend</th>\n",
              "      <th>N_loc</th>\n",
              "      <th>lifespan_Imp</th>\n",
              "      <th>pregDuration_Imp</th>\n",
              "      <th>Carnivore</th>\n",
              "      <th>Herbivore</th>\n",
              "      <th>Omnivore</th>\n",
              "      <th>Pop_Trend1</th>\n",
              "      <th>population status1</th>\n",
              "      <th>pop_status1</th>\n",
              "    </tr>\n",
              "  </thead>\n",
              "  <tbody>\n",
              "    <tr>\n",
              "      <th>0</th>\n",
              "      <td>0</td>\n",
              "      <td>400000</td>\n",
              "      <td>Stable</td>\n",
              "      <td>11</td>\n",
              "      <td>15.0</td>\n",
              "      <td>61.0</td>\n",
              "      <td>1</td>\n",
              "      <td>0</td>\n",
              "      <td>0</td>\n",
              "      <td>2</td>\n",
              "      <td>2</td>\n",
              "      <td>Least concern (LC)</td>\n",
              "    </tr>\n",
              "    <tr>\n",
              "      <th>1</th>\n",
              "      <td>1</td>\n",
              "      <td>2656</td>\n",
              "      <td>Decreasing</td>\n",
              "      <td>11</td>\n",
              "      <td>12.0</td>\n",
              "      <td>103.0</td>\n",
              "      <td>1</td>\n",
              "      <td>0</td>\n",
              "      <td>0</td>\n",
              "      <td>3</td>\n",
              "      <td>1</td>\n",
              "      <td>Endangered (EN)</td>\n",
              "    </tr>\n",
              "    <tr>\n",
              "      <th>2</th>\n",
              "      <td>2</td>\n",
              "      <td>200000</td>\n",
              "      <td>Stable</td>\n",
              "      <td>11</td>\n",
              "      <td>35.0</td>\n",
              "      <td>56.0</td>\n",
              "      <td>0</td>\n",
              "      <td>0</td>\n",
              "      <td>1</td>\n",
              "      <td>2</td>\n",
              "      <td>2</td>\n",
              "      <td>Least concern (LC)</td>\n",
              "    </tr>\n",
              "    <tr>\n",
              "      <th>3</th>\n",
              "      <td>3</td>\n",
              "      <td>17500</td>\n",
              "      <td>Increasing</td>\n",
              "      <td>11</td>\n",
              "      <td>41.5</td>\n",
              "      <td>365.0</td>\n",
              "      <td>1</td>\n",
              "      <td>0</td>\n",
              "      <td>0</td>\n",
              "      <td>0</td>\n",
              "      <td>1</td>\n",
              "      <td>Endangered (EN)</td>\n",
              "    </tr>\n",
              "    <tr>\n",
              "      <th>4</th>\n",
              "      <td>4</td>\n",
              "      <td>50000</td>\n",
              "      <td>Unknown</td>\n",
              "      <td>11</td>\n",
              "      <td>41.5</td>\n",
              "      <td>495.0</td>\n",
              "      <td>1</td>\n",
              "      <td>0</td>\n",
              "      <td>0</td>\n",
              "      <td>1</td>\n",
              "      <td>0</td>\n",
              "      <td>Endangered (EN)</td>\n",
              "    </tr>\n",
              "    <tr>\n",
              "      <th>...</th>\n",
              "      <td>...</td>\n",
              "      <td>...</td>\n",
              "      <td>...</td>\n",
              "      <td>...</td>\n",
              "      <td>...</td>\n",
              "      <td>...</td>\n",
              "      <td>...</td>\n",
              "      <td>...</td>\n",
              "      <td>...</td>\n",
              "      <td>...</td>\n",
              "      <td>...</td>\n",
              "      <td>...</td>\n",
              "    </tr>\n",
              "    <tr>\n",
              "      <th>1799</th>\n",
              "      <td>1799</td>\n",
              "      <td>2000</td>\n",
              "      <td>Increasing</td>\n",
              "      <td>1</td>\n",
              "      <td>19.0</td>\n",
              "      <td>120.0</td>\n",
              "      <td>0</td>\n",
              "      <td>0</td>\n",
              "      <td>1</td>\n",
              "      <td>0</td>\n",
              "      <td>3</td>\n",
              "      <td>Endangered (EN)</td>\n",
              "    </tr>\n",
              "    <tr>\n",
              "      <th>1800</th>\n",
              "      <td>1800</td>\n",
              "      <td>2750</td>\n",
              "      <td>Decreasing</td>\n",
              "      <td>9</td>\n",
              "      <td>20.0</td>\n",
              "      <td>120.0</td>\n",
              "      <td>1</td>\n",
              "      <td>0</td>\n",
              "      <td>0</td>\n",
              "      <td>3</td>\n",
              "      <td>3</td>\n",
              "      <td>Endangered (EN)</td>\n",
              "    </tr>\n",
              "    <tr>\n",
              "      <th>1801</th>\n",
              "      <td>1801</td>\n",
              "      <td>27500000</td>\n",
              "      <td>Decreasing</td>\n",
              "      <td>1</td>\n",
              "      <td>11.0</td>\n",
              "      <td>120.0</td>\n",
              "      <td>1</td>\n",
              "      <td>0</td>\n",
              "      <td>0</td>\n",
              "      <td>3</td>\n",
              "      <td>2</td>\n",
              "      <td>Least concern (LC)</td>\n",
              "    </tr>\n",
              "    <tr>\n",
              "      <th>1802</th>\n",
              "      <td>1802</td>\n",
              "      <td>113715</td>\n",
              "      <td>Decreasing</td>\n",
              "      <td>1</td>\n",
              "      <td>17.0</td>\n",
              "      <td>120.0</td>\n",
              "      <td>0</td>\n",
              "      <td>1</td>\n",
              "      <td>0</td>\n",
              "      <td>3</td>\n",
              "      <td>2</td>\n",
              "      <td>Least concern (LC)</td>\n",
              "    </tr>\n",
              "    <tr>\n",
              "      <th>1803</th>\n",
              "      <td>1803</td>\n",
              "      <td>2000000</td>\n",
              "      <td>Decreasing</td>\n",
              "      <td>11</td>\n",
              "      <td>17.0</td>\n",
              "      <td>120.0</td>\n",
              "      <td>1</td>\n",
              "      <td>0</td>\n",
              "      <td>0</td>\n",
              "      <td>3</td>\n",
              "      <td>2</td>\n",
              "      <td>Least concern (LC)</td>\n",
              "    </tr>\n",
              "  </tbody>\n",
              "</table>\n",
              "<p>1804 rows × 12 columns</p>\n",
              "</div>\n",
              "      <button class=\"colab-df-convert\" onclick=\"convertToInteractive('df-c825360d-fee9-4537-b6b3-95094ddb6f8f')\"\n",
              "              title=\"Convert this dataframe to an interactive table.\"\n",
              "              style=\"display:none;\">\n",
              "        \n",
              "  <svg xmlns=\"http://www.w3.org/2000/svg\" height=\"24px\"viewBox=\"0 0 24 24\"\n",
              "       width=\"24px\">\n",
              "    <path d=\"M0 0h24v24H0V0z\" fill=\"none\"/>\n",
              "    <path d=\"M18.56 5.44l.94 2.06.94-2.06 2.06-.94-2.06-.94-.94-2.06-.94 2.06-2.06.94zm-11 1L8.5 8.5l.94-2.06 2.06-.94-2.06-.94L8.5 2.5l-.94 2.06-2.06.94zm10 10l.94 2.06.94-2.06 2.06-.94-2.06-.94-.94-2.06-.94 2.06-2.06.94z\"/><path d=\"M17.41 7.96l-1.37-1.37c-.4-.4-.92-.59-1.43-.59-.52 0-1.04.2-1.43.59L10.3 9.45l-7.72 7.72c-.78.78-.78 2.05 0 2.83L4 21.41c.39.39.9.59 1.41.59.51 0 1.02-.2 1.41-.59l7.78-7.78 2.81-2.81c.8-.78.8-2.07 0-2.86zM5.41 20L4 18.59l7.72-7.72 1.47 1.35L5.41 20z\"/>\n",
              "  </svg>\n",
              "      </button>\n",
              "      \n",
              "  <style>\n",
              "    .colab-df-container {\n",
              "      display:flex;\n",
              "      flex-wrap:wrap;\n",
              "      gap: 12px;\n",
              "    }\n",
              "\n",
              "    .colab-df-convert {\n",
              "      background-color: #E8F0FE;\n",
              "      border: none;\n",
              "      border-radius: 50%;\n",
              "      cursor: pointer;\n",
              "      display: none;\n",
              "      fill: #1967D2;\n",
              "      height: 32px;\n",
              "      padding: 0 0 0 0;\n",
              "      width: 32px;\n",
              "    }\n",
              "\n",
              "    .colab-df-convert:hover {\n",
              "      background-color: #E2EBFA;\n",
              "      box-shadow: 0px 1px 2px rgba(60, 64, 67, 0.3), 0px 1px 3px 1px rgba(60, 64, 67, 0.15);\n",
              "      fill: #174EA6;\n",
              "    }\n",
              "\n",
              "    [theme=dark] .colab-df-convert {\n",
              "      background-color: #3B4455;\n",
              "      fill: #D2E3FC;\n",
              "    }\n",
              "\n",
              "    [theme=dark] .colab-df-convert:hover {\n",
              "      background-color: #434B5C;\n",
              "      box-shadow: 0px 1px 3px 1px rgba(0, 0, 0, 0.15);\n",
              "      filter: drop-shadow(0px 1px 2px rgba(0, 0, 0, 0.3));\n",
              "      fill: #FFFFFF;\n",
              "    }\n",
              "  </style>\n",
              "\n",
              "      <script>\n",
              "        const buttonEl =\n",
              "          document.querySelector('#df-c825360d-fee9-4537-b6b3-95094ddb6f8f button.colab-df-convert');\n",
              "        buttonEl.style.display =\n",
              "          google.colab.kernel.accessAllowed ? 'block' : 'none';\n",
              "\n",
              "        async function convertToInteractive(key) {\n",
              "          const element = document.querySelector('#df-c825360d-fee9-4537-b6b3-95094ddb6f8f');\n",
              "          const dataTable =\n",
              "            await google.colab.kernel.invokeFunction('convertToInteractive',\n",
              "                                                     [key], {});\n",
              "          if (!dataTable) return;\n",
              "\n",
              "          const docLinkHtml = 'Like what you see? Visit the ' +\n",
              "            '<a target=\"_blank\" href=https://colab.research.google.com/notebooks/data_table.ipynb>data table notebook</a>'\n",
              "            + ' to learn more about interactive tables.';\n",
              "          element.innerHTML = '';\n",
              "          dataTable['output_type'] = 'display_data';\n",
              "          await google.colab.output.renderOutput(dataTable, element);\n",
              "          const docLink = document.createElement('div');\n",
              "          docLink.innerHTML = docLinkHtml;\n",
              "          element.appendChild(docLink);\n",
              "        }\n",
              "      </script>\n",
              "    </div>\n",
              "  </div>\n",
              "  "
            ]
          },
          "metadata": {},
          "execution_count": 2
        }
      ],
      "source": [
        "df = pd.read_csv('/content/drive/MyDrive/DMining_Project/Project-Animal/final_df1.csv')\n",
        "df"
      ]
    },
    {
      "cell_type": "code",
      "execution_count": null,
      "metadata": {
        "colab": {
          "base_uri": "https://localhost:8080/"
        },
        "id": "tRxB2wHKc8OD",
        "outputId": "d4b050c7-1cd2-4ca1-aaf0-7a4953cff246"
      },
      "outputs": [
        {
          "output_type": "execute_result",
          "data": {
            "text/plain": [
              "Index(['Unnamed: 0', 'Avg_Pop_Size', 'Pop_Trend', 'N_loc', 'lifespan_Imp',\n",
              "       'pregDuration_Imp', 'Carnivore', 'Herbivore', 'Omnivore', 'Pop_Trend1',\n",
              "       'population status1', 'pop_status1'],\n",
              "      dtype='object')"
            ]
          },
          "metadata": {},
          "execution_count": 3
        }
      ],
      "source": [
        "df.columns"
      ]
    },
    {
      "cell_type": "markdown",
      "source": [
        "# Ordinal encoding for the Target Feature - Population Status "
      ],
      "metadata": {
        "id": "QeNG5QNZ-lc-"
      }
    },
    {
      "cell_type": "code",
      "execution_count": null,
      "metadata": {
        "colab": {
          "base_uri": "https://localhost:8080/"
        },
        "id": "N2Wmr4FFeMXH",
        "outputId": "44ccafa3-f5c4-4ca0-aa5b-d128f79f5000"
      },
      "outputs": [
        {
          "output_type": "execute_result",
          "data": {
            "text/plain": [
              "array([1, 0])"
            ]
          },
          "metadata": {},
          "execution_count": 4
        }
      ],
      "source": [
        "from sklearn.preprocessing import LabelEncoder\n",
        "encoder1 = LabelEncoder()\n",
        "df['pop_status'] = encoder1.fit_transform(df['pop_status1'])\n",
        "df['pop_status'].unique()"
      ]
    },
    {
      "cell_type": "code",
      "execution_count": null,
      "metadata": {
        "colab": {
          "base_uri": "https://localhost:8080/",
          "height": 423
        },
        "id": "8VgUWhhSefus",
        "outputId": "e8e59b7b-2566-40a0-86ae-de68f1896e78"
      },
      "outputs": [
        {
          "output_type": "execute_result",
          "data": {
            "text/plain": [
              "      Unnamed: 0  Avg_Pop_Size   Pop_Trend  N_loc  lifespan_Imp  \\\n",
              "0              0        400000      Stable     11          15.0   \n",
              "1              1          2656  Decreasing     11          12.0   \n",
              "2              2        200000      Stable     11          35.0   \n",
              "3              3         17500  Increasing     11          41.5   \n",
              "4              4         50000     Unknown     11          41.5   \n",
              "...          ...           ...         ...    ...           ...   \n",
              "1799        1799          2000  Increasing      1          19.0   \n",
              "1800        1800          2750  Decreasing      9          20.0   \n",
              "1801        1801      27500000  Decreasing      1          11.0   \n",
              "1802        1802        113715  Decreasing      1          17.0   \n",
              "1803        1803       2000000  Decreasing     11          17.0   \n",
              "\n",
              "      pregDuration_Imp  Carnivore  Herbivore  Omnivore  Pop_Trend1  \\\n",
              "0                 61.0          1          0         0           2   \n",
              "1                103.0          1          0         0           3   \n",
              "2                 56.0          0          0         1           2   \n",
              "3                365.0          1          0         0           0   \n",
              "4                495.0          1          0         0           1   \n",
              "...                ...        ...        ...       ...         ...   \n",
              "1799             120.0          0          0         1           0   \n",
              "1800             120.0          1          0         0           3   \n",
              "1801             120.0          1          0         0           3   \n",
              "1802             120.0          0          1         0           3   \n",
              "1803             120.0          1          0         0           3   \n",
              "\n",
              "      population status1         pop_status1  pop_status  \n",
              "0                      2  Least concern (LC)           1  \n",
              "1                      1     Endangered (EN)           0  \n",
              "2                      2  Least concern (LC)           1  \n",
              "3                      1     Endangered (EN)           0  \n",
              "4                      0     Endangered (EN)           0  \n",
              "...                  ...                 ...         ...  \n",
              "1799                   3     Endangered (EN)           0  \n",
              "1800                   3     Endangered (EN)           0  \n",
              "1801                   2  Least concern (LC)           1  \n",
              "1802                   2  Least concern (LC)           1  \n",
              "1803                   2  Least concern (LC)           1  \n",
              "\n",
              "[1804 rows x 13 columns]"
            ],
            "text/html": [
              "\n",
              "  <div id=\"df-129455ef-4ed7-4913-9b1b-5909d76aaa58\">\n",
              "    <div class=\"colab-df-container\">\n",
              "      <div>\n",
              "<style scoped>\n",
              "    .dataframe tbody tr th:only-of-type {\n",
              "        vertical-align: middle;\n",
              "    }\n",
              "\n",
              "    .dataframe tbody tr th {\n",
              "        vertical-align: top;\n",
              "    }\n",
              "\n",
              "    .dataframe thead th {\n",
              "        text-align: right;\n",
              "    }\n",
              "</style>\n",
              "<table border=\"1\" class=\"dataframe\">\n",
              "  <thead>\n",
              "    <tr style=\"text-align: right;\">\n",
              "      <th></th>\n",
              "      <th>Unnamed: 0</th>\n",
              "      <th>Avg_Pop_Size</th>\n",
              "      <th>Pop_Trend</th>\n",
              "      <th>N_loc</th>\n",
              "      <th>lifespan_Imp</th>\n",
              "      <th>pregDuration_Imp</th>\n",
              "      <th>Carnivore</th>\n",
              "      <th>Herbivore</th>\n",
              "      <th>Omnivore</th>\n",
              "      <th>Pop_Trend1</th>\n",
              "      <th>population status1</th>\n",
              "      <th>pop_status1</th>\n",
              "      <th>pop_status</th>\n",
              "    </tr>\n",
              "  </thead>\n",
              "  <tbody>\n",
              "    <tr>\n",
              "      <th>0</th>\n",
              "      <td>0</td>\n",
              "      <td>400000</td>\n",
              "      <td>Stable</td>\n",
              "      <td>11</td>\n",
              "      <td>15.0</td>\n",
              "      <td>61.0</td>\n",
              "      <td>1</td>\n",
              "      <td>0</td>\n",
              "      <td>0</td>\n",
              "      <td>2</td>\n",
              "      <td>2</td>\n",
              "      <td>Least concern (LC)</td>\n",
              "      <td>1</td>\n",
              "    </tr>\n",
              "    <tr>\n",
              "      <th>1</th>\n",
              "      <td>1</td>\n",
              "      <td>2656</td>\n",
              "      <td>Decreasing</td>\n",
              "      <td>11</td>\n",
              "      <td>12.0</td>\n",
              "      <td>103.0</td>\n",
              "      <td>1</td>\n",
              "      <td>0</td>\n",
              "      <td>0</td>\n",
              "      <td>3</td>\n",
              "      <td>1</td>\n",
              "      <td>Endangered (EN)</td>\n",
              "      <td>0</td>\n",
              "    </tr>\n",
              "    <tr>\n",
              "      <th>2</th>\n",
              "      <td>2</td>\n",
              "      <td>200000</td>\n",
              "      <td>Stable</td>\n",
              "      <td>11</td>\n",
              "      <td>35.0</td>\n",
              "      <td>56.0</td>\n",
              "      <td>0</td>\n",
              "      <td>0</td>\n",
              "      <td>1</td>\n",
              "      <td>2</td>\n",
              "      <td>2</td>\n",
              "      <td>Least concern (LC)</td>\n",
              "      <td>1</td>\n",
              "    </tr>\n",
              "    <tr>\n",
              "      <th>3</th>\n",
              "      <td>3</td>\n",
              "      <td>17500</td>\n",
              "      <td>Increasing</td>\n",
              "      <td>11</td>\n",
              "      <td>41.5</td>\n",
              "      <td>365.0</td>\n",
              "      <td>1</td>\n",
              "      <td>0</td>\n",
              "      <td>0</td>\n",
              "      <td>0</td>\n",
              "      <td>1</td>\n",
              "      <td>Endangered (EN)</td>\n",
              "      <td>0</td>\n",
              "    </tr>\n",
              "    <tr>\n",
              "      <th>4</th>\n",
              "      <td>4</td>\n",
              "      <td>50000</td>\n",
              "      <td>Unknown</td>\n",
              "      <td>11</td>\n",
              "      <td>41.5</td>\n",
              "      <td>495.0</td>\n",
              "      <td>1</td>\n",
              "      <td>0</td>\n",
              "      <td>0</td>\n",
              "      <td>1</td>\n",
              "      <td>0</td>\n",
              "      <td>Endangered (EN)</td>\n",
              "      <td>0</td>\n",
              "    </tr>\n",
              "    <tr>\n",
              "      <th>...</th>\n",
              "      <td>...</td>\n",
              "      <td>...</td>\n",
              "      <td>...</td>\n",
              "      <td>...</td>\n",
              "      <td>...</td>\n",
              "      <td>...</td>\n",
              "      <td>...</td>\n",
              "      <td>...</td>\n",
              "      <td>...</td>\n",
              "      <td>...</td>\n",
              "      <td>...</td>\n",
              "      <td>...</td>\n",
              "      <td>...</td>\n",
              "    </tr>\n",
              "    <tr>\n",
              "      <th>1799</th>\n",
              "      <td>1799</td>\n",
              "      <td>2000</td>\n",
              "      <td>Increasing</td>\n",
              "      <td>1</td>\n",
              "      <td>19.0</td>\n",
              "      <td>120.0</td>\n",
              "      <td>0</td>\n",
              "      <td>0</td>\n",
              "      <td>1</td>\n",
              "      <td>0</td>\n",
              "      <td>3</td>\n",
              "      <td>Endangered (EN)</td>\n",
              "      <td>0</td>\n",
              "    </tr>\n",
              "    <tr>\n",
              "      <th>1800</th>\n",
              "      <td>1800</td>\n",
              "      <td>2750</td>\n",
              "      <td>Decreasing</td>\n",
              "      <td>9</td>\n",
              "      <td>20.0</td>\n",
              "      <td>120.0</td>\n",
              "      <td>1</td>\n",
              "      <td>0</td>\n",
              "      <td>0</td>\n",
              "      <td>3</td>\n",
              "      <td>3</td>\n",
              "      <td>Endangered (EN)</td>\n",
              "      <td>0</td>\n",
              "    </tr>\n",
              "    <tr>\n",
              "      <th>1801</th>\n",
              "      <td>1801</td>\n",
              "      <td>27500000</td>\n",
              "      <td>Decreasing</td>\n",
              "      <td>1</td>\n",
              "      <td>11.0</td>\n",
              "      <td>120.0</td>\n",
              "      <td>1</td>\n",
              "      <td>0</td>\n",
              "      <td>0</td>\n",
              "      <td>3</td>\n",
              "      <td>2</td>\n",
              "      <td>Least concern (LC)</td>\n",
              "      <td>1</td>\n",
              "    </tr>\n",
              "    <tr>\n",
              "      <th>1802</th>\n",
              "      <td>1802</td>\n",
              "      <td>113715</td>\n",
              "      <td>Decreasing</td>\n",
              "      <td>1</td>\n",
              "      <td>17.0</td>\n",
              "      <td>120.0</td>\n",
              "      <td>0</td>\n",
              "      <td>1</td>\n",
              "      <td>0</td>\n",
              "      <td>3</td>\n",
              "      <td>2</td>\n",
              "      <td>Least concern (LC)</td>\n",
              "      <td>1</td>\n",
              "    </tr>\n",
              "    <tr>\n",
              "      <th>1803</th>\n",
              "      <td>1803</td>\n",
              "      <td>2000000</td>\n",
              "      <td>Decreasing</td>\n",
              "      <td>11</td>\n",
              "      <td>17.0</td>\n",
              "      <td>120.0</td>\n",
              "      <td>1</td>\n",
              "      <td>0</td>\n",
              "      <td>0</td>\n",
              "      <td>3</td>\n",
              "      <td>2</td>\n",
              "      <td>Least concern (LC)</td>\n",
              "      <td>1</td>\n",
              "    </tr>\n",
              "  </tbody>\n",
              "</table>\n",
              "<p>1804 rows × 13 columns</p>\n",
              "</div>\n",
              "      <button class=\"colab-df-convert\" onclick=\"convertToInteractive('df-129455ef-4ed7-4913-9b1b-5909d76aaa58')\"\n",
              "              title=\"Convert this dataframe to an interactive table.\"\n",
              "              style=\"display:none;\">\n",
              "        \n",
              "  <svg xmlns=\"http://www.w3.org/2000/svg\" height=\"24px\"viewBox=\"0 0 24 24\"\n",
              "       width=\"24px\">\n",
              "    <path d=\"M0 0h24v24H0V0z\" fill=\"none\"/>\n",
              "    <path d=\"M18.56 5.44l.94 2.06.94-2.06 2.06-.94-2.06-.94-.94-2.06-.94 2.06-2.06.94zm-11 1L8.5 8.5l.94-2.06 2.06-.94-2.06-.94L8.5 2.5l-.94 2.06-2.06.94zm10 10l.94 2.06.94-2.06 2.06-.94-2.06-.94-.94-2.06-.94 2.06-2.06.94z\"/><path d=\"M17.41 7.96l-1.37-1.37c-.4-.4-.92-.59-1.43-.59-.52 0-1.04.2-1.43.59L10.3 9.45l-7.72 7.72c-.78.78-.78 2.05 0 2.83L4 21.41c.39.39.9.59 1.41.59.51 0 1.02-.2 1.41-.59l7.78-7.78 2.81-2.81c.8-.78.8-2.07 0-2.86zM5.41 20L4 18.59l7.72-7.72 1.47 1.35L5.41 20z\"/>\n",
              "  </svg>\n",
              "      </button>\n",
              "      \n",
              "  <style>\n",
              "    .colab-df-container {\n",
              "      display:flex;\n",
              "      flex-wrap:wrap;\n",
              "      gap: 12px;\n",
              "    }\n",
              "\n",
              "    .colab-df-convert {\n",
              "      background-color: #E8F0FE;\n",
              "      border: none;\n",
              "      border-radius: 50%;\n",
              "      cursor: pointer;\n",
              "      display: none;\n",
              "      fill: #1967D2;\n",
              "      height: 32px;\n",
              "      padding: 0 0 0 0;\n",
              "      width: 32px;\n",
              "    }\n",
              "\n",
              "    .colab-df-convert:hover {\n",
              "      background-color: #E2EBFA;\n",
              "      box-shadow: 0px 1px 2px rgba(60, 64, 67, 0.3), 0px 1px 3px 1px rgba(60, 64, 67, 0.15);\n",
              "      fill: #174EA6;\n",
              "    }\n",
              "\n",
              "    [theme=dark] .colab-df-convert {\n",
              "      background-color: #3B4455;\n",
              "      fill: #D2E3FC;\n",
              "    }\n",
              "\n",
              "    [theme=dark] .colab-df-convert:hover {\n",
              "      background-color: #434B5C;\n",
              "      box-shadow: 0px 1px 3px 1px rgba(0, 0, 0, 0.15);\n",
              "      filter: drop-shadow(0px 1px 2px rgba(0, 0, 0, 0.3));\n",
              "      fill: #FFFFFF;\n",
              "    }\n",
              "  </style>\n",
              "\n",
              "      <script>\n",
              "        const buttonEl =\n",
              "          document.querySelector('#df-129455ef-4ed7-4913-9b1b-5909d76aaa58 button.colab-df-convert');\n",
              "        buttonEl.style.display =\n",
              "          google.colab.kernel.accessAllowed ? 'block' : 'none';\n",
              "\n",
              "        async function convertToInteractive(key) {\n",
              "          const element = document.querySelector('#df-129455ef-4ed7-4913-9b1b-5909d76aaa58');\n",
              "          const dataTable =\n",
              "            await google.colab.kernel.invokeFunction('convertToInteractive',\n",
              "                                                     [key], {});\n",
              "          if (!dataTable) return;\n",
              "\n",
              "          const docLinkHtml = 'Like what you see? Visit the ' +\n",
              "            '<a target=\"_blank\" href=https://colab.research.google.com/notebooks/data_table.ipynb>data table notebook</a>'\n",
              "            + ' to learn more about interactive tables.';\n",
              "          element.innerHTML = '';\n",
              "          dataTable['output_type'] = 'display_data';\n",
              "          await google.colab.output.renderOutput(dataTable, element);\n",
              "          const docLink = document.createElement('div');\n",
              "          docLink.innerHTML = docLinkHtml;\n",
              "          element.appendChild(docLink);\n",
              "        }\n",
              "      </script>\n",
              "    </div>\n",
              "  </div>\n",
              "  "
            ]
          },
          "metadata": {},
          "execution_count": 5
        }
      ],
      "source": [
        "df"
      ]
    },
    {
      "cell_type": "code",
      "source": [
        "df['pop_status'].value_counts()"
      ],
      "metadata": {
        "colab": {
          "base_uri": "https://localhost:8080/"
        },
        "id": "LFmqtpA6TVLn",
        "outputId": "ab4bc06e-d1f7-406e-d911-5dec4ce12e70"
      },
      "execution_count": null,
      "outputs": [
        {
          "output_type": "execute_result",
          "data": {
            "text/plain": [
              "1    1103\n",
              "0     701\n",
              "Name: pop_status, dtype: int64"
            ]
          },
          "metadata": {},
          "execution_count": 6
        }
      ]
    },
    {
      "cell_type": "markdown",
      "source": [
        "# Taking the import features"
      ],
      "metadata": {
        "id": "j6BN2NKS-y8W"
      }
    },
    {
      "cell_type": "code",
      "execution_count": null,
      "metadata": {
        "id": "W4N4z5tXdIPU"
      },
      "outputs": [],
      "source": [
        "X =df[['Avg_Pop_Size', 'N_loc', 'lifespan_Imp',\n",
        "       'pregDuration_Imp', 'Carnivore', 'Herbivore', 'Omnivore', 'Pop_Trend1']]"
      ]
    },
    {
      "cell_type": "markdown",
      "source": [
        "# Target Feature"
      ],
      "metadata": {
        "id": "y2VQE0EZ-6o6"
      }
    },
    {
      "cell_type": "code",
      "execution_count": null,
      "metadata": {
        "colab": {
          "base_uri": "https://localhost:8080/",
          "height": 423
        },
        "id": "btvf_iNyeGBe",
        "outputId": "d3ad9272-2d51-47a0-a158-04176f13d2ee"
      },
      "outputs": [
        {
          "output_type": "execute_result",
          "data": {
            "text/plain": [
              "      pop_status\n",
              "0              1\n",
              "1              0\n",
              "2              1\n",
              "3              0\n",
              "4              0\n",
              "...          ...\n",
              "1799           0\n",
              "1800           0\n",
              "1801           1\n",
              "1802           1\n",
              "1803           1\n",
              "\n",
              "[1804 rows x 1 columns]"
            ],
            "text/html": [
              "\n",
              "  <div id=\"df-bff615e4-8950-4892-9488-1d74af1a7be7\">\n",
              "    <div class=\"colab-df-container\">\n",
              "      <div>\n",
              "<style scoped>\n",
              "    .dataframe tbody tr th:only-of-type {\n",
              "        vertical-align: middle;\n",
              "    }\n",
              "\n",
              "    .dataframe tbody tr th {\n",
              "        vertical-align: top;\n",
              "    }\n",
              "\n",
              "    .dataframe thead th {\n",
              "        text-align: right;\n",
              "    }\n",
              "</style>\n",
              "<table border=\"1\" class=\"dataframe\">\n",
              "  <thead>\n",
              "    <tr style=\"text-align: right;\">\n",
              "      <th></th>\n",
              "      <th>pop_status</th>\n",
              "    </tr>\n",
              "  </thead>\n",
              "  <tbody>\n",
              "    <tr>\n",
              "      <th>0</th>\n",
              "      <td>1</td>\n",
              "    </tr>\n",
              "    <tr>\n",
              "      <th>1</th>\n",
              "      <td>0</td>\n",
              "    </tr>\n",
              "    <tr>\n",
              "      <th>2</th>\n",
              "      <td>1</td>\n",
              "    </tr>\n",
              "    <tr>\n",
              "      <th>3</th>\n",
              "      <td>0</td>\n",
              "    </tr>\n",
              "    <tr>\n",
              "      <th>4</th>\n",
              "      <td>0</td>\n",
              "    </tr>\n",
              "    <tr>\n",
              "      <th>...</th>\n",
              "      <td>...</td>\n",
              "    </tr>\n",
              "    <tr>\n",
              "      <th>1799</th>\n",
              "      <td>0</td>\n",
              "    </tr>\n",
              "    <tr>\n",
              "      <th>1800</th>\n",
              "      <td>0</td>\n",
              "    </tr>\n",
              "    <tr>\n",
              "      <th>1801</th>\n",
              "      <td>1</td>\n",
              "    </tr>\n",
              "    <tr>\n",
              "      <th>1802</th>\n",
              "      <td>1</td>\n",
              "    </tr>\n",
              "    <tr>\n",
              "      <th>1803</th>\n",
              "      <td>1</td>\n",
              "    </tr>\n",
              "  </tbody>\n",
              "</table>\n",
              "<p>1804 rows × 1 columns</p>\n",
              "</div>\n",
              "      <button class=\"colab-df-convert\" onclick=\"convertToInteractive('df-bff615e4-8950-4892-9488-1d74af1a7be7')\"\n",
              "              title=\"Convert this dataframe to an interactive table.\"\n",
              "              style=\"display:none;\">\n",
              "        \n",
              "  <svg xmlns=\"http://www.w3.org/2000/svg\" height=\"24px\"viewBox=\"0 0 24 24\"\n",
              "       width=\"24px\">\n",
              "    <path d=\"M0 0h24v24H0V0z\" fill=\"none\"/>\n",
              "    <path d=\"M18.56 5.44l.94 2.06.94-2.06 2.06-.94-2.06-.94-.94-2.06-.94 2.06-2.06.94zm-11 1L8.5 8.5l.94-2.06 2.06-.94-2.06-.94L8.5 2.5l-.94 2.06-2.06.94zm10 10l.94 2.06.94-2.06 2.06-.94-2.06-.94-.94-2.06-.94 2.06-2.06.94z\"/><path d=\"M17.41 7.96l-1.37-1.37c-.4-.4-.92-.59-1.43-.59-.52 0-1.04.2-1.43.59L10.3 9.45l-7.72 7.72c-.78.78-.78 2.05 0 2.83L4 21.41c.39.39.9.59 1.41.59.51 0 1.02-.2 1.41-.59l7.78-7.78 2.81-2.81c.8-.78.8-2.07 0-2.86zM5.41 20L4 18.59l7.72-7.72 1.47 1.35L5.41 20z\"/>\n",
              "  </svg>\n",
              "      </button>\n",
              "      \n",
              "  <style>\n",
              "    .colab-df-container {\n",
              "      display:flex;\n",
              "      flex-wrap:wrap;\n",
              "      gap: 12px;\n",
              "    }\n",
              "\n",
              "    .colab-df-convert {\n",
              "      background-color: #E8F0FE;\n",
              "      border: none;\n",
              "      border-radius: 50%;\n",
              "      cursor: pointer;\n",
              "      display: none;\n",
              "      fill: #1967D2;\n",
              "      height: 32px;\n",
              "      padding: 0 0 0 0;\n",
              "      width: 32px;\n",
              "    }\n",
              "\n",
              "    .colab-df-convert:hover {\n",
              "      background-color: #E2EBFA;\n",
              "      box-shadow: 0px 1px 2px rgba(60, 64, 67, 0.3), 0px 1px 3px 1px rgba(60, 64, 67, 0.15);\n",
              "      fill: #174EA6;\n",
              "    }\n",
              "\n",
              "    [theme=dark] .colab-df-convert {\n",
              "      background-color: #3B4455;\n",
              "      fill: #D2E3FC;\n",
              "    }\n",
              "\n",
              "    [theme=dark] .colab-df-convert:hover {\n",
              "      background-color: #434B5C;\n",
              "      box-shadow: 0px 1px 3px 1px rgba(0, 0, 0, 0.15);\n",
              "      filter: drop-shadow(0px 1px 2px rgba(0, 0, 0, 0.3));\n",
              "      fill: #FFFFFF;\n",
              "    }\n",
              "  </style>\n",
              "\n",
              "      <script>\n",
              "        const buttonEl =\n",
              "          document.querySelector('#df-bff615e4-8950-4892-9488-1d74af1a7be7 button.colab-df-convert');\n",
              "        buttonEl.style.display =\n",
              "          google.colab.kernel.accessAllowed ? 'block' : 'none';\n",
              "\n",
              "        async function convertToInteractive(key) {\n",
              "          const element = document.querySelector('#df-bff615e4-8950-4892-9488-1d74af1a7be7');\n",
              "          const dataTable =\n",
              "            await google.colab.kernel.invokeFunction('convertToInteractive',\n",
              "                                                     [key], {});\n",
              "          if (!dataTable) return;\n",
              "\n",
              "          const docLinkHtml = 'Like what you see? Visit the ' +\n",
              "            '<a target=\"_blank\" href=https://colab.research.google.com/notebooks/data_table.ipynb>data table notebook</a>'\n",
              "            + ' to learn more about interactive tables.';\n",
              "          element.innerHTML = '';\n",
              "          dataTable['output_type'] = 'display_data';\n",
              "          await google.colab.output.renderOutput(dataTable, element);\n",
              "          const docLink = document.createElement('div');\n",
              "          docLink.innerHTML = docLinkHtml;\n",
              "          element.appendChild(docLink);\n",
              "        }\n",
              "      </script>\n",
              "    </div>\n",
              "  </div>\n",
              "  "
            ]
          },
          "metadata": {},
          "execution_count": 8
        }
      ],
      "source": [
        "y = df[['pop_status']]\n",
        "y"
      ]
    },
    {
      "cell_type": "markdown",
      "source": [
        "# spliting the data into train and test/\n"
      ],
      "metadata": {
        "id": "6tIpZcdc_Bp5"
      }
    },
    {
      "cell_type": "code",
      "execution_count": null,
      "metadata": {
        "id": "rb2Zs7yXeoLZ"
      },
      "outputs": [],
      "source": [
        "from sklearn.model_selection import train_test_split\n",
        "X_train, X_test, y_train, y_test = train_test_split(X, y, test_size=0.20, random_state=33)"
      ]
    },
    {
      "cell_type": "markdown",
      "source": [
        "# Scaling the training data \n"
      ],
      "metadata": {
        "id": "pYwOobTC_M_w"
      }
    },
    {
      "cell_type": "code",
      "execution_count": null,
      "metadata": {
        "id": "ZM6QRxvUewNr"
      },
      "outputs": [],
      "source": [
        "from sklearn.preprocessing import StandardScaler\n",
        "scaler = StandardScaler()\n",
        "scaler.fit(X_train)\n",
        "X_train_sclaed = scaler.transform(X_train)\n",
        "\n",
        "X_test_sclaed = scaler.transform(X_test)"
      ]
    },
    {
      "cell_type": "code",
      "execution_count": null,
      "metadata": {
        "colab": {
          "base_uri": "https://localhost:8080/",
          "height": 423
        },
        "id": "aKmE6ls6fFWx",
        "outputId": "8c145eb6-233e-4f86-a208-8c9385259c2f"
      },
      "outputs": [
        {
          "output_type": "execute_result",
          "data": {
            "text/plain": [
              "      Avg_Pop_Size     N_loc  lifespan_Imp  pregDuration_Imp  Carnivore  \\\n",
              "0        -0.071458  1.128586      0.887939         -0.139876   1.024556   \n",
              "1        -0.167721  1.128586     -0.004018         -0.139876   1.024556   \n",
              "2        -0.166906 -0.210315     -0.182409          0.413921  -0.976032   \n",
              "3        -0.167746 -1.102916     -0.182409          0.137023  -0.976032   \n",
              "4        -0.165359 -1.102916      2.047483         -0.139876   1.024556   \n",
              "...            ...       ...           ...               ...        ...   \n",
              "1438     -0.165359 -1.102916     -1.341953         -1.035180   1.024556   \n",
              "1439     -0.165359 -1.102916      0.531156          0.413921  -0.976032   \n",
              "1440     -0.168147 -0.879765      0.441961         -0.139876   1.024556   \n",
              "1441     -0.165359 -0.879765     -0.271605          0.727739  -0.976032   \n",
              "1442     -0.165359 -0.656615     -1.341953         -0.555223   1.024556   \n",
              "\n",
              "      Herbivore  Omnivore  Pop_Trend1  \n",
              "0     -0.700502  -0.47320    0.910581  \n",
              "1     -0.700502  -0.47320    0.910581  \n",
              "2      1.427549  -0.47320   -0.070725  \n",
              "3      1.427549  -0.47320   -2.033335  \n",
              "4     -0.700502  -0.47320    0.910581  \n",
              "...         ...       ...         ...  \n",
              "1438  -0.700502  -0.47320    0.910581  \n",
              "1439   1.427549  -0.47320    0.910581  \n",
              "1440  -0.700502  -0.47320    0.910581  \n",
              "1441  -0.700502   2.11327    0.910581  \n",
              "1442  -0.700502  -0.47320   -1.052030  \n",
              "\n",
              "[1443 rows x 8 columns]"
            ],
            "text/html": [
              "\n",
              "  <div id=\"df-a5094fd2-549c-4479-8bb6-14a725e4ca2d\">\n",
              "    <div class=\"colab-df-container\">\n",
              "      <div>\n",
              "<style scoped>\n",
              "    .dataframe tbody tr th:only-of-type {\n",
              "        vertical-align: middle;\n",
              "    }\n",
              "\n",
              "    .dataframe tbody tr th {\n",
              "        vertical-align: top;\n",
              "    }\n",
              "\n",
              "    .dataframe thead th {\n",
              "        text-align: right;\n",
              "    }\n",
              "</style>\n",
              "<table border=\"1\" class=\"dataframe\">\n",
              "  <thead>\n",
              "    <tr style=\"text-align: right;\">\n",
              "      <th></th>\n",
              "      <th>Avg_Pop_Size</th>\n",
              "      <th>N_loc</th>\n",
              "      <th>lifespan_Imp</th>\n",
              "      <th>pregDuration_Imp</th>\n",
              "      <th>Carnivore</th>\n",
              "      <th>Herbivore</th>\n",
              "      <th>Omnivore</th>\n",
              "      <th>Pop_Trend1</th>\n",
              "    </tr>\n",
              "  </thead>\n",
              "  <tbody>\n",
              "    <tr>\n",
              "      <th>0</th>\n",
              "      <td>-0.071458</td>\n",
              "      <td>1.128586</td>\n",
              "      <td>0.887939</td>\n",
              "      <td>-0.139876</td>\n",
              "      <td>1.024556</td>\n",
              "      <td>-0.700502</td>\n",
              "      <td>-0.47320</td>\n",
              "      <td>0.910581</td>\n",
              "    </tr>\n",
              "    <tr>\n",
              "      <th>1</th>\n",
              "      <td>-0.167721</td>\n",
              "      <td>1.128586</td>\n",
              "      <td>-0.004018</td>\n",
              "      <td>-0.139876</td>\n",
              "      <td>1.024556</td>\n",
              "      <td>-0.700502</td>\n",
              "      <td>-0.47320</td>\n",
              "      <td>0.910581</td>\n",
              "    </tr>\n",
              "    <tr>\n",
              "      <th>2</th>\n",
              "      <td>-0.166906</td>\n",
              "      <td>-0.210315</td>\n",
              "      <td>-0.182409</td>\n",
              "      <td>0.413921</td>\n",
              "      <td>-0.976032</td>\n",
              "      <td>1.427549</td>\n",
              "      <td>-0.47320</td>\n",
              "      <td>-0.070725</td>\n",
              "    </tr>\n",
              "    <tr>\n",
              "      <th>3</th>\n",
              "      <td>-0.167746</td>\n",
              "      <td>-1.102916</td>\n",
              "      <td>-0.182409</td>\n",
              "      <td>0.137023</td>\n",
              "      <td>-0.976032</td>\n",
              "      <td>1.427549</td>\n",
              "      <td>-0.47320</td>\n",
              "      <td>-2.033335</td>\n",
              "    </tr>\n",
              "    <tr>\n",
              "      <th>4</th>\n",
              "      <td>-0.165359</td>\n",
              "      <td>-1.102916</td>\n",
              "      <td>2.047483</td>\n",
              "      <td>-0.139876</td>\n",
              "      <td>1.024556</td>\n",
              "      <td>-0.700502</td>\n",
              "      <td>-0.47320</td>\n",
              "      <td>0.910581</td>\n",
              "    </tr>\n",
              "    <tr>\n",
              "      <th>...</th>\n",
              "      <td>...</td>\n",
              "      <td>...</td>\n",
              "      <td>...</td>\n",
              "      <td>...</td>\n",
              "      <td>...</td>\n",
              "      <td>...</td>\n",
              "      <td>...</td>\n",
              "      <td>...</td>\n",
              "    </tr>\n",
              "    <tr>\n",
              "      <th>1438</th>\n",
              "      <td>-0.165359</td>\n",
              "      <td>-1.102916</td>\n",
              "      <td>-1.341953</td>\n",
              "      <td>-1.035180</td>\n",
              "      <td>1.024556</td>\n",
              "      <td>-0.700502</td>\n",
              "      <td>-0.47320</td>\n",
              "      <td>0.910581</td>\n",
              "    </tr>\n",
              "    <tr>\n",
              "      <th>1439</th>\n",
              "      <td>-0.165359</td>\n",
              "      <td>-1.102916</td>\n",
              "      <td>0.531156</td>\n",
              "      <td>0.413921</td>\n",
              "      <td>-0.976032</td>\n",
              "      <td>1.427549</td>\n",
              "      <td>-0.47320</td>\n",
              "      <td>0.910581</td>\n",
              "    </tr>\n",
              "    <tr>\n",
              "      <th>1440</th>\n",
              "      <td>-0.168147</td>\n",
              "      <td>-0.879765</td>\n",
              "      <td>0.441961</td>\n",
              "      <td>-0.139876</td>\n",
              "      <td>1.024556</td>\n",
              "      <td>-0.700502</td>\n",
              "      <td>-0.47320</td>\n",
              "      <td>0.910581</td>\n",
              "    </tr>\n",
              "    <tr>\n",
              "      <th>1441</th>\n",
              "      <td>-0.165359</td>\n",
              "      <td>-0.879765</td>\n",
              "      <td>-0.271605</td>\n",
              "      <td>0.727739</td>\n",
              "      <td>-0.976032</td>\n",
              "      <td>-0.700502</td>\n",
              "      <td>2.11327</td>\n",
              "      <td>0.910581</td>\n",
              "    </tr>\n",
              "    <tr>\n",
              "      <th>1442</th>\n",
              "      <td>-0.165359</td>\n",
              "      <td>-0.656615</td>\n",
              "      <td>-1.341953</td>\n",
              "      <td>-0.555223</td>\n",
              "      <td>1.024556</td>\n",
              "      <td>-0.700502</td>\n",
              "      <td>-0.47320</td>\n",
              "      <td>-1.052030</td>\n",
              "    </tr>\n",
              "  </tbody>\n",
              "</table>\n",
              "<p>1443 rows × 8 columns</p>\n",
              "</div>\n",
              "      <button class=\"colab-df-convert\" onclick=\"convertToInteractive('df-a5094fd2-549c-4479-8bb6-14a725e4ca2d')\"\n",
              "              title=\"Convert this dataframe to an interactive table.\"\n",
              "              style=\"display:none;\">\n",
              "        \n",
              "  <svg xmlns=\"http://www.w3.org/2000/svg\" height=\"24px\"viewBox=\"0 0 24 24\"\n",
              "       width=\"24px\">\n",
              "    <path d=\"M0 0h24v24H0V0z\" fill=\"none\"/>\n",
              "    <path d=\"M18.56 5.44l.94 2.06.94-2.06 2.06-.94-2.06-.94-.94-2.06-.94 2.06-2.06.94zm-11 1L8.5 8.5l.94-2.06 2.06-.94-2.06-.94L8.5 2.5l-.94 2.06-2.06.94zm10 10l.94 2.06.94-2.06 2.06-.94-2.06-.94-.94-2.06-.94 2.06-2.06.94z\"/><path d=\"M17.41 7.96l-1.37-1.37c-.4-.4-.92-.59-1.43-.59-.52 0-1.04.2-1.43.59L10.3 9.45l-7.72 7.72c-.78.78-.78 2.05 0 2.83L4 21.41c.39.39.9.59 1.41.59.51 0 1.02-.2 1.41-.59l7.78-7.78 2.81-2.81c.8-.78.8-2.07 0-2.86zM5.41 20L4 18.59l7.72-7.72 1.47 1.35L5.41 20z\"/>\n",
              "  </svg>\n",
              "      </button>\n",
              "      \n",
              "  <style>\n",
              "    .colab-df-container {\n",
              "      display:flex;\n",
              "      flex-wrap:wrap;\n",
              "      gap: 12px;\n",
              "    }\n",
              "\n",
              "    .colab-df-convert {\n",
              "      background-color: #E8F0FE;\n",
              "      border: none;\n",
              "      border-radius: 50%;\n",
              "      cursor: pointer;\n",
              "      display: none;\n",
              "      fill: #1967D2;\n",
              "      height: 32px;\n",
              "      padding: 0 0 0 0;\n",
              "      width: 32px;\n",
              "    }\n",
              "\n",
              "    .colab-df-convert:hover {\n",
              "      background-color: #E2EBFA;\n",
              "      box-shadow: 0px 1px 2px rgba(60, 64, 67, 0.3), 0px 1px 3px 1px rgba(60, 64, 67, 0.15);\n",
              "      fill: #174EA6;\n",
              "    }\n",
              "\n",
              "    [theme=dark] .colab-df-convert {\n",
              "      background-color: #3B4455;\n",
              "      fill: #D2E3FC;\n",
              "    }\n",
              "\n",
              "    [theme=dark] .colab-df-convert:hover {\n",
              "      background-color: #434B5C;\n",
              "      box-shadow: 0px 1px 3px 1px rgba(0, 0, 0, 0.15);\n",
              "      filter: drop-shadow(0px 1px 2px rgba(0, 0, 0, 0.3));\n",
              "      fill: #FFFFFF;\n",
              "    }\n",
              "  </style>\n",
              "\n",
              "      <script>\n",
              "        const buttonEl =\n",
              "          document.querySelector('#df-a5094fd2-549c-4479-8bb6-14a725e4ca2d button.colab-df-convert');\n",
              "        buttonEl.style.display =\n",
              "          google.colab.kernel.accessAllowed ? 'block' : 'none';\n",
              "\n",
              "        async function convertToInteractive(key) {\n",
              "          const element = document.querySelector('#df-a5094fd2-549c-4479-8bb6-14a725e4ca2d');\n",
              "          const dataTable =\n",
              "            await google.colab.kernel.invokeFunction('convertToInteractive',\n",
              "                                                     [key], {});\n",
              "          if (!dataTable) return;\n",
              "\n",
              "          const docLinkHtml = 'Like what you see? Visit the ' +\n",
              "            '<a target=\"_blank\" href=https://colab.research.google.com/notebooks/data_table.ipynb>data table notebook</a>'\n",
              "            + ' to learn more about interactive tables.';\n",
              "          element.innerHTML = '';\n",
              "          dataTable['output_type'] = 'display_data';\n",
              "          await google.colab.output.renderOutput(dataTable, element);\n",
              "          const docLink = document.createElement('div');\n",
              "          docLink.innerHTML = docLinkHtml;\n",
              "          element.appendChild(docLink);\n",
              "        }\n",
              "      </script>\n",
              "    </div>\n",
              "  </div>\n",
              "  "
            ]
          },
          "metadata": {},
          "execution_count": 11
        }
      ],
      "source": [
        "x_testscaled = pd.DataFrame(X_test_sclaed,columns=X_train.columns)\n",
        "x_testscaled\n",
        "x_scaled = pd.DataFrame(X_train_sclaed,columns=X_train.columns)\n",
        "x_scaled"
      ]
    },
    {
      "cell_type": "markdown",
      "source": [
        "# RandomForest"
      ],
      "metadata": {
        "id": "fEDkFkDCnvVH"
      }
    },
    {
      "cell_type": "code",
      "execution_count": null,
      "metadata": {
        "colab": {
          "base_uri": "https://localhost:8080/"
        },
        "id": "rl5A0oI1fFUo",
        "outputId": "f4cace4d-fa70-4532-a492-b836604b5f60"
      },
      "outputs": [
        {
          "output_type": "stream",
          "name": "stderr",
          "text": [
            "<ipython-input-12-68f9278cf3d4>:3: DataConversionWarning: A column-vector y was passed when a 1d array was expected. Please change the shape of y to (n_samples,), for example using ravel().\n",
            "  rfc.fit(X_train, y_train)\n"
          ]
        }
      ],
      "source": [
        "from sklearn.ensemble import RandomForestClassifier\n",
        "rfc = RandomForestClassifier(n_estimators=2500, criterion='entropy',max_depth=127)\n",
        "rfc.fit(X_train, y_train)\n",
        "y_pred_rf = rfc.predict(X_test)"
      ]
    },
    {
      "cell_type": "code",
      "execution_count": null,
      "metadata": {
        "colab": {
          "base_uri": "https://localhost:8080/"
        },
        "id": "Ijup0x_KfFR5",
        "outputId": "f53b7d2d-e757-47b1-c8ca-0eafdbe5e220"
      },
      "outputs": [
        {
          "output_type": "stream",
          "name": "stdout",
          "text": [
            "F1-score:  0.8222378300100056\n",
            "Accuracy score 0.8227146814404432\n"
          ]
        }
      ],
      "source": [
        "from sklearn.metrics import f1_score\n",
        "from sklearn.metrics import accuracy_score,confusion_matrix\n",
        "print(\"F1-score: \", f1_score(y_test,y_pred_rf,average='weighted'))\n",
        "print(\"Accuracy score\", accuracy_score(y_test,y_pred_rf))"
      ]
    },
    {
      "cell_type": "code",
      "source": [
        "# checking for recall score i.e the percentage of predicting the endangered species\n",
        "from sklearn.metrics import classification_report\n",
        "print(classification_report(y_test,y_pred_rf))"
      ],
      "metadata": {
        "colab": {
          "base_uri": "https://localhost:8080/"
        },
        "id": "LDqZ3qa6rLcD",
        "outputId": "8a167d11-0742-411c-f162-09478ad91f0a"
      },
      "execution_count": null,
      "outputs": [
        {
          "output_type": "stream",
          "name": "stdout",
          "text": [
            "              precision    recall  f1-score   support\n",
            "\n",
            "           0       0.78      0.76      0.77       141\n",
            "           1       0.85      0.86      0.86       220\n",
            "\n",
            "    accuracy                           0.82       361\n",
            "   macro avg       0.81      0.81      0.81       361\n",
            "weighted avg       0.82      0.82      0.82       361\n",
            "\n"
          ]
        }
      ]
    },
    {
      "cell_type": "code",
      "source": [
        "# confusion matrix\n",
        "cm = (confusion_matrix(y_test,y_pred_rf))\n",
        "df_cm = pd.DataFrame(cm,columns=[['Endangered','Least Concern']], index=['Endangered','Least Concern'])\n",
        "print(df_cm)"
      ],
      "metadata": {
        "colab": {
          "base_uri": "https://localhost:8080/"
        },
        "id": "7aXKFiVMHP9l",
        "outputId": "323d3716-a33e-488b-d6f2-48968aee6cc2"
      },
      "execution_count": null,
      "outputs": [
        {
          "output_type": "stream",
          "name": "stdout",
          "text": [
            "              Endangered Least Concern\n",
            "Endangered           107            34\n",
            "Least Concern         30           190\n"
          ]
        }
      ]
    },
    {
      "cell_type": "code",
      "source": [
        "# calculating the auc score\n",
        "from sklearn.metrics import roc_curve,roc_auc_score \n",
        "r_auc_rf = roc_auc_score(y_test,y_pred_rf)\n",
        "r_auc_rf"
      ],
      "metadata": {
        "colab": {
          "base_uri": "https://localhost:8080/"
        },
        "id": "3Gk8XiOaGxDN",
        "outputId": "f855ae2a-93a5-4837-a438-2c092c707892"
      },
      "execution_count": null,
      "outputs": [
        {
          "output_type": "execute_result",
          "data": {
            "text/plain": [
              "0.811250805931657"
            ]
          },
          "metadata": {},
          "execution_count": 16
        }
      ]
    },
    {
      "cell_type": "code",
      "source": [
        "#dt_fpr, dt_tpr, _ = roc_curve(y_test, y_pred_dt)\n",
        "rf_fpr, rf_tpr, _ = roc_curve(y_test, y_pred_rf)\n",
        "#xgb_fpr, xgb_tpr, _ = roc_curve(y_test, y_pred_rf)"
      ],
      "metadata": {
        "id": "d5G0OgSceynX"
      },
      "execution_count": null,
      "outputs": []
    },
    {
      "cell_type": "code",
      "source": [
        "cm = (confusion_matrix(y_test,y_pred_rf))\n",
        "df_cm = pd.DataFrame(cm,columns=[['Endangered','Least Concern']], index=['Endangered','Least Concern'])\n",
        "print(df_cm)\n",
        "print(classification_report(y_test,y_pred_rf))\n",
        "import matplotlib.pyplot as plt\n",
        "plt.plot(r_fpr, r_tpr, linestyle='--', label='Random prediction (AUROC = %0.3f)' % r_auc)\n",
        "#plt.plot(dt_fpr, dt_tpr, marker='.', label='decision Tree(AUROC = %0.3f)' % r_auc_dt)\n",
        "plt.plot(rf_fpr, rf_tpr, marker='.', label='Random Forest (AUROC = %0.3f)' % r_auc_rf)\n",
        "#plt.plot(xgb_fpr, xgb_tpr, marker='.', label='Xgboost (AUROC = %0.3f)' % r_auc_xgb)\n",
        "\n",
        "# Title\n",
        "plt.title('ROC Plot')\n",
        "# Axis labels\n",
        "plt.xlabel('False Positive Rate')\n",
        "plt.ylabel('True Positive Rate')\n",
        "# Show legend\n",
        "plt.legend() # \n",
        "# Show plot\n",
        "plt.show()\n"
      ],
      "metadata": {
        "colab": {
          "base_uri": "https://localhost:8080/",
          "height": 457
        },
        "id": "kdItxv5VG5dT",
        "outputId": "36ecd262-6c83-414d-f724-db68af1ffeba"
      },
      "execution_count": null,
      "outputs": [
        {
          "output_type": "stream",
          "name": "stdout",
          "text": [
            "              Endangered Least Concern\n",
            "Endangered           107            34\n",
            "Least Concern         30           190\n",
            "              precision    recall  f1-score   support\n",
            "\n",
            "           0       0.78      0.76      0.77       141\n",
            "           1       0.85      0.86      0.86       220\n",
            "\n",
            "    accuracy                           0.82       361\n",
            "   macro avg       0.81      0.81      0.81       361\n",
            "weighted avg       0.82      0.82      0.82       361\n",
            "\n"
          ]
        },
        {
          "output_type": "error",
          "ename": "NameError",
          "evalue": "ignored",
          "traceback": [
            "\u001b[0;31m---------------------------------------------------------------------------\u001b[0m",
            "\u001b[0;31mNameError\u001b[0m                                 Traceback (most recent call last)",
            "\u001b[0;32m<ipython-input-19-6dd7b20239eb>\u001b[0m in \u001b[0;36m<cell line: 6>\u001b[0;34m()\u001b[0m\n\u001b[1;32m      4\u001b[0m \u001b[0mprint\u001b[0m\u001b[0;34m(\u001b[0m\u001b[0mclassification_report\u001b[0m\u001b[0;34m(\u001b[0m\u001b[0my_test\u001b[0m\u001b[0;34m,\u001b[0m\u001b[0my_pred_rf\u001b[0m\u001b[0;34m)\u001b[0m\u001b[0;34m)\u001b[0m\u001b[0;34m\u001b[0m\u001b[0;34m\u001b[0m\u001b[0m\n\u001b[1;32m      5\u001b[0m \u001b[0;32mimport\u001b[0m \u001b[0mmatplotlib\u001b[0m\u001b[0;34m.\u001b[0m\u001b[0mpyplot\u001b[0m \u001b[0;32mas\u001b[0m \u001b[0mplt\u001b[0m\u001b[0;34m\u001b[0m\u001b[0;34m\u001b[0m\u001b[0m\n\u001b[0;32m----> 6\u001b[0;31m \u001b[0mplt\u001b[0m\u001b[0;34m.\u001b[0m\u001b[0mplot\u001b[0m\u001b[0;34m(\u001b[0m\u001b[0mr_fpr\u001b[0m\u001b[0;34m,\u001b[0m \u001b[0mr_tpr\u001b[0m\u001b[0;34m,\u001b[0m \u001b[0mlinestyle\u001b[0m\u001b[0;34m=\u001b[0m\u001b[0;34m'--'\u001b[0m\u001b[0;34m,\u001b[0m \u001b[0mlabel\u001b[0m\u001b[0;34m=\u001b[0m\u001b[0;34m'Random prediction (AUROC = %0.3f)'\u001b[0m \u001b[0;34m%\u001b[0m \u001b[0mr_auc\u001b[0m\u001b[0;34m)\u001b[0m\u001b[0;34m\u001b[0m\u001b[0;34m\u001b[0m\u001b[0m\n\u001b[0m\u001b[1;32m      7\u001b[0m \u001b[0;31m#plt.plot(dt_fpr, dt_tpr, marker='.', label='decision Tree(AUROC = %0.3f)' % r_auc_dt)\u001b[0m\u001b[0;34m\u001b[0m\u001b[0;34m\u001b[0m\u001b[0m\n\u001b[1;32m      8\u001b[0m \u001b[0mplt\u001b[0m\u001b[0;34m.\u001b[0m\u001b[0mplot\u001b[0m\u001b[0;34m(\u001b[0m\u001b[0mrf_fpr\u001b[0m\u001b[0;34m,\u001b[0m \u001b[0mrf_tpr\u001b[0m\u001b[0;34m,\u001b[0m \u001b[0mmarker\u001b[0m\u001b[0;34m=\u001b[0m\u001b[0;34m'.'\u001b[0m\u001b[0;34m,\u001b[0m \u001b[0mlabel\u001b[0m\u001b[0;34m=\u001b[0m\u001b[0;34m'Random Forest (AUROC = %0.3f)'\u001b[0m \u001b[0;34m%\u001b[0m \u001b[0mr_auc_rf\u001b[0m\u001b[0;34m)\u001b[0m\u001b[0;34m\u001b[0m\u001b[0;34m\u001b[0m\u001b[0m\n",
            "\u001b[0;31mNameError\u001b[0m: name 'r_fpr' is not defined"
          ]
        }
      ]
    },
    {
      "cell_type": "code",
      "source": [
        "senstivity = (cm[0][0])/(cm[0][1]+cm[0][0])\n",
        "precision = (cm[0][0])/(cm[1][0]+cm[0][0])\n",
        "print(\"Senstivity score for the random forest:\", senstivity)\n",
        "print(\"precision score for the random forest:\", precision)"
      ],
      "metadata": {
        "colab": {
          "base_uri": "https://localhost:8080/"
        },
        "id": "krAwcCR2M4Su",
        "outputId": "a23e0bc7-b8a3-467a-c937-74f833269c61"
      },
      "execution_count": null,
      "outputs": [
        {
          "output_type": "stream",
          "name": "stdout",
          "text": [
            "Senstivity score for the random forest: 0.7588652482269503\n",
            "precision score for the random forest: 0.781021897810219\n"
          ]
        }
      ]
    },
    {
      "cell_type": "markdown",
      "source": [
        "# Model parameters[Random Forest]"
      ],
      "metadata": {
        "id": "SLFvRRctRjCx"
      }
    },
    {
      "cell_type": "code",
      "source": [
        "rfc.get_params()\n"
      ],
      "metadata": {
        "colab": {
          "base_uri": "https://localhost:8080/"
        },
        "id": "IVKC12epOusk",
        "outputId": "5d69f8fa-1936-4586-9d90-79b0e5b05fa9"
      },
      "execution_count": null,
      "outputs": [
        {
          "output_type": "execute_result",
          "data": {
            "text/plain": [
              "{'bootstrap': True,\n",
              " 'ccp_alpha': 0.0,\n",
              " 'class_weight': None,\n",
              " 'criterion': 'entropy',\n",
              " 'max_depth': 127,\n",
              " 'max_features': 'sqrt',\n",
              " 'max_leaf_nodes': None,\n",
              " 'max_samples': None,\n",
              " 'min_impurity_decrease': 0.0,\n",
              " 'min_samples_leaf': 1,\n",
              " 'min_samples_split': 2,\n",
              " 'min_weight_fraction_leaf': 0.0,\n",
              " 'n_estimators': 2500,\n",
              " 'n_jobs': None,\n",
              " 'oob_score': False,\n",
              " 'random_state': None,\n",
              " 'verbose': 0,\n",
              " 'warm_start': False}"
            ]
          },
          "metadata": {},
          "execution_count": 24
        }
      ]
    },
    {
      "cell_type": "code",
      "source": [
        "# Building summary table\n",
        "senstivity = (cm[0][0])/(cm[0][1]+cm[0][0])\n",
        "precision = (cm[0][0])/(cm[1][0]+cm[0][0])\n",
        "print(senstivity,precision)\n",
        "summary=[[]]\n",
        "summary[0].append('Random Forest Classifier')\n",
        "summary[0].append(rfc.get_params())\n",
        "summary[0].append(senstivity)\n",
        "summary[0].append(precision)\n",
        "summary[0].append(f1_score(y_test,y_pred_rf,average='weighted'))\n",
        "summary[0].append(accuracy_score(y_test,y_pred_rf))"
      ],
      "metadata": {
        "colab": {
          "base_uri": "https://localhost:8080/"
        },
        "id": "eOBVVmg4MfmC",
        "outputId": "8e7c3084-34bf-415e-c008-99334ea30ce3"
      },
      "execution_count": null,
      "outputs": [
        {
          "output_type": "stream",
          "name": "stdout",
          "text": [
            "0.7588652482269503 0.781021897810219\n"
          ]
        }
      ]
    },
    {
      "cell_type": "markdown",
      "source": [
        "# Decision Tree"
      ],
      "metadata": {
        "id": "UcWQsaxlnyGO"
      }
    },
    {
      "cell_type": "code",
      "source": [
        "from sklearn.tree import DecisionTreeClassifier\n",
        "dt = DecisionTreeClassifier(criterion='entropy',min_samples_split=5,max_depth=127)\n",
        "dt.fit(X_train, y_train)\n",
        "y_pred_dt = dt.predict(X_test)"
      ],
      "metadata": {
        "id": "D26s5R5knxtw"
      },
      "execution_count": null,
      "outputs": []
    },
    {
      "cell_type": "code",
      "source": [
        "from sklearn.metrics import f1_score\n",
        "from sklearn.metrics import accuracy_score,confusion_matrix\n",
        "print(\"F1-score: \", f1_score(y_test,y_pred_rf,average='weighted'))\n",
        "print(\"Accuracy score\", accuracy_score(y_test,y_pred_rf))"
      ],
      "metadata": {
        "colab": {
          "base_uri": "https://localhost:8080/"
        },
        "id": "0-5n4bTGoFn1",
        "outputId": "cd57cee9-3227-48e7-bb49-2baea1d88ef2"
      },
      "execution_count": null,
      "outputs": [
        {
          "output_type": "stream",
          "name": "stdout",
          "text": [
            "F1-score:  0.8222378300100056\n",
            "Accuracy score 0.8227146814404432\n"
          ]
        }
      ]
    },
    {
      "cell_type": "code",
      "source": [
        "from sklearn.metrics import classification_report\n",
        "print(classification_report(y_test,y_pred_dt))"
      ],
      "metadata": {
        "colab": {
          "base_uri": "https://localhost:8080/"
        },
        "id": "rcDnCF44r1Gi",
        "outputId": "641a421d-a666-4794-deac-4e8f6817670e"
      },
      "execution_count": null,
      "outputs": [
        {
          "output_type": "stream",
          "name": "stdout",
          "text": [
            "              precision    recall  f1-score   support\n",
            "\n",
            "           0       0.78      0.71      0.74       141\n",
            "           1       0.82      0.87      0.85       220\n",
            "\n",
            "    accuracy                           0.81       361\n",
            "   macro avg       0.80      0.79      0.79       361\n",
            "weighted avg       0.80      0.81      0.80       361\n",
            "\n"
          ]
        }
      ]
    },
    {
      "cell_type": "code",
      "source": [
        "cm = (confusion_matrix(y_test,y_pred_dt))\n",
        "df_cm = pd.DataFrame(cm,columns=[['Endangered','Least Concern']], index=['Endangered','Least Concern'])\n",
        "print(df_cm)"
      ],
      "metadata": {
        "colab": {
          "base_uri": "https://localhost:8080/"
        },
        "id": "MLQE_Ta0BqOI",
        "outputId": "ed584c05-2cb5-49cc-c2c6-9bce38cc944f"
      },
      "execution_count": null,
      "outputs": [
        {
          "output_type": "stream",
          "name": "stdout",
          "text": [
            "              Endangered Least Concern\n",
            "Endangered           100            41\n",
            "Least Concern         29           191\n"
          ]
        }
      ]
    },
    {
      "cell_type": "code",
      "source": [
        "from sklearn.metrics import roc_curve,roc_auc_score \n",
        "r_auc_dt = roc_auc_score(y_test,y_pred_dt)\n",
        "r_auc_dt"
      ],
      "metadata": {
        "colab": {
          "base_uri": "https://localhost:8080/"
        },
        "id": "Y_8xIPb7IwRM",
        "outputId": "a366dc4f-fa44-4552-bd3a-0c487e6874a5"
      },
      "execution_count": null,
      "outputs": [
        {
          "output_type": "execute_result",
          "data": {
            "text/plain": [
              "0.7887008381689232"
            ]
          },
          "metadata": {},
          "execution_count": 30
        }
      ]
    },
    {
      "cell_type": "code",
      "source": [
        "dt_fpr, dt_tpr, _ = roc_curve(y_test, y_pred_dt)\n",
        "#rf_fpr, rf_tpr, _ = roc_curve(y_test, y_pred_rf)\n",
        "#xgb_fpr, xgb_tpr, _ = roc_curve(y_test, y_pred_xgb)"
      ],
      "metadata": {
        "id": "_K1wOmQPenBd"
      },
      "execution_count": null,
      "outputs": []
    },
    {
      "cell_type": "code",
      "source": [
        "import matplotlib.pyplot as plt\n",
        "plt.plot(r_fpr, r_tpr, linestyle='--', label='Random prediction (AUROC = %0.3f)' % r_auc)\n",
        "plt.plot(dt_fpr, dt_tpr, marker='.', label='decision Tree(AUROC = %0.3f)' % r_auc_dt)\n",
        "#plt.plot(rf_fpr, rf_tpr, marker='.', label='Random Forest (AUROC = %0.3f)' % r_auc_rf)\n",
        "#plt.plot(xgb_fpr, xgb_tpr, marker='.', label='Xgboost (AUROC = %0.3f)' % r_auc_xgb)\n",
        "\n",
        "# Title\n",
        "plt.title('ROC Plot')\n",
        "# Axis labels\n",
        "plt.xlabel('False Positive Rate')\n",
        "plt.ylabel('True Positive Rate')\n",
        "# Show legend\n",
        "plt.legend() # \n",
        "# Show plot\n",
        "plt.show()\n"
      ],
      "metadata": {
        "colab": {
          "base_uri": "https://localhost:8080/",
          "height": 295
        },
        "id": "xaupdbLCBJGg",
        "outputId": "e274072c-98b7-4f43-ff93-f9552a116b21"
      },
      "execution_count": null,
      "outputs": [
        {
          "output_type": "display_data",
          "data": {
            "text/plain": [
              "<Figure size 432x288 with 1 Axes>"
            ],
            "image/png": "[encoded data removed]"
          },
          "metadata": {
            "needs_background": "light"
          }
        }
      ]
    },
    {
      "cell_type": "code",
      "source": [],
      "metadata": {
        "id": "OOx-Mhl7Q_t6"
      },
      "execution_count": null,
      "outputs": []
    },
    {
      "cell_type": "code",
      "source": [
        "senstivity = (cm[0][0])/(cm[0][1]+cm[0][0])\n",
        "precision = (cm[0][0])/(cm[1][0]+cm[0][0])\n",
        "print(senstivity,precision)\n",
        "summary1=[[]]\n",
        "summary1[0].append('Decision Tree Classifier')\n",
        "summary1[0].append(dt.get_params())\n",
        "summary1[0].append(senstivity)\n",
        "summary1[0].append(precision)\n",
        "summary1[0].append(f1_score(y_test,y_pred_dt,average='weighted'))\n",
        "summary1[0].append(accuracy_score(y_test,y_pred_dt))"
      ],
      "metadata": {
        "colab": {
          "base_uri": "https://localhost:8080/"
        },
        "id": "wcexNIwgQzBx",
        "outputId": "5406c5cd-6093-4ab3-8d84-84c2288e4ed4"
      },
      "execution_count": null,
      "outputs": [
        {
          "output_type": "stream",
          "name": "stdout",
          "text": [
            "0.7092198581560284 0.7751937984496124\n"
          ]
        }
      ]
    },
    {
      "cell_type": "code",
      "source": [
        "sum = summary+summary1"
      ],
      "metadata": {
        "id": "VkCkfhn5R_dm"
      },
      "execution_count": null,
      "outputs": []
    },
    {
      "cell_type": "code",
      "source": [
        "pd.DataFrame(sum)"
      ],
      "metadata": {
        "colab": {
          "base_uri": "https://localhost:8080/",
          "height": 112
        },
        "id": "9OF1Gw_9SD-V",
        "outputId": "157b1335-7713-436f-c8d0-2503f2ff3037"
      },
      "execution_count": null,
      "outputs": [
        {
          "output_type": "execute_result",
          "data": {
            "text/plain": [
              "                          0  \\\n",
              "0  Random Forest Classifier   \n",
              "1  Decision Tree Classifier   \n",
              "\n",
              "                                                   1         2         3  \\\n",
              "0  {'bootstrap': True, 'ccp_alpha': 0.0, 'class_w...  0.709220  0.769231   \n",
              "1  {'ccp_alpha': 0.0, 'class_weight': None, 'crit...  0.723404  0.778626   \n",
              "\n",
              "          4         5  \n",
              "0  0.824890  0.825485  \n",
              "1  0.810265  0.811634  "
            ],
            "text/html": [
              "\n",
              "  <div id=\"df-aba2d863-c408-403a-bb00-959a85c1d5df\">\n",
              "    <div class=\"colab-df-container\">\n",
              "      <div>\n",
              "<style scoped>\n",
              "    .dataframe tbody tr th:only-of-type {\n",
              "        vertical-align: middle;\n",
              "    }\n",
              "\n",
              "    .dataframe tbody tr th {\n",
              "        vertical-align: top;\n",
              "    }\n",
              "\n",
              "    .dataframe thead th {\n",
              "        text-align: right;\n",
              "    }\n",
              "</style>\n",
              "<table border=\"1\" class=\"dataframe\">\n",
              "  <thead>\n",
              "    <tr style=\"text-align: right;\">\n",
              "      <th></th>\n",
              "      <th>0</th>\n",
              "      <th>1</th>\n",
              "      <th>2</th>\n",
              "      <th>3</th>\n",
              "      <th>4</th>\n",
              "      <th>5</th>\n",
              "    </tr>\n",
              "  </thead>\n",
              "  <tbody>\n",
              "    <tr>\n",
              "      <th>0</th>\n",
              "      <td>Random Forest Classifier</td>\n",
              "      <td>{'bootstrap': True, 'ccp_alpha': 0.0, 'class_w...</td>\n",
              "      <td>0.709220</td>\n",
              "      <td>0.769231</td>\n",
              "      <td>0.824890</td>\n",
              "      <td>0.825485</td>\n",
              "    </tr>\n",
              "    <tr>\n",
              "      <th>1</th>\n",
              "      <td>Decision Tree Classifier</td>\n",
              "      <td>{'ccp_alpha': 0.0, 'class_weight': None, 'crit...</td>\n",
              "      <td>0.723404</td>\n",
              "      <td>0.778626</td>\n",
              "      <td>0.810265</td>\n",
              "      <td>0.811634</td>\n",
              "    </tr>\n",
              "  </tbody>\n",
              "</table>\n",
              "</div>\n",
              "      <button class=\"colab-df-convert\" onclick=\"convertToInteractive('df-aba2d863-c408-403a-bb00-959a85c1d5df')\"\n",
              "              title=\"Convert this dataframe to an interactive table.\"\n",
              "              style=\"display:none;\">\n",
              "        \n",
              "  <svg xmlns=\"http://www.w3.org/2000/svg\" height=\"24px\"viewBox=\"0 0 24 24\"\n",
              "       width=\"24px\">\n",
              "    <path d=\"M0 0h24v24H0V0z\" fill=\"none\"/>\n",
              "    <path d=\"M18.56 5.44l.94 2.06.94-2.06 2.06-.94-2.06-.94-.94-2.06-.94 2.06-2.06.94zm-11 1L8.5 8.5l.94-2.06 2.06-.94-2.06-.94L8.5 2.5l-.94 2.06-2.06.94zm10 10l.94 2.06.94-2.06 2.06-.94-2.06-.94-.94-2.06-.94 2.06-2.06.94z\"/><path d=\"M17.41 7.96l-1.37-1.37c-.4-.4-.92-.59-1.43-.59-.52 0-1.04.2-1.43.59L10.3 9.45l-7.72 7.72c-.78.78-.78 2.05 0 2.83L4 21.41c.39.39.9.59 1.41.59.51 0 1.02-.2 1.41-.59l7.78-7.78 2.81-2.81c.8-.78.8-2.07 0-2.86zM5.41 20L4 18.59l7.72-7.72 1.47 1.35L5.41 20z\"/>\n",
              "  </svg>\n",
              "      </button>\n",
              "      \n",
              "  <style>\n",
              "    .colab-df-container {\n",
              "      display:flex;\n",
              "      flex-wrap:wrap;\n",
              "      gap: 12px;\n",
              "    }\n",
              "\n",
              "    .colab-df-convert {\n",
              "      background-color: #E8F0FE;\n",
              "      border: none;\n",
              "      border-radius: 50%;\n",
              "      cursor: pointer;\n",
              "      display: none;\n",
              "      fill: #1967D2;\n",
              "      height: 32px;\n",
              "      padding: 0 0 0 0;\n",
              "      width: 32px;\n",
              "    }\n",
              "\n",
              "    .colab-df-convert:hover {\n",
              "      background-color: #E2EBFA;\n",
              "      box-shadow: 0px 1px 2px rgba(60, 64, 67, 0.3), 0px 1px 3px 1px rgba(60, 64, 67, 0.15);\n",
              "      fill: #174EA6;\n",
              "    }\n",
              "\n",
              "    [theme=dark] .colab-df-convert {\n",
              "      background-color: #3B4455;\n",
              "      fill: #D2E3FC;\n",
              "    }\n",
              "\n",
              "    [theme=dark] .colab-df-convert:hover {\n",
              "      background-color: #434B5C;\n",
              "      box-shadow: 0px 1px 3px 1px rgba(0, 0, 0, 0.15);\n",
              "      filter: drop-shadow(0px 1px 2px rgba(0, 0, 0, 0.3));\n",
              "      fill: #FFFFFF;\n",
              "    }\n",
              "  </style>\n",
              "\n",
              "      <script>\n",
              "        const buttonEl =\n",
              "          document.querySelector('#df-aba2d863-c408-403a-bb00-959a85c1d5df button.colab-df-convert');\n",
              "        buttonEl.style.display =\n",
              "          google.colab.kernel.accessAllowed ? 'block' : 'none';\n",
              "\n",
              "        async function convertToInteractive(key) {\n",
              "          const element = document.querySelector('#df-aba2d863-c408-403a-bb00-959a85c1d5df');\n",
              "          const dataTable =\n",
              "            await google.colab.kernel.invokeFunction('convertToInteractive',\n",
              "                                                     [key], {});\n",
              "          if (!dataTable) return;\n",
              "\n",
              "          const docLinkHtml = 'Like what you see? Visit the ' +\n",
              "            '<a target=\"_blank\" href=https://colab.research.google.com/notebooks/data_table.ipynb>data table notebook</a>'\n",
              "            + ' to learn more about interactive tables.';\n",
              "          element.innerHTML = '';\n",
              "          dataTable['output_type'] = 'display_data';\n",
              "          await google.colab.output.renderOutput(dataTable, element);\n",
              "          const docLink = document.createElement('div');\n",
              "          docLink.innerHTML = docLinkHtml;\n",
              "          element.appendChild(docLink);\n",
              "        }\n",
              "      </script>\n",
              "    </div>\n",
              "  </div>\n",
              "  "
            ]
          },
          "metadata": {},
          "execution_count": 104
        }
      ]
    },
    {
      "cell_type": "code",
      "source": [
        "lst=[[]]\n",
        "lst[0].append(0)\n",
        "lst[0][1].append(1)"
      ],
      "metadata": {
        "colab": {
          "base_uri": "https://localhost:8080/",
          "height": 205
        },
        "id": "Bto6eB59RKMC",
        "outputId": "5f29d329-65c3-4b00-c4f6-ea6e5f10da69"
      },
      "execution_count": null,
      "outputs": [
        {
          "output_type": "error",
          "ename": "IndexError",
          "evalue": "ignored",
          "traceback": [
            "\u001b[0;31m---------------------------------------------------------------------------\u001b[0m",
            "\u001b[0;31mIndexError\u001b[0m                                Traceback (most recent call last)",
            "\u001b[0;32m<ipython-input-78-4c8286dc974b>\u001b[0m in \u001b[0;36m<module>\u001b[0;34m\u001b[0m\n\u001b[1;32m      1\u001b[0m \u001b[0mlst\u001b[0m\u001b[0;34m=\u001b[0m\u001b[0;34m[\u001b[0m\u001b[0;34m[\u001b[0m\u001b[0;34m]\u001b[0m\u001b[0;34m]\u001b[0m\u001b[0;34m\u001b[0m\u001b[0;34m\u001b[0m\u001b[0m\n\u001b[1;32m      2\u001b[0m \u001b[0mlst\u001b[0m\u001b[0;34m[\u001b[0m\u001b[0;36m0\u001b[0m\u001b[0;34m]\u001b[0m\u001b[0;34m.\u001b[0m\u001b[0mappend\u001b[0m\u001b[0;34m(\u001b[0m\u001b[0;36m0\u001b[0m\u001b[0;34m)\u001b[0m\u001b[0;34m\u001b[0m\u001b[0;34m\u001b[0m\u001b[0m\n\u001b[0;32m----> 3\u001b[0;31m \u001b[0mlst\u001b[0m\u001b[0;34m[\u001b[0m\u001b[0;36m0\u001b[0m\u001b[0;34m]\u001b[0m\u001b[0;34m[\u001b[0m\u001b[0;36m1\u001b[0m\u001b[0;34m]\u001b[0m\u001b[0;34m.\u001b[0m\u001b[0mappend\u001b[0m\u001b[0;34m(\u001b[0m\u001b[0;36m1\u001b[0m\u001b[0;34m)\u001b[0m\u001b[0;34m\u001b[0m\u001b[0;34m\u001b[0m\u001b[0m\n\u001b[0m",
            "\u001b[0;31mIndexError\u001b[0m: list index out of range"
          ]
        }
      ]
    },
    {
      "cell_type": "code",
      "source": [
        "lst"
      ],
      "metadata": {
        "colab": {
          "base_uri": "https://localhost:8080/"
        },
        "id": "EfME3nS7RWc2",
        "outputId": "56a68125-44de-46b5-9d70-6ee724751f88"
      },
      "execution_count": null,
      "outputs": [
        {
          "output_type": "execute_result",
          "data": {
            "text/plain": [
              "[[0], 1]"
            ]
          },
          "metadata": {},
          "execution_count": 77
        }
      ]
    },
    {
      "cell_type": "markdown",
      "source": [
        "# Logistic Regression"
      ],
      "metadata": {
        "id": "RPQ3_8tpnmFk"
      }
    },
    {
      "cell_type": "code",
      "source": [
        "from sklearn.linear_model import LogisticRegression\n",
        "lr = LogisticRegression()\n",
        "lr.fit(x_scaled,y_train)\n",
        "y_pred_lr = lr.predict(x_testscaled)"
      ],
      "metadata": {
        "colab": {
          "base_uri": "https://localhost:8080/"
        },
        "id": "GrTDjTaemQ08",
        "outputId": "da5151cf-6b27-4b0b-cd21-a40e68cccc46"
      },
      "execution_count": null,
      "outputs": [
        {
          "output_type": "stream",
          "name": "stderr",
          "text": [
            "/usr/local/lib/python3.9/dist-packages/sklearn/utils/validation.py:1143: DataConversionWarning: A column-vector y was passed when a 1d array was expected. Please change the shape of y to (n_samples, ), for example using ravel().\n",
            "  y = column_or_1d(y, warn=True)\n"
          ]
        }
      ]
    },
    {
      "cell_type": "code",
      "source": [
        "from sklearn.metrics import f1_score\n",
        "from sklearn.metrics import accuracy_score,confusion_matrix\n",
        "print(f1_score(y_test,y_pred_lr,average='weighted'))\n",
        "print(accuracy_score(y_test,y_pred_lr))"
      ],
      "metadata": {
        "colab": {
          "base_uri": "https://localhost:8080/"
        },
        "id": "smkemaaim2Vx",
        "outputId": "09a13cd9-9a7d-458b-9a9e-0e652f4131fb"
      },
      "execution_count": null,
      "outputs": [
        {
          "output_type": "stream",
          "name": "stdout",
          "text": [
            "0.71785156777481\n",
            "0.7257617728531855\n"
          ]
        }
      ]
    },
    {
      "cell_type": "code",
      "source": [
        "lr_fpr, lr_tpr, _ = roc_curve(y_test, y_pred_lr)"
      ],
      "metadata": {
        "id": "-QHEtbMmyb-a"
      },
      "execution_count": null,
      "outputs": []
    },
    {
      "cell_type": "code",
      "source": [
        "from sklearn.metrics import roc_curve,roc_auc_score \n",
        "r_auc_lr = roc_auc_score(y_test,y_pred_lr)\n",
        "r_auc_lr"
      ],
      "metadata": {
        "colab": {
          "base_uri": "https://localhost:8080/"
        },
        "id": "K3xrfaiDzBQv",
        "outputId": "070535fb-6746-4a1f-96d4-a5afdf2c3535"
      },
      "execution_count": null,
      "outputs": [
        {
          "output_type": "execute_result",
          "data": {
            "text/plain": [
              "0.6922308188265636"
            ]
          },
          "metadata": {},
          "execution_count": 36
        }
      ]
    },
    {
      "cell_type": "code",
      "source": [
        "from sklearn.metrics import classification_report\n",
        "print(classification_report(y_test,y_pred_lr))"
      ],
      "metadata": {
        "id": "sJkRCk2S_tn8",
        "colab": {
          "base_uri": "https://localhost:8080/"
        },
        "outputId": "0c1fb2cb-23da-4ed7-829b-6179f8e31add"
      },
      "execution_count": null,
      "outputs": [
        {
          "output_type": "stream",
          "name": "stdout",
          "text": [
            "              precision    recall  f1-score   support\n",
            "\n",
            "           0       0.69      0.54      0.61       141\n",
            "           1       0.74      0.85      0.79       220\n",
            "\n",
            "    accuracy                           0.73       361\n",
            "   macro avg       0.72      0.69      0.70       361\n",
            "weighted avg       0.72      0.73      0.72       361\n",
            "\n"
          ]
        }
      ]
    },
    {
      "cell_type": "code",
      "source": [
        "cm = (confusion_matrix(y_test,y_pred_lr))\n",
        "df_cm = pd.DataFrame(cm,columns=[['Endangered','Least Concern']], index=['Endangered','Least Concern'])\n",
        "print(df_cm)\n",
        "print(classification_report(y_test,y_pred_lr))\n",
        "import matplotlib.pyplot as plt\n",
        "plt.plot(r_fpr, r_tpr, linestyle='--', label='Random prediction (AUROC = %0.3f)' % r_auc)\n",
        "#plt.plot(dt_fpr, dt_tpr, marker='.', label='decision Tree(AUROC = %0.3f)' % r_auc_dt)\n",
        "#plt.plot(rf_fpr, rf_tpr, marker='.', label='XgBoost (AUROC = %0.3f)' % r_auc_xgb)\n",
        "plt.plot(lr_fpr, lr_tpr, marker='.', label='Xgboost (AUROC = %0.3f)' % r_auc_lr)\n",
        "\n",
        "# Title\n",
        "plt.title('ROC Plot')\n",
        "# Axis labels\n",
        "plt.xlabel('False Positive Rate')\n",
        "plt.ylabel('True Positive Rate')\n",
        "# Show legend\n",
        "plt.legend() # \n",
        "# Show plot\n",
        "plt.show()\n"
      ],
      "metadata": {
        "colab": {
          "base_uri": "https://localhost:8080/",
          "height": 687
        },
        "id": "Y6teWbt3yQIy",
        "outputId": "c7a7a8b0-28f1-41c4-f67a-a19636e95dce"
      },
      "execution_count": null,
      "outputs": [
        {
          "output_type": "stream",
          "name": "stdout",
          "text": [
            "              Endangered Least Concern\n",
            "Endangered            76            65\n",
            "Least Concern         34           186\n",
            "              precision    recall  f1-score   support\n",
            "\n",
            "           0       0.69      0.54      0.61       141\n",
            "           1       0.74      0.85      0.79       220\n",
            "\n",
            "    accuracy                           0.73       361\n",
            "   macro avg       0.72      0.69      0.70       361\n",
            "weighted avg       0.72      0.73      0.72       361\n",
            "\n"
          ]
        },
        {
          "output_type": "display_data",
          "data": {
            "text/plain": [
              "<Figure size 640x480 with 1 Axes>"
            ],
            "image/png": "[encoded data removed]"
          },
          "metadata": {}
        }
      ]
    },
    {
      "cell_type": "markdown",
      "source": [
        "# Xgboost"
      ],
      "metadata": {
        "id": "Y8cYv4CF_-Jb"
      }
    },
    {
      "cell_type": "code",
      "execution_count": null,
      "metadata": {
        "id": "jwo7lqQQf_TQ",
        "colab": {
          "base_uri": "https://localhost:8080/"
        },
        "outputId": "43dc8558-db4b-481f-c797-8f1287f99d3e"
      },
      "outputs": [
        {
          "output_type": "stream",
          "name": "stdout",
          "text": [
            "[19:58:22] WARNING: ../src/learner.cc:767: \n",
            "Parameters: { \"classifier__max_leaf_nodesd\" } are not used.\n",
            "\n"
          ]
        }
      ],
      "source": [
        "import xgboost as xgb\n",
        "model = xgb.XGBClassifier(n_estimators=2200,classifier__max_leaf_nodesd=10)\n",
        "model.fit(X_train, y_train)\n",
        "y_pred_xgb = model.predict(X_test)"
      ]
    },
    {
      "cell_type": "code",
      "execution_count": null,
      "metadata": {
        "id": "1_eBZnSLgU-Q",
        "colab": {
          "base_uri": "https://localhost:8080/"
        },
        "outputId": "a2721108-4b94-4273-96fe-7c65931b7236"
      },
      "outputs": [
        {
          "output_type": "stream",
          "name": "stdout",
          "text": [
            "0.8137720536110464\n",
            "0.814404432132964\n"
          ]
        }
      ],
      "source": [
        "from sklearn.metrics import f1_score\n",
        "from sklearn.metrics import accuracy_score,confusion_matrix\n",
        "print(f1_score(y_test,y_pred_xgb,average='weighted'))\n",
        "print(accuracy_score(y_test,y_pred_xgb))"
      ]
    },
    {
      "cell_type": "code",
      "source": [
        "from sklearn.metrics import classification_report\n",
        "print(classification_report(y_test,y_pred_xgb))"
      ],
      "metadata": {
        "colab": {
          "base_uri": "https://localhost:8080/"
        },
        "id": "RzvLAkwtRrMG",
        "outputId": "fc47573a-ba6c-4d92-b4c0-0188fd5de255"
      },
      "execution_count": null,
      "outputs": [
        {
          "output_type": "stream",
          "name": "stdout",
          "text": [
            "              precision    recall  f1-score   support\n",
            "\n",
            "           0       0.77      0.74      0.76       141\n",
            "           1       0.84      0.86      0.85       220\n",
            "\n",
            "    accuracy                           0.81       361\n",
            "   macro avg       0.81      0.80      0.80       361\n",
            "weighted avg       0.81      0.81      0.81       361\n",
            "\n"
          ]
        }
      ]
    },
    {
      "cell_type": "code",
      "source": [
        "confusion_matrix(y_test,y_pred_xgb)"
      ],
      "metadata": {
        "colab": {
          "base_uri": "https://localhost:8080/"
        },
        "id": "VK3VY3RFpH_h",
        "outputId": "db70ca29-a604-4027-80c4-843da7567ecc"
      },
      "execution_count": null,
      "outputs": [
        {
          "output_type": "execute_result",
          "data": {
            "text/plain": [
              "array([[105,  36],\n",
              "       [ 31, 189]])"
            ]
          },
          "metadata": {},
          "execution_count": 41
        }
      ]
    },
    {
      "cell_type": "code",
      "source": [
        "from sklearn.metrics import roc_curve,roc_auc_score \n",
        "r_auc_xgb = roc_auc_score(y_test,y_pred_xgb)\n",
        "r_auc_xgb"
      ],
      "metadata": {
        "colab": {
          "base_uri": "https://localhost:8080/"
        },
        "id": "zKc12vAUJjLM",
        "outputId": "cb6000c0-488b-4112-9a5b-7fbece53ac67"
      },
      "execution_count": null,
      "outputs": [
        {
          "output_type": "execute_result",
          "data": {
            "text/plain": [
              "0.8018858800773695"
            ]
          },
          "metadata": {},
          "execution_count": 42
        }
      ]
    },
    {
      "cell_type": "code",
      "source": [
        "#dt_fpr, dt_tpr, _ = roc_curve(y_test, y_pred_dt)\n",
        "#rf_fpr, rf_tpr, _ = roc_curve(y_test, y_pred_rf)\n",
        "xgb_fpr, xgb_tpr, _ = roc_curve(y_test, y_pred_xgb)"
      ],
      "metadata": {
        "id": "HPkZhw9Rektu"
      },
      "execution_count": null,
      "outputs": []
    },
    {
      "cell_type": "code",
      "source": [
        "print(r_auc_xgb,r_auc_dt,r_auc_rf)"
      ],
      "metadata": {
        "colab": {
          "base_uri": "https://localhost:8080/"
        },
        "id": "eJeKlMifhrhn",
        "outputId": "d7c958d0-fa38-470c-d8d5-a1525f52246f"
      },
      "execution_count": null,
      "outputs": [
        {
          "output_type": "stream",
          "name": "stdout",
          "text": [
            "0.8018858800773695 0.7887008381689232 0.811250805931657\n"
          ]
        }
      ]
    },
    {
      "cell_type": "code",
      "source": [
        "cm = (confusion_matrix(y_test,y_pred_xgb))\n",
        "df_cm = pd.DataFrame(cm,columns=[['Endangered','Least Concern']], index=['Endangered','Least Concern'])\n",
        "print(df_cm)\n",
        "print(classification_report(y_test,y_pred_rf))\n",
        "import matplotlib.pyplot as plt\n",
        "plt.plot(r_fpr, r_tpr, linestyle='--', label='Random prediction (AUROC = %0.3f)' % r_auc)\n",
        "#plt.plot(dt_fpr, dt_tpr, marker='.', label='decision Tree(AUROC = %0.3f)' % r_auc_dt)\n",
        "#plt.plot(rf_fpr, rf_tpr, marker='.', label='XgBoost (AUROC = %0.3f)' % r_auc_xgb)\n",
        "plt.plot(xgb_fpr, xgb_tpr, marker='.', label='Xgboost (AUROC = %0.3f)' % r_auc_xgb)\n",
        "\n",
        "# Title\n",
        "plt.title('ROC Plot')\n",
        "# Axis labels\n",
        "plt.xlabel('False Positive Rate')\n",
        "plt.ylabel('True Positive Rate')\n",
        "# Show legend\n",
        "plt.legend() # \n",
        "# Show plot\n",
        "plt.show()\n"
      ],
      "metadata": {
        "colab": {
          "base_uri": "https://localhost:8080/",
          "height": 510
        },
        "id": "FdqKjRsZIDMH",
        "outputId": "e3b9ada5-0498-47fa-effa-758632c34178"
      },
      "execution_count": null,
      "outputs": [
        {
          "output_type": "stream",
          "name": "stdout",
          "text": [
            "              Endangered Least Concern\n",
            "Endangered           105            36\n",
            "Least Concern         31           189\n",
            "              precision    recall  f1-score   support\n",
            "\n",
            "           0       0.79      0.76      0.78       141\n",
            "           1       0.85      0.87      0.86       220\n",
            "\n",
            "    accuracy                           0.83       361\n",
            "   macro avg       0.82      0.82      0.82       361\n",
            "weighted avg       0.83      0.83      0.83       361\n",
            "\n"
          ]
        },
        {
          "output_type": "display_data",
          "data": {
            "text/plain": [
              "<Figure size 432x288 with 1 Axes>"
            ],
            "image/png": "[encoded data removed]"
          },
          "metadata": {
            "needs_background": "light"
          }
        }
      ]
    },
    {
      "cell_type": "code",
      "source": [
        "senstivity = (cm[0][0])/(cm[0][1]+cm[0][0])\n",
        "precision = (cm[0][0])/(cm[1][0]+cm[0][0])\n",
        "print(senstivity,precision)\n",
        "summary2=[[]]\n",
        "summary2[0].append('XgBoost Classifier')\n",
        "summary2[0].append(model.get_params())\n",
        "summary2[0].append(senstivity)\n",
        "summary2[0].append(precision)\n",
        "summary2[0].append(f1_score(y_test,y_pred_xgb,average='weighted'))\n",
        "summary2[0].append(accuracy_score(y_test,y_pred_xgb))"
      ],
      "metadata": {
        "colab": {
          "base_uri": "https://localhost:8080/"
        },
        "id": "_4V4cMGGSkAA",
        "outputId": "f0a72c25-eda6-4e19-b155-9a87e4065a58"
      },
      "execution_count": null,
      "outputs": [
        {
          "output_type": "stream",
          "name": "stdout",
          "text": [
            "0.7092198581560284 0.7751937984496124\n"
          ]
        }
      ]
    },
    {
      "cell_type": "code",
      "source": [
        "sum = summary + summary1 + summary2 \n",
        "Summary_Performance = pd.DataFrame(sum,columns=[['Classifier','Parameters','Senstivity','Precision','F1-score','Accuracy']])\n",
        "Summary_Performance.to_csv('table1.csv')\n",
        "(Summary_Performance)"
      ],
      "metadata": {
        "colab": {
          "base_uri": "https://localhost:8080/",
          "height": 143
        },
        "id": "xCD-YOHsTWHH",
        "outputId": "937fe609-a341-4db9-f63a-6e8108e34965"
      },
      "execution_count": null,
      "outputs": [
        {
          "output_type": "execute_result",
          "data": {
            "text/plain": [
              "                 Classifier  \\\n",
              "0  Random Forest Classifier   \n",
              "1  Decision Tree Classifier   \n",
              "2        XgBoost Classifier   \n",
              "\n",
              "                                          Parameters Senstivity Precision  \\\n",
              "0  {'bootstrap': True, 'ccp_alpha': 0.0, 'class_w...   0.758865  0.781022   \n",
              "1  {'ccp_alpha': 0.0, 'class_weight': None, 'crit...   0.709220  0.775194   \n",
              "2  {'objective': 'binary:logistic', 'use_label_en...   0.709220  0.775194   \n",
              "\n",
              "   F1-score  Accuracy  \n",
              "0  0.822238  0.822715  \n",
              "1  0.804359  0.806094  \n",
              "2  0.813772  0.814404  "
            ],
            "text/html": [
              "\n",
              "  <div id=\"df-11795a17-4dd3-4109-a7dd-a3b181a47132\">\n",
              "    <div class=\"colab-df-container\">\n",
              "      <div>\n",
              "<style scoped>\n",
              "    .dataframe tbody tr th:only-of-type {\n",
              "        vertical-align: middle;\n",
              "    }\n",
              "\n",
              "    .dataframe tbody tr th {\n",
              "        vertical-align: top;\n",
              "    }\n",
              "\n",
              "    .dataframe thead tr th {\n",
              "        text-align: left;\n",
              "    }\n",
              "</style>\n",
              "<table border=\"1\" class=\"dataframe\">\n",
              "  <thead>\n",
              "    <tr>\n",
              "      <th></th>\n",
              "      <th>Classifier</th>\n",
              "      <th>Parameters</th>\n",
              "      <th>Senstivity</th>\n",
              "      <th>Precision</th>\n",
              "      <th>F1-score</th>\n",
              "      <th>Accuracy</th>\n",
              "    </tr>\n",
              "  </thead>\n",
              "  <tbody>\n",
              "    <tr>\n",
              "      <th>0</th>\n",
              "      <td>Random Forest Classifier</td>\n",
              "      <td>{'bootstrap': True, 'ccp_alpha': 0.0, 'class_w...</td>\n",
              "      <td>0.758865</td>\n",
              "      <td>0.781022</td>\n",
              "      <td>0.822238</td>\n",
              "      <td>0.822715</td>\n",
              "    </tr>\n",
              "    <tr>\n",
              "      <th>1</th>\n",
              "      <td>Decision Tree Classifier</td>\n",
              "      <td>{'ccp_alpha': 0.0, 'class_weight': None, 'crit...</td>\n",
              "      <td>0.709220</td>\n",
              "      <td>0.775194</td>\n",
              "      <td>0.804359</td>\n",
              "      <td>0.806094</td>\n",
              "    </tr>\n",
              "    <tr>\n",
              "      <th>2</th>\n",
              "      <td>XgBoost Classifier</td>\n",
              "      <td>{'objective': 'binary:logistic', 'use_label_en...</td>\n",
              "      <td>0.709220</td>\n",
              "      <td>0.775194</td>\n",
              "      <td>0.813772</td>\n",
              "      <td>0.814404</td>\n",
              "    </tr>\n",
              "  </tbody>\n",
              "</table>\n",
              "</div>\n",
              "      <button class=\"colab-df-convert\" onclick=\"convertToInteractive('df-11795a17-4dd3-4109-a7dd-a3b181a47132')\"\n",
              "              title=\"Convert this dataframe to an interactive table.\"\n",
              "              style=\"display:none;\">\n",
              "        \n",
              "  <svg xmlns=\"http://www.w3.org/2000/svg\" height=\"24px\"viewBox=\"0 0 24 24\"\n",
              "       width=\"24px\">\n",
              "    <path d=\"M0 0h24v24H0V0z\" fill=\"none\"/>\n",
              "    <path d=\"M18.56 5.44l.94 2.06.94-2.06 2.06-.94-2.06-.94-.94-2.06-.94 2.06-2.06.94zm-11 1L8.5 8.5l.94-2.06 2.06-.94-2.06-.94L8.5 2.5l-.94 2.06-2.06.94zm10 10l.94 2.06.94-2.06 2.06-.94-2.06-.94-.94-2.06-.94 2.06-2.06.94z\"/><path d=\"M17.41 7.96l-1.37-1.37c-.4-.4-.92-.59-1.43-.59-.52 0-1.04.2-1.43.59L10.3 9.45l-7.72 7.72c-.78.78-.78 2.05 0 2.83L4 21.41c.39.39.9.59 1.41.59.51 0 1.02-.2 1.41-.59l7.78-7.78 2.81-2.81c.8-.78.8-2.07 0-2.86zM5.41 20L4 18.59l7.72-7.72 1.47 1.35L5.41 20z\"/>\n",
              "  </svg>\n",
              "      </button>\n",
              "      \n",
              "  <style>\n",
              "    .colab-df-container {\n",
              "      display:flex;\n",
              "      flex-wrap:wrap;\n",
              "      gap: 12px;\n",
              "    }\n",
              "\n",
              "    .colab-df-convert {\n",
              "      background-color: #E8F0FE;\n",
              "      border: none;\n",
              "      border-radius: 50%;\n",
              "      cursor: pointer;\n",
              "      display: none;\n",
              "      fill: #1967D2;\n",
              "      height: 32px;\n",
              "      padding: 0 0 0 0;\n",
              "      width: 32px;\n",
              "    }\n",
              "\n",
              "    .colab-df-convert:hover {\n",
              "      background-color: #E2EBFA;\n",
              "      box-shadow: 0px 1px 2px rgba(60, 64, 67, 0.3), 0px 1px 3px 1px rgba(60, 64, 67, 0.15);\n",
              "      fill: #174EA6;\n",
              "    }\n",
              "\n",
              "    [theme=dark] .colab-df-convert {\n",
              "      background-color: #3B4455;\n",
              "      fill: #D2E3FC;\n",
              "    }\n",
              "\n",
              "    [theme=dark] .colab-df-convert:hover {\n",
              "      background-color: #434B5C;\n",
              "      box-shadow: 0px 1px 3px 1px rgba(0, 0, 0, 0.15);\n",
              "      filter: drop-shadow(0px 1px 2px rgba(0, 0, 0, 0.3));\n",
              "      fill: #FFFFFF;\n",
              "    }\n",
              "  </style>\n",
              "\n",
              "      <script>\n",
              "        const buttonEl =\n",
              "          document.querySelector('#df-11795a17-4dd3-4109-a7dd-a3b181a47132 button.colab-df-convert');\n",
              "        buttonEl.style.display =\n",
              "          google.colab.kernel.accessAllowed ? 'block' : 'none';\n",
              "\n",
              "        async function convertToInteractive(key) {\n",
              "          const element = document.querySelector('#df-11795a17-4dd3-4109-a7dd-a3b181a47132');\n",
              "          const dataTable =\n",
              "            await google.colab.kernel.invokeFunction('convertToInteractive',\n",
              "                                                     [key], {});\n",
              "          if (!dataTable) return;\n",
              "\n",
              "          const docLinkHtml = 'Like what you see? Visit the ' +\n",
              "            '<a target=\"_blank\" href=https://colab.research.google.com/notebooks/data_table.ipynb>data table notebook</a>'\n",
              "            + ' to learn more about interactive tables.';\n",
              "          element.innerHTML = '';\n",
              "          dataTable['output_type'] = 'display_data';\n",
              "          await google.colab.output.renderOutput(dataTable, element);\n",
              "          const docLink = document.createElement('div');\n",
              "          docLink.innerHTML = docLinkHtml;\n",
              "          element.appendChild(docLink);\n",
              "        }\n",
              "      </script>\n",
              "    </div>\n",
              "  </div>\n",
              "  "
            ]
          },
          "metadata": {},
          "execution_count": 46
        }
      ]
    },
    {
      "cell_type": "code",
      "source": [
        "import matplotlib.pyplot as plt\n",
        "plt.plot(r_fpr, r_tpr, linestyle='--', label='Random prediction (AUROC = %0.3f)' % r_auc)\n",
        "#plt.plot(dt_fpr, dt_tpr, marker='.', label='decision Tree(AUROC = %0.3f)' % r_auc_dt)\n",
        "plt.plot(rf_fpr, rf_tpr, marker='.', label='Random Forest (AUROC = %0.3f)' % r_auc_rf)\n",
        "#plt.plot(xgb_fpr, xgb_tpr, marker='.', label='Xgboost (AUROC = %0.3f)' % r_auc_xgb)\n",
        "\n",
        "# Title\n",
        "plt.title('ROC Plot')\n",
        "# Axis labels\n",
        "plt.xlabel('False Positive Rate')\n",
        "plt.ylabel('True Positive Rate')\n",
        "# Show legend\n",
        "plt.legend() # \n",
        "# Show plot\n",
        "plt.show()"
      ],
      "metadata": {
        "id": "fj_mwFQqEOja"
      },
      "execution_count": null,
      "outputs": []
    },
    {
      "cell_type": "markdown",
      "source": [
        "# Oversampling the endangered class - 0"
      ],
      "metadata": {
        "id": "KY4PjMhsxiU8"
      }
    },
    {
      "cell_type": "code",
      "source": [
        "import numpy as np\n",
        "unique, count = np.unique(y_train,return_counts= True)\n",
        "print(unique, count)"
      ],
      "metadata": {
        "colab": {
          "base_uri": "https://localhost:8080/"
        },
        "id": "9MhJnHsIxvZF",
        "outputId": "9298fab9-fac5-46c3-8cbb-ad3c1e2bda7f"
      },
      "execution_count": null,
      "outputs": [
        {
          "output_type": "stream",
          "name": "stdout",
          "text": [
            "[0 1] [560 883]\n"
          ]
        }
      ]
    },
    {
      "cell_type": "code",
      "source": [
        "from imblearn.over_sampling._smote.filter import SVMSMOTE\n",
        "from imblearn.over_sampling._smote import SMOTENC\n",
        "from imblearn.over_sampling import SMOTE\n",
        "sm = SVMSMOTE(random_state=43)\n",
        "X_trains, y_trains = sm.fit_resample(X_train,y_train)"
      ],
      "metadata": {
        "id": "lVEamS2Exhve"
      },
      "execution_count": null,
      "outputs": []
    },
    {
      "cell_type": "code",
      "source": [
        "import numpy as np\n",
        "unique, count = np.unique(y_trains,return_counts= True)\n",
        "print(unique, count)"
      ],
      "metadata": {
        "colab": {
          "base_uri": "https://localhost:8080/"
        },
        "id": "gm7PzPNkxhsM",
        "outputId": "d83f047b-2b89-4be9-a0e6-35bff8044658"
      },
      "execution_count": null,
      "outputs": [
        {
          "output_type": "stream",
          "name": "stdout",
          "text": [
            "[0 1] [883 883]\n"
          ]
        }
      ]
    },
    {
      "cell_type": "code",
      "source": [
        "import xgboost as xgb\n",
        "#model = xgb.XGBClassifier()\n",
        "model = RandomForestClassifier(n_estimators=2000)\n",
        "model.fit(X_trains, y_trains)\n",
        "y_pred_xgb = model.predict(X_test)"
      ],
      "metadata": {
        "colab": {
          "base_uri": "https://localhost:8080/"
        },
        "id": "S9V1xNLvxhmU",
        "outputId": "d2e3454f-db76-4282-edb5-f86633642590"
      },
      "execution_count": null,
      "outputs": [
        {
          "output_type": "stream",
          "name": "stderr",
          "text": [
            "<ipython-input-30-a1c3999bbfa6>:4: DataConversionWarning: A column-vector y was passed when a 1d array was expected. Please change the shape of y to (n_samples,), for example using ravel().\n",
            "  model.fit(X_trains, y_trains)\n"
          ]
        }
      ]
    },
    {
      "cell_type": "code",
      "source": [
        "from sklearn.metrics import f1_score\n",
        "from sklearn.metrics import accuracy_score,confusion_matrix\n",
        "print(f1_score(y_test,y_pred_xgb,average='weighted'))\n",
        "print(accuracy_score(y_test,y_pred_xgb))"
      ],
      "metadata": {
        "colab": {
          "base_uri": "https://localhost:8080/"
        },
        "id": "FjaCBmOIyfO9",
        "outputId": "740b8e8b-0dd9-45f2-f2fc-1201ebe68b77"
      },
      "execution_count": null,
      "outputs": [
        {
          "output_type": "stream",
          "name": "stdout",
          "text": [
            "0.8340007792361883\n",
            "0.8337950138504155\n"
          ]
        }
      ]
    },
    {
      "cell_type": "code",
      "source": [
        "from sklearn.metrics import classification_report\n",
        "print(classification_report(y_test,y_pred_xgb))"
      ],
      "metadata": {
        "colab": {
          "base_uri": "https://localhost:8080/"
        },
        "id": "O22fgfVQygnE",
        "outputId": "1850db63-57ba-49d3-d864-230802555892"
      },
      "execution_count": null,
      "outputs": [
        {
          "output_type": "stream",
          "name": "stdout",
          "text": [
            "              precision    recall  f1-score   support\n",
            "\n",
            "           0       0.78      0.79      0.79       141\n",
            "           1       0.87      0.86      0.86       220\n",
            "\n",
            "    accuracy                           0.83       361\n",
            "   macro avg       0.83      0.83      0.83       361\n",
            "weighted avg       0.83      0.83      0.83       361\n",
            "\n"
          ]
        }
      ]
    },
    {
      "cell_type": "code",
      "source": [
        "# hyperparameter tuning for the random forest\n",
        "from sklearn.model_selection import GridSearchCV\n",
        "from sklearn.pipeline import Pipeline\n",
        "pipe = Pipeline([('classifier', RandomForestClassifier())])\n",
        "grid_param = [\n",
        "                {'classifier':[RandomForestClassifier()],\n",
        "                 'classifier__n_estimators': [10,1000,4000],\n",
        "                 'classifier__max_depth':[5,8,15,25,30,None],\n",
        "                 'classifier__min_samples_leaf':[1,2,5,10,15,100],\n",
        "                 'classifier__max_leaf_nodes':[2,5,10]} ]\n",
        "\n",
        "gridsearch = GridSearchCV(pipe, grid_param, cv=5, verbose=0, n_jobs=-1)\n",
        "bestmodel = gridsearch.fit(X_trains,y_trains)"
      ],
      "metadata": {
        "colab": {
          "base_uri": "https://localhost:8080/"
        },
        "id": "u8FlBo2azBv-",
        "outputId": "4e0453c7-fc80-4605-bb41-d4fd1e918653"
      },
      "execution_count": null,
      "outputs": [
        {
          "output_type": "stream",
          "name": "stderr",
          "text": [
            "/usr/local/lib/python3.9/dist-packages/sklearn/pipeline.py:405: DataConversionWarning: A column-vector y was passed when a 1d array was expected. Please change the shape of y to (n_samples,), for example using ravel().\n",
            "  self._final_estimator.fit(Xt, y, **fit_params_last_step)\n"
          ]
        }
      ]
    },
    {
      "cell_type": "code",
      "source": [
        "print(bestmodel.best_estimator_)"
      ],
      "metadata": {
        "colab": {
          "base_uri": "https://localhost:8080/"
        },
        "id": "I4Bq34HS9eQO",
        "outputId": "7a6745c0-d8b8-4992-e6a3-6524e3fc7355"
      },
      "execution_count": null,
      "outputs": [
        {
          "output_type": "stream",
          "name": "stdout",
          "text": [
            "Pipeline(steps=[('classifier',\n",
            "                 RandomForestClassifier(max_depth=15, max_leaf_nodes=10,\n",
            "                                        min_samples_leaf=10,\n",
            "                                        n_estimators=10))])\n"
          ]
        }
      ]
    },
    {
      "cell_type": "code",
      "source": [
        "import xgboost as xgb\n",
        "#model = xgb.XGBClassifier()\n",
        "model = RandomForestClassifier(max_depth=15, max_leaf_nodes=10,\n",
        "                                        min_samples_leaf=10,\n",
        "                                        n_estimators=10)\n",
        "model.fit(X_trains, y_trains)\n",
        "y_pred_xgb = model.predict(X_test)"
      ],
      "metadata": {
        "colab": {
          "base_uri": "https://localhost:8080/"
        },
        "id": "CtBmjyx294xO",
        "outputId": "9cc8b941-81cb-405c-9440-21e4cf8c1f9b"
      },
      "execution_count": null,
      "outputs": [
        {
          "output_type": "stream",
          "name": "stderr",
          "text": [
            "<ipython-input-43-4d502a383398>:6: DataConversionWarning: A column-vector y was passed when a 1d array was expected. Please change the shape of y to (n_samples,), for example using ravel().\n",
            "  model.fit(X_trains, y_trains)\n"
          ]
        }
      ]
    },
    {
      "cell_type": "code",
      "source": [
        "from sklearn.metrics import f1_score\n",
        "from sklearn.metrics import accuracy_score,confusion_matrix\n",
        "print(f1_score(y_test,y_pred_xgb,average='weighted'))\n",
        "print(accuracy_score(y_test,y_pred_xgb))\n",
        "from sklearn.metrics import classification_report\n",
        "print(classification_report(y_test,y_pred_xgb))"
      ],
      "metadata": {
        "colab": {
          "base_uri": "https://localhost:8080/"
        },
        "id": "uZdf2O2t-dPx",
        "outputId": "31692df3-cc94-4e60-d087-124f4e4cbd32"
      },
      "execution_count": null,
      "outputs": [
        {
          "output_type": "stream",
          "name": "stdout",
          "text": [
            "0.7725558537926144\n",
            "0.7728531855955678\n",
            "              precision    recall  f1-score   support\n",
            "\n",
            "           0       0.71      0.70      0.71       141\n",
            "           1       0.81      0.82      0.81       220\n",
            "\n",
            "    accuracy                           0.77       361\n",
            "   macro avg       0.76      0.76      0.76       361\n",
            "weighted avg       0.77      0.77      0.77       361\n",
            "\n"
          ]
        }
      ]
    },
    {
      "cell_type": "markdown",
      "source": [
        "# calculating ROC curves for DT,RF,XGB"
      ],
      "metadata": {
        "id": "RMrg9sBjN2rG"
      }
    },
    {
      "cell_type": "code",
      "source": [
        "#dt_fpr, dt_tpr, _ = roc_curve(y_test, y_pred_dt)\n",
        "rf_fpr, rf_tpr, _ = roc_curve(y_test, y_pred_rf)\n",
        "xgb_fpr, xgb_tpr, _ = roc_curve(y_test, y_pred_xgb)"
      ],
      "metadata": {
        "id": "6e01Xgw9N2Uu",
        "colab": {
          "base_uri": "https://localhost:8080/",
          "height": 205
        },
        "outputId": "f065a100-e662-424d-8766-3a18f5b8f418"
      },
      "execution_count": null,
      "outputs": [
        {
          "output_type": "error",
          "ename": "NameError",
          "evalue": "ignored",
          "traceback": [
            "\u001b[0;31m---------------------------------------------------------------------------\u001b[0m",
            "\u001b[0;31mNameError\u001b[0m                                 Traceback (most recent call last)",
            "\u001b[0;32m<ipython-input-14-977e46b8350a>\u001b[0m in \u001b[0;36m<cell line: 2>\u001b[0;34m()\u001b[0m\n\u001b[1;32m      1\u001b[0m \u001b[0;31m#dt_fpr, dt_tpr, _ = roc_curve(y_test, y_pred_dt)\u001b[0m\u001b[0;34m\u001b[0m\u001b[0;34m\u001b[0m\u001b[0m\n\u001b[0;32m----> 2\u001b[0;31m \u001b[0mrf_fpr\u001b[0m\u001b[0;34m,\u001b[0m \u001b[0mrf_tpr\u001b[0m\u001b[0;34m,\u001b[0m \u001b[0m_\u001b[0m \u001b[0;34m=\u001b[0m \u001b[0mroc_curve\u001b[0m\u001b[0;34m(\u001b[0m\u001b[0my_test\u001b[0m\u001b[0;34m,\u001b[0m \u001b[0my_pred_rf\u001b[0m\u001b[0;34m)\u001b[0m\u001b[0;34m\u001b[0m\u001b[0;34m\u001b[0m\u001b[0m\n\u001b[0m\u001b[1;32m      3\u001b[0m \u001b[0mxgb_fpr\u001b[0m\u001b[0;34m,\u001b[0m \u001b[0mxgb_tpr\u001b[0m\u001b[0;34m,\u001b[0m \u001b[0m_\u001b[0m \u001b[0;34m=\u001b[0m \u001b[0mroc_curve\u001b[0m\u001b[0;34m(\u001b[0m\u001b[0my_test\u001b[0m\u001b[0;34m,\u001b[0m \u001b[0my_pred_xgb\u001b[0m\u001b[0;34m)\u001b[0m\u001b[0;34m\u001b[0m\u001b[0;34m\u001b[0m\u001b[0m\n",
            "\u001b[0;31mNameError\u001b[0m: name 'roc_curve' is not defined"
          ]
        }
      ]
    },
    {
      "cell_type": "markdown",
      "source": [
        " # plot"
      ],
      "metadata": {
        "id": "aH16WX-8Om01"
      }
    },
    {
      "cell_type": "code",
      "source": [
        "print(\"Roc Score for XgBoost:\",r_auc_xgb)\n",
        "print(\"Roc Score for Decision Tree:\",r_auc_dt)\n",
        "print(\"Roc Score for Random Forest:\",r_auc_rf)"
      ],
      "metadata": {
        "colab": {
          "base_uri": "https://localhost:8080/"
        },
        "id": "X1wYu8KYTVeu",
        "outputId": "006c80ea-723a-41e9-de8c-bdef24641ec2"
      },
      "execution_count": null,
      "outputs": [
        {
          "output_type": "stream",
          "name": "stdout",
          "text": [
            "Roc Score for XgBoost: 0.8018858800773695\n",
            "Roc Score for Decision Tree: 0.7887008381689232\n",
            "Roc Score for Random Forest: 0.811250805931657\n"
          ]
        }
      ]
    },
    {
      "cell_type": "code",
      "source": [
        "r_probs = [0 for _ in range(len(y_test))]\n",
        "len(r_probs)\n",
        "r_auc = roc_auc_score(y_test, r_probs)\n",
        "r_fpr, r_tpr, _ = roc_curve(y_test, r_probs)\n",
        "print(r_fpr, r_tpr)"
      ],
      "metadata": {
        "colab": {
          "base_uri": "https://localhost:8080/"
        },
        "id": "jqjEhMYmQvBf",
        "outputId": "7b5fbe9b-9bbd-4ac5-8a47-51f16de406c9"
      },
      "execution_count": null,
      "outputs": [
        {
          "output_type": "stream",
          "name": "stdout",
          "text": [
            "[0. 1.] [0. 1.]\n"
          ]
        }
      ]
    },
    {
      "cell_type": "code",
      "source": [
        "import matplotlib.pyplot as plt"
      ],
      "metadata": {
        "id": "oHca8wZ0OoXd"
      },
      "execution_count": null,
      "outputs": []
    },
    {
      "cell_type": "code",
      "source": [
        "import matplotlib.pyplot as plt\n",
        "plt.plot(r_fpr, r_tpr, linestyle='--', label='Random prediction (AUROC = %0.3f)' % r_auc)\n",
        "plt.plot(dt_fpr, dt_tpr, marker='.', label='decision Tree(AUROC = %0.3f)' % r_auc_dt)\n",
        "plt.plot(rf_fpr, rf_tpr, marker='.', label='Random Forest (AUROC = %0.3f)' % r_auc_rf)\n",
        "plt.plot(xgb_fpr, xgb_tpr, marker='.', label='Xgboost (AUROC = %0.3f)' % r_auc_xgb)\n",
        "\n",
        "# Title\n",
        "plt.title('ROC Plot')\n",
        "# Axis labels\n",
        "plt.xlabel('False Positive Rate')\n",
        "plt.ylabel('True Positive Rate')\n",
        "# Show legend\n",
        "plt.legend() \n",
        "# Show plot\n",
        "plt.show()\n"
      ],
      "metadata": {
        "colab": {
          "base_uri": "https://localhost:8080/",
          "height": 472
        },
        "id": "rDOfrl96Orwd",
        "outputId": "fb2e699f-d892-4975-b2af-6c3647375759"
      },
      "execution_count": null,
      "outputs": [
        {
          "output_type": "display_data",
          "data": {
            "text/plain": [
              "<Figure size 640x480 with 1 Axes>"
            ],
            "image/png": "[encoded data removed]"
          },
          "metadata": {}
        }
      ]
    },
    {
      "cell_type": "markdown",
      "source": [
        "# Hyperparameter Tunining for the XgBoost Model"
      ],
      "metadata": {
        "id": "CVWivd_W41oV"
      }
    },
    {
      "cell_type": "code",
      "source": [
        "from hyperopt import hp,fmin,tpe,STATUS_OK,Trials"
      ],
      "metadata": {
        "id": "YAk0k8IQ41a3"
      },
      "execution_count": null,
      "outputs": []
    },
    {
      "cell_type": "code",
      "source": [
        "space={'max_depth': hp.quniform(\"max_depth\", 5, 25, 5),\n",
        "        'gamma': hp.uniform ('gamma', 1,10),\n",
        "        'reg_alpha' : hp.quniform('reg_alpha', 40,180,1),\n",
        "        'reg_lambda' : hp.uniform('reg_lambda', 0,1),\n",
        "        'colsample_bytree' : hp.uniform('colsample_bytree', 0.5,1),\n",
        "        'min_child_weight' : hp.quniform('min_child_weight', 0, 10, 1),\n",
        "        'n_estimators': 250,\n",
        "        'seed': 0\n",
        "    }"
      ],
      "metadata": {
        "id": "FLN_Q8LU41Yg"
      },
      "execution_count": null,
      "outputs": []
    },
    {
      "cell_type": "code",
      "source": [
        "from sklearn.model_selection import cross_val_score\n",
        "def objective(space):\n",
        "  model = xgb.XGBClassifier(n_estimators =space['n_estimators'], max_depth = int(space['max_depth']), gamma = space['gamma'],\n",
        "                    reg_alpha = int(space['reg_alpha']),min_child_weight=int(space['min_child_weight']),\n",
        "                    colsample_bytree=int(space['colsample_bytree']))\n",
        "  \n",
        "  accuracy = cross_val_score(model,X_train,y_train,cv=5).mean()\n",
        "  return {'loss': -accuracy, 'status': STATUS_OK}\n",
        "\n",
        "trials = Trials()\n",
        "best = fmin(fn=objective, space=space, algo = tpe.suggest, max_evals=250, trials=trials)\n",
        "best"
      ],
      "metadata": {
        "colab": {
          "base_uri": "https://localhost:8080/"
        },
        "id": "_TOCFN4A41WF",
        "outputId": "ea417dd3-f95c-4130-d9f0-0eab8b5fc2a5"
      },
      "execution_count": null,
      "outputs": [
        {
          "output_type": "stream",
          "name": "stdout",
          "text": [
            "100%|██████████| 250/250 [01:53<00:00,  2.21trial/s, best loss: -0.7789383890811227]\n"
          ]
        },
        {
          "output_type": "execute_result",
          "data": {
            "text/plain": [
              "{'colsample_bytree': 0.5934104745768924,\n",
              " 'gamma': 1.035028187919931,\n",
              " 'max_depth': 5.0,\n",
              " 'min_child_weight': 8.0,\n",
              " 'reg_alpha': 40.0,\n",
              " 'reg_lambda': 0.7017699068376877}"
            ]
          },
          "metadata": {},
          "execution_count": 53
        }
      ]
    },
    {
      "cell_type": "code",
      "source": [
        "# taking the best parameters possible\n",
        "print(\"the best possible parameters are:\", best)"
      ],
      "metadata": {
        "colab": {
          "base_uri": "https://localhost:8080/"
        },
        "id": "iUco_taN41TP",
        "outputId": "b4c7b4aa-6ed1-44df-b1b0-418a52488c51"
      },
      "execution_count": null,
      "outputs": [
        {
          "output_type": "stream",
          "name": "stdout",
          "text": [
            "the best possible parameters are: {'colsample_bytree': 0.5934104745768924, 'gamma': 1.035028187919931, 'max_depth': 5.0, 'min_child_weight': 8.0, 'reg_alpha': 40.0, 'reg_lambda': 0.7017699068376877}\n"
          ]
        }
      ]
    },
    {
      "cell_type": "code",
      "source": [
        "import xgboost as xgb\n",
        "model = xgb.XGBClassifier(colsample_bylevel=best['colsample_bytree'],gamma=best['gamma'],\n",
        "                          max_depth=int(best['max_depth']),min_child_weight=best['min_child_weight'],\n",
        "                          reg_alpha=best['reg_alpha'],reg_lambda=best['reg_lambda'])\n",
        "model.fit(X_train, y_train)\n",
        "y_pred_hyo = model.predict(X_test)"
      ],
      "metadata": {
        "id": "kS8tdeIc41Q7"
      },
      "execution_count": null,
      "outputs": []
    },
    {
      "cell_type": "code",
      "source": [
        "from sklearn.metrics import f1_score\n",
        "from sklearn.metrics import accuracy_score,confusion_matrix\n",
        "print(\"F1-score: \", f1_score(y_test,y_pred_rf,average='weighted'))\n",
        "print(\"Accuracy score\", accuracy_score(y_test,y_pred_rf))"
      ],
      "metadata": {
        "colab": {
          "base_uri": "https://localhost:8080/"
        },
        "id": "KlKpAniX41OJ",
        "outputId": "806beea0-5329-4039-cba4-3601ecba8271"
      },
      "execution_count": null,
      "outputs": [
        {
          "output_type": "stream",
          "name": "stdout",
          "text": [
            "F1-score:  0.8222378300100056\n",
            "Accuracy score 0.8227146814404432\n"
          ]
        }
      ]
    },
    {
      "cell_type": "markdown",
      "source": [
        "###  Getting nearly the same result as without the hyperparameter tuning"
      ],
      "metadata": {
        "id": "ilwWvD9bVJfp"
      }
    },
    {
      "cell_type": "code",
      "source": [
        "from sklearn.metrics import classification_report\n",
        "print(classification_report(y_test,y_pred_hyo))"
      ],
      "metadata": {
        "colab": {
          "base_uri": "https://localhost:8080/"
        },
        "id": "41Nb-NQk41L9",
        "outputId": "bd9b7558-0ec0-4d9a-d30c-d1512ec67ce1"
      },
      "execution_count": null,
      "outputs": [
        {
          "output_type": "stream",
          "name": "stdout",
          "text": [
            "              precision    recall  f1-score   support\n",
            "\n",
            "           0       0.81      0.71      0.75       141\n",
            "           1       0.83      0.89      0.86       220\n",
            "\n",
            "    accuracy                           0.82       361\n",
            "   macro avg       0.82      0.80      0.81       361\n",
            "weighted avg       0.82      0.82      0.82       361\n",
            "\n"
          ]
        }
      ]
    },
    {
      "cell_type": "markdown",
      "source": [
        "### The recall score for class '1' i.e Least concern is increasing but our point of interest id class '0' endangered"
      ],
      "metadata": {
        "id": "2BznOWSxWI_v"
      }
    },
    {
      "cell_type": "markdown",
      "source": [
        "# Adaboost"
      ],
      "metadata": {
        "id": "udAGgD0dM_Ze"
      }
    },
    {
      "cell_type": "code",
      "source": [
        "from sklearn.ensemble import AdaBoostClassifier \n",
        "adaboost = AdaBoostClassifier(n_estimators=200, random_state=32)\n",
        "adaboost.fit(X_train,y_train) \n",
        "y_pred_ada = adaboost.predict(X_test)\n",
        "from sklearn.metrics import f1_score\n",
        "from sklearn.metrics import accuracy_score,confusion_matrix\n",
        "print(\"F1-score: \", f1_score(y_test,y_pred_ada,average='weighted'))\n",
        "print(\"Accuracy score\", accuracy_score(y_test,y_pred_ada))"
      ],
      "metadata": {
        "colab": {
          "base_uri": "https://localhost:8080/"
        },
        "id": "fDhOWJCPL7Mr",
        "outputId": "a4707d73-6850-45b0-e8f5-5de7a1602306"
      },
      "execution_count": null,
      "outputs": [
        {
          "output_type": "stream",
          "name": "stderr",
          "text": [
            "/usr/local/lib/python3.9/dist-packages/sklearn/utils/validation.py:1143: DataConversionWarning: A column-vector y was passed when a 1d array was expected. Please change the shape of y to (n_samples, ), for example using ravel().\n",
            "  y = column_or_1d(y, warn=True)\n"
          ]
        },
        {
          "output_type": "stream",
          "name": "stdout",
          "text": [
            "F1-score:  0.8277928978221928\n",
            "Accuracy score 0.8282548476454293\n"
          ]
        }
      ]
    },
    {
      "cell_type": "code",
      "source": [
        "from sklearn.metrics import classification_report\n",
        "print(classification_report(y_test,y_pred_ada))"
      ],
      "metadata": {
        "colab": {
          "base_uri": "https://localhost:8080/"
        },
        "id": "3C7J5OiVNJFb",
        "outputId": "443705de-f486-4f40-8b1e-b818645038dc"
      },
      "execution_count": null,
      "outputs": [
        {
          "output_type": "stream",
          "name": "stdout",
          "text": [
            "              precision    recall  f1-score   support\n",
            "\n",
            "           0       0.79      0.77      0.78       141\n",
            "           1       0.85      0.87      0.86       220\n",
            "\n",
            "    accuracy                           0.83       361\n",
            "   macro avg       0.82      0.82      0.82       361\n",
            "weighted avg       0.83      0.83      0.83       361\n",
            "\n"
          ]
        }
      ]
    },
    {
      "cell_type": "code",
      "source": [
        "confusion_matrix(y_test,y_pred_ada)"
      ],
      "metadata": {
        "colab": {
          "base_uri": "https://localhost:8080/"
        },
        "id": "d5s4PnKwwgfj",
        "outputId": "11176422-124d-4782-a3df-8e1c7d24ecee"
      },
      "execution_count": null,
      "outputs": [
        {
          "output_type": "execute_result",
          "data": {
            "text/plain": [
              "array([[108,  33],\n",
              "       [ 29, 191]])"
            ]
          },
          "metadata": {},
          "execution_count": 74
        }
      ]
    },
    {
      "cell_type": "code",
      "source": [
        "r_probs = [0 for _ in range(len(y_test))]\n",
        "len(r_probs)\n",
        "r_auc = roc_auc_score(y_test, r_probs)\n",
        "r_fpr, r_tpr, _ = roc_curve(y_test, r_probs)\n",
        "print(r_fpr, r_tpr)"
      ],
      "metadata": {
        "colab": {
          "base_uri": "https://localhost:8080/"
        },
        "id": "ET5BKHzbsmCX",
        "outputId": "5a3ac253-9831-4167-e239-2a19bde7d300"
      },
      "execution_count": null,
      "outputs": [
        {
          "output_type": "stream",
          "name": "stdout",
          "text": [
            "[0. 1.] [0. 1.]\n"
          ]
        }
      ]
    },
    {
      "cell_type": "code",
      "source": [
        "from sklearn.metrics import roc_curve,roc_auc_score \n",
        "r_auc_ada = roc_auc_score(y_test,y_pred_ada)\n",
        "r_auc_ada"
      ],
      "metadata": {
        "colab": {
          "base_uri": "https://localhost:8080/"
        },
        "id": "MCnqQDYMt5f9",
        "outputId": "33cc4800-7999-4d54-f292-5472aec28953"
      },
      "execution_count": null,
      "outputs": [
        {
          "output_type": "execute_result",
          "data": {
            "text/plain": [
              "0.8170696324951644"
            ]
          },
          "metadata": {},
          "execution_count": 76
        }
      ]
    },
    {
      "cell_type": "code",
      "source": [
        "ada_fpr, ada_tpr, _ = roc_curve(y_test, y_pred_ada)"
      ],
      "metadata": {
        "id": "MynIftKKtOAX"
      },
      "execution_count": null,
      "outputs": []
    },
    {
      "cell_type": "code",
      "source": [
        "import matplotlib.pyplot as plt\n",
        "plt.plot(r_fpr, r_tpr, linestyle='--', label='Random prediction (AUROC = %0.3f)' % r_auc)\n",
        "\n",
        "plt.plot(ada_fpr, ada_tpr, marker='.', label='Xgboost (AUROC = %0.3f)' % r_auc_ada)\n",
        "\n",
        "# Title\n",
        "plt.title('ROC Plot')\n",
        "# Axis labels\n",
        "plt.xlabel('False Positive Rate')\n",
        "plt.ylabel('True Positive Rate')\n",
        "# Show legend\n",
        "plt.legend() # \n",
        "# Show plot\n",
        "plt.show()\n"
      ],
      "metadata": {
        "colab": {
          "base_uri": "https://localhost:8080/",
          "height": 472
        },
        "id": "4-cU08p2svql",
        "outputId": "8719214d-f2e1-4241-e791-1c3f2249172f"
      },
      "execution_count": null,
      "outputs": [
        {
          "output_type": "display_data",
          "data": {
            "text/plain": [
              "<Figure size 640x480 with 1 Axes>"
            ],
            "image/png": "[encoded data removed]"
          },
          "metadata": {}
        }
      ]
    },
    {
      "cell_type": "code",
      "source": [
        "cm = (confusion_matrix(y_test,y_pred_ada))\n",
        "df_cm = pd.DataFrame(cm,columns=[['Endangered','Least Concern']], index=['Endangered','Least Concern'])\n",
        "print(df_cm)"
      ],
      "metadata": {
        "colab": {
          "base_uri": "https://localhost:8080/"
        },
        "id": "us-g2LMmw_rL",
        "outputId": "d7dbf289-dacd-45e0-9341-ba695583a640"
      },
      "execution_count": null,
      "outputs": [
        {
          "output_type": "stream",
          "name": "stdout",
          "text": [
            "              Endangered Least Concern\n",
            "Endangered           108            33\n",
            "Least Concern         29           191\n"
          ]
        }
      ]
    },
    {
      "cell_type": "code",
      "source": [],
      "metadata": {
        "id": "9ZeeDqiTKIeU"
      },
      "execution_count": null,
      "outputs": []
    }
  ],
  "metadata": {
    "colab": {
      "provenance": []
    },
    "kernelspec": {
      "display_name": "Python 3",
      "name": "python3"
    },
    "language_info": {
      "name": "python"
    },
    "accelerator": "GPU",
    "gpuClass": "standard"
  },
  "nbformat": 4,
  "nbformat_minor": 0
}
{
  "nbformat": 4,
  "nbformat_minor": 0,
  "metadata": {
    "colab": {
      "provenance": []
    },
    "kernelspec": {
      "name": "python3",
      "display_name": "Python 3"
    },
    "language_info": {
      "name": "python"
    }
  },
  "cells": [
    {
      "cell_type": "code",
      "execution_count": null,
      "metadata": {
        "colab": {
          "base_uri": "https://localhost:8080/",
          "height": 733
        },
        "id": "Kz9c9wBevgXs",
        "outputId": "db7217bd-351f-4532-8ed7-daecf4e85665"
      },
      "outputs": [
        {
          "output_type": "execute_result",
          "data": {
            "text/plain": [
              "           Name   Kingdom    Phylum   Subphylum     Class         Order  \\\n",
              "0     Grey Wolf  Animalia  Chordata  Vertebrata  Mammalia     Carnivora   \n",
              "1         Tiger  Animalia  Chordata  Vertebrata  Mammalia     Carnivora   \n",
              "2    Brown Bear  Animalia  Chordata  Vertebrata  Mammalia     Carnivora   \n",
              "3    Blue Whale  Animalia  Chordata  Vertebrata  Mammalia  Artiodactyla   \n",
              "4  Killer Whale  Animalia  Chordata  Vertebrata  Mammalia  Artiodactyla   \n",
              "\n",
              "     Suborder           Family         Genus                Species  ...  \\\n",
              "0  Caniformia          Canidae         Canis            Canis lupus  ...   \n",
              "1  Feliformia          Felidae      Panthera        Panthera tigris  ...   \n",
              "2  Caniformia          Ursidae         Ursus           Ursus arctos  ...   \n",
              "3         NaN  Balaenopteridae  Balaenoptera  Balaenoptera musculus  ...   \n",
              "4         NaN      Delphinidae       Orcinus           Orcinus orca  ...   \n",
              "\n",
              "  Top speed      Weight     Height      Length  \\\n",
              "0   75 km/h    16-60 kg   80-85 cm  105-160 cm   \n",
              "1   96 km/h   65-306 kg        NaN  200-390 cm   \n",
              "2   56 km/h  100-635 kg  70-153 cm   1.4-2.8 m   \n",
              "3   20 km/h   100-160 t        NaN     25-30 m   \n",
              "4   45 km/h       3-6 t        NaN       6-9 m   \n",
              "\n",
              "                                          Attributes  \\\n",
              "0  Nocturnal,Carnivore,Scavenger,Terrestrial,Curs...   \n",
              "1  Nocturnal,Carnivore,Cursorial,Terrestrial,Ambu...   \n",
              "2  Crepuscular,Omnivore,Terrestrial,Altricial,Nom...   \n",
              "3  Carnivore,Piscivores,Aquatic,Precocial,Natator...   \n",
              "4  Diurnal,Carnivore,Aquatic,Precocial,Cosmopolit...   \n",
              "\n",
              "                                        Distribution  \\\n",
              "0  {'Geography': {'Continents': 'Asia, Europe, No...   \n",
              "1  {'Geography': {'Continents': 'Asia', 'Subconti...   \n",
              "2  {'Geography': {'Continents': 'Asia, Europe, No...   \n",
              "3  {'Geography': {'Continents': 'Africa, South Am...   \n",
              "4  {'Geography': {'Continents': 'Africa, Oceania,...   \n",
              "\n",
              "                                              Habits                   Diet  \\\n",
              "0  {'Group name': 'pack, route, rout', 'Lifestyle...   Carnivore,,Scavenger   \n",
              "1  {'Lifestyle': 'Cursorial, Terrestrial, Ambush ...              Carnivore   \n",
              "2  {'Group name': 'sloth, sleuth', 'Lifestyle': '...               Omnivore   \n",
              "3  {'Group name': 'pod, gam, herd, school, mod', ...  Carnivore,,Piscivores   \n",
              "4  {'Group name': 'pod, gam, herd, school, mod', ...              Carnivore   \n",
              "\n",
              "                                       Mating_Habits  \\\n",
              "0  {'Mating behavior': 'Monogamy', 'Reproduction ...   \n",
              "1  {'Mating behavior': 'Polygyny', 'Reproduction ...   \n",
              "2  {'Mating behavior': 'Polygynandry,', 'Reproduc...   \n",
              "3  {'Mating behavior': 'Monogamy', 'Reproduction ...   \n",
              "4  {'Mating behavior': 'Polygynandry', 'Reproduct...   \n",
              "\n",
              "                                          Population  \n",
              "0  {'Population trend': 'Stable', 'Population sta...  \n",
              "1  {'Population trend': 'Decreasing', 'Population...  \n",
              "2  {'Population trend': 'Stable', 'Population sta...  \n",
              "3  {'Population trend': 'Increasing', 'Population...  \n",
              "4       {'Population status': 'Data deficient (DD)'}  \n",
              "\n",
              "[5 rows x 22 columns]"
            ],
            "text/html": [
              "\n",
              "  <div id=\"df-fa38d619-dff2-46ec-bbde-b072bf360bf7\">\n",
              "    <div class=\"colab-df-container\">\n",
              "      <div>\n",
              "<style scoped>\n",
              "    .dataframe tbody tr th:only-of-type {\n",
              "        vertical-align: middle;\n",
              "    }\n",
              "\n",
              "    .dataframe tbody tr th {\n",
              "        vertical-align: top;\n",
              "    }\n",
              "\n",
              "    .dataframe thead th {\n",
              "        text-align: right;\n",
              "    }\n",
              "</style>\n",
              "<table border=\"1\" class=\"dataframe\">\n",
              "  <thead>\n",
              "    <tr style=\"text-align: right;\">\n",
              "      <th></th>\n",
              "      <th>Name</th>\n",
              "      <th>Kingdom</th>\n",
              "      <th>Phylum</th>\n",
              "      <th>Subphylum</th>\n",
              "      <th>Class</th>\n",
              "      <th>Order</th>\n",
              "      <th>Suborder</th>\n",
              "      <th>Family</th>\n",
              "      <th>Genus</th>\n",
              "      <th>Species</th>\n",
              "      <th>...</th>\n",
              "      <th>Top speed</th>\n",
              "      <th>Weight</th>\n",
              "      <th>Height</th>\n",
              "      <th>Length</th>\n",
              "      <th>Attributes</th>\n",
              "      <th>Distribution</th>\n",
              "      <th>Habits</th>\n",
              "      <th>Diet</th>\n",
              "      <th>Mating_Habits</th>\n",
              "      <th>Population</th>\n",
              "    </tr>\n",
              "  </thead>\n",
              "  <tbody>\n",
              "    <tr>\n",
              "      <th>0</th>\n",
              "      <td>Grey Wolf</td>\n",
              "      <td>Animalia</td>\n",
              "      <td>Chordata</td>\n",
              "      <td>Vertebrata</td>\n",
              "      <td>Mammalia</td>\n",
              "      <td>Carnivora</td>\n",
              "      <td>Caniformia</td>\n",
              "      <td>Canidae</td>\n",
              "      <td>Canis</td>\n",
              "      <td>Canis lupus</td>\n",
              "      <td>...</td>\n",
              "      <td>75 km/h</td>\n",
              "      <td>16-60 kg</td>\n",
              "      <td>80-85 cm</td>\n",
              "      <td>105-160 cm</td>\n",
              "      <td>Nocturnal,Carnivore,Scavenger,Terrestrial,Curs...</td>\n",
              "      <td>{'Geography': {'Continents': 'Asia, Europe, No...</td>\n",
              "      <td>{'Group name': 'pack, route, rout', 'Lifestyle...</td>\n",
              "      <td>Carnivore,,Scavenger</td>\n",
              "      <td>{'Mating behavior': 'Monogamy', 'Reproduction ...</td>\n",
              "      <td>{'Population trend': 'Stable', 'Population sta...</td>\n",
              "    </tr>\n",
              "    <tr>\n",
              "      <th>1</th>\n",
              "      <td>Tiger</td>\n",
              "      <td>Animalia</td>\n",
              "      <td>Chordata</td>\n",
              "      <td>Vertebrata</td>\n",
              "      <td>Mammalia</td>\n",
              "      <td>Carnivora</td>\n",
              "      <td>Feliformia</td>\n",
              "      <td>Felidae</td>\n",
              "      <td>Panthera</td>\n",
              "      <td>Panthera tigris</td>\n",
              "      <td>...</td>\n",
              "      <td>96 km/h</td>\n",
              "      <td>65-306 kg</td>\n",
              "      <td>NaN</td>\n",
              "      <td>200-390 cm</td>\n",
              "      <td>Nocturnal,Carnivore,Cursorial,Terrestrial,Ambu...</td>\n",
              "      <td>{'Geography': {'Continents': 'Asia', 'Subconti...</td>\n",
              "      <td>{'Lifestyle': 'Cursorial, Terrestrial, Ambush ...</td>\n",
              "      <td>Carnivore</td>\n",
              "      <td>{'Mating behavior': 'Polygyny', 'Reproduction ...</td>\n",
              "      <td>{'Population trend': 'Decreasing', 'Population...</td>\n",
              "    </tr>\n",
              "    <tr>\n",
              "      <th>2</th>\n",
              "      <td>Brown Bear</td>\n",
              "      <td>Animalia</td>\n",
              "      <td>Chordata</td>\n",
              "      <td>Vertebrata</td>\n",
              "      <td>Mammalia</td>\n",
              "      <td>Carnivora</td>\n",
              "      <td>Caniformia</td>\n",
              "      <td>Ursidae</td>\n",
              "      <td>Ursus</td>\n",
              "      <td>Ursus arctos</td>\n",
              "      <td>...</td>\n",
              "      <td>56 km/h</td>\n",
              "      <td>100-635 kg</td>\n",
              "      <td>70-153 cm</td>\n",
              "      <td>1.4-2.8 m</td>\n",
              "      <td>Crepuscular,Omnivore,Terrestrial,Altricial,Nom...</td>\n",
              "      <td>{'Geography': {'Continents': 'Asia, Europe, No...</td>\n",
              "      <td>{'Group name': 'sloth, sleuth', 'Lifestyle': '...</td>\n",
              "      <td>Omnivore</td>\n",
              "      <td>{'Mating behavior': 'Polygynandry,', 'Reproduc...</td>\n",
              "      <td>{'Population trend': 'Stable', 'Population sta...</td>\n",
              "    </tr>\n",
              "    <tr>\n",
              "      <th>3</th>\n",
              "      <td>Blue Whale</td>\n",
              "      <td>Animalia</td>\n",
              "      <td>Chordata</td>\n",
              "      <td>Vertebrata</td>\n",
              "      <td>Mammalia</td>\n",
              "      <td>Artiodactyla</td>\n",
              "      <td>NaN</td>\n",
              "      <td>Balaenopteridae</td>\n",
              "      <td>Balaenoptera</td>\n",
              "      <td>Balaenoptera musculus</td>\n",
              "      <td>...</td>\n",
              "      <td>20 km/h</td>\n",
              "      <td>100-160 t</td>\n",
              "      <td>NaN</td>\n",
              "      <td>25-30 m</td>\n",
              "      <td>Carnivore,Piscivores,Aquatic,Precocial,Natator...</td>\n",
              "      <td>{'Geography': {'Continents': 'Africa, South Am...</td>\n",
              "      <td>{'Group name': 'pod, gam, herd, school, mod', ...</td>\n",
              "      <td>Carnivore,,Piscivores</td>\n",
              "      <td>{'Mating behavior': 'Monogamy', 'Reproduction ...</td>\n",
              "      <td>{'Population trend': 'Increasing', 'Population...</td>\n",
              "    </tr>\n",
              "    <tr>\n",
              "      <th>4</th>\n",
              "      <td>Killer Whale</td>\n",
              "      <td>Animalia</td>\n",
              "      <td>Chordata</td>\n",
              "      <td>Vertebrata</td>\n",
              "      <td>Mammalia</td>\n",
              "      <td>Artiodactyla</td>\n",
              "      <td>NaN</td>\n",
              "      <td>Delphinidae</td>\n",
              "      <td>Orcinus</td>\n",
              "      <td>Orcinus orca</td>\n",
              "      <td>...</td>\n",
              "      <td>45 km/h</td>\n",
              "      <td>3-6 t</td>\n",
              "      <td>NaN</td>\n",
              "      <td>6-9 m</td>\n",
              "      <td>Diurnal,Carnivore,Aquatic,Precocial,Cosmopolit...</td>\n",
              "      <td>{'Geography': {'Continents': 'Africa, Oceania,...</td>\n",
              "      <td>{'Group name': 'pod, gam, herd, school, mod', ...</td>\n",
              "      <td>Carnivore</td>\n",
              "      <td>{'Mating behavior': 'Polygynandry', 'Reproduct...</td>\n",
              "      <td>{'Population status': 'Data deficient (DD)'}</td>\n",
              "    </tr>\n",
              "  </tbody>\n",
              "</table>\n",
              "<p>5 rows × 22 columns</p>\n",
              "</div>\n",
              "      <button class=\"colab-df-convert\" onclick=\"convertToInteractive('df-fa38d619-dff2-46ec-bbde-b072bf360bf7')\"\n",
              "              title=\"Convert this dataframe to an interactive table.\"\n",
              "              style=\"display:none;\">\n",
              "        \n",
              "  <svg xmlns=\"http://www.w3.org/2000/svg\" height=\"24px\"viewBox=\"0 0 24 24\"\n",
              "       width=\"24px\">\n",
              "    <path d=\"M0 0h24v24H0V0z\" fill=\"none\"/>\n",
              "    <path d=\"M18.56 5.44l.94 2.06.94-2.06 2.06-.94-2.06-.94-.94-2.06-.94 2.06-2.06.94zm-11 1L8.5 8.5l.94-2.06 2.06-.94-2.06-.94L8.5 2.5l-.94 2.06-2.06.94zm10 10l.94 2.06.94-2.06 2.06-.94-2.06-.94-.94-2.06-.94 2.06-2.06.94z\"/><path d=\"M17.41 7.96l-1.37-1.37c-.4-.4-.92-.59-1.43-.59-.52 0-1.04.2-1.43.59L10.3 9.45l-7.72 7.72c-.78.78-.78 2.05 0 2.83L4 21.41c.39.39.9.59 1.41.59.51 0 1.02-.2 1.41-.59l7.78-7.78 2.81-2.81c.8-.78.8-2.07 0-2.86zM5.41 20L4 18.59l7.72-7.72 1.47 1.35L5.41 20z\"/>\n",
              "  </svg>\n",
              "      </button>\n",
              "      \n",
              "  <style>\n",
              "    .colab-df-container {\n",
              "      display:flex;\n",
              "      flex-wrap:wrap;\n",
              "      gap: 12px;\n",
              "    }\n",
              "\n",
              "    .colab-df-convert {\n",
              "      background-color: #E8F0FE;\n",
              "      border: none;\n",
              "      border-radius: 50%;\n",
              "      cursor: pointer;\n",
              "      display: none;\n",
              "      fill: #1967D2;\n",
              "      height: 32px;\n",
              "      padding: 0 0 0 0;\n",
              "      width: 32px;\n",
              "    }\n",
              "\n",
              "    .colab-df-convert:hover {\n",
              "      background-color: #E2EBFA;\n",
              "      box-shadow: 0px 1px 2px rgba(60, 64, 67, 0.3), 0px 1px 3px 1px rgba(60, 64, 67, 0.15);\n",
              "      fill: #174EA6;\n",
              "    }\n",
              "\n",
              "    [theme=dark] .colab-df-convert {\n",
              "      background-color: #3B4455;\n",
              "      fill: #D2E3FC;\n",
              "    }\n",
              "\n",
              "    [theme=dark] .colab-df-convert:hover {\n",
              "      background-color: #434B5C;\n",
              "      box-shadow: 0px 1px 3px 1px rgba(0, 0, 0, 0.15);\n",
              "      filter: drop-shadow(0px 1px 2px rgba(0, 0, 0, 0.3));\n",
              "      fill: #FFFFFF;\n",
              "    }\n",
              "  </style>\n",
              "\n",
              "      <script>\n",
              "        const buttonEl =\n",
              "          document.querySelector('#df-fa38d619-dff2-46ec-bbde-b072bf360bf7 button.colab-df-convert');\n",
              "        buttonEl.style.display =\n",
              "          google.colab.kernel.accessAllowed ? 'block' : 'none';\n",
              "\n",
              "        async function convertToInteractive(key) {\n",
              "          const element = document.querySelector('#df-fa38d619-dff2-46ec-bbde-b072bf360bf7');\n",
              "          const dataTable =\n",
              "            await google.colab.kernel.invokeFunction('convertToInteractive',\n",
              "                                                     [key], {});\n",
              "          if (!dataTable) return;\n",
              "\n",
              "          const docLinkHtml = 'Like what you see? Visit the ' +\n",
              "            '<a target=\"_blank\" href=https://colab.research.google.com/notebooks/data_table.ipynb>data table notebook</a>'\n",
              "            + ' to learn more about interactive tables.';\n",
              "          element.innerHTML = '';\n",
              "          dataTable['output_type'] = 'display_data';\n",
              "          await google.colab.output.renderOutput(dataTable, element);\n",
              "          const docLink = document.createElement('div');\n",
              "          docLink.innerHTML = docLinkHtml;\n",
              "          element.appendChild(docLink);\n",
              "        }\n",
              "      </script>\n",
              "    </div>\n",
              "  </div>\n",
              "  "
            ]
          },
          "metadata": {},
          "execution_count": 1
        }
      ],
      "source": [
        "import pandas as pd\n",
        "df = pd.read_csv('/content/drive/MyDrive/DMining_Project/Project-Animal/animals_info.csv')\n",
        "df.head()"
      ]
    },
    {
      "cell_type": "code",
      "source": [
        "df['Distribution'][3]"
      ],
      "metadata": {
        "colab": {
          "base_uri": "https://localhost:8080/",
          "height": 125
        },
        "id": "NJzGIh-4Y8ZW",
        "outputId": "37cdfa5a-8554-4dd1-d5d9-e078f94ee0cb"
      },
      "execution_count": null,
      "outputs": [
        {
          "output_type": "execute_result",
          "data": {
            "text/plain": [
              "'{\\'Geography\\': {\\'Continents\\': \\'Africa, South America, Oceania, North America, Asia, Europe, Antarctica\\', \\'Subcontinents\\': \\'Sub-Saharan Africa, Caribbean Islands, South Asia, East Asia, Central America, Southeast Asia, Western Asia, North Africa\\', \\'Countries\\': \\'Angola, Argentina, Australia, Bahamas, Bangladesh, Benin, Brazil, Cameroon, Canada, Cape Verde,\\', \\'Regions\\': \"Chile, China, Colombia, Comoros, Costa Rica, Cote d\\'Ivoire, Djibouti, Ecuador, El Salvador, Equatorial Guinea, Eritrea, Faroe Islands, France, Gabon, Ghana, Greece, Grenada, Guatemala, Iceland, India, Indonesia, Iran, Iraq, Ireland, Japan, Kenya, Madagascar, Malaysia, Maldives, Marshall Islands, Mauritania, Mauritius, Mexico, Morocco, Mozambique, Myanmar, Namibia, New Zealand, Nicaragua, Nigeria, Norway, Oman, Pakistan, Palau, Panama, Peru, Philippines, Portugal, Russia, Sao Tomé and Principe, Senegal, Seychelles, Somalia, South Africa,  Spain, Sri Lanka, Taiwan, Tanzania, Thailand, Timor-Leste, Togo, United Kingdom, United States, Uruguay, Western Sahara\", \\'Oceans\\': \\'Greenland, Kamchatka\\', \\'Biogeographical realms\\': \\'Atlantic Ocean, Pacific Ocean\\'}, \\'Biome\\': [\\'Oceanic pelagic zone\\', \\'Marine\\', \\'Neritic zone\\'], \\'Climate\\': [\\'Tropical\\', \\'Temperate\\', \\'Cold\\', \\'Polar\\']}'"
            ],
            "application/vnd.google.colaboratory.intrinsic+json": {
              "type": "string"
            }
          },
          "metadata": {},
          "execution_count": 2
        }
      ]
    },
    {
      "cell_type": "code",
      "source": [
        "df.shape"
      ],
      "metadata": {
        "colab": {
          "base_uri": "https://localhost:8080/"
        },
        "id": "iGhU2OR2J9qp",
        "outputId": "005bb8dd-4a3d-4bd0-9f49-b746dc55f467"
      },
      "execution_count": null,
      "outputs": [
        {
          "output_type": "execute_result",
          "data": {
            "text/plain": [
              "(29357, 22)"
            ]
          },
          "metadata": {},
          "execution_count": 3
        }
      ]
    },
    {
      "cell_type": "code",
      "source": [
        "df.isnull().sum()"
      ],
      "metadata": {
        "colab": {
          "base_uri": "https://localhost:8080/"
        },
        "id": "pftuYyNp1p3x",
        "outputId": "a4406471-7fdc-4c45-d244-d426821f1d6f"
      },
      "execution_count": null,
      "outputs": [
        {
          "output_type": "execute_result",
          "data": {
            "text/plain": [
              "Name                   0\n",
              "Kingdom                0\n",
              "Phylum               832\n",
              "Subphylum          18605\n",
              "Class                  0\n",
              "Order                437\n",
              "Suborder           26397\n",
              "Family                 3\n",
              "Genus                  6\n",
              "Species                0\n",
              "Population size    27551\n",
              "Life span          27495\n",
              "Top speed          28762\n",
              "Weight             26484\n",
              "Height             29021\n",
              "Length             26410\n",
              "Attributes             0\n",
              "Distribution           0\n",
              "Habits                 0\n",
              "Diet               26713\n",
              "Mating_Habits          0\n",
              "Population             0\n",
              "dtype: int64"
            ]
          },
          "metadata": {},
          "execution_count": 4
        }
      ]
    },
    {
      "cell_type": "code",
      "source": [
        "df.columns"
      ],
      "metadata": {
        "colab": {
          "base_uri": "https://localhost:8080/"
        },
        "id": "WH-arCZL1lvb",
        "outputId": "d15f6371-3ec1-41d7-c363-5280c3248e85"
      },
      "execution_count": null,
      "outputs": [
        {
          "output_type": "execute_result",
          "data": {
            "text/plain": [
              "Index(['Name', 'Kingdom', 'Phylum', 'Subphylum', 'Class', 'Order', 'Suborder',\n",
              "       'Family', 'Genus', 'Species', 'Population size', 'Life span',\n",
              "       'Top speed', 'Weight', 'Height', 'Length', 'Attributes', 'Distribution',\n",
              "       'Habits', 'Diet', 'Mating_Habits', 'Population'],\n",
              "      dtype='object')"
            ]
          },
          "metadata": {},
          "execution_count": 5
        }
      ]
    },
    {
      "cell_type": "markdown",
      "source": [
        "### Our data has lot of missing values in the features that are assumed to be important  \n",
        "\n"
      ],
      "metadata": {
        "id": "Pi3QsBkeaMzB"
      }
    },
    {
      "cell_type": "markdown",
      "source": [
        "# Attributes collected\n",
        "\n",
        "1. Population Size\n",
        "2. LIfe0 Span\n",
        "3. Geography_Loc\n",
        "4. Pregnency_duration \n",
        "5. Population Trend\n",
        "6. Mating behavior\n",
        "7. Diet"
      ],
      "metadata": {
        "id": "j10OsfFY6D1t"
      }
    },
    {
      "cell_type": "code",
      "source": [
        "idxc  = (df[df['Population size'].isnull()].index)"
      ],
      "metadata": {
        "id": "qv3w_B7L--WZ"
      },
      "execution_count": null,
      "outputs": []
    },
    {
      "cell_type": "code",
      "source": [
        "df1 = df.drop(index=idxc)\n",
        "df1.reset_index(inplace=True)\n",
        "df1.isnull().sum()"
      ],
      "metadata": {
        "colab": {
          "base_uri": "https://localhost:8080/"
        },
        "id": "h4rjfdtYA61F",
        "outputId": "6691627e-6d96-460b-edd0-fe0d2c1cc864"
      },
      "execution_count": null,
      "outputs": [
        {
          "output_type": "execute_result",
          "data": {
            "text/plain": [
              "index                 0\n",
              "Name                  0\n",
              "Kingdom               0\n",
              "Phylum               22\n",
              "Subphylum           560\n",
              "Class                 0\n",
              "Order                 0\n",
              "Suborder           1220\n",
              "Family                0\n",
              "Genus                 6\n",
              "Species               0\n",
              "Population size       0\n",
              "Life span            98\n",
              "Top speed          1245\n",
              "Weight              177\n",
              "Height             1492\n",
              "Length               54\n",
              "Attributes            0\n",
              "Distribution          0\n",
              "Habits                0\n",
              "Diet                  4\n",
              "Mating_Habits         0\n",
              "Population            0\n",
              "dtype: int64"
            ]
          },
          "metadata": {},
          "execution_count": 7
        }
      ]
    },
    {
      "cell_type": "code",
      "source": [
        "# final shape of the dataset\n",
        "df1.shape"
      ],
      "metadata": {
        "colab": {
          "base_uri": "https://localhost:8080/"
        },
        "id": "uWvUWWRIZh5B",
        "outputId": "11e33a5a-0765-47cb-aa91-3be05c0a6be1"
      },
      "execution_count": null,
      "outputs": [
        {
          "output_type": "execute_result",
          "data": {
            "text/plain": [
              "(1806, 23)"
            ]
          },
          "metadata": {},
          "execution_count": 9
        }
      ]
    },
    {
      "cell_type": "code",
      "source": [
        "df1"
      ],
      "metadata": {
        "colab": {
          "base_uri": "https://localhost:8080/",
          "height": 1000
        },
        "id": "SjG_ltI9aloU",
        "outputId": "47dc8d1c-c95d-4935-aef5-767cd5556b05"
      },
      "execution_count": null,
      "outputs": [
        {
          "output_type": "execute_result",
          "data": {
            "text/plain": [
              "      index                 Name   Kingdom    Phylum   Subphylum     Class  \\\n",
              "0         0            Grey Wolf  Animalia  Chordata  Vertebrata  Mammalia   \n",
              "1         1                Tiger  Animalia  Chordata  Vertebrata  Mammalia   \n",
              "2         2           Brown Bear  Animalia  Chordata  Vertebrata  Mammalia   \n",
              "3         3           Blue Whale  Animalia  Chordata  Vertebrata  Mammalia   \n",
              "4         4         Killer Whale  Animalia  Chordata  Vertebrata  Mammalia   \n",
              "...     ...                  ...       ...       ...         ...       ...   \n",
              "1801  21645           Brown Teal  Animalia  Chordata         NaN      Aves   \n",
              "1802  21710         Blue Swallow  Animalia  Chordata         NaN      Aves   \n",
              "1803  22076  Blue-Crowned Motmot  Animalia  Chordata         NaN      Aves   \n",
              "1804  22447     Crested Bellbird  Animalia  Chordata         NaN      Aves   \n",
              "1805  23022    Common Black Hawk  Animalia  Chordata         NaN      Aves   \n",
              "\n",
              "                Order    Suborder           Family         Genus  ...  \\\n",
              "0           Carnivora  Caniformia          Canidae         Canis  ...   \n",
              "1           Carnivora  Feliformia          Felidae      Panthera  ...   \n",
              "2           Carnivora  Caniformia          Ursidae         Ursus  ...   \n",
              "3        Artiodactyla         NaN  Balaenopteridae  Balaenoptera  ...   \n",
              "4        Artiodactyla         NaN      Delphinidae       Orcinus  ...   \n",
              "...               ...         ...              ...           ...  ...   \n",
              "1801     Anseriformes         NaN         Anatidae          Anas  ...   \n",
              "1802    Passeriformes         NaN     Hirundinidae       Hirundo  ...   \n",
              "1803    Coraciiformes         NaN        Momotidae       Momotus  ...   \n",
              "1804    Passeriformes         NaN       Oreoicidae       Oreoica  ...   \n",
              "1805  Accipitriformes         NaN     Accipitridae   Buteogallus  ...   \n",
              "\n",
              "     Top speed      Weight     Height      Length  \\\n",
              "0      75 km/h    16-60 kg   80-85 cm  105-160 cm   \n",
              "1      96 km/h   65-306 kg        NaN  200-390 cm   \n",
              "2      56 km/h  100-635 kg  70-153 cm   1.4-2.8 m   \n",
              "3      20 km/h   100-160 t        NaN     25-30 m   \n",
              "4      45 km/h       3-6 t        NaN       6-9 m   \n",
              "...        ...         ...        ...         ...   \n",
              "1801       NaN   530-700 g        NaN       48 cm   \n",
              "1802       NaN     12-16 g        NaN    18-25 cm   \n",
              "1803       NaN    77-175 g        NaN    38-43 cm   \n",
              "1804       NaN        63 g        NaN    19-23 cm   \n",
              "1805       NaN  793-1200 g        NaN    43-53 cm   \n",
              "\n",
              "                                             Attributes  \\\n",
              "0     Nocturnal,Carnivore,Scavenger,Terrestrial,Curs...   \n",
              "1     Nocturnal,Carnivore,Cursorial,Terrestrial,Ambu...   \n",
              "2     Crepuscular,Omnivore,Terrestrial,Altricial,Nom...   \n",
              "3     Carnivore,Piscivores,Aquatic,Precocial,Natator...   \n",
              "4     Diurnal,Carnivore,Aquatic,Precocial,Cosmopolit...   \n",
              "...                                                 ...   \n",
              "1801  Nocturnal,Omnivore,Semiaquatic,Waterfowl,Terre...   \n",
              "1802  Diurnal,Carnivore,Insectivores,Arboreal,Glidin...   \n",
              "1803  Crepuscular,Carnivore,Insectivores,Herbivore,F...   \n",
              "1804  Insectivores,Granivore,Terrestrial,Altricial,S...   \n",
              "1805  Diurnal,Carnivore,Arboreal,Predator,Soaring bi...   \n",
              "\n",
              "                                           Distribution  \\\n",
              "0     {'Geography': {'Continents': 'Asia, Europe, No...   \n",
              "1     {'Geography': {'Continents': 'Asia', 'Subconti...   \n",
              "2     {'Geography': {'Continents': 'Asia, Europe, No...   \n",
              "3     {'Geography': {'Continents': 'Africa, South Am...   \n",
              "4     {'Geography': {'Continents': 'Africa, Oceania,...   \n",
              "...                                                 ...   \n",
              "1801  {'Geography': {'Continents': 'Oceania', 'Count...   \n",
              "1802  {'Geography': {'Continents': 'Africa', 'Subcon...   \n",
              "1803  {'Geography': {'Continents': 'North America', ...   \n",
              "1804  {'Geography': {'Continents': 'Oceania', 'Count...   \n",
              "1805  {'Geography': {'Continents': 'North America, S...   \n",
              "\n",
              "                                                 Habits  \\\n",
              "0     {'Group name': 'pack, route, rout', 'Lifestyle...   \n",
              "1     {'Lifestyle': 'Cursorial, Terrestrial, Ambush ...   \n",
              "2     {'Group name': 'sloth, sleuth', 'Lifestyle': '...   \n",
              "3     {'Group name': 'pod, gam, herd, school, mod', ...   \n",
              "4     {'Group name': 'pod, gam, herd, school, mod', ...   \n",
              "...                                                 ...   \n",
              "1801  {'Group name': 'coil, diving, knob, spring', '...   \n",
              "1802  {'Group name': 'flight, gulp, herd, kettle, ri...   \n",
              "1803  {'Lifestyle': 'Arboreal, Terrestrial, Altricia...   \n",
              "1804  {'Lifestyle': 'Terrestrial, Altricial,', 'Seas...   \n",
              "1805  {'Group name': 'aerie, boil, cast, kettle, lea...   \n",
              "\n",
              "                                               Diet  \\\n",
              "0                              Carnivore,,Scavenger   \n",
              "1                                         Carnivore   \n",
              "2                                          Omnivore   \n",
              "3                             Carnivore,,Piscivores   \n",
              "4                                         Carnivore   \n",
              "...                                             ...   \n",
              "1801                                       Omnivore   \n",
              "1802                        Carnivore,,Insectivores   \n",
              "1803  Carnivore,,Insectivores,,Herbivore,,Frugivore   \n",
              "1804                        Insectivores,,Granivore   \n",
              "1805                                      Carnivore   \n",
              "\n",
              "                                          Mating_Habits  \\\n",
              "0     {'Mating behavior': 'Monogamy', 'Reproduction ...   \n",
              "1     {'Mating behavior': 'Polygyny', 'Reproduction ...   \n",
              "2     {'Mating behavior': 'Polygynandry,', 'Reproduc...   \n",
              "3     {'Mating behavior': 'Monogamy', 'Reproduction ...   \n",
              "4     {'Mating behavior': 'Polygynandry', 'Reproduct...   \n",
              "...                                                 ...   \n",
              "1801  {'Mating behavior': 'Monogamy', 'Reproduction ...   \n",
              "1802  {'Reproduction season': 'begins in late Septem...   \n",
              "1803  {'Mating behavior': 'Monogamy', 'Reproduction ...   \n",
              "1804  {'Mating behavior': 'Serial monogamy', 'Reprod...   \n",
              "1805  {'Reproduction season': 'late February-late Ma...   \n",
              "\n",
              "                                             Population  \n",
              "0     {'Population trend': 'Stable', 'Population sta...  \n",
              "1     {'Population trend': 'Decreasing', 'Population...  \n",
              "2     {'Population trend': 'Stable', 'Population sta...  \n",
              "3     {'Population trend': 'Increasing', 'Population...  \n",
              "4          {'Population status': 'Data deficient (DD)'}  \n",
              "...                                                 ...  \n",
              "1801  {'Population trend': 'Increasing', 'Population...  \n",
              "1802  {'Population trend': 'Decreasing', 'Population...  \n",
              "1803  {'Population trend': 'Decreasing', 'Population...  \n",
              "1804  {'Population trend': 'Decreasing', 'Population...  \n",
              "1805  {'Population trend': 'Decreasing', 'Population...  \n",
              "\n",
              "[1806 rows x 23 columns]"
            ],
            "text/html": [
              "\n",
              "  <div id=\"df-43b22941-1012-408f-9b45-7630aecb271b\">\n",
              "    <div class=\"colab-df-container\">\n",
              "      <div>\n",
              "<style scoped>\n",
              "    .dataframe tbody tr th:only-of-type {\n",
              "        vertical-align: middle;\n",
              "    }\n",
              "\n",
              "    .dataframe tbody tr th {\n",
              "        vertical-align: top;\n",
              "    }\n",
              "\n",
              "    .dataframe thead th {\n",
              "        text-align: right;\n",
              "    }\n",
              "</style>\n",
              "<table border=\"1\" class=\"dataframe\">\n",
              "  <thead>\n",
              "    <tr style=\"text-align: right;\">\n",
              "      <th></th>\n",
              "      <th>index</th>\n",
              "      <th>Name</th>\n",
              "      <th>Kingdom</th>\n",
              "      <th>Phylum</th>\n",
              "      <th>Subphylum</th>\n",
              "      <th>Class</th>\n",
              "      <th>Order</th>\n",
              "      <th>Suborder</th>\n",
              "      <th>Family</th>\n",
              "      <th>Genus</th>\n",
              "      <th>...</th>\n",
              "      <th>Top speed</th>\n",
              "      <th>Weight</th>\n",
              "      <th>Height</th>\n",
              "      <th>Length</th>\n",
              "      <th>Attributes</th>\n",
              "      <th>Distribution</th>\n",
              "      <th>Habits</th>\n",
              "      <th>Diet</th>\n",
              "      <th>Mating_Habits</th>\n",
              "      <th>Population</th>\n",
              "    </tr>\n",
              "  </thead>\n",
              "  <tbody>\n",
              "    <tr>\n",
              "      <th>0</th>\n",
              "      <td>0</td>\n",
              "      <td>Grey Wolf</td>\n",
              "      <td>Animalia</td>\n",
              "      <td>Chordata</td>\n",
              "      <td>Vertebrata</td>\n",
              "      <td>Mammalia</td>\n",
              "      <td>Carnivora</td>\n",
              "      <td>Caniformia</td>\n",
              "      <td>Canidae</td>\n",
              "      <td>Canis</td>\n",
              "      <td>...</td>\n",
              "      <td>75 km/h</td>\n",
              "      <td>16-60 kg</td>\n",
              "      <td>80-85 cm</td>\n",
              "      <td>105-160 cm</td>\n",
              "      <td>Nocturnal,Carnivore,Scavenger,Terrestrial,Curs...</td>\n",
              "      <td>{'Geography': {'Continents': 'Asia, Europe, No...</td>\n",
              "      <td>{'Group name': 'pack, route, rout', 'Lifestyle...</td>\n",
              "      <td>Carnivore,,Scavenger</td>\n",
              "      <td>{'Mating behavior': 'Monogamy', 'Reproduction ...</td>\n",
              "      <td>{'Population trend': 'Stable', 'Population sta...</td>\n",
              "    </tr>\n",
              "    <tr>\n",
              "      <th>1</th>\n",
              "      <td>1</td>\n",
              "      <td>Tiger</td>\n",
              "      <td>Animalia</td>\n",
              "      <td>Chordata</td>\n",
              "      <td>Vertebrata</td>\n",
              "      <td>Mammalia</td>\n",
              "      <td>Carnivora</td>\n",
              "      <td>Feliformia</td>\n",
              "      <td>Felidae</td>\n",
              "      <td>Panthera</td>\n",
              "      <td>...</td>\n",
              "      <td>96 km/h</td>\n",
              "      <td>65-306 kg</td>\n",
              "      <td>NaN</td>\n",
              "      <td>200-390 cm</td>\n",
              "      <td>Nocturnal,Carnivore,Cursorial,Terrestrial,Ambu...</td>\n",
              "      <td>{'Geography': {'Continents': 'Asia', 'Subconti...</td>\n",
              "      <td>{'Lifestyle': 'Cursorial, Terrestrial, Ambush ...</td>\n",
              "      <td>Carnivore</td>\n",
              "      <td>{'Mating behavior': 'Polygyny', 'Reproduction ...</td>\n",
              "      <td>{'Population trend': 'Decreasing', 'Population...</td>\n",
              "    </tr>\n",
              "    <tr>\n",
              "      <th>2</th>\n",
              "      <td>2</td>\n",
              "      <td>Brown Bear</td>\n",
              "      <td>Animalia</td>\n",
              "      <td>Chordata</td>\n",
              "      <td>Vertebrata</td>\n",
              "      <td>Mammalia</td>\n",
              "      <td>Carnivora</td>\n",
              "      <td>Caniformia</td>\n",
              "      <td>Ursidae</td>\n",
              "      <td>Ursus</td>\n",
              "      <td>...</td>\n",
              "      <td>56 km/h</td>\n",
              "      <td>100-635 kg</td>\n",
              "      <td>70-153 cm</td>\n",
              "      <td>1.4-2.8 m</td>\n",
              "      <td>Crepuscular,Omnivore,Terrestrial,Altricial,Nom...</td>\n",
              "      <td>{'Geography': {'Continents': 'Asia, Europe, No...</td>\n",
              "      <td>{'Group name': 'sloth, sleuth', 'Lifestyle': '...</td>\n",
              "      <td>Omnivore</td>\n",
              "      <td>{'Mating behavior': 'Polygynandry,', 'Reproduc...</td>\n",
              "      <td>{'Population trend': 'Stable', 'Population sta...</td>\n",
              "    </tr>\n",
              "    <tr>\n",
              "      <th>3</th>\n",
              "      <td>3</td>\n",
              "      <td>Blue Whale</td>\n",
              "      <td>Animalia</td>\n",
              "      <td>Chordata</td>\n",
              "      <td>Vertebrata</td>\n",
              "      <td>Mammalia</td>\n",
              "      <td>Artiodactyla</td>\n",
              "      <td>NaN</td>\n",
              "      <td>Balaenopteridae</td>\n",
              "      <td>Balaenoptera</td>\n",
              "      <td>...</td>\n",
              "      <td>20 km/h</td>\n",
              "      <td>100-160 t</td>\n",
              "      <td>NaN</td>\n",
              "      <td>25-30 m</td>\n",
              "      <td>Carnivore,Piscivores,Aquatic,Precocial,Natator...</td>\n",
              "      <td>{'Geography': {'Continents': 'Africa, South Am...</td>\n",
              "      <td>{'Group name': 'pod, gam, herd, school, mod', ...</td>\n",
              "      <td>Carnivore,,Piscivores</td>\n",
              "      <td>{'Mating behavior': 'Monogamy', 'Reproduction ...</td>\n",
              "      <td>{'Population trend': 'Increasing', 'Population...</td>\n",
              "    </tr>\n",
              "    <tr>\n",
              "      <th>4</th>\n",
              "      <td>4</td>\n",
              "      <td>Killer Whale</td>\n",
              "      <td>Animalia</td>\n",
              "      <td>Chordata</td>\n",
              "      <td>Vertebrata</td>\n",
              "      <td>Mammalia</td>\n",
              "      <td>Artiodactyla</td>\n",
              "      <td>NaN</td>\n",
              "      <td>Delphinidae</td>\n",
              "      <td>Orcinus</td>\n",
              "      <td>...</td>\n",
              "      <td>45 km/h</td>\n",
              "      <td>3-6 t</td>\n",
              "      <td>NaN</td>\n",
              "      <td>6-9 m</td>\n",
              "      <td>Diurnal,Carnivore,Aquatic,Precocial,Cosmopolit...</td>\n",
              "      <td>{'Geography': {'Continents': 'Africa, Oceania,...</td>\n",
              "      <td>{'Group name': 'pod, gam, herd, school, mod', ...</td>\n",
              "      <td>Carnivore</td>\n",
              "      <td>{'Mating behavior': 'Polygynandry', 'Reproduct...</td>\n",
              "      <td>{'Population status': 'Data deficient (DD)'}</td>\n",
              "    </tr>\n",
              "    <tr>\n",
              "      <th>...</th>\n",
              "      <td>...</td>\n",
              "      <td>...</td>\n",
              "      <td>...</td>\n",
              "      <td>...</td>\n",
              "      <td>...</td>\n",
              "      <td>...</td>\n",
              "      <td>...</td>\n",
              "      <td>...</td>\n",
              "      <td>...</td>\n",
              "      <td>...</td>\n",
              "      <td>...</td>\n",
              "      <td>...</td>\n",
              "      <td>...</td>\n",
              "      <td>...</td>\n",
              "      <td>...</td>\n",
              "      <td>...</td>\n",
              "      <td>...</td>\n",
              "      <td>...</td>\n",
              "      <td>...</td>\n",
              "      <td>...</td>\n",
              "      <td>...</td>\n",
              "    </tr>\n",
              "    <tr>\n",
              "      <th>1801</th>\n",
              "      <td>21645</td>\n",
              "      <td>Brown Teal</td>\n",
              "      <td>Animalia</td>\n",
              "      <td>Chordata</td>\n",
              "      <td>NaN</td>\n",
              "      <td>Aves</td>\n",
              "      <td>Anseriformes</td>\n",
              "      <td>NaN</td>\n",
              "      <td>Anatidae</td>\n",
              "      <td>Anas</td>\n",
              "      <td>...</td>\n",
              "      <td>NaN</td>\n",
              "      <td>530-700 g</td>\n",
              "      <td>NaN</td>\n",
              "      <td>48 cm</td>\n",
              "      <td>Nocturnal,Omnivore,Semiaquatic,Waterfowl,Terre...</td>\n",
              "      <td>{'Geography': {'Continents': 'Oceania', 'Count...</td>\n",
              "      <td>{'Group name': 'coil, diving, knob, spring', '...</td>\n",
              "      <td>Omnivore</td>\n",
              "      <td>{'Mating behavior': 'Monogamy', 'Reproduction ...</td>\n",
              "      <td>{'Population trend': 'Increasing', 'Population...</td>\n",
              "    </tr>\n",
              "    <tr>\n",
              "      <th>1802</th>\n",
              "      <td>21710</td>\n",
              "      <td>Blue Swallow</td>\n",
              "      <td>Animalia</td>\n",
              "      <td>Chordata</td>\n",
              "      <td>NaN</td>\n",
              "      <td>Aves</td>\n",
              "      <td>Passeriformes</td>\n",
              "      <td>NaN</td>\n",
              "      <td>Hirundinidae</td>\n",
              "      <td>Hirundo</td>\n",
              "      <td>...</td>\n",
              "      <td>NaN</td>\n",
              "      <td>12-16 g</td>\n",
              "      <td>NaN</td>\n",
              "      <td>18-25 cm</td>\n",
              "      <td>Diurnal,Carnivore,Insectivores,Arboreal,Glidin...</td>\n",
              "      <td>{'Geography': {'Continents': 'Africa', 'Subcon...</td>\n",
              "      <td>{'Group name': 'flight, gulp, herd, kettle, ri...</td>\n",
              "      <td>Carnivore,,Insectivores</td>\n",
              "      <td>{'Reproduction season': 'begins in late Septem...</td>\n",
              "      <td>{'Population trend': 'Decreasing', 'Population...</td>\n",
              "    </tr>\n",
              "    <tr>\n",
              "      <th>1803</th>\n",
              "      <td>22076</td>\n",
              "      <td>Blue-Crowned Motmot</td>\n",
              "      <td>Animalia</td>\n",
              "      <td>Chordata</td>\n",
              "      <td>NaN</td>\n",
              "      <td>Aves</td>\n",
              "      <td>Coraciiformes</td>\n",
              "      <td>NaN</td>\n",
              "      <td>Momotidae</td>\n",
              "      <td>Momotus</td>\n",
              "      <td>...</td>\n",
              "      <td>NaN</td>\n",
              "      <td>77-175 g</td>\n",
              "      <td>NaN</td>\n",
              "      <td>38-43 cm</td>\n",
              "      <td>Crepuscular,Carnivore,Insectivores,Herbivore,F...</td>\n",
              "      <td>{'Geography': {'Continents': 'North America', ...</td>\n",
              "      <td>{'Lifestyle': 'Arboreal, Terrestrial, Altricia...</td>\n",
              "      <td>Carnivore,,Insectivores,,Herbivore,,Frugivore</td>\n",
              "      <td>{'Mating behavior': 'Monogamy', 'Reproduction ...</td>\n",
              "      <td>{'Population trend': 'Decreasing', 'Population...</td>\n",
              "    </tr>\n",
              "    <tr>\n",
              "      <th>1804</th>\n",
              "      <td>22447</td>\n",
              "      <td>Crested Bellbird</td>\n",
              "      <td>Animalia</td>\n",
              "      <td>Chordata</td>\n",
              "      <td>NaN</td>\n",
              "      <td>Aves</td>\n",
              "      <td>Passeriformes</td>\n",
              "      <td>NaN</td>\n",
              "      <td>Oreoicidae</td>\n",
              "      <td>Oreoica</td>\n",
              "      <td>...</td>\n",
              "      <td>NaN</td>\n",
              "      <td>63 g</td>\n",
              "      <td>NaN</td>\n",
              "      <td>19-23 cm</td>\n",
              "      <td>Insectivores,Granivore,Terrestrial,Altricial,S...</td>\n",
              "      <td>{'Geography': {'Continents': 'Oceania', 'Count...</td>\n",
              "      <td>{'Lifestyle': 'Terrestrial, Altricial,', 'Seas...</td>\n",
              "      <td>Insectivores,,Granivore</td>\n",
              "      <td>{'Mating behavior': 'Serial monogamy', 'Reprod...</td>\n",
              "      <td>{'Population trend': 'Decreasing', 'Population...</td>\n",
              "    </tr>\n",
              "    <tr>\n",
              "      <th>1805</th>\n",
              "      <td>23022</td>\n",
              "      <td>Common Black Hawk</td>\n",
              "      <td>Animalia</td>\n",
              "      <td>Chordata</td>\n",
              "      <td>NaN</td>\n",
              "      <td>Aves</td>\n",
              "      <td>Accipitriformes</td>\n",
              "      <td>NaN</td>\n",
              "      <td>Accipitridae</td>\n",
              "      <td>Buteogallus</td>\n",
              "      <td>...</td>\n",
              "      <td>NaN</td>\n",
              "      <td>793-1200 g</td>\n",
              "      <td>NaN</td>\n",
              "      <td>43-53 cm</td>\n",
              "      <td>Diurnal,Carnivore,Arboreal,Predator,Soaring bi...</td>\n",
              "      <td>{'Geography': {'Continents': 'North America, S...</td>\n",
              "      <td>{'Group name': 'aerie, boil, cast, kettle, lea...</td>\n",
              "      <td>Carnivore</td>\n",
              "      <td>{'Reproduction season': 'late February-late Ma...</td>\n",
              "      <td>{'Population trend': 'Decreasing', 'Population...</td>\n",
              "    </tr>\n",
              "  </tbody>\n",
              "</table>\n",
              "<p>1806 rows × 23 columns</p>\n",
              "</div>\n",
              "      <button class=\"colab-df-convert\" onclick=\"convertToInteractive('df-43b22941-1012-408f-9b45-7630aecb271b')\"\n",
              "              title=\"Convert this dataframe to an interactive table.\"\n",
              "              style=\"display:none;\">\n",
              "        \n",
              "  <svg xmlns=\"http://www.w3.org/2000/svg\" height=\"24px\"viewBox=\"0 0 24 24\"\n",
              "       width=\"24px\">\n",
              "    <path d=\"M0 0h24v24H0V0z\" fill=\"none\"/>\n",
              "    <path d=\"M18.56 5.44l.94 2.06.94-2.06 2.06-.94-2.06-.94-.94-2.06-.94 2.06-2.06.94zm-11 1L8.5 8.5l.94-2.06 2.06-.94-2.06-.94L8.5 2.5l-.94 2.06-2.06.94zm10 10l.94 2.06.94-2.06 2.06-.94-2.06-.94-.94-2.06-.94 2.06-2.06.94z\"/><path d=\"M17.41 7.96l-1.37-1.37c-.4-.4-.92-.59-1.43-.59-.52 0-1.04.2-1.43.59L10.3 9.45l-7.72 7.72c-.78.78-.78 2.05 0 2.83L4 21.41c.39.39.9.59 1.41.59.51 0 1.02-.2 1.41-.59l7.78-7.78 2.81-2.81c.8-.78.8-2.07 0-2.86zM5.41 20L4 18.59l7.72-7.72 1.47 1.35L5.41 20z\"/>\n",
              "  </svg>\n",
              "      </button>\n",
              "      \n",
              "  <style>\n",
              "    .colab-df-container {\n",
              "      display:flex;\n",
              "      flex-wrap:wrap;\n",
              "      gap: 12px;\n",
              "    }\n",
              "\n",
              "    .colab-df-convert {\n",
              "      background-color: #E8F0FE;\n",
              "      border: none;\n",
              "      border-radius: 50%;\n",
              "      cursor: pointer;\n",
              "      display: none;\n",
              "      fill: #1967D2;\n",
              "      height: 32px;\n",
              "      padding: 0 0 0 0;\n",
              "      width: 32px;\n",
              "    }\n",
              "\n",
              "    .colab-df-convert:hover {\n",
              "      background-color: #E2EBFA;\n",
              "      box-shadow: 0px 1px 2px rgba(60, 64, 67, 0.3), 0px 1px 3px 1px rgba(60, 64, 67, 0.15);\n",
              "      fill: #174EA6;\n",
              "    }\n",
              "\n",
              "    [theme=dark] .colab-df-convert {\n",
              "      background-color: #3B4455;\n",
              "      fill: #D2E3FC;\n",
              "    }\n",
              "\n",
              "    [theme=dark] .colab-df-convert:hover {\n",
              "      background-color: #434B5C;\n",
              "      box-shadow: 0px 1px 3px 1px rgba(0, 0, 0, 0.15);\n",
              "      filter: drop-shadow(0px 1px 2px rgba(0, 0, 0, 0.3));\n",
              "      fill: #FFFFFF;\n",
              "    }\n",
              "  </style>\n",
              "\n",
              "      <script>\n",
              "        const buttonEl =\n",
              "          document.querySelector('#df-43b22941-1012-408f-9b45-7630aecb271b button.colab-df-convert');\n",
              "        buttonEl.style.display =\n",
              "          google.colab.kernel.accessAllowed ? 'block' : 'none';\n",
              "\n",
              "        async function convertToInteractive(key) {\n",
              "          const element = document.querySelector('#df-43b22941-1012-408f-9b45-7630aecb271b');\n",
              "          const dataTable =\n",
              "            await google.colab.kernel.invokeFunction('convertToInteractive',\n",
              "                                                     [key], {});\n",
              "          if (!dataTable) return;\n",
              "\n",
              "          const docLinkHtml = 'Like what you see? Visit the ' +\n",
              "            '<a target=\"_blank\" href=https://colab.research.google.com/notebooks/data_table.ipynb>data table notebook</a>'\n",
              "            + ' to learn more about interactive tables.';\n",
              "          element.innerHTML = '';\n",
              "          dataTable['output_type'] = 'display_data';\n",
              "          await google.colab.output.renderOutput(dataTable, element);\n",
              "          const docLink = document.createElement('div');\n",
              "          docLink.innerHTML = docLinkHtml;\n",
              "          element.appendChild(docLink);\n",
              "        }\n",
              "      </script>\n",
              "    </div>\n",
              "  </div>\n",
              "  "
            ]
          },
          "metadata": {},
          "execution_count": 10
        }
      ]
    },
    {
      "cell_type": "code",
      "source": [
        "x = df1['Population size'].str.replace(',','')\n",
        "\n",
        "x"
      ],
      "metadata": {
        "colab": {
          "base_uri": "https://localhost:8080/"
        },
        "id": "L6lZG-tkie8X",
        "outputId": "aa6f7868-9bae-4985-d521-a18d48e2f98c"
      },
      "execution_count": null,
      "outputs": [
        {
          "output_type": "execute_result",
          "data": {
            "text/plain": [
              "0           400000\n",
              "1        2154-3159\n",
              "2           200000\n",
              "3       10-25 Thou\n",
              "4            50000\n",
              "           ...    \n",
              "1801     1500-2500\n",
              "1802     1500-4000\n",
              "1803      5-50 mln\n",
              "1804             U\n",
              "1805         2 mln\n",
              "Name: Population size, Length: 1806, dtype: object"
            ]
          },
          "metadata": {},
          "execution_count": 11
        }
      ]
    },
    {
      "cell_type": "code",
      "source": [
        "y = x.str.split('-')\n",
        "# df1['Population size'] = df1['Population size'].str.strip(',')\n",
        "y"
      ],
      "metadata": {
        "colab": {
          "base_uri": "https://localhost:8080/"
        },
        "id": "Av_UrLx_azgw",
        "outputId": "45af879f-1080-438b-d808-98da28d7eb4f"
      },
      "execution_count": null,
      "outputs": [
        {
          "output_type": "execute_result",
          "data": {
            "text/plain": [
              "0            [400000]\n",
              "1        [2154, 3159]\n",
              "2            [200000]\n",
              "3       [10, 25 Thou]\n",
              "4             [50000]\n",
              "            ...      \n",
              "1801     [1500, 2500]\n",
              "1802     [1500, 4000]\n",
              "1803      [5, 50 mln]\n",
              "1804              [U]\n",
              "1805          [2 mln]\n",
              "Name: Population size, Length: 1806, dtype: object"
            ]
          },
          "metadata": {},
          "execution_count": 12
        }
      ]
    },
    {
      "cell_type": "code",
      "source": [
        "x"
      ],
      "metadata": {
        "colab": {
          "base_uri": "https://localhost:8080/"
        },
        "id": "bDgL-pSr2-Y3",
        "outputId": "2b7a11b2-2398-4124-dee4-01f9c8cb07ba"
      },
      "execution_count": null,
      "outputs": [
        {
          "output_type": "execute_result",
          "data": {
            "text/plain": [
              "0           400000\n",
              "1        2154-3159\n",
              "2           200000\n",
              "3       10-25 Thou\n",
              "4            50000\n",
              "           ...    \n",
              "1801     1500-2500\n",
              "1802     1500-4000\n",
              "1803      5-50 mln\n",
              "1804             U\n",
              "1805         2 mln\n",
              "Name: Population size, Length: 1806, dtype: object"
            ]
          },
          "metadata": {},
          "execution_count": 13
        }
      ]
    },
    {
      "cell_type": "code",
      "source": [
        "# FINAL ANSWER\n",
        "import regex as re\n",
        "import math\n",
        "import numpy as np\n",
        "thou = 0\n",
        "mln = 0\n",
        "onlyNum = 0\n",
        "oth = 0\n",
        "numchar = 0\n",
        "numD = 0\n",
        "oth1 = 0\n",
        "allc = 0\n",
        "for i in range(df1.shape[0]):\n",
        "  if re.search('[0-9]',x[i]):\n",
        "    if re.search('[tTKk]',x[i]):\n",
        "      #print(x[i],i)\n",
        "      if '-' in x[i]:\n",
        "        num = re.sub('[a-zA-Z]','',x[i])\n",
        "        a = [float(i) for i in num.split('-')]\n",
        "        if len(a) == 2:\n",
        "          if float(a[0])> float(a[1]):\n",
        "            #print(x[i],i)\n",
        "            x[i] = ((a[0]+a[1]*1000)/2)\n",
        "            \n",
        "          else:\n",
        "            \n",
        "            x[i] = ((a[0]+a[1])*1000/2)\n",
        "\n",
        "      else:\n",
        "        num = re.sub('[a-zA-Z]','',x[i])\n",
        "        x[i] = (float(num)*1000)\n",
        "      #print(a)\n",
        "      #print(num*1000/2)\n",
        "      thou+=1\n",
        "    elif re.search('[mM]',x[i]):\n",
        "      #a = (re.findall(r'\\d+',x[i]))\n",
        "      #print(int(a[0]),int(a[1]))\n",
        "      \n",
        "      num = re.sub('[a-zA-Z]','',x[i])\n",
        "      a = [float(i) for i in num.split('-')]\n",
        "        # print(a)\n",
        "        #print(type(a[0]))\n",
        "        #a = a.replace('[a-zA-z]','')\n",
        "      if len(a) == 2:\n",
        "        if (a[0])>(a[1]):\n",
        "          \n",
        "          x[i] = ((a[0]+a[1]*1000000)/2)\n",
        "        else:\n",
        "          \n",
        "          x[i] = ((a[0]+a[1])*1000000/2)\n",
        "      else:\n",
        "        num = re.sub('[a-zA-Z]','',x[i])\n",
        "        x[i] = float(num)*1000000\n",
        "      mln+=1\n",
        "    elif re.search('[a-zA-z0-9-]',x[i]):\n",
        "      if '-' in x[i]:\n",
        "        a = [float(i) for i in x[i].split('-')]\n",
        "        x[i] =((a[0]+a[1])/2)\n",
        "      elif re.search('[a-zA-Z]',x[i]):\n",
        "        x[i] = (re.sub('[a-zA-Z]','',x[i]))\n",
        "        #print(x[i])\n",
        "      else:\n",
        "        \n",
        "        print(x[i])\n",
        "      numchar+=1\n",
        "\n",
        "    else:\n",
        "      print(x[i])\n",
        "  \n",
        "    allc+=1\n",
        "\n",
        "  elif re.search('[a-zA-Z]',x[i]):\n",
        "    #print(i)\n",
        "    x[i] = np.nan\n",
        "    oth +=1\n",
        "  else:\n",
        "    \n",
        "    print(x[i])\n"
      ],
      "metadata": {
        "colab": {
          "base_uri": "https://localhost:8080/"
        },
        "id": "uFHp_U6w7uBp",
        "outputId": "9a2f76dc-854a-4bd5-b4eb-377b2c72ac0a"
      },
      "execution_count": null,
      "outputs": [
        {
          "output_type": "stream",
          "name": "stdout",
          "text": [
            "400000\n",
            "200000\n",
            "50000\n",
            "1800\n",
            "20000\n",
            "300000\n",
            "15000\n",
            "6674\n",
            "80000\n",
            "7500\n",
            "500000\n",
            "6600\n",
            "136000\n",
            "2890410\n",
            "60000\n",
            "126000\n",
            "18064\n",
            "85000\n",
            "20000\n",
            "10000\n",
            "17000\n",
            "58000\n",
            "5754\n",
            "347273\n",
            "50000\n",
            "6573\n",
            "100000\n",
            "10000\n",
            "70000\n",
            "27264\n",
            "1988\n",
            "440000\n",
            "15000000\n",
            "30\n",
            "26500\n",
            "100000\n",
            "50000\n",
            "114431\n",
            "156\n",
            "68\n",
            "53000\n",
            "206\n",
            "100000\n",
            "197\n",
            "1220\n",
            "4000\n",
            "5000\n",
            "750000\n",
            "55000\n",
            "7300\n",
            "950\n",
            "136000\n",
            "482000\n",
            "15000\n",
            "373000\n",
            "15000\n",
            "1550000\n",
            "200000\n",
            "387646\n",
            "108200\n",
            "10000\n",
            "400000\n",
            "8000\n",
            "16057783\n",
            "100\n",
            "80000\n",
            "1209\n",
            "7500\n",
            "550000\n",
            "97562\n",
            "325000\n",
            "75000\n",
            "700000\n",
            "66600\n",
            "600000\n",
            "4001\n",
            "10000\n",
            "36500\n",
            "680000\n",
            "160867\n",
            "5000\n",
            "200000\n",
            "70000\n",
            "362000\n",
            "95000\n",
            "1500000\n",
            "42000\n",
            "9000\n",
            "20000\n",
            "900000\n",
            "18420000\n",
            "500\n",
            "300000\n",
            "6000\n",
            "100000\n",
            "675000\n",
            "18000\n",
            "158750\n",
            "115\n",
            "7000\n",
            "2348393\n",
            "2500\n",
            "5500\n",
            "200000\n",
            "50000\n",
            "76000\n",
            "170000\n",
            "192\n",
            "10000\n",
            "118000\n",
            "21500\n",
            "750000\n",
            "445000\n",
            "971000\n",
            "100 000\n",
            "3500\n",
            "130000\n",
            "120000\n",
            "2120000\n",
            "639\n",
            "140000\n",
            "100000\n",
            "278000\n",
            "18000\n",
            "7085\n",
            "1340000\n",
            "457000\n",
            "640000\n",
            "2000\n",
            "2250\n",
            "4383203\n",
            "10000\n",
            "11000\n",
            "1000\n",
            "1000\n",
            "80000\n",
            "50000\n",
            "1500\n",
            "240000\n",
            "2000\n",
            "515000\n",
            "150000\n",
            "250\n",
            "200000\n",
            "13000\n",
            "9999\n",
            "75000\n",
            "250\n",
            "238000\n",
            "630\n",
            "250\n",
            "36000\n",
            "62000\n",
            "160000\n",
            "1000\n",
            "101000\n",
            "10000\n",
            "50000\n",
            "37700\n",
            "30000\n",
            "3000\n",
            "17000\n",
            "365000\n",
            "1000\n",
            "700\n",
            "20000\n",
            "54000\n",
            "32000\n",
            "180\n",
            "1300\n",
            "500\n",
            "170000\n",
            "95000\n",
            "50\n",
            "100000\n",
            "300000\n",
            "855\n",
            "8000\n",
            "1000\n",
            "3014\n",
            "<100000\n",
            "23000\n",
            "50000\n",
            "1674000\n",
            "100000\n",
            "443\n",
            "677000\n",
            "100000\n",
            "7470\n",
            "250000\n",
            "595000\n",
            "149\n",
            "100000\n",
            "650000\n",
            "210000000\n",
            "93\n",
            "10000\n",
            "28000\n",
            "110\n",
            "6423\n",
            "1000000\n",
            "6500\n",
            "20100\n",
            "500000\n",
            "1800000\n",
            "7580000\n",
            "41700\n",
            "603\n",
            "46225\n",
            "83000\n",
            "14000000\n",
            "774000\n",
            "2300\n",
            "450000\n",
            "650000\n",
            "560000\n",
            "6000000\n",
            "2500\n",
            "120000\n",
            "180000\n",
            "150000\n",
            "880000\n",
            "1200\n",
            "30000\n",
            "300000\n",
            "180000\n",
            "100000\n",
            "22000\n",
            "143000\n",
            "700000\n",
            "15000\n",
            "580000\n",
            "150000\n",
            "270000\n",
            "8500\n",
            "1500\n",
            "3400\n",
            "1694\n",
            "300000\n",
            "4700\n",
            "450000\n",
            "50\n",
            "106000\n",
            "10000000\n",
            "197000\n",
            "380000\n",
            "1400000\n",
            "200000\n",
            "130000\n",
            "1602\n",
            "400000\n",
            "410000\n",
            "26550\n",
            "39000\n",
            "150000\n",
            "100000\n",
            "15000\n",
            "1800\n",
            "2200\n",
            "35000\n",
            "660000\n",
            "63000\n",
            "80000\n",
            "150000\n",
            "85000\n",
            "200000\n",
            "21350\n",
            "40000\n",
            "78000000\n",
            "30000\n",
            "1100\n",
            "7700\n",
            "1500\n",
            "200000\n",
            "400000\n",
            "360000\n",
            "240000\n"
          ]
        }
      ]
    },
    {
      "cell_type": "code",
      "source": [
        "# VERIFYING THE FINAL ANSWER\n",
        "thou + mln +  oth + numchar "
      ],
      "metadata": {
        "colab": {
          "base_uri": "https://localhost:8080/"
        },
        "id": "HV0-WM0odGNF",
        "outputId": "eb989762-6862-4c06-a75f-d7ae06834733"
      },
      "execution_count": null,
      "outputs": [
        {
          "output_type": "execute_result",
          "data": {
            "text/plain": [
              "1806"
            ]
          },
          "metadata": {},
          "execution_count": 15
        }
      ]
    },
    {
      "cell_type": "code",
      "source": [
        "df1['Avg_Pop_Size'] = x"
      ],
      "metadata": {
        "id": "d9SYLjMrdcIq"
      },
      "execution_count": null,
      "outputs": []
    },
    {
      "cell_type": "code",
      "source": [
        "df1"
      ],
      "metadata": {
        "colab": {
          "base_uri": "https://localhost:8080/",
          "height": 1000
        },
        "id": "ztnCiKmL-4Rv",
        "outputId": "6a5595f1-15c2-4ceb-fa52-890488c3416f"
      },
      "execution_count": null,
      "outputs": [
        {
          "output_type": "execute_result",
          "data": {
            "text/plain": [
              "      index                 Name   Kingdom    Phylum   Subphylum     Class  \\\n",
              "0         0            Grey Wolf  Animalia  Chordata  Vertebrata  Mammalia   \n",
              "1         1                Tiger  Animalia  Chordata  Vertebrata  Mammalia   \n",
              "2         2           Brown Bear  Animalia  Chordata  Vertebrata  Mammalia   \n",
              "3         3           Blue Whale  Animalia  Chordata  Vertebrata  Mammalia   \n",
              "4         4         Killer Whale  Animalia  Chordata  Vertebrata  Mammalia   \n",
              "...     ...                  ...       ...       ...         ...       ...   \n",
              "1801  21645           Brown Teal  Animalia  Chordata         NaN      Aves   \n",
              "1802  21710         Blue Swallow  Animalia  Chordata         NaN      Aves   \n",
              "1803  22076  Blue-Crowned Motmot  Animalia  Chordata         NaN      Aves   \n",
              "1804  22447     Crested Bellbird  Animalia  Chordata         NaN      Aves   \n",
              "1805  23022    Common Black Hawk  Animalia  Chordata         NaN      Aves   \n",
              "\n",
              "                Order    Suborder           Family         Genus  ...  \\\n",
              "0           Carnivora  Caniformia          Canidae         Canis  ...   \n",
              "1           Carnivora  Feliformia          Felidae      Panthera  ...   \n",
              "2           Carnivora  Caniformia          Ursidae         Ursus  ...   \n",
              "3        Artiodactyla         NaN  Balaenopteridae  Balaenoptera  ...   \n",
              "4        Artiodactyla         NaN      Delphinidae       Orcinus  ...   \n",
              "...               ...         ...              ...           ...  ...   \n",
              "1801     Anseriformes         NaN         Anatidae          Anas  ...   \n",
              "1802    Passeriformes         NaN     Hirundinidae       Hirundo  ...   \n",
              "1803    Coraciiformes         NaN        Momotidae       Momotus  ...   \n",
              "1804    Passeriformes         NaN       Oreoicidae       Oreoica  ...   \n",
              "1805  Accipitriformes         NaN     Accipitridae   Buteogallus  ...   \n",
              "\n",
              "          Weight     Height      Length  \\\n",
              "0       16-60 kg   80-85 cm  105-160 cm   \n",
              "1      65-306 kg        NaN  200-390 cm   \n",
              "2     100-635 kg  70-153 cm   1.4-2.8 m   \n",
              "3      100-160 t        NaN     25-30 m   \n",
              "4          3-6 t        NaN       6-9 m   \n",
              "...          ...        ...         ...   \n",
              "1801   530-700 g        NaN       48 cm   \n",
              "1802     12-16 g        NaN    18-25 cm   \n",
              "1803    77-175 g        NaN    38-43 cm   \n",
              "1804        63 g        NaN    19-23 cm   \n",
              "1805  793-1200 g        NaN    43-53 cm   \n",
              "\n",
              "                                             Attributes  \\\n",
              "0     Nocturnal,Carnivore,Scavenger,Terrestrial,Curs...   \n",
              "1     Nocturnal,Carnivore,Cursorial,Terrestrial,Ambu...   \n",
              "2     Crepuscular,Omnivore,Terrestrial,Altricial,Nom...   \n",
              "3     Carnivore,Piscivores,Aquatic,Precocial,Natator...   \n",
              "4     Diurnal,Carnivore,Aquatic,Precocial,Cosmopolit...   \n",
              "...                                                 ...   \n",
              "1801  Nocturnal,Omnivore,Semiaquatic,Waterfowl,Terre...   \n",
              "1802  Diurnal,Carnivore,Insectivores,Arboreal,Glidin...   \n",
              "1803  Crepuscular,Carnivore,Insectivores,Herbivore,F...   \n",
              "1804  Insectivores,Granivore,Terrestrial,Altricial,S...   \n",
              "1805  Diurnal,Carnivore,Arboreal,Predator,Soaring bi...   \n",
              "\n",
              "                                           Distribution  \\\n",
              "0     {'Geography': {'Continents': 'Asia, Europe, No...   \n",
              "1     {'Geography': {'Continents': 'Asia', 'Subconti...   \n",
              "2     {'Geography': {'Continents': 'Asia, Europe, No...   \n",
              "3     {'Geography': {'Continents': 'Africa, South Am...   \n",
              "4     {'Geography': {'Continents': 'Africa, Oceania,...   \n",
              "...                                                 ...   \n",
              "1801  {'Geography': {'Continents': 'Oceania', 'Count...   \n",
              "1802  {'Geography': {'Continents': 'Africa', 'Subcon...   \n",
              "1803  {'Geography': {'Continents': 'North America', ...   \n",
              "1804  {'Geography': {'Continents': 'Oceania', 'Count...   \n",
              "1805  {'Geography': {'Continents': 'North America, S...   \n",
              "\n",
              "                                                 Habits  \\\n",
              "0     {'Group name': 'pack, route, rout', 'Lifestyle...   \n",
              "1     {'Lifestyle': 'Cursorial, Terrestrial, Ambush ...   \n",
              "2     {'Group name': 'sloth, sleuth', 'Lifestyle': '...   \n",
              "3     {'Group name': 'pod, gam, herd, school, mod', ...   \n",
              "4     {'Group name': 'pod, gam, herd, school, mod', ...   \n",
              "...                                                 ...   \n",
              "1801  {'Group name': 'coil, diving, knob, spring', '...   \n",
              "1802  {'Group name': 'flight, gulp, herd, kettle, ri...   \n",
              "1803  {'Lifestyle': 'Arboreal, Terrestrial, Altricia...   \n",
              "1804  {'Lifestyle': 'Terrestrial, Altricial,', 'Seas...   \n",
              "1805  {'Group name': 'aerie, boil, cast, kettle, lea...   \n",
              "\n",
              "                                               Diet  \\\n",
              "0                              Carnivore,,Scavenger   \n",
              "1                                         Carnivore   \n",
              "2                                          Omnivore   \n",
              "3                             Carnivore,,Piscivores   \n",
              "4                                         Carnivore   \n",
              "...                                             ...   \n",
              "1801                                       Omnivore   \n",
              "1802                        Carnivore,,Insectivores   \n",
              "1803  Carnivore,,Insectivores,,Herbivore,,Frugivore   \n",
              "1804                        Insectivores,,Granivore   \n",
              "1805                                      Carnivore   \n",
              "\n",
              "                                          Mating_Habits  \\\n",
              "0     {'Mating behavior': 'Monogamy', 'Reproduction ...   \n",
              "1     {'Mating behavior': 'Polygyny', 'Reproduction ...   \n",
              "2     {'Mating behavior': 'Polygynandry,', 'Reproduc...   \n",
              "3     {'Mating behavior': 'Monogamy', 'Reproduction ...   \n",
              "4     {'Mating behavior': 'Polygynandry', 'Reproduct...   \n",
              "...                                                 ...   \n",
              "1801  {'Mating behavior': 'Monogamy', 'Reproduction ...   \n",
              "1802  {'Reproduction season': 'begins in late Septem...   \n",
              "1803  {'Mating behavior': 'Monogamy', 'Reproduction ...   \n",
              "1804  {'Mating behavior': 'Serial monogamy', 'Reprod...   \n",
              "1805  {'Reproduction season': 'late February-late Ma...   \n",
              "\n",
              "                                             Population Avg_Pop_Size  \n",
              "0     {'Population trend': 'Stable', 'Population sta...       400000  \n",
              "1     {'Population trend': 'Decreasing', 'Population...       2656.5  \n",
              "2     {'Population trend': 'Stable', 'Population sta...       200000  \n",
              "3     {'Population trend': 'Increasing', 'Population...      17500.0  \n",
              "4          {'Population status': 'Data deficient (DD)'}        50000  \n",
              "...                                                 ...          ...  \n",
              "1801  {'Population trend': 'Increasing', 'Population...       2000.0  \n",
              "1802  {'Population trend': 'Decreasing', 'Population...       2750.0  \n",
              "1803  {'Population trend': 'Decreasing', 'Population...   27500000.0  \n",
              "1804  {'Population trend': 'Decreasing', 'Population...          NaN  \n",
              "1805  {'Population trend': 'Decreasing', 'Population...    2000000.0  \n",
              "\n",
              "[1806 rows x 24 columns]"
            ],
            "text/html": [
              "\n",
              "  <div id=\"df-c26c8260-db5b-404e-b904-939e31973989\">\n",
              "    <div class=\"colab-df-container\">\n",
              "      <div>\n",
              "<style scoped>\n",
              "    .dataframe tbody tr th:only-of-type {\n",
              "        vertical-align: middle;\n",
              "    }\n",
              "\n",
              "    .dataframe tbody tr th {\n",
              "        vertical-align: top;\n",
              "    }\n",
              "\n",
              "    .dataframe thead th {\n",
              "        text-align: right;\n",
              "    }\n",
              "</style>\n",
              "<table border=\"1\" class=\"dataframe\">\n",
              "  <thead>\n",
              "    <tr style=\"text-align: right;\">\n",
              "      <th></th>\n",
              "      <th>index</th>\n",
              "      <th>Name</th>\n",
              "      <th>Kingdom</th>\n",
              "      <th>Phylum</th>\n",
              "      <th>Subphylum</th>\n",
              "      <th>Class</th>\n",
              "      <th>Order</th>\n",
              "      <th>Suborder</th>\n",
              "      <th>Family</th>\n",
              "      <th>Genus</th>\n",
              "      <th>...</th>\n",
              "      <th>Weight</th>\n",
              "      <th>Height</th>\n",
              "      <th>Length</th>\n",
              "      <th>Attributes</th>\n",
              "      <th>Distribution</th>\n",
              "      <th>Habits</th>\n",
              "      <th>Diet</th>\n",
              "      <th>Mating_Habits</th>\n",
              "      <th>Population</th>\n",
              "      <th>Avg_Pop_Size</th>\n",
              "    </tr>\n",
              "  </thead>\n",
              "  <tbody>\n",
              "    <tr>\n",
              "      <th>0</th>\n",
              "      <td>0</td>\n",
              "      <td>Grey Wolf</td>\n",
              "      <td>Animalia</td>\n",
              "      <td>Chordata</td>\n",
              "      <td>Vertebrata</td>\n",
              "      <td>Mammalia</td>\n",
              "      <td>Carnivora</td>\n",
              "      <td>Caniformia</td>\n",
              "      <td>Canidae</td>\n",
              "      <td>Canis</td>\n",
              "      <td>...</td>\n",
              "      <td>16-60 kg</td>\n",
              "      <td>80-85 cm</td>\n",
              "      <td>105-160 cm</td>\n",
              "      <td>Nocturnal,Carnivore,Scavenger,Terrestrial,Curs...</td>\n",
              "      <td>{'Geography': {'Continents': 'Asia, Europe, No...</td>\n",
              "      <td>{'Group name': 'pack, route, rout', 'Lifestyle...</td>\n",
              "      <td>Carnivore,,Scavenger</td>\n",
              "      <td>{'Mating behavior': 'Monogamy', 'Reproduction ...</td>\n",
              "      <td>{'Population trend': 'Stable', 'Population sta...</td>\n",
              "      <td>400000</td>\n",
              "    </tr>\n",
              "    <tr>\n",
              "      <th>1</th>\n",
              "      <td>1</td>\n",
              "      <td>Tiger</td>\n",
              "      <td>Animalia</td>\n",
              "      <td>Chordata</td>\n",
              "      <td>Vertebrata</td>\n",
              "      <td>Mammalia</td>\n",
              "      <td>Carnivora</td>\n",
              "      <td>Feliformia</td>\n",
              "      <td>Felidae</td>\n",
              "      <td>Panthera</td>\n",
              "      <td>...</td>\n",
              "      <td>65-306 kg</td>\n",
              "      <td>NaN</td>\n",
              "      <td>200-390 cm</td>\n",
              "      <td>Nocturnal,Carnivore,Cursorial,Terrestrial,Ambu...</td>\n",
              "      <td>{'Geography': {'Continents': 'Asia', 'Subconti...</td>\n",
              "      <td>{'Lifestyle': 'Cursorial, Terrestrial, Ambush ...</td>\n",
              "      <td>Carnivore</td>\n",
              "      <td>{'Mating behavior': 'Polygyny', 'Reproduction ...</td>\n",
              "      <td>{'Population trend': 'Decreasing', 'Population...</td>\n",
              "      <td>2656.5</td>\n",
              "    </tr>\n",
              "    <tr>\n",
              "      <th>2</th>\n",
              "      <td>2</td>\n",
              "      <td>Brown Bear</td>\n",
              "      <td>Animalia</td>\n",
              "      <td>Chordata</td>\n",
              "      <td>Vertebrata</td>\n",
              "      <td>Mammalia</td>\n",
              "      <td>Carnivora</td>\n",
              "      <td>Caniformia</td>\n",
              "      <td>Ursidae</td>\n",
              "      <td>Ursus</td>\n",
              "      <td>...</td>\n",
              "      <td>100-635 kg</td>\n",
              "      <td>70-153 cm</td>\n",
              "      <td>1.4-2.8 m</td>\n",
              "      <td>Crepuscular,Omnivore,Terrestrial,Altricial,Nom...</td>\n",
              "      <td>{'Geography': {'Continents': 'Asia, Europe, No...</td>\n",
              "      <td>{'Group name': 'sloth, sleuth', 'Lifestyle': '...</td>\n",
              "      <td>Omnivore</td>\n",
              "      <td>{'Mating behavior': 'Polygynandry,', 'Reproduc...</td>\n",
              "      <td>{'Population trend': 'Stable', 'Population sta...</td>\n",
              "      <td>200000</td>\n",
              "    </tr>\n",
              "    <tr>\n",
              "      <th>3</th>\n",
              "      <td>3</td>\n",
              "      <td>Blue Whale</td>\n",
              "      <td>Animalia</td>\n",
              "      <td>Chordata</td>\n",
              "      <td>Vertebrata</td>\n",
              "      <td>Mammalia</td>\n",
              "      <td>Artiodactyla</td>\n",
              "      <td>NaN</td>\n",
              "      <td>Balaenopteridae</td>\n",
              "      <td>Balaenoptera</td>\n",
              "      <td>...</td>\n",
              "      <td>100-160 t</td>\n",
              "      <td>NaN</td>\n",
              "      <td>25-30 m</td>\n",
              "      <td>Carnivore,Piscivores,Aquatic,Precocial,Natator...</td>\n",
              "      <td>{'Geography': {'Continents': 'Africa, South Am...</td>\n",
              "      <td>{'Group name': 'pod, gam, herd, school, mod', ...</td>\n",
              "      <td>Carnivore,,Piscivores</td>\n",
              "      <td>{'Mating behavior': 'Monogamy', 'Reproduction ...</td>\n",
              "      <td>{'Population trend': 'Increasing', 'Population...</td>\n",
              "      <td>17500.0</td>\n",
              "    </tr>\n",
              "    <tr>\n",
              "      <th>4</th>\n",
              "      <td>4</td>\n",
              "      <td>Killer Whale</td>\n",
              "      <td>Animalia</td>\n",
              "      <td>Chordata</td>\n",
              "      <td>Vertebrata</td>\n",
              "      <td>Mammalia</td>\n",
              "      <td>Artiodactyla</td>\n",
              "      <td>NaN</td>\n",
              "      <td>Delphinidae</td>\n",
              "      <td>Orcinus</td>\n",
              "      <td>...</td>\n",
              "      <td>3-6 t</td>\n",
              "      <td>NaN</td>\n",
              "      <td>6-9 m</td>\n",
              "      <td>Diurnal,Carnivore,Aquatic,Precocial,Cosmopolit...</td>\n",
              "      <td>{'Geography': {'Continents': 'Africa, Oceania,...</td>\n",
              "      <td>{'Group name': 'pod, gam, herd, school, mod', ...</td>\n",
              "      <td>Carnivore</td>\n",
              "      <td>{'Mating behavior': 'Polygynandry', 'Reproduct...</td>\n",
              "      <td>{'Population status': 'Data deficient (DD)'}</td>\n",
              "      <td>50000</td>\n",
              "    </tr>\n",
              "    <tr>\n",
              "      <th>...</th>\n",
              "      <td>...</td>\n",
              "      <td>...</td>\n",
              "      <td>...</td>\n",
              "      <td>...</td>\n",
              "      <td>...</td>\n",
              "      <td>...</td>\n",
              "      <td>...</td>\n",
              "      <td>...</td>\n",
              "      <td>...</td>\n",
              "      <td>...</td>\n",
              "      <td>...</td>\n",
              "      <td>...</td>\n",
              "      <td>...</td>\n",
              "      <td>...</td>\n",
              "      <td>...</td>\n",
              "      <td>...</td>\n",
              "      <td>...</td>\n",
              "      <td>...</td>\n",
              "      <td>...</td>\n",
              "      <td>...</td>\n",
              "      <td>...</td>\n",
              "    </tr>\n",
              "    <tr>\n",
              "      <th>1801</th>\n",
              "      <td>21645</td>\n",
              "      <td>Brown Teal</td>\n",
              "      <td>Animalia</td>\n",
              "      <td>Chordata</td>\n",
              "      <td>NaN</td>\n",
              "      <td>Aves</td>\n",
              "      <td>Anseriformes</td>\n",
              "      <td>NaN</td>\n",
              "      <td>Anatidae</td>\n",
              "      <td>Anas</td>\n",
              "      <td>...</td>\n",
              "      <td>530-700 g</td>\n",
              "      <td>NaN</td>\n",
              "      <td>48 cm</td>\n",
              "      <td>Nocturnal,Omnivore,Semiaquatic,Waterfowl,Terre...</td>\n",
              "      <td>{'Geography': {'Continents': 'Oceania', 'Count...</td>\n",
              "      <td>{'Group name': 'coil, diving, knob, spring', '...</td>\n",
              "      <td>Omnivore</td>\n",
              "      <td>{'Mating behavior': 'Monogamy', 'Reproduction ...</td>\n",
              "      <td>{'Population trend': 'Increasing', 'Population...</td>\n",
              "      <td>2000.0</td>\n",
              "    </tr>\n",
              "    <tr>\n",
              "      <th>1802</th>\n",
              "      <td>21710</td>\n",
              "      <td>Blue Swallow</td>\n",
              "      <td>Animalia</td>\n",
              "      <td>Chordata</td>\n",
              "      <td>NaN</td>\n",
              "      <td>Aves</td>\n",
              "      <td>Passeriformes</td>\n",
              "      <td>NaN</td>\n",
              "      <td>Hirundinidae</td>\n",
              "      <td>Hirundo</td>\n",
              "      <td>...</td>\n",
              "      <td>12-16 g</td>\n",
              "      <td>NaN</td>\n",
              "      <td>18-25 cm</td>\n",
              "      <td>Diurnal,Carnivore,Insectivores,Arboreal,Glidin...</td>\n",
              "      <td>{'Geography': {'Continents': 'Africa', 'Subcon...</td>\n",
              "      <td>{'Group name': 'flight, gulp, herd, kettle, ri...</td>\n",
              "      <td>Carnivore,,Insectivores</td>\n",
              "      <td>{'Reproduction season': 'begins in late Septem...</td>\n",
              "      <td>{'Population trend': 'Decreasing', 'Population...</td>\n",
              "      <td>2750.0</td>\n",
              "    </tr>\n",
              "    <tr>\n",
              "      <th>1803</th>\n",
              "      <td>22076</td>\n",
              "      <td>Blue-Crowned Motmot</td>\n",
              "      <td>Animalia</td>\n",
              "      <td>Chordata</td>\n",
              "      <td>NaN</td>\n",
              "      <td>Aves</td>\n",
              "      <td>Coraciiformes</td>\n",
              "      <td>NaN</td>\n",
              "      <td>Momotidae</td>\n",
              "      <td>Momotus</td>\n",
              "      <td>...</td>\n",
              "      <td>77-175 g</td>\n",
              "      <td>NaN</td>\n",
              "      <td>38-43 cm</td>\n",
              "      <td>Crepuscular,Carnivore,Insectivores,Herbivore,F...</td>\n",
              "      <td>{'Geography': {'Continents': 'North America', ...</td>\n",
              "      <td>{'Lifestyle': 'Arboreal, Terrestrial, Altricia...</td>\n",
              "      <td>Carnivore,,Insectivores,,Herbivore,,Frugivore</td>\n",
              "      <td>{'Mating behavior': 'Monogamy', 'Reproduction ...</td>\n",
              "      <td>{'Population trend': 'Decreasing', 'Population...</td>\n",
              "      <td>27500000.0</td>\n",
              "    </tr>\n",
              "    <tr>\n",
              "      <th>1804</th>\n",
              "      <td>22447</td>\n",
              "      <td>Crested Bellbird</td>\n",
              "      <td>Animalia</td>\n",
              "      <td>Chordata</td>\n",
              "      <td>NaN</td>\n",
              "      <td>Aves</td>\n",
              "      <td>Passeriformes</td>\n",
              "      <td>NaN</td>\n",
              "      <td>Oreoicidae</td>\n",
              "      <td>Oreoica</td>\n",
              "      <td>...</td>\n",
              "      <td>63 g</td>\n",
              "      <td>NaN</td>\n",
              "      <td>19-23 cm</td>\n",
              "      <td>Insectivores,Granivore,Terrestrial,Altricial,S...</td>\n",
              "      <td>{'Geography': {'Continents': 'Oceania', 'Count...</td>\n",
              "      <td>{'Lifestyle': 'Terrestrial, Altricial,', 'Seas...</td>\n",
              "      <td>Insectivores,,Granivore</td>\n",
              "      <td>{'Mating behavior': 'Serial monogamy', 'Reprod...</td>\n",
              "      <td>{'Population trend': 'Decreasing', 'Population...</td>\n",
              "      <td>NaN</td>\n",
              "    </tr>\n",
              "    <tr>\n",
              "      <th>1805</th>\n",
              "      <td>23022</td>\n",
              "      <td>Common Black Hawk</td>\n",
              "      <td>Animalia</td>\n",
              "      <td>Chordata</td>\n",
              "      <td>NaN</td>\n",
              "      <td>Aves</td>\n",
              "      <td>Accipitriformes</td>\n",
              "      <td>NaN</td>\n",
              "      <td>Accipitridae</td>\n",
              "      <td>Buteogallus</td>\n",
              "      <td>...</td>\n",
              "      <td>793-1200 g</td>\n",
              "      <td>NaN</td>\n",
              "      <td>43-53 cm</td>\n",
              "      <td>Diurnal,Carnivore,Arboreal,Predator,Soaring bi...</td>\n",
              "      <td>{'Geography': {'Continents': 'North America, S...</td>\n",
              "      <td>{'Group name': 'aerie, boil, cast, kettle, lea...</td>\n",
              "      <td>Carnivore</td>\n",
              "      <td>{'Reproduction season': 'late February-late Ma...</td>\n",
              "      <td>{'Population trend': 'Decreasing', 'Population...</td>\n",
              "      <td>2000000.0</td>\n",
              "    </tr>\n",
              "  </tbody>\n",
              "</table>\n",
              "<p>1806 rows × 24 columns</p>\n",
              "</div>\n",
              "      <button class=\"colab-df-convert\" onclick=\"convertToInteractive('df-c26c8260-db5b-404e-b904-939e31973989')\"\n",
              "              title=\"Convert this dataframe to an interactive table.\"\n",
              "              style=\"display:none;\">\n",
              "        \n",
              "  <svg xmlns=\"http://www.w3.org/2000/svg\" height=\"24px\"viewBox=\"0 0 24 24\"\n",
              "       width=\"24px\">\n",
              "    <path d=\"M0 0h24v24H0V0z\" fill=\"none\"/>\n",
              "    <path d=\"M18.56 5.44l.94 2.06.94-2.06 2.06-.94-2.06-.94-.94-2.06-.94 2.06-2.06.94zm-11 1L8.5 8.5l.94-2.06 2.06-.94-2.06-.94L8.5 2.5l-.94 2.06-2.06.94zm10 10l.94 2.06.94-2.06 2.06-.94-2.06-.94-.94-2.06-.94 2.06-2.06.94z\"/><path d=\"M17.41 7.96l-1.37-1.37c-.4-.4-.92-.59-1.43-.59-.52 0-1.04.2-1.43.59L10.3 9.45l-7.72 7.72c-.78.78-.78 2.05 0 2.83L4 21.41c.39.39.9.59 1.41.59.51 0 1.02-.2 1.41-.59l7.78-7.78 2.81-2.81c.8-.78.8-2.07 0-2.86zM5.41 20L4 18.59l7.72-7.72 1.47 1.35L5.41 20z\"/>\n",
              "  </svg>\n",
              "      </button>\n",
              "      \n",
              "  <style>\n",
              "    .colab-df-container {\n",
              "      display:flex;\n",
              "      flex-wrap:wrap;\n",
              "      gap: 12px;\n",
              "    }\n",
              "\n",
              "    .colab-df-convert {\n",
              "      background-color: #E8F0FE;\n",
              "      border: none;\n",
              "      border-radius: 50%;\n",
              "      cursor: pointer;\n",
              "      display: none;\n",
              "      fill: #1967D2;\n",
              "      height: 32px;\n",
              "      padding: 0 0 0 0;\n",
              "      width: 32px;\n",
              "    }\n",
              "\n",
              "    .colab-df-convert:hover {\n",
              "      background-color: #E2EBFA;\n",
              "      box-shadow: 0px 1px 2px rgba(60, 64, 67, 0.3), 0px 1px 3px 1px rgba(60, 64, 67, 0.15);\n",
              "      fill: #174EA6;\n",
              "    }\n",
              "\n",
              "    [theme=dark] .colab-df-convert {\n",
              "      background-color: #3B4455;\n",
              "      fill: #D2E3FC;\n",
              "    }\n",
              "\n",
              "    [theme=dark] .colab-df-convert:hover {\n",
              "      background-color: #434B5C;\n",
              "      box-shadow: 0px 1px 3px 1px rgba(0, 0, 0, 0.15);\n",
              "      filter: drop-shadow(0px 1px 2px rgba(0, 0, 0, 0.3));\n",
              "      fill: #FFFFFF;\n",
              "    }\n",
              "  </style>\n",
              "\n",
              "      <script>\n",
              "        const buttonEl =\n",
              "          document.querySelector('#df-c26c8260-db5b-404e-b904-939e31973989 button.colab-df-convert');\n",
              "        buttonEl.style.display =\n",
              "          google.colab.kernel.accessAllowed ? 'block' : 'none';\n",
              "\n",
              "        async function convertToInteractive(key) {\n",
              "          const element = document.querySelector('#df-c26c8260-db5b-404e-b904-939e31973989');\n",
              "          const dataTable =\n",
              "            await google.colab.kernel.invokeFunction('convertToInteractive',\n",
              "                                                     [key], {});\n",
              "          if (!dataTable) return;\n",
              "\n",
              "          const docLinkHtml = 'Like what you see? Visit the ' +\n",
              "            '<a target=\"_blank\" href=https://colab.research.google.com/notebooks/data_table.ipynb>data table notebook</a>'\n",
              "            + ' to learn more about interactive tables.';\n",
              "          element.innerHTML = '';\n",
              "          dataTable['output_type'] = 'display_data';\n",
              "          await google.colab.output.renderOutput(dataTable, element);\n",
              "          const docLink = document.createElement('div');\n",
              "          docLink.innerHTML = docLinkHtml;\n",
              "          element.appendChild(docLink);\n",
              "        }\n",
              "      </script>\n",
              "    </div>\n",
              "  </div>\n",
              "  "
            ]
          },
          "metadata": {},
          "execution_count": 17
        }
      ]
    },
    {
      "cell_type": "code",
      "source": [
        "df1['Avg_Pop_Size'].isnull().sum()"
      ],
      "metadata": {
        "colab": {
          "base_uri": "https://localhost:8080/"
        },
        "id": "H81ScsYg94_U",
        "outputId": "4d11eda2-5607-47c6-cd27-379297374e02"
      },
      "execution_count": null,
      "outputs": [
        {
          "output_type": "execute_result",
          "data": {
            "text/plain": [
              "970"
            ]
          },
          "metadata": {},
          "execution_count": 18
        }
      ]
    },
    {
      "cell_type": "code",
      "source": [
        "df1[df1['Avg_Pop_Size'] == 'inf'].index"
      ],
      "metadata": {
        "colab": {
          "base_uri": "https://localhost:8080/"
        },
        "id": "e-OGTcoLuV9j",
        "outputId": "bb6a899a-415e-4b95-e719-61624b6f21d5"
      },
      "execution_count": null,
      "outputs": [
        {
          "output_type": "execute_result",
          "data": {
            "text/plain": [
              "Int64Index([], dtype='int64')"
            ]
          },
          "metadata": {},
          "execution_count": 23
        }
      ]
    },
    {
      "cell_type": "code",
      "source": [
        "df1['Avg_Pop_Size']"
      ],
      "metadata": {
        "colab": {
          "base_uri": "https://localhost:8080/"
        },
        "id": "Bd2R5LJ3x3j8",
        "outputId": "cf406f60-0364-4284-d703-93b8e9c096d6"
      },
      "execution_count": null,
      "outputs": [
        {
          "output_type": "execute_result",
          "data": {
            "text/plain": [
              "0           400000\n",
              "1           2656.5\n",
              "2           200000\n",
              "3          17500.0\n",
              "4            50000\n",
              "           ...    \n",
              "1801        2000.0\n",
              "1802        2750.0\n",
              "1803    27500000.0\n",
              "1804           NaN\n",
              "1805     2000000.0\n",
              "Name: Avg_Pop_Size, Length: 1806, dtype: object"
            ]
          },
          "metadata": {},
          "execution_count": 39
        }
      ]
    },
    {
      "cell_type": "code",
      "source": [
        "df1['Avg_Pop_Size'] = df1['Avg_Pop_Size'].replace(np.nan,df1['Avg_Pop_Size'].median())"
      ],
      "metadata": {
        "id": "3uAvJksMeucE"
      },
      "execution_count": null,
      "outputs": []
    },
    {
      "cell_type": "code",
      "source": [
        "df1['Avg_Pop_Size'] = df1['Avg_Pop_Size'].astype(float).astype(int)"
      ],
      "metadata": {
        "id": "glkxXuFXf1il"
      },
      "execution_count": null,
      "outputs": []
    },
    {
      "cell_type": "code",
      "source": [
        "df1['Avg_Pop_Size']"
      ],
      "metadata": {
        "colab": {
          "base_uri": "https://localhost:8080/"
        },
        "id": "kDc5PqwpiXZs",
        "outputId": "c5e5a13d-24df-4726-c0cd-a8b530a085e5"
      },
      "execution_count": null,
      "outputs": [
        {
          "output_type": "execute_result",
          "data": {
            "text/plain": [
              "0         400000\n",
              "1           2656\n",
              "2         200000\n",
              "3          17500\n",
              "4          50000\n",
              "          ...   \n",
              "1801        2000\n",
              "1802        2750\n",
              "1803    27500000\n",
              "1804      113715\n",
              "1805     2000000\n",
              "Name: Avg_Pop_Size, Length: 1806, dtype: int64"
            ]
          },
          "metadata": {},
          "execution_count": 22
        }
      ]
    },
    {
      "cell_type": "code",
      "source": [
        "df1.columns"
      ],
      "metadata": {
        "colab": {
          "base_uri": "https://localhost:8080/"
        },
        "id": "5BJ3FKjtf76R",
        "outputId": "4f4c739e-4661-4e69-a521-f11efefc9786"
      },
      "execution_count": null,
      "outputs": [
        {
          "output_type": "execute_result",
          "data": {
            "text/plain": [
              "Index(['index', 'Name', 'Kingdom', 'Phylum', 'Subphylum', 'Class', 'Order',\n",
              "       'Suborder', 'Family', 'Genus', 'Species', 'Population size',\n",
              "       'Life span', 'Top speed', 'Weight', 'Height', 'Length', 'Attributes',\n",
              "       'Distribution', 'Habits', 'Diet', 'Mating_Habits', 'Population',\n",
              "       'Avg_Pop_Size'],\n",
              "      dtype='object')"
            ]
          },
          "metadata": {},
          "execution_count": 23
        }
      ]
    },
    {
      "cell_type": "code",
      "source": [
        "l=df1.drop(df1[df1['Avg_Pop_Size']==0].index)"
      ],
      "metadata": {
        "id": "5qjg9Qx1htK5"
      },
      "execution_count": null,
      "outputs": []
    },
    {
      "cell_type": "code",
      "source": [
        "l.shape"
      ],
      "metadata": {
        "colab": {
          "base_uri": "https://localhost:8080/"
        },
        "id": "2fc34wkij08b",
        "outputId": "761f76e8-5349-44d1-f8a7-688b33b3a786"
      },
      "execution_count": null,
      "outputs": [
        {
          "output_type": "execute_result",
          "data": {
            "text/plain": [
              "(1806, 24)"
            ]
          },
          "metadata": {},
          "execution_count": 25
        }
      ]
    },
    {
      "cell_type": "markdown",
      "source": [],
      "metadata": {
        "id": "AqoOhswpayFd"
      }
    },
    {
      "cell_type": "markdown",
      "source": [
        "# Looking at the distribution of imputed population size\n"
      ],
      "metadata": {
        "id": "c4DsIswaaA41"
      }
    },
    {
      "cell_type": "code",
      "source": [
        "import seaborn as sns\n",
        "sns.histplot(data=df1,x='Avg_Pop_Size',kde=True,log_scale=True)"
      ],
      "metadata": {
        "colab": {
          "base_uri": "https://localhost:8080/",
          "height": 472
        },
        "id": "r949k_jNiAjZ",
        "outputId": "a37e0287-7454-4237-d42f-291f390a55a0"
      },
      "execution_count": null,
      "outputs": [
        {
          "output_type": "execute_result",
          "data": {
            "text/plain": [
              "<Axes: xlabel='Avg_Pop_Size', ylabel='Count'>"
            ]
          },
          "metadata": {},
          "execution_count": 48
        },
        {
          "output_type": "display_data",
          "data": {
            "text/plain": [
              "<Figure size 640x480 with 1 Axes>"
            ],
            "image/png": "[encoded data removed]"
          },
          "metadata": {}
        }
      ]
    },
    {
      "cell_type": "markdown",
      "source": [
        "# Population Trend"
      ],
      "metadata": {
        "id": "GZWqBYH8JF6y"
      }
    },
    {
      "cell_type": "code",
      "source": [
        "population_trend=[]\n",
        "for i in range(len(df1['Population'])):\n",
        "  if 'Population trend' in eval(df1['Population'][i]).keys():\n",
        "    population_trend.append(eval(df1['Population'][i])['Population trend'])\n",
        "    # print(population_trend)\n",
        "  else:\n",
        "    population_trend.append('NaN')"
      ],
      "metadata": {
        "id": "jRx_MUF2kE6N"
      },
      "execution_count": null,
      "outputs": []
    },
    {
      "cell_type": "code",
      "source": [
        "population_status=[]\n",
        "for i in range(len(df1['Population'])):\n",
        "  if 'Population status' in eval(df1['Population'][i]).keys():\n",
        "    population_status.append(eval(df1['Population'][i])['Population status'])\n",
        "  else:\n",
        "    population_status.append('NaN')"
      ],
      "metadata": {
        "id": "cYxG_iivOVXD"
      },
      "execution_count": null,
      "outputs": []
    },
    {
      "cell_type": "code",
      "source": [
        "df1['Pop_Trend'] = population_trend\n",
        "df1['Pop_Status'] = population_status"
      ],
      "metadata": {
        "id": "p8S0aE6nmqe9"
      },
      "execution_count": null,
      "outputs": []
    },
    {
      "cell_type": "markdown",
      "source": [
        "# Importing data from part-1 of preprocessing file"
      ],
      "metadata": {
        "id": "nrloSCjgJOuS"
      }
    },
    {
      "cell_type": "code",
      "source": [
        "df2 = pd.read_csv('/content/drive/MyDrive/DMining_Project/Project-Animal/animal_planet.csv')\n",
        "df2.columns"
      ],
      "metadata": {
        "id": "AlQoE6HFnJ62",
        "colab": {
          "base_uri": "https://localhost:8080/"
        },
        "outputId": "644e13ce-7bd9-4741-c0f2-8f12ce58e390"
      },
      "execution_count": null,
      "outputs": [
        {
          "output_type": "execute_result",
          "data": {
            "text/plain": [
              "Index(['Unnamed: 0', 'index', 'Name', 'Kingdom', 'Phylum', 'Subphylum',\n",
              "       'Class', 'Order', 'Suborder', 'Family', 'Genus', 'Species',\n",
              "       'Population size', 'Life span', 'Top speed', 'Weight', 'Height',\n",
              "       'Length', 'Attributes', 'Distribution', 'Habits', 'Diet',\n",
              "       'Mating_Habits', 'Population', 'Pregnancy_duration',\n",
              "       'average_pregnancy_duration', 'diet', 'average_life_span'],\n",
              "      dtype='object')"
            ]
          },
          "metadata": {},
          "execution_count": 39
        }
      ]
    },
    {
      "cell_type": "code",
      "source": [
        "df1.columns"
      ],
      "metadata": {
        "colab": {
          "base_uri": "https://localhost:8080/"
        },
        "id": "p5s_IDCIK3Aw",
        "outputId": "f199573c-8d23-4cfc-c350-25e41fe50117"
      },
      "execution_count": null,
      "outputs": [
        {
          "output_type": "execute_result",
          "data": {
            "text/plain": [
              "Index(['index', 'Name', 'Kingdom', 'Phylum', 'Subphylum', 'Class', 'Order',\n",
              "       'Suborder', 'Family', 'Genus', 'Species', 'Population size',\n",
              "       'Life span', 'Top speed', 'Weight', 'Height', 'Length', 'Attributes',\n",
              "       'Distribution', 'Habits', 'Diet', 'Mating_Habits', 'Population',\n",
              "       'Avg_Pop_Size', 'Pop_Trend', 'Pop_Status'],\n",
              "      dtype='object')"
            ]
          },
          "metadata": {},
          "execution_count": 40
        }
      ]
    },
    {
      "cell_type": "code",
      "source": [
        "df2"
      ],
      "metadata": {
        "id": "eN-OjAStNPJd",
        "colab": {
          "base_uri": "https://localhost:8080/",
          "height": 1000
        },
        "outputId": "8d947cca-0f1a-415d-9f3a-46a10ec7bb0f"
      },
      "execution_count": null,
      "outputs": [
        {
          "output_type": "execute_result",
          "data": {
            "text/plain": [
              "      Unnamed: 0  index                 Name   Kingdom    Phylum   Subphylum  \\\n",
              "0              0      0            Grey Wolf  Animalia  Chordata  Vertebrata   \n",
              "1              1      1                Tiger  Animalia  Chordata  Vertebrata   \n",
              "2              2      2           Brown Bear  Animalia  Chordata  Vertebrata   \n",
              "3              3      3           Blue Whale  Animalia  Chordata  Vertebrata   \n",
              "4              4      4         Killer Whale  Animalia  Chordata  Vertebrata   \n",
              "...          ...    ...                  ...       ...       ...         ...   \n",
              "1801        1801  21645           Brown Teal  Animalia  Chordata         NaN   \n",
              "1802        1802  21710         Blue Swallow  Animalia  Chordata         NaN   \n",
              "1803        1803  22076  Blue-Crowned Motmot  Animalia  Chordata         NaN   \n",
              "1804        1804  22447     Crested Bellbird  Animalia  Chordata         NaN   \n",
              "1805        1805  23022    Common Black Hawk  Animalia  Chordata         NaN   \n",
              "\n",
              "         Class            Order    Suborder           Family  ...  \\\n",
              "0     Mammalia        Carnivora  Caniformia          Canidae  ...   \n",
              "1     Mammalia        Carnivora  Feliformia          Felidae  ...   \n",
              "2     Mammalia        Carnivora  Caniformia          Ursidae  ...   \n",
              "3     Mammalia     Artiodactyla         NaN  Balaenopteridae  ...   \n",
              "4     Mammalia     Artiodactyla         NaN      Delphinidae  ...   \n",
              "...        ...              ...         ...              ...  ...   \n",
              "1801      Aves     Anseriformes         NaN         Anatidae  ...   \n",
              "1802      Aves    Passeriformes         NaN     Hirundinidae  ...   \n",
              "1803      Aves    Coraciiformes         NaN        Momotidae  ...   \n",
              "1804      Aves    Passeriformes         NaN       Oreoicidae  ...   \n",
              "1805      Aves  Accipitriformes         NaN     Accipitridae  ...   \n",
              "\n",
              "                                             Attributes  \\\n",
              "0     Nocturnal,Carnivore,Scavenger,Terrestrial,Curs...   \n",
              "1     Nocturnal,Carnivore,Cursorial,Terrestrial,Ambu...   \n",
              "2     Crepuscular,Omnivore,Terrestrial,Altricial,Nom...   \n",
              "3     Carnivore,Piscivores,Aquatic,Precocial,Natator...   \n",
              "4     Diurnal,Carnivore,Aquatic,Precocial,Cosmopolit...   \n",
              "...                                                 ...   \n",
              "1801  Nocturnal,Omnivore,Semiaquatic,Waterfowl,Terre...   \n",
              "1802  Diurnal,Carnivore,Insectivores,Arboreal,Glidin...   \n",
              "1803  Crepuscular,Carnivore,Insectivores,Herbivore,F...   \n",
              "1804  Insectivores,Granivore,Terrestrial,Altricial,S...   \n",
              "1805  Diurnal,Carnivore,Arboreal,Predator,Soaring bi...   \n",
              "\n",
              "                                           Distribution  \\\n",
              "0     {'Geography': {'Continents': 'Asia, Europe, No...   \n",
              "1     {'Geography': {'Continents': 'Asia', 'Subconti...   \n",
              "2     {'Geography': {'Continents': 'Asia, Europe, No...   \n",
              "3     {'Geography': {'Continents': 'Africa, South Am...   \n",
              "4     {'Geography': {'Continents': 'Africa, Oceania,...   \n",
              "...                                                 ...   \n",
              "1801  {'Geography': {'Continents': 'Oceania', 'Count...   \n",
              "1802  {'Geography': {'Continents': 'Africa', 'Subcon...   \n",
              "1803  {'Geography': {'Continents': 'North America', ...   \n",
              "1804  {'Geography': {'Continents': 'Oceania', 'Count...   \n",
              "1805  {'Geography': {'Continents': 'North America, S...   \n",
              "\n",
              "                                                 Habits  \\\n",
              "0     {'Group name': 'pack, route, rout', 'Lifestyle...   \n",
              "1     {'Lifestyle': 'Cursorial, Terrestrial, Ambush ...   \n",
              "2     {'Group name': 'sloth, sleuth', 'Lifestyle': '...   \n",
              "3     {'Group name': 'pod, gam, herd, school, mod', ...   \n",
              "4     {'Group name': 'pod, gam, herd, school, mod', ...   \n",
              "...                                                 ...   \n",
              "1801  {'Group name': 'coil, diving, knob, spring', '...   \n",
              "1802  {'Group name': 'flight, gulp, herd, kettle, ri...   \n",
              "1803  {'Lifestyle': 'Arboreal, Terrestrial, Altricia...   \n",
              "1804  {'Lifestyle': 'Terrestrial, Altricial,', 'Seas...   \n",
              "1805  {'Group name': 'aerie, boil, cast, kettle, lea...   \n",
              "\n",
              "                                               Diet  \\\n",
              "0                              Carnivore,,Scavenger   \n",
              "1                                         Carnivore   \n",
              "2                                          Omnivore   \n",
              "3                             Carnivore,,Piscivores   \n",
              "4                                         Carnivore   \n",
              "...                                             ...   \n",
              "1801                                       Omnivore   \n",
              "1802                        Carnivore,,Insectivores   \n",
              "1803  Carnivore,,Insectivores,,Herbivore,,Frugivore   \n",
              "1804                        Insectivores,,Granivore   \n",
              "1805                                      Carnivore   \n",
              "\n",
              "                                          Mating_Habits  \\\n",
              "0     {'Mating behavior': 'Monogamy', 'Reproduction ...   \n",
              "1     {'Mating behavior': 'Polygyny', 'Reproduction ...   \n",
              "2     {'Mating behavior': 'Polygynandry,', 'Reproduc...   \n",
              "3     {'Mating behavior': 'Monogamy', 'Reproduction ...   \n",
              "4     {'Mating behavior': 'Polygynandry', 'Reproduct...   \n",
              "...                                                 ...   \n",
              "1801  {'Mating behavior': 'Monogamy', 'Reproduction ...   \n",
              "1802  {'Reproduction season': 'begins in late Septem...   \n",
              "1803  {'Mating behavior': 'Monogamy', 'Reproduction ...   \n",
              "1804  {'Mating behavior': 'Serial monogamy', 'Reprod...   \n",
              "1805  {'Reproduction season': 'late February-late Ma...   \n",
              "\n",
              "                                             Population Pregnancy_duration  \\\n",
              "0     {'Population trend': 'Stable', 'Population sta...      ['60', '63 ']   \n",
              "1     {'Population trend': 'Decreasing', 'Population...           ['103 ']   \n",
              "2     {'Population trend': 'Stable', 'Population sta...               [56]   \n",
              "3     {'Population trend': 'Increasing', 'Population...              [365]   \n",
              "4          {'Population status': 'Data deficient (DD)'}         [450, 540]   \n",
              "...                                                 ...                ...   \n",
              "1801  {'Population trend': 'Increasing', 'Population...                NaN   \n",
              "1802  {'Population trend': 'Decreasing', 'Population...                NaN   \n",
              "1803  {'Population trend': 'Decreasing', 'Population...                NaN   \n",
              "1804  {'Population trend': 'Decreasing', 'Population...                NaN   \n",
              "1805  {'Population trend': 'Decreasing', 'Population...                NaN   \n",
              "\n",
              "     average_pregnancy_duration       diet average_life_span  \n",
              "0                            61  Carnivore                15  \n",
              "1                           103  Carnivore                12  \n",
              "2                            56   Omnivore                35  \n",
              "3                           365  Carnivore                85  \n",
              "4                           495  Carnivore                65  \n",
              "...                         ...        ...               ...  \n",
              "1801                          0   Omnivore                 0  \n",
              "1802                          0  Carnivore                 0  \n",
              "1803                          0  Carnivore                 0  \n",
              "1804                          0  Herbivore                 0  \n",
              "1805                          0  Carnivore                 0  \n",
              "\n",
              "[1806 rows x 28 columns]"
            ],
            "text/html": [
              "\n",
              "  <div id=\"df-e4b36cfd-2ff8-4b34-99fb-e0e45c3e58c8\">\n",
              "    <div class=\"colab-df-container\">\n",
              "      <div>\n",
              "<style scoped>\n",
              "    .dataframe tbody tr th:only-of-type {\n",
              "        vertical-align: middle;\n",
              "    }\n",
              "\n",
              "    .dataframe tbody tr th {\n",
              "        vertical-align: top;\n",
              "    }\n",
              "\n",
              "    .dataframe thead th {\n",
              "        text-align: right;\n",
              "    }\n",
              "</style>\n",
              "<table border=\"1\" class=\"dataframe\">\n",
              "  <thead>\n",
              "    <tr style=\"text-align: right;\">\n",
              "      <th></th>\n",
              "      <th>Unnamed: 0</th>\n",
              "      <th>index</th>\n",
              "      <th>Name</th>\n",
              "      <th>Kingdom</th>\n",
              "      <th>Phylum</th>\n",
              "      <th>Subphylum</th>\n",
              "      <th>Class</th>\n",
              "      <th>Order</th>\n",
              "      <th>Suborder</th>\n",
              "      <th>Family</th>\n",
              "      <th>...</th>\n",
              "      <th>Attributes</th>\n",
              "      <th>Distribution</th>\n",
              "      <th>Habits</th>\n",
              "      <th>Diet</th>\n",
              "      <th>Mating_Habits</th>\n",
              "      <th>Population</th>\n",
              "      <th>Pregnancy_duration</th>\n",
              "      <th>average_pregnancy_duration</th>\n",
              "      <th>diet</th>\n",
              "      <th>average_life_span</th>\n",
              "    </tr>\n",
              "  </thead>\n",
              "  <tbody>\n",
              "    <tr>\n",
              "      <th>0</th>\n",
              "      <td>0</td>\n",
              "      <td>0</td>\n",
              "      <td>Grey Wolf</td>\n",
              "      <td>Animalia</td>\n",
              "      <td>Chordata</td>\n",
              "      <td>Vertebrata</td>\n",
              "      <td>Mammalia</td>\n",
              "      <td>Carnivora</td>\n",
              "      <td>Caniformia</td>\n",
              "      <td>Canidae</td>\n",
              "      <td>...</td>\n",
              "      <td>Nocturnal,Carnivore,Scavenger,Terrestrial,Curs...</td>\n",
              "      <td>{'Geography': {'Continents': 'Asia, Europe, No...</td>\n",
              "      <td>{'Group name': 'pack, route, rout', 'Lifestyle...</td>\n",
              "      <td>Carnivore,,Scavenger</td>\n",
              "      <td>{'Mating behavior': 'Monogamy', 'Reproduction ...</td>\n",
              "      <td>{'Population trend': 'Stable', 'Population sta...</td>\n",
              "      <td>['60', '63 ']</td>\n",
              "      <td>61</td>\n",
              "      <td>Carnivore</td>\n",
              "      <td>15</td>\n",
              "    </tr>\n",
              "    <tr>\n",
              "      <th>1</th>\n",
              "      <td>1</td>\n",
              "      <td>1</td>\n",
              "      <td>Tiger</td>\n",
              "      <td>Animalia</td>\n",
              "      <td>Chordata</td>\n",
              "      <td>Vertebrata</td>\n",
              "      <td>Mammalia</td>\n",
              "      <td>Carnivora</td>\n",
              "      <td>Feliformia</td>\n",
              "      <td>Felidae</td>\n",
              "      <td>...</td>\n",
              "      <td>Nocturnal,Carnivore,Cursorial,Terrestrial,Ambu...</td>\n",
              "      <td>{'Geography': {'Continents': 'Asia', 'Subconti...</td>\n",
              "      <td>{'Lifestyle': 'Cursorial, Terrestrial, Ambush ...</td>\n",
              "      <td>Carnivore</td>\n",
              "      <td>{'Mating behavior': 'Polygyny', 'Reproduction ...</td>\n",
              "      <td>{'Population trend': 'Decreasing', 'Population...</td>\n",
              "      <td>['103 ']</td>\n",
              "      <td>103</td>\n",
              "      <td>Carnivore</td>\n",
              "      <td>12</td>\n",
              "    </tr>\n",
              "    <tr>\n",
              "      <th>2</th>\n",
              "      <td>2</td>\n",
              "      <td>2</td>\n",
              "      <td>Brown Bear</td>\n",
              "      <td>Animalia</td>\n",
              "      <td>Chordata</td>\n",
              "      <td>Vertebrata</td>\n",
              "      <td>Mammalia</td>\n",
              "      <td>Carnivora</td>\n",
              "      <td>Caniformia</td>\n",
              "      <td>Ursidae</td>\n",
              "      <td>...</td>\n",
              "      <td>Crepuscular,Omnivore,Terrestrial,Altricial,Nom...</td>\n",
              "      <td>{'Geography': {'Continents': 'Asia, Europe, No...</td>\n",
              "      <td>{'Group name': 'sloth, sleuth', 'Lifestyle': '...</td>\n",
              "      <td>Omnivore</td>\n",
              "      <td>{'Mating behavior': 'Polygynandry,', 'Reproduc...</td>\n",
              "      <td>{'Population trend': 'Stable', 'Population sta...</td>\n",
              "      <td>[56]</td>\n",
              "      <td>56</td>\n",
              "      <td>Omnivore</td>\n",
              "      <td>35</td>\n",
              "    </tr>\n",
              "    <tr>\n",
              "      <th>3</th>\n",
              "      <td>3</td>\n",
              "      <td>3</td>\n",
              "      <td>Blue Whale</td>\n",
              "      <td>Animalia</td>\n",
              "      <td>Chordata</td>\n",
              "      <td>Vertebrata</td>\n",
              "      <td>Mammalia</td>\n",
              "      <td>Artiodactyla</td>\n",
              "      <td>NaN</td>\n",
              "      <td>Balaenopteridae</td>\n",
              "      <td>...</td>\n",
              "      <td>Carnivore,Piscivores,Aquatic,Precocial,Natator...</td>\n",
              "      <td>{'Geography': {'Continents': 'Africa, South Am...</td>\n",
              "      <td>{'Group name': 'pod, gam, herd, school, mod', ...</td>\n",
              "      <td>Carnivore,,Piscivores</td>\n",
              "      <td>{'Mating behavior': 'Monogamy', 'Reproduction ...</td>\n",
              "      <td>{'Population trend': 'Increasing', 'Population...</td>\n",
              "      <td>[365]</td>\n",
              "      <td>365</td>\n",
              "      <td>Carnivore</td>\n",
              "      <td>85</td>\n",
              "    </tr>\n",
              "    <tr>\n",
              "      <th>4</th>\n",
              "      <td>4</td>\n",
              "      <td>4</td>\n",
              "      <td>Killer Whale</td>\n",
              "      <td>Animalia</td>\n",
              "      <td>Chordata</td>\n",
              "      <td>Vertebrata</td>\n",
              "      <td>Mammalia</td>\n",
              "      <td>Artiodactyla</td>\n",
              "      <td>NaN</td>\n",
              "      <td>Delphinidae</td>\n",
              "      <td>...</td>\n",
              "      <td>Diurnal,Carnivore,Aquatic,Precocial,Cosmopolit...</td>\n",
              "      <td>{'Geography': {'Continents': 'Africa, Oceania,...</td>\n",
              "      <td>{'Group name': 'pod, gam, herd, school, mod', ...</td>\n",
              "      <td>Carnivore</td>\n",
              "      <td>{'Mating behavior': 'Polygynandry', 'Reproduct...</td>\n",
              "      <td>{'Population status': 'Data deficient (DD)'}</td>\n",
              "      <td>[450, 540]</td>\n",
              "      <td>495</td>\n",
              "      <td>Carnivore</td>\n",
              "      <td>65</td>\n",
              "    </tr>\n",
              "    <tr>\n",
              "      <th>...</th>\n",
              "      <td>...</td>\n",
              "      <td>...</td>\n",
              "      <td>...</td>\n",
              "      <td>...</td>\n",
              "      <td>...</td>\n",
              "      <td>...</td>\n",
              "      <td>...</td>\n",
              "      <td>...</td>\n",
              "      <td>...</td>\n",
              "      <td>...</td>\n",
              "      <td>...</td>\n",
              "      <td>...</td>\n",
              "      <td>...</td>\n",
              "      <td>...</td>\n",
              "      <td>...</td>\n",
              "      <td>...</td>\n",
              "      <td>...</td>\n",
              "      <td>...</td>\n",
              "      <td>...</td>\n",
              "      <td>...</td>\n",
              "      <td>...</td>\n",
              "    </tr>\n",
              "    <tr>\n",
              "      <th>1801</th>\n",
              "      <td>1801</td>\n",
              "      <td>21645</td>\n",
              "      <td>Brown Teal</td>\n",
              "      <td>Animalia</td>\n",
              "      <td>Chordata</td>\n",
              "      <td>NaN</td>\n",
              "      <td>Aves</td>\n",
              "      <td>Anseriformes</td>\n",
              "      <td>NaN</td>\n",
              "      <td>Anatidae</td>\n",
              "      <td>...</td>\n",
              "      <td>Nocturnal,Omnivore,Semiaquatic,Waterfowl,Terre...</td>\n",
              "      <td>{'Geography': {'Continents': 'Oceania', 'Count...</td>\n",
              "      <td>{'Group name': 'coil, diving, knob, spring', '...</td>\n",
              "      <td>Omnivore</td>\n",
              "      <td>{'Mating behavior': 'Monogamy', 'Reproduction ...</td>\n",
              "      <td>{'Population trend': 'Increasing', 'Population...</td>\n",
              "      <td>NaN</td>\n",
              "      <td>0</td>\n",
              "      <td>Omnivore</td>\n",
              "      <td>0</td>\n",
              "    </tr>\n",
              "    <tr>\n",
              "      <th>1802</th>\n",
              "      <td>1802</td>\n",
              "      <td>21710</td>\n",
              "      <td>Blue Swallow</td>\n",
              "      <td>Animalia</td>\n",
              "      <td>Chordata</td>\n",
              "      <td>NaN</td>\n",
              "      <td>Aves</td>\n",
              "      <td>Passeriformes</td>\n",
              "      <td>NaN</td>\n",
              "      <td>Hirundinidae</td>\n",
              "      <td>...</td>\n",
              "      <td>Diurnal,Carnivore,Insectivores,Arboreal,Glidin...</td>\n",
              "      <td>{'Geography': {'Continents': 'Africa', 'Subcon...</td>\n",
              "      <td>{'Group name': 'flight, gulp, herd, kettle, ri...</td>\n",
              "      <td>Carnivore,,Insectivores</td>\n",
              "      <td>{'Reproduction season': 'begins in late Septem...</td>\n",
              "      <td>{'Population trend': 'Decreasing', 'Population...</td>\n",
              "      <td>NaN</td>\n",
              "      <td>0</td>\n",
              "      <td>Carnivore</td>\n",
              "      <td>0</td>\n",
              "    </tr>\n",
              "    <tr>\n",
              "      <th>1803</th>\n",
              "      <td>1803</td>\n",
              "      <td>22076</td>\n",
              "      <td>Blue-Crowned Motmot</td>\n",
              "      <td>Animalia</td>\n",
              "      <td>Chordata</td>\n",
              "      <td>NaN</td>\n",
              "      <td>Aves</td>\n",
              "      <td>Coraciiformes</td>\n",
              "      <td>NaN</td>\n",
              "      <td>Momotidae</td>\n",
              "      <td>...</td>\n",
              "      <td>Crepuscular,Carnivore,Insectivores,Herbivore,F...</td>\n",
              "      <td>{'Geography': {'Continents': 'North America', ...</td>\n",
              "      <td>{'Lifestyle': 'Arboreal, Terrestrial, Altricia...</td>\n",
              "      <td>Carnivore,,Insectivores,,Herbivore,,Frugivore</td>\n",
              "      <td>{'Mating behavior': 'Monogamy', 'Reproduction ...</td>\n",
              "      <td>{'Population trend': 'Decreasing', 'Population...</td>\n",
              "      <td>NaN</td>\n",
              "      <td>0</td>\n",
              "      <td>Carnivore</td>\n",
              "      <td>0</td>\n",
              "    </tr>\n",
              "    <tr>\n",
              "      <th>1804</th>\n",
              "      <td>1804</td>\n",
              "      <td>22447</td>\n",
              "      <td>Crested Bellbird</td>\n",
              "      <td>Animalia</td>\n",
              "      <td>Chordata</td>\n",
              "      <td>NaN</td>\n",
              "      <td>Aves</td>\n",
              "      <td>Passeriformes</td>\n",
              "      <td>NaN</td>\n",
              "      <td>Oreoicidae</td>\n",
              "      <td>...</td>\n",
              "      <td>Insectivores,Granivore,Terrestrial,Altricial,S...</td>\n",
              "      <td>{'Geography': {'Continents': 'Oceania', 'Count...</td>\n",
              "      <td>{'Lifestyle': 'Terrestrial, Altricial,', 'Seas...</td>\n",
              "      <td>Insectivores,,Granivore</td>\n",
              "      <td>{'Mating behavior': 'Serial monogamy', 'Reprod...</td>\n",
              "      <td>{'Population trend': 'Decreasing', 'Population...</td>\n",
              "      <td>NaN</td>\n",
              "      <td>0</td>\n",
              "      <td>Herbivore</td>\n",
              "      <td>0</td>\n",
              "    </tr>\n",
              "    <tr>\n",
              "      <th>1805</th>\n",
              "      <td>1805</td>\n",
              "      <td>23022</td>\n",
              "      <td>Common Black Hawk</td>\n",
              "      <td>Animalia</td>\n",
              "      <td>Chordata</td>\n",
              "      <td>NaN</td>\n",
              "      <td>Aves</td>\n",
              "      <td>Accipitriformes</td>\n",
              "      <td>NaN</td>\n",
              "      <td>Accipitridae</td>\n",
              "      <td>...</td>\n",
              "      <td>Diurnal,Carnivore,Arboreal,Predator,Soaring bi...</td>\n",
              "      <td>{'Geography': {'Continents': 'North America, S...</td>\n",
              "      <td>{'Group name': 'aerie, boil, cast, kettle, lea...</td>\n",
              "      <td>Carnivore</td>\n",
              "      <td>{'Reproduction season': 'late February-late Ma...</td>\n",
              "      <td>{'Population trend': 'Decreasing', 'Population...</td>\n",
              "      <td>NaN</td>\n",
              "      <td>0</td>\n",
              "      <td>Carnivore</td>\n",
              "      <td>0</td>\n",
              "    </tr>\n",
              "  </tbody>\n",
              "</table>\n",
              "<p>1806 rows × 28 columns</p>\n",
              "</div>\n",
              "      <button class=\"colab-df-convert\" onclick=\"convertToInteractive('df-e4b36cfd-2ff8-4b34-99fb-e0e45c3e58c8')\"\n",
              "              title=\"Convert this dataframe to an interactive table.\"\n",
              "              style=\"display:none;\">\n",
              "        \n",
              "  <svg xmlns=\"http://www.w3.org/2000/svg\" height=\"24px\"viewBox=\"0 0 24 24\"\n",
              "       width=\"24px\">\n",
              "    <path d=\"M0 0h24v24H0V0z\" fill=\"none\"/>\n",
              "    <path d=\"M18.56 5.44l.94 2.06.94-2.06 2.06-.94-2.06-.94-.94-2.06-.94 2.06-2.06.94zm-11 1L8.5 8.5l.94-2.06 2.06-.94-2.06-.94L8.5 2.5l-.94 2.06-2.06.94zm10 10l.94 2.06.94-2.06 2.06-.94-2.06-.94-.94-2.06-.94 2.06-2.06.94z\"/><path d=\"M17.41 7.96l-1.37-1.37c-.4-.4-.92-.59-1.43-.59-.52 0-1.04.2-1.43.59L10.3 9.45l-7.72 7.72c-.78.78-.78 2.05 0 2.83L4 21.41c.39.39.9.59 1.41.59.51 0 1.02-.2 1.41-.59l7.78-7.78 2.81-2.81c.8-.78.8-2.07 0-2.86zM5.41 20L4 18.59l7.72-7.72 1.47 1.35L5.41 20z\"/>\n",
              "  </svg>\n",
              "      </button>\n",
              "      \n",
              "  <style>\n",
              "    .colab-df-container {\n",
              "      display:flex;\n",
              "      flex-wrap:wrap;\n",
              "      gap: 12px;\n",
              "    }\n",
              "\n",
              "    .colab-df-convert {\n",
              "      background-color: #E8F0FE;\n",
              "      border: none;\n",
              "      border-radius: 50%;\n",
              "      cursor: pointer;\n",
              "      display: none;\n",
              "      fill: #1967D2;\n",
              "      height: 32px;\n",
              "      padding: 0 0 0 0;\n",
              "      width: 32px;\n",
              "    }\n",
              "\n",
              "    .colab-df-convert:hover {\n",
              "      background-color: #E2EBFA;\n",
              "      box-shadow: 0px 1px 2px rgba(60, 64, 67, 0.3), 0px 1px 3px 1px rgba(60, 64, 67, 0.15);\n",
              "      fill: #174EA6;\n",
              "    }\n",
              "\n",
              "    [theme=dark] .colab-df-convert {\n",
              "      background-color: #3B4455;\n",
              "      fill: #D2E3FC;\n",
              "    }\n",
              "\n",
              "    [theme=dark] .colab-df-convert:hover {\n",
              "      background-color: #434B5C;\n",
              "      box-shadow: 0px 1px 3px 1px rgba(0, 0, 0, 0.15);\n",
              "      filter: drop-shadow(0px 1px 2px rgba(0, 0, 0, 0.3));\n",
              "      fill: #FFFFFF;\n",
              "    }\n",
              "  </style>\n",
              "\n",
              "      <script>\n",
              "        const buttonEl =\n",
              "          document.querySelector('#df-e4b36cfd-2ff8-4b34-99fb-e0e45c3e58c8 button.colab-df-convert');\n",
              "        buttonEl.style.display =\n",
              "          google.colab.kernel.accessAllowed ? 'block' : 'none';\n",
              "\n",
              "        async function convertToInteractive(key) {\n",
              "          const element = document.querySelector('#df-e4b36cfd-2ff8-4b34-99fb-e0e45c3e58c8');\n",
              "          const dataTable =\n",
              "            await google.colab.kernel.invokeFunction('convertToInteractive',\n",
              "                                                     [key], {});\n",
              "          if (!dataTable) return;\n",
              "\n",
              "          const docLinkHtml = 'Like what you see? Visit the ' +\n",
              "            '<a target=\"_blank\" href=https://colab.research.google.com/notebooks/data_table.ipynb>data table notebook</a>'\n",
              "            + ' to learn more about interactive tables.';\n",
              "          element.innerHTML = '';\n",
              "          dataTable['output_type'] = 'display_data';\n",
              "          await google.colab.output.renderOutput(dataTable, element);\n",
              "          const docLink = document.createElement('div');\n",
              "          docLink.innerHTML = docLinkHtml;\n",
              "          element.appendChild(docLink);\n",
              "        }\n",
              "      </script>\n",
              "    </div>\n",
              "  </div>\n",
              "  "
            ]
          },
          "metadata": {},
          "execution_count": 41
        }
      ]
    },
    {
      "cell_type": "code",
      "source": [
        "finaldf = pd.merge(df2,df1, on='Name')"
      ],
      "metadata": {
        "id": "0gpF_2S_Kk2m"
      },
      "execution_count": null,
      "outputs": []
    },
    {
      "cell_type": "code",
      "source": [
        "finaldf"
      ],
      "metadata": {
        "colab": {
          "base_uri": "https://localhost:8080/",
          "height": 1000
        },
        "id": "I9PUUwMmNHzz",
        "outputId": "229f96fd-7ea2-4f79-94c5-9d63ce558fb7"
      },
      "execution_count": null,
      "outputs": [
        {
          "output_type": "execute_result",
          "data": {
            "text/plain": [
              "      Unnamed: 0  index_x                 Name Kingdom_x  Phylum_x  \\\n",
              "0              0        0            Grey Wolf  Animalia  Chordata   \n",
              "1              1        1                Tiger  Animalia  Chordata   \n",
              "2              2        2           Brown Bear  Animalia  Chordata   \n",
              "3              3        3           Blue Whale  Animalia  Chordata   \n",
              "4              4        4         Killer Whale  Animalia  Chordata   \n",
              "...          ...      ...                  ...       ...       ...   \n",
              "1801        1801    21645           Brown Teal  Animalia  Chordata   \n",
              "1802        1802    21710         Blue Swallow  Animalia  Chordata   \n",
              "1803        1803    22076  Blue-Crowned Motmot  Animalia  Chordata   \n",
              "1804        1804    22447     Crested Bellbird  Animalia  Chordata   \n",
              "1805        1805    23022    Common Black Hawk  Animalia  Chordata   \n",
              "\n",
              "     Subphylum_x   Class_x          Order_x  Suborder_x         Family_x  ...  \\\n",
              "0     Vertebrata  Mammalia        Carnivora  Caniformia          Canidae  ...   \n",
              "1     Vertebrata  Mammalia        Carnivora  Feliformia          Felidae  ...   \n",
              "2     Vertebrata  Mammalia        Carnivora  Caniformia          Ursidae  ...   \n",
              "3     Vertebrata  Mammalia     Artiodactyla         NaN  Balaenopteridae  ...   \n",
              "4     Vertebrata  Mammalia     Artiodactyla         NaN      Delphinidae  ...   \n",
              "...          ...       ...              ...         ...              ...  ...   \n",
              "1801         NaN      Aves     Anseriformes         NaN         Anatidae  ...   \n",
              "1802         NaN      Aves    Passeriformes         NaN     Hirundinidae  ...   \n",
              "1803         NaN      Aves    Coraciiformes         NaN        Momotidae  ...   \n",
              "1804         NaN      Aves    Passeriformes         NaN       Oreoicidae  ...   \n",
              "1805         NaN      Aves  Accipitriformes         NaN     Accipitridae  ...   \n",
              "\n",
              "        Length_y                                       Attributes_y  \\\n",
              "0     105-160 cm  Nocturnal,Carnivore,Scavenger,Terrestrial,Curs...   \n",
              "1     200-390 cm  Nocturnal,Carnivore,Cursorial,Terrestrial,Ambu...   \n",
              "2      1.4-2.8 m  Crepuscular,Omnivore,Terrestrial,Altricial,Nom...   \n",
              "3        25-30 m  Carnivore,Piscivores,Aquatic,Precocial,Natator...   \n",
              "4          6-9 m  Diurnal,Carnivore,Aquatic,Precocial,Cosmopolit...   \n",
              "...          ...                                                ...   \n",
              "1801       48 cm  Nocturnal,Omnivore,Semiaquatic,Waterfowl,Terre...   \n",
              "1802    18-25 cm  Diurnal,Carnivore,Insectivores,Arboreal,Glidin...   \n",
              "1803    38-43 cm  Crepuscular,Carnivore,Insectivores,Herbivore,F...   \n",
              "1804    19-23 cm  Insectivores,Granivore,Terrestrial,Altricial,S...   \n",
              "1805    43-53 cm  Diurnal,Carnivore,Arboreal,Predator,Soaring bi...   \n",
              "\n",
              "                                         Distribution_y  \\\n",
              "0     {'Geography': {'Continents': 'Asia, Europe, No...   \n",
              "1     {'Geography': {'Continents': 'Asia', 'Subconti...   \n",
              "2     {'Geography': {'Continents': 'Asia, Europe, No...   \n",
              "3     {'Geography': {'Continents': 'Africa, South Am...   \n",
              "4     {'Geography': {'Continents': 'Africa, Oceania,...   \n",
              "...                                                 ...   \n",
              "1801  {'Geography': {'Continents': 'Oceania', 'Count...   \n",
              "1802  {'Geography': {'Continents': 'Africa', 'Subcon...   \n",
              "1803  {'Geography': {'Continents': 'North America', ...   \n",
              "1804  {'Geography': {'Continents': 'Oceania', 'Count...   \n",
              "1805  {'Geography': {'Continents': 'North America, S...   \n",
              "\n",
              "                                               Habits_y  \\\n",
              "0     {'Group name': 'pack, route, rout', 'Lifestyle...   \n",
              "1     {'Lifestyle': 'Cursorial, Terrestrial, Ambush ...   \n",
              "2     {'Group name': 'sloth, sleuth', 'Lifestyle': '...   \n",
              "3     {'Group name': 'pod, gam, herd, school, mod', ...   \n",
              "4     {'Group name': 'pod, gam, herd, school, mod', ...   \n",
              "...                                                 ...   \n",
              "1801  {'Group name': 'coil, diving, knob, spring', '...   \n",
              "1802  {'Group name': 'flight, gulp, herd, kettle, ri...   \n",
              "1803  {'Lifestyle': 'Arboreal, Terrestrial, Altricia...   \n",
              "1804  {'Lifestyle': 'Terrestrial, Altricial,', 'Seas...   \n",
              "1805  {'Group name': 'aerie, boil, cast, kettle, lea...   \n",
              "\n",
              "                                             Diet_y  \\\n",
              "0                              Carnivore,,Scavenger   \n",
              "1                                         Carnivore   \n",
              "2                                          Omnivore   \n",
              "3                             Carnivore,,Piscivores   \n",
              "4                                         Carnivore   \n",
              "...                                             ...   \n",
              "1801                                       Omnivore   \n",
              "1802                        Carnivore,,Insectivores   \n",
              "1803  Carnivore,,Insectivores,,Herbivore,,Frugivore   \n",
              "1804                        Insectivores,,Granivore   \n",
              "1805                                      Carnivore   \n",
              "\n",
              "                                        Mating_Habits_y  \\\n",
              "0     {'Mating behavior': 'Monogamy', 'Reproduction ...   \n",
              "1     {'Mating behavior': 'Polygyny', 'Reproduction ...   \n",
              "2     {'Mating behavior': 'Polygynandry,', 'Reproduc...   \n",
              "3     {'Mating behavior': 'Monogamy', 'Reproduction ...   \n",
              "4     {'Mating behavior': 'Polygynandry', 'Reproduct...   \n",
              "...                                                 ...   \n",
              "1801  {'Mating behavior': 'Monogamy', 'Reproduction ...   \n",
              "1802  {'Reproduction season': 'begins in late Septem...   \n",
              "1803  {'Mating behavior': 'Monogamy', 'Reproduction ...   \n",
              "1804  {'Mating behavior': 'Serial monogamy', 'Reprod...   \n",
              "1805  {'Reproduction season': 'late February-late Ma...   \n",
              "\n",
              "                                           Population_y Avg_Pop_Size  \\\n",
              "0     {'Population trend': 'Stable', 'Population sta...       400000   \n",
              "1     {'Population trend': 'Decreasing', 'Population...         2656   \n",
              "2     {'Population trend': 'Stable', 'Population sta...       200000   \n",
              "3     {'Population trend': 'Increasing', 'Population...        17500   \n",
              "4          {'Population status': 'Data deficient (DD)'}        50000   \n",
              "...                                                 ...          ...   \n",
              "1801  {'Population trend': 'Increasing', 'Population...         2000   \n",
              "1802  {'Population trend': 'Decreasing', 'Population...         2750   \n",
              "1803  {'Population trend': 'Decreasing', 'Population...     27500000   \n",
              "1804  {'Population trend': 'Decreasing', 'Population...       113715   \n",
              "1805  {'Population trend': 'Decreasing', 'Population...      2000000   \n",
              "\n",
              "       Pop_Trend            Pop_Status  \n",
              "0         Stable    Least concern (LC)  \n",
              "1     Decreasing       Endangered (EN)  \n",
              "2         Stable    Least concern (LC)  \n",
              "3     Increasing       Endangered (EN)  \n",
              "4            NaN   Data deficient (DD)  \n",
              "...          ...                   ...  \n",
              "1801  Increasing  Near Threatened (NT)  \n",
              "1802  Decreasing       Vulnerable (VU)  \n",
              "1803  Decreasing    Least concern (LC)  \n",
              "1804  Decreasing    Least concern (LC)  \n",
              "1805  Decreasing    Least concern (LC)  \n",
              "\n",
              "[1806 rows x 53 columns]"
            ],
            "text/html": [
              "\n",
              "  <div id=\"df-c8ffc38a-960f-4d15-bbbd-a122b17a336f\">\n",
              "    <div class=\"colab-df-container\">\n",
              "      <div>\n",
              "<style scoped>\n",
              "    .dataframe tbody tr th:only-of-type {\n",
              "        vertical-align: middle;\n",
              "    }\n",
              "\n",
              "    .dataframe tbody tr th {\n",
              "        vertical-align: top;\n",
              "    }\n",
              "\n",
              "    .dataframe thead th {\n",
              "        text-align: right;\n",
              "    }\n",
              "</style>\n",
              "<table border=\"1\" class=\"dataframe\">\n",
              "  <thead>\n",
              "    <tr style=\"text-align: right;\">\n",
              "      <th></th>\n",
              "      <th>Unnamed: 0</th>\n",
              "      <th>index_x</th>\n",
              "      <th>Name</th>\n",
              "      <th>Kingdom_x</th>\n",
              "      <th>Phylum_x</th>\n",
              "      <th>Subphylum_x</th>\n",
              "      <th>Class_x</th>\n",
              "      <th>Order_x</th>\n",
              "      <th>Suborder_x</th>\n",
              "      <th>Family_x</th>\n",
              "      <th>...</th>\n",
              "      <th>Length_y</th>\n",
              "      <th>Attributes_y</th>\n",
              "      <th>Distribution_y</th>\n",
              "      <th>Habits_y</th>\n",
              "      <th>Diet_y</th>\n",
              "      <th>Mating_Habits_y</th>\n",
              "      <th>Population_y</th>\n",
              "      <th>Avg_Pop_Size</th>\n",
              "      <th>Pop_Trend</th>\n",
              "      <th>Pop_Status</th>\n",
              "    </tr>\n",
              "  </thead>\n",
              "  <tbody>\n",
              "    <tr>\n",
              "      <th>0</th>\n",
              "      <td>0</td>\n",
              "      <td>0</td>\n",
              "      <td>Grey Wolf</td>\n",
              "      <td>Animalia</td>\n",
              "      <td>Chordata</td>\n",
              "      <td>Vertebrata</td>\n",
              "      <td>Mammalia</td>\n",
              "      <td>Carnivora</td>\n",
              "      <td>Caniformia</td>\n",
              "      <td>Canidae</td>\n",
              "      <td>...</td>\n",
              "      <td>105-160 cm</td>\n",
              "      <td>Nocturnal,Carnivore,Scavenger,Terrestrial,Curs...</td>\n",
              "      <td>{'Geography': {'Continents': 'Asia, Europe, No...</td>\n",
              "      <td>{'Group name': 'pack, route, rout', 'Lifestyle...</td>\n",
              "      <td>Carnivore,,Scavenger</td>\n",
              "      <td>{'Mating behavior': 'Monogamy', 'Reproduction ...</td>\n",
              "      <td>{'Population trend': 'Stable', 'Population sta...</td>\n",
              "      <td>400000</td>\n",
              "      <td>Stable</td>\n",
              "      <td>Least concern (LC)</td>\n",
              "    </tr>\n",
              "    <tr>\n",
              "      <th>1</th>\n",
              "      <td>1</td>\n",
              "      <td>1</td>\n",
              "      <td>Tiger</td>\n",
              "      <td>Animalia</td>\n",
              "      <td>Chordata</td>\n",
              "      <td>Vertebrata</td>\n",
              "      <td>Mammalia</td>\n",
              "      <td>Carnivora</td>\n",
              "      <td>Feliformia</td>\n",
              "      <td>Felidae</td>\n",
              "      <td>...</td>\n",
              "      <td>200-390 cm</td>\n",
              "      <td>Nocturnal,Carnivore,Cursorial,Terrestrial,Ambu...</td>\n",
              "      <td>{'Geography': {'Continents': 'Asia', 'Subconti...</td>\n",
              "      <td>{'Lifestyle': 'Cursorial, Terrestrial, Ambush ...</td>\n",
              "      <td>Carnivore</td>\n",
              "      <td>{'Mating behavior': 'Polygyny', 'Reproduction ...</td>\n",
              "      <td>{'Population trend': 'Decreasing', 'Population...</td>\n",
              "      <td>2656</td>\n",
              "      <td>Decreasing</td>\n",
              "      <td>Endangered (EN)</td>\n",
              "    </tr>\n",
              "    <tr>\n",
              "      <th>2</th>\n",
              "      <td>2</td>\n",
              "      <td>2</td>\n",
              "      <td>Brown Bear</td>\n",
              "      <td>Animalia</td>\n",
              "      <td>Chordata</td>\n",
              "      <td>Vertebrata</td>\n",
              "      <td>Mammalia</td>\n",
              "      <td>Carnivora</td>\n",
              "      <td>Caniformia</td>\n",
              "      <td>Ursidae</td>\n",
              "      <td>...</td>\n",
              "      <td>1.4-2.8 m</td>\n",
              "      <td>Crepuscular,Omnivore,Terrestrial,Altricial,Nom...</td>\n",
              "      <td>{'Geography': {'Continents': 'Asia, Europe, No...</td>\n",
              "      <td>{'Group name': 'sloth, sleuth', 'Lifestyle': '...</td>\n",
              "      <td>Omnivore</td>\n",
              "      <td>{'Mating behavior': 'Polygynandry,', 'Reproduc...</td>\n",
              "      <td>{'Population trend': 'Stable', 'Population sta...</td>\n",
              "      <td>200000</td>\n",
              "      <td>Stable</td>\n",
              "      <td>Least concern (LC)</td>\n",
              "    </tr>\n",
              "    <tr>\n",
              "      <th>3</th>\n",
              "      <td>3</td>\n",
              "      <td>3</td>\n",
              "      <td>Blue Whale</td>\n",
              "      <td>Animalia</td>\n",
              "      <td>Chordata</td>\n",
              "      <td>Vertebrata</td>\n",
              "      <td>Mammalia</td>\n",
              "      <td>Artiodactyla</td>\n",
              "      <td>NaN</td>\n",
              "      <td>Balaenopteridae</td>\n",
              "      <td>...</td>\n",
              "      <td>25-30 m</td>\n",
              "      <td>Carnivore,Piscivores,Aquatic,Precocial,Natator...</td>\n",
              "      <td>{'Geography': {'Continents': 'Africa, South Am...</td>\n",
              "      <td>{'Group name': 'pod, gam, herd, school, mod', ...</td>\n",
              "      <td>Carnivore,,Piscivores</td>\n",
              "      <td>{'Mating behavior': 'Monogamy', 'Reproduction ...</td>\n",
              "      <td>{'Population trend': 'Increasing', 'Population...</td>\n",
              "      <td>17500</td>\n",
              "      <td>Increasing</td>\n",
              "      <td>Endangered (EN)</td>\n",
              "    </tr>\n",
              "    <tr>\n",
              "      <th>4</th>\n",
              "      <td>4</td>\n",
              "      <td>4</td>\n",
              "      <td>Killer Whale</td>\n",
              "      <td>Animalia</td>\n",
              "      <td>Chordata</td>\n",
              "      <td>Vertebrata</td>\n",
              "      <td>Mammalia</td>\n",
              "      <td>Artiodactyla</td>\n",
              "      <td>NaN</td>\n",
              "      <td>Delphinidae</td>\n",
              "      <td>...</td>\n",
              "      <td>6-9 m</td>\n",
              "      <td>Diurnal,Carnivore,Aquatic,Precocial,Cosmopolit...</td>\n",
              "      <td>{'Geography': {'Continents': 'Africa, Oceania,...</td>\n",
              "      <td>{'Group name': 'pod, gam, herd, school, mod', ...</td>\n",
              "      <td>Carnivore</td>\n",
              "      <td>{'Mating behavior': 'Polygynandry', 'Reproduct...</td>\n",
              "      <td>{'Population status': 'Data deficient (DD)'}</td>\n",
              "      <td>50000</td>\n",
              "      <td>NaN</td>\n",
              "      <td>Data deficient (DD)</td>\n",
              "    </tr>\n",
              "    <tr>\n",
              "      <th>...</th>\n",
              "      <td>...</td>\n",
              "      <td>...</td>\n",
              "      <td>...</td>\n",
              "      <td>...</td>\n",
              "      <td>...</td>\n",
              "      <td>...</td>\n",
              "      <td>...</td>\n",
              "      <td>...</td>\n",
              "      <td>...</td>\n",
              "      <td>...</td>\n",
              "      <td>...</td>\n",
              "      <td>...</td>\n",
              "      <td>...</td>\n",
              "      <td>...</td>\n",
              "      <td>...</td>\n",
              "      <td>...</td>\n",
              "      <td>...</td>\n",
              "      <td>...</td>\n",
              "      <td>...</td>\n",
              "      <td>...</td>\n",
              "      <td>...</td>\n",
              "    </tr>\n",
              "    <tr>\n",
              "      <th>1801</th>\n",
              "      <td>1801</td>\n",
              "      <td>21645</td>\n",
              "      <td>Brown Teal</td>\n",
              "      <td>Animalia</td>\n",
              "      <td>Chordata</td>\n",
              "      <td>NaN</td>\n",
              "      <td>Aves</td>\n",
              "      <td>Anseriformes</td>\n",
              "      <td>NaN</td>\n",
              "      <td>Anatidae</td>\n",
              "      <td>...</td>\n",
              "      <td>48 cm</td>\n",
              "      <td>Nocturnal,Omnivore,Semiaquatic,Waterfowl,Terre...</td>\n",
              "      <td>{'Geography': {'Continents': 'Oceania', 'Count...</td>\n",
              "      <td>{'Group name': 'coil, diving, knob, spring', '...</td>\n",
              "      <td>Omnivore</td>\n",
              "      <td>{'Mating behavior': 'Monogamy', 'Reproduction ...</td>\n",
              "      <td>{'Population trend': 'Increasing', 'Population...</td>\n",
              "      <td>2000</td>\n",
              "      <td>Increasing</td>\n",
              "      <td>Near Threatened (NT)</td>\n",
              "    </tr>\n",
              "    <tr>\n",
              "      <th>1802</th>\n",
              "      <td>1802</td>\n",
              "      <td>21710</td>\n",
              "      <td>Blue Swallow</td>\n",
              "      <td>Animalia</td>\n",
              "      <td>Chordata</td>\n",
              "      <td>NaN</td>\n",
              "      <td>Aves</td>\n",
              "      <td>Passeriformes</td>\n",
              "      <td>NaN</td>\n",
              "      <td>Hirundinidae</td>\n",
              "      <td>...</td>\n",
              "      <td>18-25 cm</td>\n",
              "      <td>Diurnal,Carnivore,Insectivores,Arboreal,Glidin...</td>\n",
              "      <td>{'Geography': {'Continents': 'Africa', 'Subcon...</td>\n",
              "      <td>{'Group name': 'flight, gulp, herd, kettle, ri...</td>\n",
              "      <td>Carnivore,,Insectivores</td>\n",
              "      <td>{'Reproduction season': 'begins in late Septem...</td>\n",
              "      <td>{'Population trend': 'Decreasing', 'Population...</td>\n",
              "      <td>2750</td>\n",
              "      <td>Decreasing</td>\n",
              "      <td>Vulnerable (VU)</td>\n",
              "    </tr>\n",
              "    <tr>\n",
              "      <th>1803</th>\n",
              "      <td>1803</td>\n",
              "      <td>22076</td>\n",
              "      <td>Blue-Crowned Motmot</td>\n",
              "      <td>Animalia</td>\n",
              "      <td>Chordata</td>\n",
              "      <td>NaN</td>\n",
              "      <td>Aves</td>\n",
              "      <td>Coraciiformes</td>\n",
              "      <td>NaN</td>\n",
              "      <td>Momotidae</td>\n",
              "      <td>...</td>\n",
              "      <td>38-43 cm</td>\n",
              "      <td>Crepuscular,Carnivore,Insectivores,Herbivore,F...</td>\n",
              "      <td>{'Geography': {'Continents': 'North America', ...</td>\n",
              "      <td>{'Lifestyle': 'Arboreal, Terrestrial, Altricia...</td>\n",
              "      <td>Carnivore,,Insectivores,,Herbivore,,Frugivore</td>\n",
              "      <td>{'Mating behavior': 'Monogamy', 'Reproduction ...</td>\n",
              "      <td>{'Population trend': 'Decreasing', 'Population...</td>\n",
              "      <td>27500000</td>\n",
              "      <td>Decreasing</td>\n",
              "      <td>Least concern (LC)</td>\n",
              "    </tr>\n",
              "    <tr>\n",
              "      <th>1804</th>\n",
              "      <td>1804</td>\n",
              "      <td>22447</td>\n",
              "      <td>Crested Bellbird</td>\n",
              "      <td>Animalia</td>\n",
              "      <td>Chordata</td>\n",
              "      <td>NaN</td>\n",
              "      <td>Aves</td>\n",
              "      <td>Passeriformes</td>\n",
              "      <td>NaN</td>\n",
              "      <td>Oreoicidae</td>\n",
              "      <td>...</td>\n",
              "      <td>19-23 cm</td>\n",
              "      <td>Insectivores,Granivore,Terrestrial,Altricial,S...</td>\n",
              "      <td>{'Geography': {'Continents': 'Oceania', 'Count...</td>\n",
              "      <td>{'Lifestyle': 'Terrestrial, Altricial,', 'Seas...</td>\n",
              "      <td>Insectivores,,Granivore</td>\n",
              "      <td>{'Mating behavior': 'Serial monogamy', 'Reprod...</td>\n",
              "      <td>{'Population trend': 'Decreasing', 'Population...</td>\n",
              "      <td>113715</td>\n",
              "      <td>Decreasing</td>\n",
              "      <td>Least concern (LC)</td>\n",
              "    </tr>\n",
              "    <tr>\n",
              "      <th>1805</th>\n",
              "      <td>1805</td>\n",
              "      <td>23022</td>\n",
              "      <td>Common Black Hawk</td>\n",
              "      <td>Animalia</td>\n",
              "      <td>Chordata</td>\n",
              "      <td>NaN</td>\n",
              "      <td>Aves</td>\n",
              "      <td>Accipitriformes</td>\n",
              "      <td>NaN</td>\n",
              "      <td>Accipitridae</td>\n",
              "      <td>...</td>\n",
              "      <td>43-53 cm</td>\n",
              "      <td>Diurnal,Carnivore,Arboreal,Predator,Soaring bi...</td>\n",
              "      <td>{'Geography': {'Continents': 'North America, S...</td>\n",
              "      <td>{'Group name': 'aerie, boil, cast, kettle, lea...</td>\n",
              "      <td>Carnivore</td>\n",
              "      <td>{'Reproduction season': 'late February-late Ma...</td>\n",
              "      <td>{'Population trend': 'Decreasing', 'Population...</td>\n",
              "      <td>2000000</td>\n",
              "      <td>Decreasing</td>\n",
              "      <td>Least concern (LC)</td>\n",
              "    </tr>\n",
              "  </tbody>\n",
              "</table>\n",
              "<p>1806 rows × 53 columns</p>\n",
              "</div>\n",
              "      <button class=\"colab-df-convert\" onclick=\"convertToInteractive('df-c8ffc38a-960f-4d15-bbbd-a122b17a336f')\"\n",
              "              title=\"Convert this dataframe to an interactive table.\"\n",
              "              style=\"display:none;\">\n",
              "        \n",
              "  <svg xmlns=\"http://www.w3.org/2000/svg\" height=\"24px\"viewBox=\"0 0 24 24\"\n",
              "       width=\"24px\">\n",
              "    <path d=\"M0 0h24v24H0V0z\" fill=\"none\"/>\n",
              "    <path d=\"M18.56 5.44l.94 2.06.94-2.06 2.06-.94-2.06-.94-.94-2.06-.94 2.06-2.06.94zm-11 1L8.5 8.5l.94-2.06 2.06-.94-2.06-.94L8.5 2.5l-.94 2.06-2.06.94zm10 10l.94 2.06.94-2.06 2.06-.94-2.06-.94-.94-2.06-.94 2.06-2.06.94z\"/><path d=\"M17.41 7.96l-1.37-1.37c-.4-.4-.92-.59-1.43-.59-.52 0-1.04.2-1.43.59L10.3 9.45l-7.72 7.72c-.78.78-.78 2.05 0 2.83L4 21.41c.39.39.9.59 1.41.59.51 0 1.02-.2 1.41-.59l7.78-7.78 2.81-2.81c.8-.78.8-2.07 0-2.86zM5.41 20L4 18.59l7.72-7.72 1.47 1.35L5.41 20z\"/>\n",
              "  </svg>\n",
              "      </button>\n",
              "      \n",
              "  <style>\n",
              "    .colab-df-container {\n",
              "      display:flex;\n",
              "      flex-wrap:wrap;\n",
              "      gap: 12px;\n",
              "    }\n",
              "\n",
              "    .colab-df-convert {\n",
              "      background-color: #E8F0FE;\n",
              "      border: none;\n",
              "      border-radius: 50%;\n",
              "      cursor: pointer;\n",
              "      display: none;\n",
              "      fill: #1967D2;\n",
              "      height: 32px;\n",
              "      padding: 0 0 0 0;\n",
              "      width: 32px;\n",
              "    }\n",
              "\n",
              "    .colab-df-convert:hover {\n",
              "      background-color: #E2EBFA;\n",
              "      box-shadow: 0px 1px 2px rgba(60, 64, 67, 0.3), 0px 1px 3px 1px rgba(60, 64, 67, 0.15);\n",
              "      fill: #174EA6;\n",
              "    }\n",
              "\n",
              "    [theme=dark] .colab-df-convert {\n",
              "      background-color: #3B4455;\n",
              "      fill: #D2E3FC;\n",
              "    }\n",
              "\n",
              "    [theme=dark] .colab-df-convert:hover {\n",
              "      background-color: #434B5C;\n",
              "      box-shadow: 0px 1px 3px 1px rgba(0, 0, 0, 0.15);\n",
              "      filter: drop-shadow(0px 1px 2px rgba(0, 0, 0, 0.3));\n",
              "      fill: #FFFFFF;\n",
              "    }\n",
              "  </style>\n",
              "\n",
              "      <script>\n",
              "        const buttonEl =\n",
              "          document.querySelector('#df-c8ffc38a-960f-4d15-bbbd-a122b17a336f button.colab-df-convert');\n",
              "        buttonEl.style.display =\n",
              "          google.colab.kernel.accessAllowed ? 'block' : 'none';\n",
              "\n",
              "        async function convertToInteractive(key) {\n",
              "          const element = document.querySelector('#df-c8ffc38a-960f-4d15-bbbd-a122b17a336f');\n",
              "          const dataTable =\n",
              "            await google.colab.kernel.invokeFunction('convertToInteractive',\n",
              "                                                     [key], {});\n",
              "          if (!dataTable) return;\n",
              "\n",
              "          const docLinkHtml = 'Like what you see? Visit the ' +\n",
              "            '<a target=\"_blank\" href=https://colab.research.google.com/notebooks/data_table.ipynb>data table notebook</a>'\n",
              "            + ' to learn more about interactive tables.';\n",
              "          element.innerHTML = '';\n",
              "          dataTable['output_type'] = 'display_data';\n",
              "          await google.colab.output.renderOutput(dataTable, element);\n",
              "          const docLink = document.createElement('div');\n",
              "          docLink.innerHTML = docLinkHtml;\n",
              "          element.appendChild(docLink);\n",
              "        }\n",
              "      </script>\n",
              "    </div>\n",
              "  </div>\n",
              "  "
            ]
          },
          "metadata": {},
          "execution_count": 43
        }
      ]
    },
    {
      "cell_type": "code",
      "source": [
        "finaldf = finaldf[['Name','Class_x','Suborder_x','average_pregnancy_duration', 'diet', 'average_life_span','Avg_Pop_Size', 'Pop_Trend','Pop_Status']]\n",
        "finaldf"
      ],
      "metadata": {
        "colab": {
          "base_uri": "https://localhost:8080/",
          "height": 423
        },
        "id": "SBYgROKjMAyJ",
        "outputId": "3d73ac2b-571f-456e-ed60-62aa999cd5b3"
      },
      "execution_count": null,
      "outputs": [
        {
          "output_type": "execute_result",
          "data": {
            "text/plain": [
              "                     Name   Class_x  Suborder_x  average_pregnancy_duration  \\\n",
              "0               Grey Wolf  Mammalia  Caniformia                          61   \n",
              "1                   Tiger  Mammalia  Feliformia                         103   \n",
              "2              Brown Bear  Mammalia  Caniformia                          56   \n",
              "3              Blue Whale  Mammalia         NaN                         365   \n",
              "4            Killer Whale  Mammalia         NaN                         495   \n",
              "...                   ...       ...         ...                         ...   \n",
              "1801           Brown Teal      Aves         NaN                           0   \n",
              "1802         Blue Swallow      Aves         NaN                           0   \n",
              "1803  Blue-Crowned Motmot      Aves         NaN                           0   \n",
              "1804     Crested Bellbird      Aves         NaN                           0   \n",
              "1805    Common Black Hawk      Aves         NaN                           0   \n",
              "\n",
              "           diet  average_life_span  Avg_Pop_Size   Pop_Trend  \\\n",
              "0     Carnivore                 15        400000      Stable   \n",
              "1     Carnivore                 12          2656  Decreasing   \n",
              "2      Omnivore                 35        200000      Stable   \n",
              "3     Carnivore                 85         17500  Increasing   \n",
              "4     Carnivore                 65         50000         NaN   \n",
              "...         ...                ...           ...         ...   \n",
              "1801   Omnivore                  0          2000  Increasing   \n",
              "1802  Carnivore                  0          2750  Decreasing   \n",
              "1803  Carnivore                  0      27500000  Decreasing   \n",
              "1804  Herbivore                  0        113715  Decreasing   \n",
              "1805  Carnivore                  0       2000000  Decreasing   \n",
              "\n",
              "                Pop_Status  \n",
              "0       Least concern (LC)  \n",
              "1          Endangered (EN)  \n",
              "2       Least concern (LC)  \n",
              "3          Endangered (EN)  \n",
              "4      Data deficient (DD)  \n",
              "...                    ...  \n",
              "1801  Near Threatened (NT)  \n",
              "1802       Vulnerable (VU)  \n",
              "1803    Least concern (LC)  \n",
              "1804    Least concern (LC)  \n",
              "1805    Least concern (LC)  \n",
              "\n",
              "[1806 rows x 9 columns]"
            ],
            "text/html": [
              "\n",
              "  <div id=\"df-2e8e15e3-31f2-44bd-94ba-0817fcf8f5dc\">\n",
              "    <div class=\"colab-df-container\">\n",
              "      <div>\n",
              "<style scoped>\n",
              "    .dataframe tbody tr th:only-of-type {\n",
              "        vertical-align: middle;\n",
              "    }\n",
              "\n",
              "    .dataframe tbody tr th {\n",
              "        vertical-align: top;\n",
              "    }\n",
              "\n",
              "    .dataframe thead th {\n",
              "        text-align: right;\n",
              "    }\n",
              "</style>\n",
              "<table border=\"1\" class=\"dataframe\">\n",
              "  <thead>\n",
              "    <tr style=\"text-align: right;\">\n",
              "      <th></th>\n",
              "      <th>Name</th>\n",
              "      <th>Class_x</th>\n",
              "      <th>Suborder_x</th>\n",
              "      <th>average_pregnancy_duration</th>\n",
              "      <th>diet</th>\n",
              "      <th>average_life_span</th>\n",
              "      <th>Avg_Pop_Size</th>\n",
              "      <th>Pop_Trend</th>\n",
              "      <th>Pop_Status</th>\n",
              "    </tr>\n",
              "  </thead>\n",
              "  <tbody>\n",
              "    <tr>\n",
              "      <th>0</th>\n",
              "      <td>Grey Wolf</td>\n",
              "      <td>Mammalia</td>\n",
              "      <td>Caniformia</td>\n",
              "      <td>61</td>\n",
              "      <td>Carnivore</td>\n",
              "      <td>15</td>\n",
              "      <td>400000</td>\n",
              "      <td>Stable</td>\n",
              "      <td>Least concern (LC)</td>\n",
              "    </tr>\n",
              "    <tr>\n",
              "      <th>1</th>\n",
              "      <td>Tiger</td>\n",
              "      <td>Mammalia</td>\n",
              "      <td>Feliformia</td>\n",
              "      <td>103</td>\n",
              "      <td>Carnivore</td>\n",
              "      <td>12</td>\n",
              "      <td>2656</td>\n",
              "      <td>Decreasing</td>\n",
              "      <td>Endangered (EN)</td>\n",
              "    </tr>\n",
              "    <tr>\n",
              "      <th>2</th>\n",
              "      <td>Brown Bear</td>\n",
              "      <td>Mammalia</td>\n",
              "      <td>Caniformia</td>\n",
              "      <td>56</td>\n",
              "      <td>Omnivore</td>\n",
              "      <td>35</td>\n",
              "      <td>200000</td>\n",
              "      <td>Stable</td>\n",
              "      <td>Least concern (LC)</td>\n",
              "    </tr>\n",
              "    <tr>\n",
              "      <th>3</th>\n",
              "      <td>Blue Whale</td>\n",
              "      <td>Mammalia</td>\n",
              "      <td>NaN</td>\n",
              "      <td>365</td>\n",
              "      <td>Carnivore</td>\n",
              "      <td>85</td>\n",
              "      <td>17500</td>\n",
              "      <td>Increasing</td>\n",
              "      <td>Endangered (EN)</td>\n",
              "    </tr>\n",
              "    <tr>\n",
              "      <th>4</th>\n",
              "      <td>Killer Whale</td>\n",
              "      <td>Mammalia</td>\n",
              "      <td>NaN</td>\n",
              "      <td>495</td>\n",
              "      <td>Carnivore</td>\n",
              "      <td>65</td>\n",
              "      <td>50000</td>\n",
              "      <td>NaN</td>\n",
              "      <td>Data deficient (DD)</td>\n",
              "    </tr>\n",
              "    <tr>\n",
              "      <th>...</th>\n",
              "      <td>...</td>\n",
              "      <td>...</td>\n",
              "      <td>...</td>\n",
              "      <td>...</td>\n",
              "      <td>...</td>\n",
              "      <td>...</td>\n",
              "      <td>...</td>\n",
              "      <td>...</td>\n",
              "      <td>...</td>\n",
              "    </tr>\n",
              "    <tr>\n",
              "      <th>1801</th>\n",
              "      <td>Brown Teal</td>\n",
              "      <td>Aves</td>\n",
              "      <td>NaN</td>\n",
              "      <td>0</td>\n",
              "      <td>Omnivore</td>\n",
              "      <td>0</td>\n",
              "      <td>2000</td>\n",
              "      <td>Increasing</td>\n",
              "      <td>Near Threatened (NT)</td>\n",
              "    </tr>\n",
              "    <tr>\n",
              "      <th>1802</th>\n",
              "      <td>Blue Swallow</td>\n",
              "      <td>Aves</td>\n",
              "      <td>NaN</td>\n",
              "      <td>0</td>\n",
              "      <td>Carnivore</td>\n",
              "      <td>0</td>\n",
              "      <td>2750</td>\n",
              "      <td>Decreasing</td>\n",
              "      <td>Vulnerable (VU)</td>\n",
              "    </tr>\n",
              "    <tr>\n",
              "      <th>1803</th>\n",
              "      <td>Blue-Crowned Motmot</td>\n",
              "      <td>Aves</td>\n",
              "      <td>NaN</td>\n",
              "      <td>0</td>\n",
              "      <td>Carnivore</td>\n",
              "      <td>0</td>\n",
              "      <td>27500000</td>\n",
              "      <td>Decreasing</td>\n",
              "      <td>Least concern (LC)</td>\n",
              "    </tr>\n",
              "    <tr>\n",
              "      <th>1804</th>\n",
              "      <td>Crested Bellbird</td>\n",
              "      <td>Aves</td>\n",
              "      <td>NaN</td>\n",
              "      <td>0</td>\n",
              "      <td>Herbivore</td>\n",
              "      <td>0</td>\n",
              "      <td>113715</td>\n",
              "      <td>Decreasing</td>\n",
              "      <td>Least concern (LC)</td>\n",
              "    </tr>\n",
              "    <tr>\n",
              "      <th>1805</th>\n",
              "      <td>Common Black Hawk</td>\n",
              "      <td>Aves</td>\n",
              "      <td>NaN</td>\n",
              "      <td>0</td>\n",
              "      <td>Carnivore</td>\n",
              "      <td>0</td>\n",
              "      <td>2000000</td>\n",
              "      <td>Decreasing</td>\n",
              "      <td>Least concern (LC)</td>\n",
              "    </tr>\n",
              "  </tbody>\n",
              "</table>\n",
              "<p>1806 rows × 9 columns</p>\n",
              "</div>\n",
              "      <button class=\"colab-df-convert\" onclick=\"convertToInteractive('df-2e8e15e3-31f2-44bd-94ba-0817fcf8f5dc')\"\n",
              "              title=\"Convert this dataframe to an interactive table.\"\n",
              "              style=\"display:none;\">\n",
              "        \n",
              "  <svg xmlns=\"http://www.w3.org/2000/svg\" height=\"24px\"viewBox=\"0 0 24 24\"\n",
              "       width=\"24px\">\n",
              "    <path d=\"M0 0h24v24H0V0z\" fill=\"none\"/>\n",
              "    <path d=\"M18.56 5.44l.94 2.06.94-2.06 2.06-.94-2.06-.94-.94-2.06-.94 2.06-2.06.94zm-11 1L8.5 8.5l.94-2.06 2.06-.94-2.06-.94L8.5 2.5l-.94 2.06-2.06.94zm10 10l.94 2.06.94-2.06 2.06-.94-2.06-.94-.94-2.06-.94 2.06-2.06.94z\"/><path d=\"M17.41 7.96l-1.37-1.37c-.4-.4-.92-.59-1.43-.59-.52 0-1.04.2-1.43.59L10.3 9.45l-7.72 7.72c-.78.78-.78 2.05 0 2.83L4 21.41c.39.39.9.59 1.41.59.51 0 1.02-.2 1.41-.59l7.78-7.78 2.81-2.81c.8-.78.8-2.07 0-2.86zM5.41 20L4 18.59l7.72-7.72 1.47 1.35L5.41 20z\"/>\n",
              "  </svg>\n",
              "      </button>\n",
              "      \n",
              "  <style>\n",
              "    .colab-df-container {\n",
              "      display:flex;\n",
              "      flex-wrap:wrap;\n",
              "      gap: 12px;\n",
              "    }\n",
              "\n",
              "    .colab-df-convert {\n",
              "      background-color: #E8F0FE;\n",
              "      border: none;\n",
              "      border-radius: 50%;\n",
              "      cursor: pointer;\n",
              "      display: none;\n",
              "      fill: #1967D2;\n",
              "      height: 32px;\n",
              "      padding: 0 0 0 0;\n",
              "      width: 32px;\n",
              "    }\n",
              "\n",
              "    .colab-df-convert:hover {\n",
              "      background-color: #E2EBFA;\n",
              "      box-shadow: 0px 1px 2px rgba(60, 64, 67, 0.3), 0px 1px 3px 1px rgba(60, 64, 67, 0.15);\n",
              "      fill: #174EA6;\n",
              "    }\n",
              "\n",
              "    [theme=dark] .colab-df-convert {\n",
              "      background-color: #3B4455;\n",
              "      fill: #D2E3FC;\n",
              "    }\n",
              "\n",
              "    [theme=dark] .colab-df-convert:hover {\n",
              "      background-color: #434B5C;\n",
              "      box-shadow: 0px 1px 3px 1px rgba(0, 0, 0, 0.15);\n",
              "      filter: drop-shadow(0px 1px 2px rgba(0, 0, 0, 0.3));\n",
              "      fill: #FFFFFF;\n",
              "    }\n",
              "  </style>\n",
              "\n",
              "      <script>\n",
              "        const buttonEl =\n",
              "          document.querySelector('#df-2e8e15e3-31f2-44bd-94ba-0817fcf8f5dc button.colab-df-convert');\n",
              "        buttonEl.style.display =\n",
              "          google.colab.kernel.accessAllowed ? 'block' : 'none';\n",
              "\n",
              "        async function convertToInteractive(key) {\n",
              "          const element = document.querySelector('#df-2e8e15e3-31f2-44bd-94ba-0817fcf8f5dc');\n",
              "          const dataTable =\n",
              "            await google.colab.kernel.invokeFunction('convertToInteractive',\n",
              "                                                     [key], {});\n",
              "          if (!dataTable) return;\n",
              "\n",
              "          const docLinkHtml = 'Like what you see? Visit the ' +\n",
              "            '<a target=\"_blank\" href=https://colab.research.google.com/notebooks/data_table.ipynb>data table notebook</a>'\n",
              "            + ' to learn more about interactive tables.';\n",
              "          element.innerHTML = '';\n",
              "          dataTable['output_type'] = 'display_data';\n",
              "          await google.colab.output.renderOutput(dataTable, element);\n",
              "          const docLink = document.createElement('div');\n",
              "          docLink.innerHTML = docLinkHtml;\n",
              "          element.appendChild(docLink);\n",
              "        }\n",
              "      </script>\n",
              "    </div>\n",
              "  </div>\n",
              "  "
            ]
          },
          "metadata": {},
          "execution_count": 44
        }
      ]
    },
    {
      "cell_type": "code",
      "source": [
        "finaldf['diet'].unique()"
      ],
      "metadata": {
        "colab": {
          "base_uri": "https://localhost:8080/"
        },
        "id": "Tl0PjE__MQ63",
        "outputId": "abeac1d3-a680-49cb-8ff8-ccd0575c7f7a"
      },
      "execution_count": null,
      "outputs": [
        {
          "output_type": "execute_result",
          "data": {
            "text/plain": [
              "array(['Carnivore', 'Omnivore', 'Herbivore'], dtype=object)"
            ]
          },
          "metadata": {},
          "execution_count": 45
        }
      ]
    },
    {
      "cell_type": "code",
      "source": [
        "df['Attributes'][0]"
      ],
      "metadata": {
        "id": "FXSfhhGWOohN",
        "colab": {
          "base_uri": "https://localhost:8080/",
          "height": 54
        },
        "outputId": "31bad5af-515d-4b33-be2e-b386e92aaf40"
      },
      "execution_count": null,
      "outputs": [
        {
          "output_type": "execute_result",
          "data": {
            "text/plain": [
              "'Nocturnal,Carnivore,Scavenger,Terrestrial,Cursorial,Altricial,Pack hunters,Apex predator,Pursuit predator,Nomadic,Territorial,Viviparous,Pack hunters,Ambush predator,Monogamy,Social,Dominance hierarchy,Not a migrant,starts with,Dangerous Animals'"
            ],
            "application/vnd.google.colaboratory.intrinsic+json": {
              "type": "string"
            }
          },
          "metadata": {},
          "execution_count": 46
        }
      ]
    },
    {
      "cell_type": "markdown",
      "source": [
        "# Getting NUm Countries"
      ],
      "metadata": {
        "id": "6XPFR7UzrYM-"
      }
    },
    {
      "cell_type": "code",
      "source": [
        "regions1=[]\n",
        "for i in range(len(df1['Distribution'])):\n",
        "  if 'Countries' in eval(df1['Distribution'][i])['Geography'].keys():\n",
        "    regions1.append(eval(df1['Distribution'][i])['Geography']['Countries'])\n",
        "  else:\n",
        "    regions1.append('Null')\n",
        "print(regions1)"
      ],
      "metadata": {
        "colab": {
          "base_uri": "https://localhost:8080/"
        },
        "id": "IlRfkos0rXxf",
        "outputId": "17407e63-635a-40c4-b474-c0bc0301bb7b"
      },
      "execution_count": null,
      "outputs": [
        {
          "output_type": "stream",
          "name": "stdout",
          "text": [
            "['Albania, Armenia, Azerbaijan, Belarus, Bhutan, Bosnia and Herzegovina, Bulgaria, Canada, China, Croatia,', 'Bangladesh, Bhutan, China,   India, Indonesia, Laos, Malaysia, Myanmar, Nepal, Russia,', 'Albania, Armenia, Austria, Azerbaijan, Belarus, Bosnia and Herzegovina, Bulgaria, Canada, China, Croatia,', 'Angola, Argentina, Australia, Bahamas, Bangladesh, Benin, Brazil, Cameroon, Canada, Cape Verde,', 'Algeria, Antigua and Barbuda, Argentina, Australia, Bahamas, Bangladesh, Barbados, Belize, Benin, Brazil,', 'China', 'Angola, Benin, Botswana, Burkina Faso, Cameroon, Central African Republic, Chad, DR Congo, Ethiopia, India,', 'Australia', 'Argentina, Belize, Bolivia, Brazil, Canada, Chile, Colombia, Costa Rica, Ecuador,  El Salvador,', 'Australia', 'Argentina, Belize, Bolivia, Brazil, Colombia, Costa Rica, Ecuador, Guatemala, Guyana, Honduras,', 'Belize, Canada, Costa Rica, El Salvador,  Guatemala, Honduras, Mexico, Nicaragua, Panama, United States', 'Canada, Norway, Russia, United States', 'Algeria, Angola, Benin, Botswana, Burkina Faso, Central African Republic, Chad, Ethiopia, Iran, Kenya,', 'Australia', 'Belize, Canada, Costa Rica, El Salvador, Guatemala, Honduras, Mexico, Nicaragua, Panama, United States', 'Angola, Armenia, Azerbaijan, Bangladesh, Benin, Bhutan, Botswana, Burkina Faso, Burundi, Cambodia,', 'Canada, Russia', 'Angola, Benin, Botswana, Burkina Faso, Burundi, Cameroon, Central African Republic, Chad, Congo, DR Congo,', 'Canada, China, Finland, Mongolia, Norway, Russia, Sweden, United States, Estonia', 'Bhutan, China,  India, Myanmar, Nepal', 'Australia', 'Argentina, Bolivia, Brazil, Colombia, Ecuador, Guyana, Paraguay, Peru, Uruguay, Venezuela', 'Australia', 'Null', 'Chile, Bolivia, Ecuador, Peru', 'Null', 'Canada, United States', 'DR Congo', 'Algeria, Angola, Benin, Botswana, Burkina Faso, Burundi, Cameroon, Central African Republic, Chad, Congo,', 'Null', 'Albania, Algeria, Andorra, Armenia, Austria, Azerbaijan, Bangladesh, Belarus, Belgium, Bhutan,', 'Albania, Algeria, Andorra, Armenia, Austria, Azerbaijan, Bangladesh, Belgium, Bhutan, Bosnia and Herzegovina,', 'Canada, United States', 'Bhutan, China, India,  Kazakhstan, Kyrgyzstan, Mongolia, Nepal, Pakistan, Russia, Tajikistan,', 'China, Japan, South Korea, North Korea, Russia, Viet Nam', 'Canada, Mexico, United States', 'Angola, Botswana, Namibia, South Africa', 'Angola, Benin, Botswana, Burkina Faso, Central African Republic, Chad, Ethiopia, Kenya, Malawi, Mozambique,', 'Canada, United States', 'Canada, Russia, United States', 'Canada, Russia, United States, Belgium, Denmark, Faroe Islands, France, Germany, Iceland, Ireland,', 'Canada, Finland, Mongolia, Norway, Russia, United States', 'Bhutan, Canada, China, Kazakhstan, Kyrgyzstan, Mongolia, Russia, United States', 'Argentina, Belize, Bolivia, Brazil, Colombia, Costa Rica, Ecuador, El Salvador, Guatemala, Guyana,', 'Argentina, Bolivia, Brazil, Chile, Paraguay, Uruguay', 'Australia, Indonesia, Papua New Guinea', 'Australia', 'DR Congo', 'Angola, Antigua and Barbuda, Argentina, Australia, Bahamas, Bangladesh, Barbados, Benin, Brazil, Cameroon,', \"Algeria, Angola, Benin, Botswana, Burkina Faso, Cameroon, Central African Republic, Chad,  DR Congo, Cote d'Ivoire,\", 'Canada, Finland, Iceland, Norway, Russia, Sweden, United States', 'Algeria, Chad, Egypt, Libya, Mali, Mauritania,  Morocco, Niger, Sudan, Tunisia,', 'Canada, United States', 'Null', 'Albania, Andorra, Austria, Azerbaijan, Belarus, Belgium, Bosnia and Herzegovina, Bulgaria, Canada,  China,', 'Canada, Mexico, United States', 'Canada, Japan, Mexico,  Russia, United States', 'India, China', 'China, Japan, Kazakhstan, North Korea, Mongolia, Russia', 'Albania, Algeria, Angola, Antigua and Barbuda, Argentina, Australia, Bahamas, Bangladesh, Barbados, Belgium,', 'Cameroon, Congo,  Equatorial Guinea, Gabon', 'Angola, Benin, Botswana, Burkina Faso, Burundi, Cameroon, Central African Republic, Chad, Congo, DR Congo,', 'Madagascar', 'South Africa, DR Congo, South Sudan, Sudan, Botswana, Kenya, Mozambique, Namibia, Swaziland, Uganda,', 'Null', 'Mexico', 'Bangladesh, Bhutan, Cambodia, China, India, Indonesia, Laos, Malaysia, Myanmar, Nepal,', 'Bhutan, Cambodia, China, India, Laos, Malaysia, Myanmar, Nepal, Thailand, Viet Nam,', 'Bangladesh, Bhutan, Cambodia, China, India, Indonesia, Laos, Malaysia, Myanmar, Nepal,', 'Angola, Benin, Botswana, Burkina Faso, Burundi, Cameroon, Central African Republic, Chad, Congo,  DR Congo,', 'Australia, Bahrain, Brunei, Cambodia, China, Comoros, Djibouti, Egypt, Eritrea, India,', 'Bangladesh, Bhutan, Brunei, Cambodia, China, India, Indonesia,  Laos, Malaysia, Myanmar,', 'Djibouti, Ethiopia, Kenya, Somalia', 'Algeria, Armenia, Austria,  Belarus, Belgium, Bosnia and Herzegovina, Bulgaria, Croatia, Czech Republic, Denmark,', 'Indomalayan', 'Albania, Algeria, Andorra, Armenia, Austria, Azerbaijan, Bahrain, Belarus, Belgium, Bosnia and Herzegovina,', 'Philippines', 'Canada', 'China, Japan, Russia', 'Angola, Benin, Botswana, Burkina Faso, Burundi, Cameroon, Central African Republic, Chad, Congo, DR Congo,', 'India, Nepal, Sri Lanka', 'Bangladesh, Bhutan, Cambodia, China, India, Indonesia, Laos, Malaysia, Myanmar, Nepal,', 'Bangladesh, Bhutan, Cambodia, China, India, Laos, Malaysia, Myanmar, Nepal, Thailand,', 'Argentina, Bolivia, Brazil, Paraguay, Peru, Uruguay', 'Bangladesh, Brunei, Cambodia, India, Indonesia, Laos, Malaysia, Myanmar, Thailand, Viet Nam,', 'Azerbaijan, Bhutan, China,  Iran, Kazakhstan, Kyrgyzstan, Mongolia, Nepal, Pakistan, Armenia,', \"Angola, Benin, Botswana, Burkina Faso, Cameroon, Central African Republic, Chad, Congo, DR Congo, Cote d'Ivoire,\", 'Canada, United States', 'India, Nepal', 'Null', 'Angola, Kenya, Mozambique, Namibia, South Africa, Tanzania, Zimbabwe, Ethiopia, Botswana, Malawi,', 'Afghanistan, India, Pakistan, Tajikistan, Turkmenistan, Uzbekistan', 'Albania, Armenia, Austria, Azerbaijan, Belarus, Bosnia and Herzegovina, Bulgaria, China, Croatia, Czech Republic,', \"Angola, Benin, Botswana, Burkina Faso, Burundi, Cameroon,  Central African Republic, Chad, DR Congo, Cote d'Ivoire,\", 'Canada, United States', 'Madagascar', 'Angola, Botswana, Kenya,  Malawi, Mozambique, Namibia, Rwanda, South Africa, Swaziland, Tanzania,', 'Albania, Armenia, Austria, Belarus, Belgium, Bosnia and Herzegovina, Bulgaria, Croatia, Czech Republic, Denmark,', 'Australia, Brazil, Chile, New Zealand, South Africa', 'Canada, Mexico, United States', 'India, Nepal, Pakistan', 'Argentina, Bolivia,  Chile, Peru', 'Antigua and Barbuda, Argentina, Australia, Bahamas, Bangladesh, Barbados, Belize, Benin, Brunei, Cambodia,', 'India', 'Belarus, Lithuania, Poland, Romania, Russia, Slovakia, Ukraine, Kyrgyzstan', 'Belize, Bolivia, Brazil, Colombia, Costa Rica, Ecuador, El Salvador, Guatemala, Guyana, Honduras,', 'Bolivia, Brazil, Colombia,  Ecuador, Peru, Venezuela', 'Canada, United States', 'Canada, United States', 'Botswana, Namibia, South Africa', 'Canada, Mexico, United States', 'Canada, United States', 'Argentina, Belize, Bolivia, Brazil, Colombia, Costa Rica,  Ecuador, El Salvador, Guatemala, Guyana,', 'Canada, Mexico, United States', 'Turkey', 'Bolivia, Colombia, Ecuador, Peru, Venezuela', 'Argentina, Bolivia, Chile, Paraguay, Peru', 'Canada, United States', 'India, Pakistan', 'Algeria, Chad, Egypt, Iran, Iraq, Jordan, Kazakhstan, Kuwait, Mali, Mauritania,', 'Egypt, Ethiopia, Georgia, Iran, Iraq, Israel, Jordan, Kenya, Lebanon, Libya, Mali, Mauritania, Morocco, Niger, Nigeria, Oman, Pakistan, Saudi Arabia,  Senegal, Syria, Tajikistan, Tanzania, Tunisia, Turkey, Turkmenistan, Uganda, Uzbekistan, Western Sahara, Yemen, Benin, Central African Republic, Eritrea, Guinea, Kuwait, Qatar, Somalia, Sudan, United Arab Emirates', 'China, Mongolia  Palearctic', 'Bangladesh,  Bhutan, China, India, Laos, Myanmar, Nepal, Pakistan, Thailand, Viet Nam,', 'Albania, Austria, Azerbaijan, Bosnia and Herzegovina, Bulgaria, Federated States of Micronesia, France, Georgia, Germany, Greece,', 'Albania, Andorra, Armenia, Austria, Azerbaijan, Belarus, Belgium, Bosnia and Herzegovina, Bulgaria, Croatia,', 'Angola, Botswana,  Namibia, South Africa', 'Indonesia,  Malaysia, Myanmar', 'Kazakhstan,  Mongolia, Russia, Uzbekistan, Turkmenistan', 'Angola, Botswana, Egypt, Eritrea, Swaziland, Ethiopia, Kenya, Mozambique, Namibia, Somalia,', 'Armenia, Azerbaijan, India, Iran, Kazakhstan, Oman, Pakistan, Tajikistan, Turkey, Turkmenistan,', 'India', 'Australia', 'China, Mongolia, Russia', 'Mexico, United States', 'Canada, United States', 'Albania,  Armenia, Austria, Azerbaijan, Belgium, Bosnia and Herzegovina, Bulgaria, Croatia, Czech Republic, Denmark,', 'Algeria, Angola, Argentina, Australia, Belgium, Brazil, Canada, Cape Verde, Chile, China,', 'Albania, Andorra, Armenia, Austria, Azerbaijan, Belarus, Belgium, Bosnia and Herzegovina, Bulgaria, Canada,', 'Canada, United States', 'Bangladesh, Bhutan, Cambodia, China, India, Indonesia, Laos, Malaysia, Myanmar, Nepal,', 'Bangladesh, Bhutan, Brunei, Cambodia, China, Hong Kong, India, Indonesia, Japan,  North Korea,', 'Canada, United States', 'Indomalayan', 'Bolivia, Brazil, Colombia, Ecuador,  Guyana, Paraguay, Peru, Suriname, Venezuela', 'Bangladesh, Bhutan, India, Nepal, Sri Lanka', 'Japan', 'Australia', 'Albania, Andorra, Austria, Belarus, Belgium, Bosnia and Herzegovina, Bulgaria, Croatia, Czech Republic, Denmark,', 'Albania, Austria, Belarus, Belgium, Bosnia and Herzegovina, Bulgaria, Croatia, Czech Republic, Denmark, Estonia,', 'Spain, Portugal', 'Canada,  United States', 'Indonesia', 'Italy, Austria, France, Germany, Switzerland', 'Albania, Algeria, Bahrain, Bhutan, Bosnia and Herzegovina, Bulgaria, Central African Republic, Croatia, Djibouti, Egypt,', 'Madagascar', 'Indonesia, Malaysia', 'Canada, Mexico, United States', 'United States', 'China', 'Argentina, Bolivia, Brazil, Colombia, Costa Rica, Ecuador, Guyana, Honduras, Nicaragua, Panama,', 'France, Portugal, Spain', \"Cote d'Ivoire, Guinea, Liberia, Sierra Leone\", 'Null', 'Belgium, Canada, Denmark, Finland, France, Germany, Iceland,  Ireland, Japan, Mexico,', 'China, North Korea, South Korea', 'Ethiopia', 'Canada, United States', 'Bangladesh, Cambodia, India,  Myanmar, Nepal, Pakistan, Sri Lanka, Thailand', \"Algeria, Angola, Benin, Botswana, Burkina Faso, Cameroon, Central African Republic, Chad, DR Congo, Cote d'Ivoire,\", 'Egypt, Iraq, Jordan, Kuwait, Syria, United Arab Emirates,  Yemen', 'Bhutan, Cambodia, India,  Myanmar, Nepal, Thailand, Viet Nam', 'Bangladesh, India, Nepal, Pakistan, Bhutan', 'Argentina, Belize, Bolivia, Brazil, Colombia, Costa Rica, Ecuador, El Salvador, Guatemala, Guyana,', 'Angola, Botswana, DR Congo, Ethiopia, Kenya, Malawi, Mozambique, Namibia, Rwanda, South Africa,', 'Bangladesh, Brunei, Cambodia, India, Indonesia, Laos, Malaysia, Myanmar, Philippines, Singapore,', 'Bangladesh,  Bhutan, Brunei, Cambodia, China, India, Indonesia, Laos, Malaysia, Myanmar,', 'Angola, Cameroon, Central African Republic, Congo, Equatorial Guinea, Gabon, Nigeria', 'Syria, Turkey', 'Argentina, Belize, Bolivia, Brazil, Colombia, Costa Rica, Ecuador, El Salvador, Grenada, Guatemala,', 'Australia', 'China, India, Iran, Mongolia, Turkmenistan, Israel, Kazakhstan, Uzbekistan', 'Null', 'Laos, Viet Nam', 'Canada, Mexico, United States  Nearctic', 'Indonesia', 'China, Mongolia', 'Angola, Botswana, DR Congo, Ethiopia, Kenya, Lesotho, Malawi, Mozambique, Namibia, Rwanda,', 'Rwanda, Uganda, DR Congo', 'Brunei, China, Indonesia, Malaysia, Myanmar, Philippines, Singapore, Thailand, Timor-Leste, Viet Nam', 'Nearctic', \"Angola, Benin, Burkina Faso, Cameroon, Central African Republic, DR Congo, Congo, Cote d'Ivoire, Equatorial Guinea, Ethiopia,\", 'India   Karnataka, Kerala, Tamil Nadu', 'Angola, Botswana, Central African Republic, Chad, DR Congo, Eritrea, Swaziland, Ethiopia, Kenya, Malawi,', 'China', 'Canada, Iceland,  Norway, Russia, Denmark, Faroe Islands, Finland, France, Germany, Spain,', 'Mexico, United States', 'Bahamas, Belize, Brazil, Colombia, Costa Rica, Cuba, Dominican Republic, Guatemala, Guyana, Honduras,', 'China', 'Bolivia, Brazil, Colombia, Ecuador, Peru', 'Botswana, Namibia, South Africa, Zimbabwe, Angola', 'Canada, United States', 'Indonesia, Malaysia, Myanmar, Thailand', 'Afghanistan, Pakistan, India, Nepal, Bhutan, Israel, Iran, Turkey, Syria', 'Canada, United States', 'Algeria, Morocco', 'Canada, Mexico, Nicaragua, United States, Venezuela, Colombia, Costa Rica, El Salvador, Guatemala, Honduras', 'Belize,  Bolivia, Brazil, Canada, Colombia, Costa Rica, Ecuador, El Salvador, Guatemala, Honduras,', 'Eritrea, Ethiopia', 'India', 'Palearctic, Indomalayan', 'Bangladesh, Bhutan, China, India, Maldives,  Myanmar, Nepal, Pakistan, Sri Lanka', 'Albania, Austria, Azerbaijan, Belarus, Belgium, Bosnia and Herzegovina, Bulgaria, Croatia, Czech Republic, France,', 'Angola, Botswana, Mozambique, Namibia, South Africa, Swaziland, Tanzania, Zambia, Zimbabwe', 'Ethiopia', 'Canada, Mexico, United States', 'Canada, Mexico, United States, Costa Rica, El Salvador, Guatemala, Honduras', 'Philippines', 'Bangladesh, Brunei, Cambodia, India, Indonesia, Laos, Malaysia, Myanmar, Philippines, Singapore,', 'Russia', 'Albania, Antigua and Barbuda, Argentina, Australia, Bahamas, Bangladesh, Barbados, Belize, Benin, Brazil,', 'China, India', 'Canada, Mexico, United States', 'Kazakhstan, Russia', 'Indonesia', 'Indonesia, Malaysia, Thailand', 'India, Nepal, Pakistan, Sri Lanka, Bangladesh', 'Argentina, Belize, Bolivia, Brazil, Chile, Colombia, Costa Rica, Ecuador, El Salvador, Guatemala,', 'Null', 'Canada', 'Albania, Algeria, Andorra, Armenia, Austria, Azerbaijan, Bangladesh, Belarus, Belgium, Bhutan,', 'Antigua and Barbuda, Argentina, Barbados, Bolivia, Brazil, Chile, Colombia, Costa Rica, Cuba, Dominica,', 'Angola, Botswana, Djibouti, Eritrea, Ethiopia, Kenya, Lesotho, Mozambique, Namibia, Somalia,', 'Belgium, Canada, Denmark, Estonia, Faroe Islands, Finland, France, Germany, Iceland, Ireland,', 'Cambodia, Indonesia, Malaysia, Myanmar, Thailand, Viet Nam', 'Australia', 'Australia', 'Belarus, China, France, Germany, Kazakhstan, Luxembourg, Mongolia, Norway, Russia, Austria,', 'Argentina', 'Ethiopia, Kenya', 'Angola, Argentina, Australia, Bahamas, Brazil, Canada, Cape Verde, Chile,  Congo, DR Congo,', 'Mexico, United States', 'Canada', 'Angola, Botswana, Namibia, South Africa, Zimbabwe', 'Null', 'Bangladesh, Bhutan, Cambodia, China, India, Indonesia, Laos, Malaysia, Myanmar, Nepal,', 'Chile', 'Argentina, Australia, Brazil, Chile, Gabon, Madagascar, Mauritius, Mozambique, Namibia, New Zealand,', 'Argentina, Bolivia, Brazil, Colombia, Ecuador, Guyana, Paraguay, Peru, Suriname, Venezuela', 'Kenya, Tanzania', 'Chad, Niger', 'India, Bangladesh, Myanmar, China', 'Argentina', 'Bolivia, Brazil, Colombia, Costa Rica, Ecuador, Honduras, Nicaragua, Panama, Peru, Venezuela,', 'Brazil', 'Angola, Botswana, Cameroon, Central African Republic,  Chad, DR Congo, Ethiopia, Kenya, Mozambique, Namibia,', 'Philippines', 'Canada, Mexico, United States, Japan, Argentina, Australia, Chile, New Zealand', 'Angola, Botswana, DR Congo, Kenya, Malawi, Mozambique, Namibia, South Africa,  Tanzania, Zambia,', 'Australia, Indonesia, Papua New Guinea', 'Belgium, Bulgaria, Canada, Cape Verde, China, Denmark, Estonia, Faroe Islands, Finland, France,', 'Djibouti, Eritrea, Ethiopia, Saudi Arabia, Somalia, Sudan, Yemen', 'Canada, United States', 'Albania, Algeria, Angola, Antigua and Barbuda, Argentina, Australia, Bahamas, Bahrain, Bangladesh, Barbados,', 'Belize, Colombia, Costa Rica, El Salvador, Guatemala, Honduras, Mexico, Nicaragua, Panama, United States', 'Australia, Indonesia, Papua New Guinea', 'Angola, Botswana, Lesotho, Mozambique, Namibia, South Africa, Swaziland, Zambia, Zimbabwe', 'Angola, Botswana, Ethiopia, Kenya, Mozambique, Namibia, Somalia, South Africa, South Sudan, Tanzania,', 'Croatia, Cyprus, Greece, Mauritania,  Portugal, Turkey, Western Sahara, Albania, Egypt, France,', 'Bangladesh, Cambodia, Indonesia, Malaysia, Myanmar, Thailand, Viet Nam', 'Argentina, Belize, Bolivia, Brazil, Colombia, Costa Rica, Ecuador, El Salvador, Guatemala, Guyana,', 'Argentina, Bolivia, Brazil, Colombia, Ecuador,  Guyana, Paraguay, Peru, Suriname, Uruguay,', 'United States', 'Brunei, Indonesia, Malaysia', 'Malawi, Mozambique, South Africa, Zimbabwe', 'Australia', 'Canada, Japan, Russia, United States, China, North Korea, South Korea', 'Botswana, Kenya, Namibia, South Africa, Swaziland, Zambia, Zimbabwe', \"Cameroon, Central African Republic, Congo, DR Congo, Cote d'Ivoire, Equatorial Guinea, Gabon, Ghana, Guinea, Guinea-Bissau,\", \"Angola, Benin, Botswana, Burkina Faso, Cameroon, Central African Republic, Congo, DR Congo, Cote d'Ivoire, Djibouti,\", 'Canada, United States  Alberta, British Columbia, Labrador, Manitoba, New Brunswick, Newfoundland, Northwest Territories, Nova Scotia, Ontario, Québec,', 'Bangladesh, Bhutan, Brunei, Cambodia, China, India, Indonesia, Laos, Malaysia, Myanmar,', 'France, Romania, Russia, Spain,  Ukraine, Estonia', 'Angola, Benin, Botswana, Burkina Faso, Burundi, Cameroon, Central African Republic, Chad,  Congo, DR Congo,', 'Algeria, Chad, Egypt, Libya, Mali, Mauritania, Morocco, Niger, Sudan, Tunisia', 'Armenia, Azerbaijan, Georgia, Iran, Iraq, Pakistan, Russia, Turkey, Turkmenistan, Afghanistan', \"Angola, Benin, Botswana, Burkina Faso, Cameroon, Central African Republic, Chad, DR Congo, Cote d'Ivoire, Ethiopia,\", 'Albania, Algeria, Andorra, Austria, Belarus, Belgium, Bosnia and Herzegovina, Bulgaria, Croatia, Czech Republic,', \"Cote d'Ivoire, Guinea, Guinea-Bissau, Liberia, Senegal, Sierra Leone\", 'China, India, Nepal, Bhutan', 'Afrotropical', 'Canada, Estonia, Finland, Japan, Latvia, Norway, Russia,  Sweden, United States, China,', 'Albania, Armenia, Austria, Azerbaijan, Belarus, Belgium, Bhutan, Bosnia and Herzegovina, Bulgaria, China,', \"Angola, Benin, Botswana, Burkina Faso, Burundi, Central African Republic, Chad, Congo, DR Congo, Cote d'Ivoire,\", 'Indonesia', 'Bhutan, China, India, Myanmar, Nepal, Pakistan', 'Indonesia, Malaysia', 'Angola, Botswana, Central African Republic,  DR Congo, Djibouti, Eritrea, Swaziland, Ethiopia, Kenya, Malawi,', 'Cameroon, Central African Republic, Chad, Guinea, Mali, Senegal, South Sudan', 'Bahrain, Bangladesh, Bhutan, India, Iran, Kuwait, Nepal, Pakistan, Saudi Arabia, Sri Lanka,', 'Argentina, Bolivia, Brazil,  Colombia, Ecuador, Guyana, Paraguay, Peru, Suriname, Venezuela', 'United States', 'China, India, Nepal', 'Afghanistan, India, Iran, Pakistan', 'Sri Lanka', \"Cameroon, Central African Republic, Congo, DR Congo, Cote d'Ivoire, Ethiopia, Gabon, Ghana, Guinea, Kenya,\", 'Canada, United States', 'Argentina, Belize, Bolivia, Brazil, Colombia, Costa Rica, Ecuador, El Salvador, Guatemala, Guyana,', \"Algeria, Angola, Benin, Botswana, Burkina Faso, Cameroon, Central African Republic, Chad, Cote d'Ivoire, Djibouti,\", 'China, India, Kazakhstan, Kyrgyzstan, Mongolia, Nepal, Pakistan, Russia, Tajikistan, Uzbekistan,', 'Namibia, South Africa', 'India, Bhutan', 'Canada, United States', 'Afghanistan, Albania, Algeria, Azerbaijan, Bahrain, Bhutan, Bosnia and Herzegovina, Bulgaria, China, Croatia,', 'Belize, Costa Rica, El Salvador, Guatemala, Honduras, Mexico, Nicaragua, Panama', 'China, India, Nepal, Bhutan', 'United States', 'Argentina, Bolivia, Chile, Peru', 'Afghanistan, Albania, Armenia, Austria, Azerbaijan, Belarus, Belgium, Bosnia and Herzegovina, Bulgaria, China,', \"Benin, Burkina Faso, Burundi, Cameroon, Central African Republic, Chad, Congo, DR Congo, Cote d'Ivoire, Eritrea,\", 'Egypt, Israel, Jordan, Oman, Saudi Arabia, Sudan, Yemen, Ethiopia, Eritrea', 'Brazil, Colombia, Ecuador, Peru', 'Argentina, Australia, Bahamas, Bahrain, Bangladesh, Belize,  Brazil, Brunei, Cambodia, Cape Verde,', 'Australia', 'Neotropical', 'Brunei, Indonesia, Malaysia, Thailand', 'Canada, Mexico, United States', 'Argentina, Belize, Bolivia, Brazil, Colombia, Costa Rica, Ecuador, El Salvador, Guatemala, Guyana,', 'Canada, Guatemala, Honduras, Mexico, United States', 'Bolivia, Brazil, Colombia, Costa Rica, Ecuador, Guyana,  Panama, Peru, Suriname, Venezuela', 'Bhutan, China, Hong Kong, India, Laos, Myanmar, Nepal, Taiwan, Thailand, Viet Nam', 'Madagascar', 'Canada, Japan, Mexico, Russia, United States', 'Afghanistan, Bangladesh, Bhutan, Brunei, Cambodia, China, India, Indonesia, South Korea, North Korea,', 'Colombia, Ecuador', 'Argentina, Australia, Chile, New Zealand, South Africa, Uruguay', 'Armenia, Azerbaijan, India, Iran, Kazakhstan, Oman, Pakistan, Tajikistan, Turkey, Turkmenistan,', 'Bolivia, Brazil, Colombia, Peru', 'Indonesia, Malaysia', \"Benin, Burkina Faso, Cote d'Ivoire, Gambia, Ghana, Guinea, Guinea-Bissau, Liberia, Mali, Senegal,\", 'Bangladesh, Bhutan, Brunei, Cambodia, China, India, Indonesia, Laos, Malaysia, Myanmar,', 'Argentina, Belize, Bolivia, Brazil, Colombia, Costa Rica, Ecuador, El Salvador, Guatemala, Guyana,', 'Colombia', 'Japan', 'Afghanistan, China, Iran, Kazakhstan, Kyrgyzstan, Mongolia, Russia,  Tajikistan, Turkmenistan, Uzbekistan', 'China, Japan, South Korea, Taiwan', 'Algeria, Angola, Antigua and Barbuda, Argentina, Australia, Bahamas, Barbados, Brazil, Canada, Chile,', 'Canada, Iceland, Norway, Antigua and Barbuda, Bahamas, Denmark, France, Germany, Ireland, Portugal,', 'Canada, United States', 'India, Sri Lanka', 'Albania, Andorra, Austria, Belarus, Belgium, Bosnia and Herzegovina, Bulgaria, Croatia, Czech Republic, Denmark,', 'Botswana, Central African Republic, Chad, Kenya, Malawi, Mozambique, Namibia, Rwanda, South Africa, South Sudan,', 'Bangladesh, Bhutan, Brunei, Cambodia, China, India, Indonesia, Iraq, Laos, Malaysia,', 'Australasian', 'China, Kazakhstan, Mongolia, Russia', 'Algeria, Argentina, Australia, Belgium, Brazil, Canada, Chile, Denmark, Faroe Islands, France,', 'Austria,  Belarus, China, Estonia, Finland, France, Germany, Ireland, Italy, Japan,', 'Samoa, Antigua and Barbuda, Australia, Bahamas, Bangladesh, Barbados, Belize, Benin, Brazil, Brunei,', \"Angola, Cameroon, Central African Republic, Congo, DR Congo, Cote d'Ivoire, Equatorial Guinea, Gabon, Ghana, Guinea,\", 'Australia', 'China, Kazakhstan, Mongolia, Russia', \"Benin, Cameroon, Central African Republic, Congo, DR Congo, Cote d'Ivoire, Equatorial Guinea, Gabon, Ghana, Guinea,\", 'Canada, Mexico, United States', \"Benin, Burkina Faso, Cameroon, Central African Republic, Chad, DR Congo, Cote d'Ivoire, Eritrea, Ethiopia, Gambia,\", 'Viet Nam', 'Argentina, Chile', \"Algeria, Angola, Benin, Burkina Faso, Cameroon,  Chad, Cote d'Ivoire, Eritrea, Ethiopia, Gambia,\", 'Canada, United States', 'China, Kazakhstan, North Korea, South Korea, Mongolia, Russia', 'Austria, Germany, Italy, Liechtenstein, Poland, Slovakia, Slovenia, Switzerland, Romania', 'Albania, Andorra, Australia, Belarus, Belgium, Bosnia and Herzegovina, Bulgaria, Croatia, Czech Republic, Denmark,', 'Armenia, Austria, Azerbaijan, Belarus, Belgium, Bosnia and Herzegovina, Bulgaria, China, Croatia, Czech Republic,', 'Brunei, Indonesia, Malaysia, Thailand', 'Canada, United States', 'Japan', 'Cameroon, Equatorial Guinea, Nigeria', 'Angola, Antigua and Barbuda, Argentina, Australia, Bahamas, Bahrain, Bangladesh, Barbados,  Belize, Benin,', 'China, India, Nepal, Pakistan, Bhutan', 'Australia, Indonesia, Papua New Guinea', 'Costa Rica, Honduras, Nicaragua, Panama', 'Andorra, Armenia,  Austria, Azerbaijan, Belarus, Belgium, Bosnia and Herzegovina, Bulgaria, China, Croatia,', 'Argentina, Bolivia, Chile, Colombia, Ecuador, Peru', 'South Africa', 'Canada, United States', 'Brazil, Colombia, Ecuador, Peru', 'Angola, Botswana, Burundi, Ethiopia, Kenya, Malawi, Mozambique, Namibia, Rwanda, Somalia,', 'Canada, United States', 'Australia', \"Angola, Botswana, Burkina Faso, Burundi, Cameroon, Central African Republic, Chad, Congo, DR Congo, Cote d'Ivoire,\", 'Argentina, Australia, Brazil, Chile, New Zealand, South Africa, Uruguay', 'Honduras, Nicaragua, Costa Rica, Panama', 'Argentina, Chile, Peru', 'China, Taiwan', 'Cambodia, Laos, Viet Nam', 'Angola, Botswana, DR Congo, Namibia, Zambia', 'Brazil', 'Barbados, Belize, Canada, Comoros, Costa Rica,  Cuba, Dominica, Dominican Republic, Guatemala, Honduras,', 'Mexico, United States', \"Benin, Burkina Faso, Cameroon, Central African Republic, Chad, Cote d'Ivoire, Djibouti, Eritrea, Ethiopia, Gambia,\", 'Mexico, United States', 'Bhutan, China, India, South Korea, North Korea, Mongolia, Myanmar, Nepal, Pakistan, Russia,', 'Antigua and Barbuda, Argentina, Australia, Bahamas, Bangladesh, Belgium, Brazil, Canada, Cape Verde, Chile,', 'Australia', 'Argentina, Bolivia, Brazil, Chile, Ecuador, Paraguay, Peru, Uruguay', 'Ecuador, Colombia, Costa Rica', \"Angola, Benin, Cameroon, Central African Republic, Congo, DR Congo, Cote d'Ivoire, Equatorial Guinea, Gabon, Ghana,\", 'Argentina, Bolivia, Brazil, Chile, Paraguay, Uruguay', 'Canada, Mexico, United States', 'Armenia, Azerbaijan, China, Georgia, India, Iran, Iraq, Israel, Jordan, Kazakhstan,', 'Mexico, United States  Nebraska, Kansas, Wyoming, Nevada, North Dakota, Texas, California, New Mexico, South Dakota, Oklahoma,', 'New Zealand', 'Angola, Benin, Botswana, Burkina Faso, Burundi, Cameroon, Central African Republic, Chad, Congo, DR Congo,', 'Angola, Namibia, South Africa', 'China', 'Bangladesh, Bhutan, Cambodia, China, India, Laos, Malaysia, Myanmar, Nepal, Thailand,', 'Australia', 'Japan', 'Brunei, Cambodia, Indonesia,  Laos, Malaysia, Myanmar, Singapore, Thailand, Viet Nam', 'Brunei, Indonesia, Malaysia, Thailand', 'Argentina, Belize, Bolivia, Brazil, Colombia, Costa Rica, Ecuador, El Salvador, Guatemala, Guyana,', 'Null', 'Austria, Belarus, Belgium, Bulgaria, China, Croatia, Czech Republic, France, Georgia, Germany,', 'Bhutan, India', 'Madagascar', 'Australia, Brazil, China, Egypt, Indonesia, Iran, Japan, Madagascar, Malaysia, Mauritania,', \"Angola, Benin, Botswana, Burkina Faso, Cameroon, Central African Republic, Chad, DR Congo, Cote d'Ivoire, Ethiopia,\", 'Colombia, Ecuador, Peru', 'Angola, Benin, Botswana, Burundi, Cameroon, Central African Republic, Chad, Congo, DR Congo, Equatorial Guinea,', 'Afghanistan, Bangladesh, Bhutan, Brunei, Cambodia, China, India, Indonesia, Laos, Malaysia,', 'Algeria, Chad, Djibouti, Egypt, Eritrea, Ethiopia, Israel, Jordan, Libya, Mali,', 'China, Japan, Kazakhstan, North Korea, South Korea, Mongolia, Russia', \"Angola, Burundi, Cameroon, Congo, DR Congo, Cote d'Ivoire, Cyprus, Egypt, Equatorial Guinea, Eritrea,\", 'Philippines', 'Japan', 'Null', 'Argentina, Bolivia, Brazil, Colombia, Costa Rica, Ecuador, Guyana, Panama, Paraguay, Peru,', 'Brunei, Indonesia, Malaysia', 'Afghanistan, China, Cyprus, Egypt, Iran, Iraq, Israel, Kyrgyzstan,  Lebanon, Libya,', 'Canada, Japan, North Korea, South Korea, Mexico, Russia, United States, China, Taiwan', 'Belize, Colombia, Costa Rica, El Salvador, Guatemala, Honduras, Mexico, Nicaragua, Panama', \"Angola, Benin, Cameroon, Chad, Congo, DR Congo, Cote d'Ivoire, Equatorial Guinea, Gabon, Gambia,\", 'South Africa, Argentina, Australia, Brazil, Chile', 'Mexico', 'India, Nepal', 'Bangladesh, Bhutan, Brunei, Cambodia, China, India, Indonesia, Laos, Malaysia, Myanmar,', 'Ethiopia, Kenya, Somalia, South Sudan, Tanzania, Uganda', 'Bangladesh, Bhutan, Cambodia, China, India, Indonesia, Laos, Malaysia, Myanmar, Nepal,', 'Canada, Mexico, United States', 'Afghanistan, China, India, Kazakhstan, Kyrgyzstan, Mongolia, Pakistan, Russia, Tajikistan, Uzbekistan', \"Angola, Benin, Botswana, Burkina Faso, Cameroon, Chad, DR Congo, Cote d'Ivoire, Eritrea, Ethiopia,\", 'Argentina, Belize, Bolivia, Brazil, Colombia, Costa Rica, Ecuador, Guatemala, Guyana, Honduras,', 'Algeria,  Angola, Benin, Botswana, Burkina Faso, Burundi, Cameroon, Central African Republic, Chad, Congo,', 'Angola, Benin, Botswana, Burkina Faso, Burundi, Cameroon, Central African Republic, Chad, Congo, DR Congo,', 'Canada, Japan, North Korea, South Korea, Mexico, Russia, United States', 'China, India, Nepal, Pakistan', 'Argentina, Bolivia, Brazil, Colombia, Ecuador, Guyana, Paraguay, Peru, Suriname, Trinidad and Tobago,', 'Afghanistan, Albania, Algeria, Andorra, Armenia, Austria, Azerbaijan, Belarus, Belgium, Bosnia and Herzegovina,', 'Madagascar', 'Canada, Russia, United States', \"Angola, Benin,  Botswana, Burkina Faso, Cameroon, Central African Republic, Chad, Congo, Cote d'Ivoire, Eritrea,\", 'Canada, China, Japan, North Korea, South Korea, Mexico, Russia, United States', 'Brazil, Guyana, Suriname, Venezuela', 'Australia', 'Bangladesh, Bhutan, Cambodia, India, Nepal, Pakistan, China, Laos, Myanmar, Viet Nam,', 'Argentina, Brazil, Chile, Peru, Uruguay, Colombia, Ecuador', 'Finland, Norway, Russia, Sweden', 'Azerbaijan, Iran, Kazakhstan, Russia, Turkmenistan', 'United States', 'United States', 'Angola, Kenya, Namibia, Somalia, Tanzania, Uganda', \"Benin, Botswana, Burundi, Cameroon, Congo, DR Congo, Cote d'Ivoire, Equatorial Guinea, Gabon, Swaziland,\", 'United States', 'Angola, Burundi, DR Congo, Ethiopia, Kenya, Malawi, Mozambique, Rwanda, Somalia, South Africa,', 'Philippines', 'South Africa', 'Bolivia, Brazil, Colombia, Costa Rica, Ecuador, Honduras, Nicaragua, Panama, Peru, Venezuela', 'Indonesia', 'Mexico, United States', 'Ethiopia, Kenya, Malawi, Mozambique, Somalia, Tanzania, Zambia', \"Benin, Burkina Faso, Cameroon, Central African Republic, Chad, DR Congo, Cote d'Ivoire, Ethiopia, Gambia, Ghana,\", 'Australia', 'Brunei, Cambodia, Indonesia, Laos, Malaysia, Myanmar, Singapore, Thailand, Viet Nam', 'Angola, Botswana, DR Congo, Malawi, Tanzania, Zambia, Namibia, Zimbabwe', 'Angola, Botswana, Kenya, Mozambique, Namibia, South Africa, Swaziland,  Tanzania, Zambia, Zimbabwe', 'Philippines, Malaysia', 'Madagascar', 'Bolivia, Brazil, Colombia, Ecuador, Peru', 'Belize, Bolivia, Brazil, Colombia, Costa Rica, Ecuador, Guatemala, Guyana, Honduras, Mexico,', 'Australia', 'Afghanistan, Armenia, Azerbaijan, Bulgaria, China, Egypt, Georgia, Greece, Iran, Iraq,', 'Albania, Austria, Belarus, Belgium, Bosnia and Herzegovina, Bulgaria, Croatia, Czech Republic, Denmark, Estonia,', 'China, Mongolia', 'Belize, Colombia, Costa Rica, Ecuador, El Salvador, Guatemala, Honduras, Mexico, Nicaragua, Panama,', 'Australia', 'China', 'India', 'Argentina, Australia, Chile, Namibia, New Zealand, South Africa', 'Indonesia', 'Afghanistan, Egypt, Iran, Israel, Jordan, Oman, Pakistan, Palestine, Saudi Arabia, Turkmenistan,', 'Canada, United States', 'Argentina, Chile', 'Afghanistan, Azerbaijan, China, Iran, Kazakhstan, Kyrgyzstan, Mongolia, Pakistan, Tajikistan, Turkmenistan,', 'Cambodia, Indonesia, Laos, Malaysia, Myanmar, Thailand, Viet Nam', 'Brunei, Cambodia, Indonesia, Laos,   Malaysia, Myanmar, Singapore, Thailand, Viet Nam, China', 'Canada, Mexico, United States', 'Bolivia, Brazil, Colombia, Ecuador, Peru, Venezuela', 'Afghanistan, Albania, Algeria, Andorra, Armenia, Austria, Azerbaijan, Bangladesh, Bhutan, Bosnia and Herzegovina,', 'Argentina, Bolivia, Paraguay', 'Canada, United States', 'Argentina, Chile, Peru', 'China, Kazakhstan, North Korea, South Korea, Mongolia, Russia, Kyrgyzstan, Myanmar', 'Angola, Australia, Namibia, South Africa, Gabon', 'Angola, Australia, Namibia, South Africa, Gabon', 'Chile', 'Ethiopia, Kenya, Somalia, South Sudan, Tanzania, Uganda', 'Brazil', 'Argentina, Bolivia, Brazil, Canada, Chile, Colombia, Ecuador, Guatemala, Mexico, Panama,', 'Ethiopia', 'Angola, Botswana, Namibia, South Africa, Zimbabwe, Lesotho', 'Australia', 'Australia', 'Angola, Antigua and Barbuda, Australia, Bahamas, Bangladesh, Barbados, Belize, Benin, Brazil, Brunei,', 'Cuba', 'Iran, Israel', 'Bangladesh, Bhutan, Cambodia, China, India, Indonesia, Malaysia, Myanmar, Nepal, Thailand,', 'Cambodia, China, India, Laos, Myanmar, Thailand, Viet Nam', 'Bangladesh, Cambodia, India, Laos, Myanmar, Thailand, Viet Nam, China, Malaysia', 'Angola, Burundi, DR Congo,  Ethiopia, Kenya, Malawi, Mozambique, Rwanda, Somalia, South Africa,', 'India, Sri Lanka', \"Benin, Burkina Faso, Cameroon, Central African Republic, Chad, DR Congo, Cote d'Ivoire, Ethiopia, Ghana, Guinea,\", 'Madagascar', 'Algeria, Antigua and Barbuda, Australia, Bahamas, Bangladesh, Barbados, Belize, Benin, Brazil, Brunei,', 'Ethiopia, Kenya, South Sudan, Tanzania', \"Cameroon, Central African Republic, Congo, DR Congo, Cote d'Ivoire, Equatorial Guinea, Gabon, Ghana, Guinea, Liberia,\", 'Lesotho, South Africa, Swaziland', 'Canada, United States', 'Sri Lanka', 'Mexico', 'Indonesia, Australia', 'Australia', 'Angola, DR Congo, Mozambique, Namibia, South Africa, Zambia, Zimbabwe', 'Chile', 'Angola, Benin, Botswana, Burkina Faso, Burundi, Cameroon, Central African Republic, Chad, Congo, DR Congo,', 'Canada, Mexico, United States', 'United States', 'Null', 'China', 'Brazil, Colombia, Ecuador, Guyana, Peru, Suriname, Venezuela', 'Ethiopia, Kenya, Somalia', 'Brunei, Indonesia, Malaysia, Myanmar, Thailand', 'Belize, Bolivia, Brazil, Colombia, Costa Rica, Ecuador, Guatemala, Guyana, Honduras, Mexico,', 'Brazil, Guyana, Suriname, Venezuela', 'Algeria, Bahrain, Botswana, Burkina Faso, Chad, Cyprus, Egypt, Eritrea, Ethiopia, India,', 'Canada, United States', 'Canada, China, Japan, North Korea, South Korea, Russia, United States', 'Laos, Viet Nam', 'Argentina, Australia, Chile,  Namibia, New Zealand, Peru, South Africa', 'Australia', 'Bhutan, India, Nepal, Bangladesh', 'Brazil, Peru, Colombia', 'Argentina, Bolivia, Chile, Paraguay', 'Chad, Mali, Niger, Algeria, Morocco', 'Botswana, Namibia, South Africa, Zambia, Zimbabwe, Angola', 'Philippines', 'Australia', \"Cote d'Ivoire, Gambia, Guinea, Guinea-Bissau, Liberia, Senegal, Sierra Leone\", 'Gambia, Guinea, Guinea-Bissau, Mali, Mauritania, Senegal', 'Colombia, Panama, Venezuela', \"Angola, Benin, Botswana, Burkina Faso, Cameroon, Central African Republic, Chad, Congo, DR Congo, Cote d'Ivoire,\", 'Austria, Bulgaria, China, Czech Republic,  Georgia, Hungary, Kazakhstan, Kyrgyzstan, Moldova, Mongolia,', 'El Salvador, Guatemala, Honduras, Mexico, Nicaragua, United States', 'Canada, Mexico, United States', 'Australia', 'Mexico, Argentina, Bolivia, Brazil, Colombia, Costa Rica, Ecuador, El Salvador, Guatemala, Guyana,', 'Madagascar', 'Belize, Bolivia,  Brazil, Colombia, Costa Rica, Ecuador, El Salvador, Guatemala, Honduras, Mexico,', 'Australia', 'Australia', 'DR Congo, Burundi, Uganda', 'Philippines', 'Colombia, Costa Rica, Ecuador, Guatemala, Honduras, Mexico, Nicaragua, Panama, Peru', 'Lesotho, South Africa', 'Brazil', 'India', 'Australia, Indonesia, Papua New Guinea', 'Australia, Indonesia, Papua New Guinea', 'Mexico, United States', 'Australia, Bahrain, Bangladesh, Brunei, Cambodia, China, Comoros, Egypt, Eritrea, India,', 'Malaysia, Myanmar, Thailand', 'Canada, Cape Verde, Faroe Islands, France, Germany, Iceland, Ireland, Netherlands, Norway, Portugal,', 'Madagascar', 'Spain, Portugal', 'Argentina, Chile', 'Colombia, Venezuela', 'Belize, Bolivia, Brazil, Colombia, Costa Rica, Ecuador, Guatemala, Guyana, Honduras, Mexico,', 'Japan', 'Belize, Colombia, Costa Rica, Ecuador, El Salvador, Guatemala, Honduras, Mexico, Nicaragua, Panama,', 'Australia', 'Belgium, Canada, Denmark, Faroe Islands, France, Iceland, Ireland, Netherlands, Norway, Russia,', 'Australia', 'Argentina, Bolivia, Brazil, Paraguay, Peru', 'Japan, Russia, United States', 'Cameroon, Central African Republic, Chad, Congo, DR Congo, Equatorial Guinea, Ethiopia, Gabon, Kenya, Nigeria,', 'Dominican Republic  Neotropical', 'Madagascar', 'Cambodia, China, India, Malaysia, Myanmar, Thailand, Viet Nam, Laos', 'Israel, Jordan, Turkey  Palearctic', 'Canada, United States', 'Argentina, Australia, Brazil, Chile, Namibia, New Zealand, Peru, South Africa,  Uruguay, Suriname', 'Mexico, United States', 'Australia', 'Algeria, Angola, Antigua and Barbuda, Australia, Bahamas, Bangladesh, Barbados, Belize, Benin, Brazil,', 'Brazil, Guyana, Suriname', 'Colombia, Ecuador, Panama', 'Australia', \"Angola, Benin, Botswana, Burkina Faso, Cameroon, Central African Republic, Chad, Congo, DR Congo, Cote d'Ivoire,\", 'Brunei, Indonesia, Malaysia', 'El Salvador, Guatemala, Honduras, Mexico, Nicaragua, United States', 'Argentina, Belize, Bolivia, Brazil, Colombia, Costa Rica, Ecuador, Guatemala, Guyana,  Honduras,', 'Angola, Antigua and Barbuda, Bahamas, Barbados, Belize, Benin, Brazil, Cape Verde, Colombia, Costa Rica,', 'Bolivia, Brazil, Colombia, Peru', 'Brazil, Guyana, Suriname, Venezuela', 'Mexico, United States', 'Kenya, Tanzania', 'Japan', 'Costa Rica, Panama', 'Iran', 'Papua New Guinea', 'Canada', 'Australia, New Zealand', 'Australia', \"Cote d'Ivoire, Guinea,  Liberia, Sierra Leone\", 'Equatorial Guinea, Angola, Cameroon, Central African Republic, Chad, Congo, DR Congo, Gabon, Kenya, Nigeria,', 'Canada, United States', 'Canada, United States', 'Russia, Ukraine, Kazakhstan', 'China, India, Bhutan, Nepal', 'Sri Lanka', 'Spain, Portugal,  France, Finland, United Kingdom, Albania, Andorra, Austria, Belgium, Bosnia and Herzegovina,', 'Null', 'Albania, Armenia, Austria, Belarus, Bosnia and Herzegovina, Bulgaria, Croatia, Czech Republic, Denmark, Estonia,', 'Botswana, Lesotho, Namibia, South Africa', 'Andorra, Austria, Belarus, Belgium, Bosnia and Herzegovina, China, Croatia, Czech Republic, Denmark, Estonia,', 'Cambodia, Laos, Viet Nam, China', 'Australia', 'Indonesia', 'Indonesia', 'China, North Korea, Mongolia, Spain, France, Finland, United Kingdom, Albania, Austria, Belgium,', 'Egypt, South Africa, Angola, Benin, Botswana, Burkina Faso, Cameroon, Central African Republic, Chad, DR Congo,', 'Madagascar', 'Argentina, Bolivia, Brazil, Paraguay, Uruguay', 'Papua New Guinea, Indonesia', 'Australia', 'Mexico, Canada, United States', 'Brazil', 'Angola, Botswana, DR Congo, Ethiopia, Kenya, Malawi, Mozambique, Namibia, Somalia, South Africa,', 'Bangladesh, China, India, Myanmar, Nepal, Thailand', 'Algeria,  Bahrain, Chad, Djibouti, Egypt, Eritrea, Ethiopia, Iran, Iraq, Israel,', 'United States', 'Australia', 'Indomalayan', 'Kenya, Somalia', 'Mexico, United States', 'Madagascar', 'Australia', 'China, Mongolia', 'Canada,  United States', 'Argentina, Australia, Chile, New Zealand, South Africa', 'Indonesia, Malaysia, Philippines', 'Madagascar', 'Canada', 'Mexico,  United States', 'Australia', 'United States', 'Australia, Papua New Guinea, Indonesia', 'Indonesia, Papua New Guinea', 'Australia', 'Australia', 'Japan', 'Andorra, France, Portugal, Spain', 'Chile', 'Argentina,  Australia, Bahamas, Bangladesh, Belize, Brazil, Cambodia, Cape Verde, China,  Colombia,', 'Ecuador, Mexico', 'Angola, Cameroon, Central African Republic, Congo, DR Congo, Equatorial Guinea, Ethiopia, Gabon, Kenya, South Sudan,', 'Argentina, Bolivia, Brazil, Paraguay', 'Argentina, Brazil, Chile, Peru, Uruguay', 'Austria, Bulgaria, Czech Republic, Greece, Hungary, Macedonia, Moldova, Romania, Serbia, Slovakia,', 'Hong Kong, India, Indonesia, Iran, Japan, North Korea, South Korea, Kuwait, Madagascar, Malaysia, Mauritania, Oman, Pakistan, Peru, Saudi Arabia, Senegal, South Africa, Sri Lanka, Sudan, Suriname, Taiwan, Thailand, United Arab Emirates,  United States, Uruguay, Venezuela, Viet Nam, Western Sahara, Yemen', 'Afrotropical', 'Angola, Australia, Bahamas, Belize, Brazil, Cameroon, Canada, Cape Verde, Chile, China,', 'Angola, Benin, Botswana, Burkina Faso, Burundi, Cameroon, Central African Republic, Chad, Congo, DR Congo,', 'Canada, United States', 'Belgium, Canada, Denmark, Faroe Islands, France, Germany, Iceland, Ireland, Netherlands, Norway,', 'Canada, United States', 'United States', 'Viet Nam', 'Angola, Botswana, Namibia, South Africa, Zimbabwe, Lesotho', 'Botswana, Cameroon, Ethiopia, Kenya, Lesotho, Mozambique, Nigeria,  South Africa, South Sudan, Swaziland,', \"Cote d'Ivoire, Ghana, Guinea, Liberia, Sierra Leone\", 'Taiwan', 'Mexico, United States', 'Australia', 'Argentina, Bolivia, Brazil,  Paraguay', \"Angola, Benin, Burkina Faso, Burundi, Cameroon, Central African Republic, Congo, DR Congo, Cote d'Ivoire, Equatorial Guinea,\", 'Australia', 'Australia', 'Angola, Burundi, Congo,  Central African Republic, Kenya, Rwanda, South Sudan, Tanzania, Uganda, Zambia', 'Angola, Benin, Botswana, Burkina Faso, Burundi, Cameroon,  Central African Republic, Chad, Congo, DR Congo,', 'Bangladesh, China, India, Indonesia, Laos, Malaysia, Myanmar, Nepal, Thailand, Viet Nam', 'United States', 'Madagascar', 'Benin, Burkina Faso, Cameroon, Central African Republic, Chad, DR Congo, Ethiopia, Gambia, Ghana, Guinea,', 'Madagascar', 'Papua New Guinea, Indonesia', 'Cameroon, Congo, DR Congo', 'Argentina, Bolivia, Chile, Peru', \"Cote d'Ivoire, Ghana, Guinea, Guinea-Bissau, Liberia, Nigeria, Senegal, Sierra Leone\", 'China, India, Laos, Myanmar, Taiwan, Viet Nam, Bhutan', 'Albania, Andorra, Armenia, Austria, Azerbaijan, Belarus, Belgium, Bosnia and Herzegovina, Bulgaria, China,', 'Null', 'Andorra, France, Italy, Spain', 'Oman, United Arab Emirates', 'Djibouti, Eritrea, Ethiopia, South Sudan, Sudan', 'Cambodia, Indonesia, Malaysia, Thailand, Viet Nam, Brunei, Laos', 'Mauritius', \"Angola, Benin, Burundi, Cameroon, Central African Republic, Congo, DR Congo, Cote d'Ivoire, Equatorial Guinea,  Gabon,\", 'Indonesia, Malaysia, Singapore, Thailand', 'Argentina, Chile', 'Congo', 'Canada, Japan, North Korea, South Korea, Mexico, Russia, United States', 'Argentina, Chile', 'Brunei, Indonesia, Malaysia, Myanmar, Singapore, Thailand', 'Angola, Antigua and Barbuda, Argentina, Australia, Bahamas, Bahrain, Bangladesh, Barbados, Belize, Benin,', \"Benin, Cameroon, Central African Republic, Congo, DR Congo, Cote d'Ivoire, Gabon, Ghana, Guinea, Kenya,\", 'Belize, Colombia, Costa Rica, Guatemala, Honduras, Mexico, Nicaragua,  Panama', 'India, Nepal', 'Sri Lanka', 'Brazil', 'China, Kazakhstan, North Korea, South Korea, Kyrgyzstan, Mongolia, Russia, Uzbekistan', 'Australia', 'Bangladesh,  Bhutan, Cambodia, China, Hong Kong, India, Indonesia, Laos, Malaysia, Myanmar,', 'Indonesia', 'Afghanistan, Russia,  Uzbekistan, Kazakhstan, Tajikistan', 'Angola, Cameroon, Central African Republic, Congo, DR Congo, Equatorial Guinea, Gabon, Kenya, Malawi, Mozambique,', 'United States, Canada', 'Indonesia', 'China, Estonia, Finland, Japan, North Korea, South Korea, Latvia, Mongolia, Russia, Belarus  Palearctic', 'Kenya, Malawi, Mozambique, South Africa, Tanzania, Zimbabwe, Swaziland', 'Bhutan, China, India, Kazakhstan, Kyrgyzstan, Mongolia, Nepal, Pakistan, Russia, Tajikistan,', 'Bhutan, China, India, Nepal,  Pakistan, Myanmar', 'Botswana, Burundi, Congo, DR Congo, Swaziland, Kenya, Lesotho, Malawi, Mozambique, Namibia,', 'Ethiopia', 'Brazil', 'Albania, Andorra, Austria, Belarus, Belgium, Bosnia and Herzegovina, Bulgaria, Croatia, Cyprus, Czech Republic,', 'Australia, Indonesia, Papua New Guinea', 'Null', 'Benin, Burkina Faso, Cameroon, Chad, Eritrea, Ethiopia, Gambia, Mali, Mauritania, Niger,', 'Null', 'China', 'United States', 'Philippines', 'Madagascar', 'Peru', 'Algeria, Morocco, Tunisia, Western Sahara', 'Mauritius', 'Argentina, Brazil,  Uruguay', 'Australia', 'Colombia, Ecuador, Panama', 'Benin, Cameroon, Ghana, Nigeria, Togo', 'Argentina, Bolivia, Brazil, Colombia, Guyana, Paraguay, Peru, Suriname, Trinidad and Tobago, Venezuela', 'Indonesia', 'Brazil', 'Madagascar', 'Argentina, Belize, Bolivia, Brazil, Colombia, Costa Rica, Ecuador, El Salvador, Guatemala, Guyana,', 'China, South Korea, North Korea, Russia', 'Bangladesh, Bhutan, India, Myanmar', 'Japan, Philippines, Taiwan', 'Madagascar', 'Afghanistan, Brunei, Cambodia, China, India, Indonesia, Malaysia, Myanmar, Nepal, Thailand', 'Australia, South Africa, Angola, Argentina, Brazil, Chile, Comoros, Madagascar, Mauritius, Mozambique,', 'Madagascar', 'Indonesia', 'Somalia, Ethiopia', 'Australia', 'Australia', 'Australia', 'Ethiopia, South Sudan', 'Japan', 'Brazil, Colombia, Ecuador, Peru, Venezuela', 'Null', 'Angola, Burundi, DR Congo, Kenya, Malawi, Mozambique, Rwanda, Tanzania, Uganda, Zambia', 'Australia, Indonesia, Papua New Guinea', 'Madagascar', 'Brazil, Guyana, Suriname, Venezuela', 'India, Sri Lanka', 'United States', 'Brazil, Guyana, Suriname', 'Madagascar', 'Mexico, United States', 'Turkmenistan, Kazakhstan, Mongolia, China, Pakistan, Afghanistan, Iran, Kyrgyzstan, Tajikistan, Uzbekistan', 'Madagascar', 'Brazil', 'United States', 'Argentina, Brazil, Paraguay, Bolivia', 'Australia', 'Madagascar', 'Brunei, Indonesia, Malaysia', 'Argentina, Bolivia, Brazil, Colombia, Guyana, Paraguay, Peru, Suriname, Uruguay, Venezuela', \"Cote d'Ivoire, Ghana, Guinea, Liberia, Sierra Leone\", 'Lesotho, Namibia, South Africa, Swaziland, Zimbabwe', 'Madagascar', 'United States', 'Panama, Colombia', \"Cote d'Ivoire, Ghana\", 'India, Sri Lanka', 'China, India, Myanmar, Thailand, Viet Nam', 'United States', 'China, Japan, Mongolia, Russia', 'Australia', 'Australia', 'Bolivia, Brazil, Peru', 'Chile, New Zealand', 'Australia', 'Mexico', 'Algeria, Egypt, Israel, Jordan, Libya, Mauritania, Morocco, Saudi Arabia, Sudan, Syria,', 'Indonesia', 'Australia', 'Canada, United States', 'Bolivia, Brazil, Peru', 'Costa Rica, El Salvador, Guatemala, Honduras, Mexico,  Nicaragua, Panama', 'Cameroon, Equatorial Guinea, Gabon, Nigeria', 'Brazil', 'Brazil', 'Argentina, Australia, Brazil, Chile, New Zealand, Uruguay', 'Canada, United States', 'Australia', 'Guatemala, Mexico', 'Pakistan', 'Armenia, Austria, Azerbaijan, Belarus, Bosnia and Herzegovina, Bulgaria, China, Croatia, Czech Republic, Denmark,', 'Mexico, United States', 'Brazil, Colombia, Ecuador, Peru', 'Australia', 'Belize, Guatemala,  Mexico', 'Brazil', 'Mexico, United States', 'Argentina, Australia, Brazil, Chile, New Zealand, South Africa, Uruguay', 'Burundi, DR Congo, Rwanda, Uganda', 'Argentina, Brazil', \"Cote d'Ivoire, Guinea, Guinea-Bissau, Liberia, Sierra Leone\", 'Australia, Indonesia, Papua New Guinea', 'Colombia, Costa Rica, Ecuador, Panama, Trinidad and Tobago, Venezuela', 'Brazil', 'Ethiopia', 'Russia', 'Canada, United States', 'Australia', 'Indonesia, Papua New Guinea', 'Australia  Australasian', 'Colombia, Panama', 'United States', 'Indonesia', 'Null', 'Cameroon, Equatorial Guinea, Angola, Botswana, Burundi, Congo, DR Congo, Gabon, Kenya, Malawi,', 'DR Congo', 'Bolivia, Brazil, Colombia, Ecuador, Peru', 'Madagascar', 'Australia', \"Benin, Burkina Faso, Cameroon, Central African Republic, Chad, DR Congo, Cote d'Ivoire, Gambia,   Ghana, Guinea,\", 'Botswana, DR Congo, Malawi, Mozambique, South Africa, Swaziland, Tanzania, Zambia, Zimbabwe', 'Djibouti, Egypt, Eritrea, Ethiopia, Libya, Mauritania, Morocco, Sudan, Western Sahara', 'Argentina, Chile', 'United States', 'Burundi, Ethiopia, Kenya, Lesotho, Malawi, Mozambique, Rwanda, South Africa, Tanzania, Uganda,', 'Madagascar', 'Null', 'Gambia, Ghana, Guinea, Guinea-Bissau, Kenya, Mali, Mauritania, Morocco, Niger, Nigeria, Senegal, Sierra Leone, Sudan, Togo, Uganda', 'Argentina, Brazil', \"Cote d'Ivoire, Ghana, Guinea, Liberia, Nigeria,  Sierra Leone, Togo\", 'Australia', 'Australia', 'Mexico, United States', 'Indonesia, Malaysia', 'Null', 'Belarus, Moldova, Poland, Russia, Ukraine', \"Cote d'Ivoire, Ghana, Guinea, Guinea-Bissau, Liberia, Senegal, Sierra Leone, Togo\", 'Madagascar', 'Brazil', 'Mexico, United States', 'Cambodia, China, Thailand, Viet Nam', 'Brazil, Colombia, Ecuador, Peru, Venezuela', 'Madagascar', 'Madagascar', 'Bahamas, Brazil, Cape Verde, Cuba, France,  Guinea-Bissau, Ireland, Jamaica, Mauritania, Spain,', 'Indonesia', 'Madagascar', 'Brazil, Colombia, Ecuador, Guyana, Suriname, Venezuela', 'United States', 'United States', 'Mexico, United States', 'Madagascar', 'Angola, Cameroon, Congo, Equatorial Guinea, Gabon', 'United States', 'Mexico, United States', 'Brazil', 'Brazil', 'Madagascar', 'Brazil, Peru', 'Laos, Viet Nam, China', 'United States', 'United States', 'United States', 'Australia, Brunei, Cambodia, Indonesia, Malaysia, Papua New Guinea, Philippines, Singapore, Solomon Islands, Thailand,', 'Madagascar', 'Madagascar', 'United States, Mexico', 'Australia', 'DR Congo', 'India, Iran, Pakistan', 'Australia', 'Madagascar', 'Brazil, Peru', 'United States', 'Mexico, United States', 'Australia', 'Madagascar', 'Australia', 'Western Australia', 'Indonesia', 'Angola, Botswana, Central African Republic, DR Congo, Eritrea, Ethiopia, Kenya, Malawi, Mozambique,  Namibia,', 'Bangladesh,  Bhutan, Brunei, Cambodia, China, Hong Kong, India, Indonesia, Laos, Malaysia,', 'Australia, Bangladesh, Brunei, Cambodia, India, Indonesia, Malaysia, Myanmar, Palau, Papua New Guinea,', 'United States', 'Canada, United States', 'United States', 'Mexico, United States', 'United States', 'India, Iran, Nepal, Pakistan, Sri Lanka', 'Belize, Colombia, Costa Rica, Cuba, Dominican Republic, Ecuador, El Salvador, Guatemala, Honduras, Jamaica,', \"Cote d'Ivoire, Egypt, Equatorial Guinea, Eritrea, Ethiopia, Gabon, Gambia, Ghana, Guinea, Guinea-Bissau, Kenya, Liberia, Madagascar, Malawi, Mali, Mauritania, Mozambique, Namibia, Niger, Nigeria, Rwanda, Senegal, Sierra Leone,   Somalia, South Africa, South Sudan, Sudan, Swaziland, Tanzania, Togo, Uganda, Zambia,  Zimbabwe\", 'United States', 'Albania, Austria, Belarus, Belgium, Bosnia and Herzegovina, Bulgaria, China, Croatia, Czech Republic, Denmark,', 'Mexico, United States  Arizona, California, Nevada, Utah, New Mexico', 'United States', 'Mexico, United States', 'Australia', 'Bangladesh, Brunei, Cambodia, India, Indonesia, Laos, Malaysia, Myanmar, Philippines, Singapore,', 'Bangladesh, Cambodia, China, Hong Kong, India, Indonesia, Laos, Myanmar, Nepal, Thailand,', 'Canada, United States, Mexico  Germany, Indonesia, Philippines, Spain', 'Canada, United States, Mexico, Ecuador, Venezuela', 'Bangladesh, Bhutan, Cambodia, China, Hong Kong, India, Indonesia, Japan, Malaysia, Myanmar,', 'Brazil', 'Canada, Mexico, United States', \"Benin, Cameroon, Central African Republic, DR Congo, Cote d'Ivoire, Gambia, Ghana, Guinea, Guinea-Bissau, Liberia,\", 'Null', 'India, Sri Lanka, Bangladesh, Nepal, Myanmar,   Thailand, Pakistan, Cambodia, China, Taiwan,', 'India, Pakistan, Sri Lanka, Bangladesh, Nepal, Afghanistan', 'Albania, Algeria, Armenia, Austria, Azerbaijan, Belarus, Belgium, Bosnia and Herzegovina, Bulgaria, China,', 'Albania, Andorra, Armenia, Austria, Azerbaijan, Belarus, Belgium, Bosnia and Herzegovina, Bulgaria, Croatia,', 'Botswana, Mozambique, Namibia, South Africa', 'Bangladesh, Cambodia, China, Hong Kong, India, Indonesia,  Laos, Malaysia, Myanmar, Singapore,', 'Australia, Papua New Guinea', 'United States', 'Canada, United States', 'Canada, United States', 'Chad, Egypt, Eritrea, Ethiopia, Mali, Mauritania, Nigeria, Senegal, South Sudan, Sudan', 'United States', 'Guinea, Ghana, Togo, Nigeria, Cameroon, Equatorial Guinea, Gabon, DR Congo, Congo, Angola,', 'Canada, United States', 'Canada, United States, Mexico', 'Mexico, Guatemala, Belize, Honduras, Nicaragua, Costa Rica, Panama, Colombia, Ecuador, Guyana,', 'Mexico, United States', 'Mexico, United States', 'United States', 'Egypt, Kenya, Senegal,  Benin, Togo, Cameroon, Zimbabwe, Somalia, Tanzania, Mozambique,', 'Antigua and Barbuda, Australia, Bahamas, Bahrain, Barbados, Belize, Brazil,  Cambodia, China, Colombia,', 'United States', 'Australia', 'Canada, United States   Nearctic', 'United States', 'United States, Mexico', 'China', 'Belize, Canada, United States, Guatemala, Mexico', 'Morocco, Mauritania, Mali, Algeria, Tunisia, Niger, Libya, Chad, Egypt, Sudan,', 'Argentina, Bolivia, Brazil, Paraguay', 'Afghanistan, Bangladesh, Cambodia, China, India, Indonesia, Iran, Laos, Malaysia, Myanmar,', 'Afghanistan, Pakistan, India, Iran', 'United States', 'Canada, Guatemala, Honduras, Mexico, United States, El Salvador', 'Null', 'India, Nepal', 'Singapore, Thailand, Viet Nam', 'Cuba, Bahamas', 'Ecuador', \"Morocco, Mauritania,  Senegal, Mali, Algeria, Guinea, Sierra Leone, Cote d'Ivoire, Ghana, Togo,\", 'Canada, Mexico, United States', 'Albania, Algeria, Bosnia and Herzegovina, Croatia, Cyprus, Egypt, Greece, Israel, Italy, Lebanon,', 'Australia, Indonesia, Papua New Guinea', 'Armenia, Azerbaijan, China, Iran, Kazakhstan, Kyrgyzstan, Pakistan, Russia, Tajikistan, Turkmenistan,', 'Afghanistan, Bangladesh, Cambodia, Myanmar, China, Hong Kong, Taiwan, India, Sri Lanka, Indonesia,', 'United States', 'Australia', 'United States', 'Algeria, Burkina Faso, Cameroon, Chad, Djibouti, Egypt, Eritrea, Ethiopia, Kenya, Libya,', 'India, Sri Lanka, Bangladesh, Myanmar, Thailand, Cambodia, Viet Nam', 'United States', 'Canada, United States', 'South Africa', 'Null', 'Kenya, Tanzania, Malawi, Zimbabwe, Zambia, Mozambique, South Africa', 'Canada, United States', 'Canada, Mexico,  United States', 'Mexico,  United States', 'Australia', 'Australia', 'Mexico, United States', 'Mexico, United States', 'Albania, Bosnia and Herzegovina, Bulgaria, Croatia, France, Greece, Italy, Montenegro, Romania, Serbia,', 'United States, Canada', 'Albania, Austria, Bosnia and Herzegovina, Bulgaria,  Croatia, Georgia, Greece, Italy, Montenegro, Macedonia,', 'Australia, Indonesia, Papua New Guinea, Solomon Islands', 'Null', 'Australia', 'Bangladesh, Bhutan, Cambodia, China, India, Indonesia, Laos, Malaysia, Myanmar,  Nepal,', 'Australia', 'India, Pakistan, Sri Lanka', 'Null', 'India, Sri Lanka, Bangladesh, Pakistan, Oman, United Arab Emirates, Iraq, Iran, Afghanistan, Uzbekistan,', 'United States', 'Canada, Mexico,  United States', 'Bolivia, Brazil, Colombia,  Ecuador, Guyana, Paraguay, Peru, Suriname, Trinidad and Tobago, Venezuela', 'Mexico, United States', 'Mexico, United States', 'United States', 'Colombia, Venezuela', 'India, Nepal, Pakistan, Sri Lanka, Bhutan, Bangladesh, Myanmar', 'Australia, Indonesia, Papua New Guinea', 'Mexico, United States', 'Angola, Botswana, Burundi, DR Congo, Djibouti, Ethiopia, Kenya, Malawi, Mozambique, Namibia,', 'Australia', 'Null', 'Mexico, United States', 'Australia', 'Samoa, Australia, Bahrain, Bangladesh, Cambodia, China, Colombia, Costa Rica, Djibouti, Ecuador,', 'Australia, Indonesia, Papua New Guinea', 'Albania, Austria, Belarus, Belgium, Bosnia and Herzegovina, Bulgaria, China, Croatia, Czech Republic, Denmark,', 'Canada, Mexico, United States', 'Lesotho, South Africa, Zimbabwe', 'United States', 'China, Laos, Myanmar, Taiwan, Thailand, Viet Nam', 'Brazil, Guyana, Suriname, Venezuela', 'Canada, Mexico, United States', 'Saudi Arabia, Yemen', 'Mexico, United States', 'Cambodia, China, Laos, Thailand, Viet Nam', 'Canada, United States', 'Benin, Burkina Faso, Cameroon, Chad, Gabon, Ghana, Guinea, Guinea-Bissau, Kenya, Liberia,', 'Japan, Russia', 'Canada, United States', 'Cambodia, China, Fiji, India, Indonesia, Japan,  Malaysia, Federated States of Micronesia, Myanmar, Palau,', 'Mexico, United States', 'Mexico, United States', 'Kenya, Tanzania', 'United States', 'Australia', 'France, Germany, Italy, Slovenia, Spain, Switzerland', 'Mexico, United States', 'Brazil, Colombia, Costa Rica, Ecuador, El Salvador, Guatemala, Guyana, Honduras, Mexico, Nicaragua,', 'Mexico, United States  Nearctic', 'Colombia, Costa Rica, Nicaragua, Panama, Venezuela', 'Cuba', 'Canada, Mexico, United States', 'Canada, Mexico, United States', 'Madagascar', 'Philippines', 'Bolivia, Peru, Ecuador, Colombia, Venezuela, Brazil', \"Benin, Burkina Faso, Cameroon, Central African Republic, Chad, DR Congo, Cote d'Ivoire, Ethiopia, Gambia, Ghana,\", 'Bangladesh, Bhutan, Cambodia, China, India, Laos, Malaysia, Myanmar, Nepal, Thailand,', 'Albania, Austria, Bosnia and Herzegovina, Bulgaria, Croatia, Czech Republic,  France, Georgia, Germany, Greece,', 'Cuba', 'Colombia, Ecuador, Peru, Bolivia, Venezuela, Trinidad and Tobago, Guyana, Costa Rica, Suriname, Brazil', 'Cambodia, Indonesia, Laos, Thailand', 'Cambodia, Indonesia, Malaysia, Myanmar, Philippines, Singapore, Thailand, Viet Nam', 'Mexico, United States', 'Albania, Algeria, Armenia, Azerbaijan, Bulgaria, Egypt, Georgia, Greece, Iran, Iraq,', 'Iran, Afghanistan, Bangladesh, Bhutan, China, Cambodia, India, Indonesia, Malaysia, Maldives,', 'Mexico, Guatemala', 'Australia, Indonesia, Papua New Guinea', 'Null', 'Mexico, United States', 'Mexico, United States', 'Madagascar, Seychelles', 'Iran, Pakistan, India', 'Canada, Mexico, United States', 'Cambodia, China, India, Laos, Myanmar, Taiwan, Viet Nam', 'Philippines', 'United States', 'South Sudan, Uganda, DR Congo, Mauritania, Benin, Liberia, Guinea-Bissau, Nigeria, Niger, Cameroon,', 'Afghanistan, Albania, Armenia, Azerbaijan, Bosnia and Herzegovina, Bulgaria, Croatia, Georgia, Greece, Iran,', 'Argentina, Belize, Brazil, Colombia, Costa Rica, Ecuador, Guatemala, Guyana, Honduras, Mexico,', 'Canada, United States', 'United States', 'Belize, Colombia, Costa Rica,  Ecuador, Guatemala, Honduras, Mexico, Nicaragua, Panama, Peru,', 'Null', 'Guinea, Ghana, Central African Republic, Sudan, Cameroon, Gabon, Congo, DR Congo, Angola, Rwanda,', 'United States, Mexico', 'United States', 'Mexico, United States', 'Australia, Indonesia, Papua New Guinea', 'United States', 'Barbados', 'Mexico, United States', 'Afghanistan, India, Iran, Kyrgyzstan, Pakistan, Tajikistan, Turkmenistan, Uzbekistan', 'Australia', 'Belize, Costa Rica, Guatemala, Honduras, Mexico, Nicaragua, United States', 'Iran, Kuwait, Oman, Saudi Arabia, Yemen, Iraq', 'Belize, Colombia, Costa Rica, Ecuador, El Salvador, Guatemala, Honduras, Mexico, Nicaragua, Panama', 'Benin, Gambia, Guinea, Guinea-Bissau, Senegal, Sierra Leone, Togo', 'Mexico, United States', 'Belize, Guatemala, Mexico', 'Colombia, Venezuela, Trinidad and Tobago, Guyana, Suriname, Ecuador, Peru, Panama, Bolivia, Brazil', 'Canada, United States, Mexico', 'Mexico, United States', 'Albania, Andorra, Armenia, Austria, Azerbaijan, Belarus, Belgium, Bosnia and Herzegovina, Bulgaria, China,', 'United States, Venezuela', 'Indonesia, Papua New Guinea', 'DR Congo, Uganda, Kenya,  Tanzania', 'United States', 'Australia', 'Canada, United States,  Mexico', 'Canada, United States', 'Canada, United States', 'Cambodia, China, Hong Kong, Indonesia, Laos, Macao, Malaysia, Myanmar, Thailand,  Viet Nam', 'South Africa, Namibia, Botswana, Lesotho', 'Albania, Austria, Belgium, Bosnia and Herzegovina, Bulgaria, Croatia, Czech Republic, France, Germany, Greece,', 'United States', 'Canada, United States', 'Argentina, Brazil, Paraguay  Neotropical', 'Argentina, Bolivia, Brazil, Colombia, Paraguay, Peru, Uruguay, Venezuela', 'Bosnia and Herzegovina, Croatia, France, Italy, Montenegro, Slovenia, Switzerland', 'Albania, Armenia, Austria, Azerbaijan, Belarus, Belgium, Bosnia and Herzegovina, Bulgaria, Croatia, Czech Republic,', 'Canada, Mexico, United States', 'Australia', 'United States', 'Japan', 'Afghanistan, Bangladesh, Pakistan, Sri Lanka, India, Myanmar, Nepal, Thailand, Laos, Cambodia,', 'Angola, Benin, Burkina Faso, Cameroon, Central African Republic, Chad, DR Congo, Congo, Ethiopia, Gabon,', 'Bangladesh, India, Myanmar, Nepal, Pakistan, Sri Lanka', 'United States', 'Indonesia, Papua New Guinea', 'Mexico, United States', 'Egypt, Israel,  Jordan, Saudi Arabia, Syria', 'Albania, Algeria, Armenia, Austria, Belarus, Bosnia and Herzegovina, Bulgaria, Croatia, Czech Republic, France,', 'Australia, Papua New Guinea', 'Argentina, Bolivia, Brazil, Paraguay', 'Madagascar', 'Algeria, Croatia, Egypt, France, Greece, Italy, Libya, Morocco,  Portugal, Slovenia,', 'Mexico, United States', 'Brunei, Cambodia, China, India, Indonesia, Laos, Malaysia, Singapore, Thailand, Viet Nam,', 'Dominican Republic', 'Argentina, Belize, Bolivia, Brazil, Costa Rica, Ecuador, Guatemala, Guyana, Honduras, Mexico,', 'Israel, Jordan, Lebanon, Palestine, Syria', 'Mexico, United States', 'China, Hong Kong, Laos,  Macao, Taiwan, Viet Nam', 'Albania, Austria, Bosnia and Herzegovina, Bulgaria, Croatia, Czech Republic, Germany, Greece, Hungary, Italy,', 'Afghanistan, Armenia, Azerbaijan, Cyprus, India, Iran, Iraq, Jordan, Kazakhstan, Kyrgyzstan,', 'Cambodia, Indonesia, Laos, Malaysia, Thailand, Viet Nam, Myanmar, Singapore', 'Australia', 'India, Bangladesh, Sri Lanka, Myanmar, Thailand, Malaysia,  Laos, Cambodia, Viet Nam, China,', 'DR Congo, Namibia, Botswana, South Africa, Swaziland, Zimbabwe, Mozambique,  Zambia, Angola, Kenya,', 'Andorra, Croatia, France, Italy, Malta, Slovenia, Spain, Switzerland, Greece, Luxembourg', 'Maldives, Sri Lanka, India, Myanmar, United States, Viet Nam, Thailand, Cambodia, Japan, Taiwan,', 'Costa Rica, Panama, Brazil, Venezuela, Guyana, Suriname', 'Canada,  United States', 'Nepal, Philippines, Taiwan, Thailand, Viet Nam', 'Bangladesh, India, Myanmar', 'China, Indonesia, Japan, Philippines, Taiwan', 'Algeria, Cyprus, Egypt, Greece,  Iraq, Israel, Jordan, Lebanon, Libya, Malta,', 'Philippines', 'Australia', 'Brunei, Indonesia, Malaysia, Singapore, Thailand  Indomalayan', 'Canada, United States, Mexico', 'Afghanistan, Albania, Armenia, Austria, Azerbaijan,  Bosnia and Herzegovina, Bulgaria, China, Croatia, Czech Republic,', \"Cote d'Ivoire, Ghana, Nigeria, Cameroon, Central African Republic,  Gabon, Congo, DR Congo, Angola, Uganda,\", 'Albania, Bosnia and Herzegovina, Croatia, France, Greece, Hungary, Italy, Montenegro, Macedonia, Romania,', 'Angola, DR Congo, Congo, Central African Republic, South Sudan, Ghana, Togo, Nigeria, Cameroon, Equatorial Guinea,', 'Spain, Portugal, Algeria, Morocco', 'Nearctic', 'Honduras, United States', 'China, North Korea, South Korea', 'Indonesia, Malaysia, Singapore, Thailand, Viet Nam', 'Mexico, United States', 'Mexico, United States', 'Japan, Russia', 'Bolivia, Brazil, Paraguay, Argentina', 'Bangladesh, Bhutan, China, Hong Kong, India, Indonesia, Malaysia, Maldives, Mauritius, Myanmar,', 'Australia', 'Papua New Guinea, Indonesia', 'Ecuador', 'Mexico, United States', 'China, India, Cambodia, Indonesia, Laos, Malaysia, Myanmar, Philippines, Singapore, Thailand,', 'India', 'Algeria, France, Italy, Libya, Morocco, Portugal, Spain, Switzerland, Tunisia', 'Kenya, Tanzania', 'Bolivia, Brazil, Colombia, Ecuador, Guyana, Peru, Suriname, Venezuela', 'Bangladesh, Cambodia, China, India, Indonesia, Laos, Malaysia, Myanmar, Papua New Guinea, Philippines,', 'France, Portugal, Spain, Italy', 'Bangladesh, India, Nepal, Pakistan', 'Mexico, United States', 'United States', 'Australia', \"Angola, Benin, Burundi, Cameroon, Central African Republic, DR Congo, Cote d'Ivoire,  Gabon, Ghana, Guinea,\", 'Belize, Bolivia, Brazil, Colombia, Costa Rica, El Salvador, Grenada, Guatemala, Guyana, Honduras,', 'Belize, Costa Rica, Guatemala, Mexico, Nicaragua, Panama, United States, El Salvador, Honduras', 'Mexico, United States', 'Albania, Greece', 'Mexico, United States', 'Brunei, Cambodia, India, Indonesia, Laos, Malaysia, Myanmar, Philippines, Singapore, Thailand,', 'Ecuador', 'United States  Nearctic', \"Angola, Benin, Burkina Faso, Cameroon, Central African Republic, Congo, DR Congo, Cote d'Ivoire, Gabon, Gambia,\", 'United States', 'Brazil', 'India, Sri Lanka, Afghanistan, Nepal, Bangladesh', 'Indonesia  Sumatera', 'Bangladesh, Bhutan, Brunei, Cambodia, China, India, Indonesia, Laos, Malaysia, Myanmar,', 'Mexico, United States', 'Australia, Bahrain, Bangladesh, Cambodia,  China, India, Indonesia, Iran, Iraq, Kuwait,', 'Malaysia, Indonesia', 'Russia, China, Taiwan, Viet Nam, Japan', 'Canada, United States', 'Null', 'South Africa', 'South Africa', 'Mexico,  United States', 'Pakistan, Sri Lanka, Philippines, India, Bangladesh, Nepal, Myanmar,  Thailand, Laos, Cambodia,', 'Angola, Botswana, Swaziland, Malawi, Mozambique, Namibia, South Africa, Tanzania, Zambia, Zimbabwe', 'Australia', 'Indonesia, Papua New Guinea', 'Indonesia', 'Costa Rica, Honduras, Nicaragua, Panama', 'Bolivia, Brazil, Colombia, Ecuador, Guyana, Peru, Suriname, Venezuela  Neotropical', 'Bangladesh, India, Indonesia, Malaysia, Myanmar, Thailand, Brunei', 'Libya', 'Canada, United States', 'Colombia, Ecuador, Peru, Venezuela, Trinidad and Tobago, Guyana, Suriname,  Brazil, Bolivia, Uruguay,', 'United States', 'Canada, Mexico, United States,  Belize, Ireland, Russia', 'Albania, Australia, Bosnia and Herzegovina, China,  Congo, Georgia, Hong Kong, Indonesia, Israel, Japan,', 'Argentina, Belize, Bolivia, Brazil, Colombia, Costa Rica, Ecuador, Guatemala, Guyana, Honduras,', 'Central African Republic, DR Congo, Rwanda, South Sudan, Sudan, Tanzania, Uganda, Zambia, Ethiopia', 'Albania, Algeria, Andorra, Armenia, Austria, Azerbaijan, Belarus, Bhutan, Bosnia and Herzegovina, Bulgaria,', 'Algeria, Andorra, Austria, Azerbaijan, Bahrain, Belarus, Belgium, Bulgaria, Cambodia, Croatia,', 'Afghanistan, Algeria, Andorra, Austria, Azerbaijan, Belarus, Belgium, Bulgaria, Canada, Croatia,', 'Algeria, Angola, Antigua and Barbuda, Argentina,  Austria, Azerbaijan, Bahamas, Bahrain, Bangladesh, Barbados,', 'Mexico, United States, Canada', 'Albania, Algeria, Armenia, Austria,  Azerbaijan, Bahamas, Bahrain, Bangladesh, Belarus, Belgium,', 'United States, Canada, Bahamas, Cuba, Mexico, Jamaica, Austria, Belgium, Czech Republic, Denmark,', 'Australia', 'Australia', 'Albania, Algeria,  Andorra, Armenia, Austria,  Azerbaijan, Belarus, Belgium, Bosnia and Herzegovina, Bulgaria,', 'Bahamas, Canada, Cuba, Mexico, United States, Australia, Belarus, Bulgaria, Iceland, Jamaica,', 'Null', 'Algeria, Angola, Botswana, Burkina Faso, Cameroon, Central African Republic, Chad, Djibouti, Egypt, Eritrea,', 'Antigua and Barbuda, Bahamas, Barbados, Belize, Canada, Costa Rica, Cuba, Dominica, Dominican Republic, El Salvador,', 'Argentina, Belize, Bolivia, Brazil, Canada, Colombia, Costa Rica, Ecuador, El Salvador, Guatemala,', 'Canada, United States, Mexico', 'Afghanistan, Albania, Algeria,  Andorra, Armenia, Austria, Azerbaijan, Bangladesh, Belarus, Belgium,', 'Bahamas, Belize, Canada, Colombia, Costa Rica, Cuba, Dominican Republic, El Salvador, Guatemala, Honduras,', 'Algeria, Andorra, Austria, Azerbaijan, Belarus, Belgium, Bulgaria, China, Croatia, Czech Republic,', 'Australia', 'Algeria, Austria, Azerbaijan, Belarus, Belgium, Bulgaria, Croatia, Czech Republic, Denmark, Egypt,', 'New Zealand', 'Algeria, Andorra, Angola, Antigua and Barbuda, Argentina, Austria, Bahamas, Bahrain, Barbados, Belarus,', 'Cuba, United States, Mexico, Canada, Denmark', 'Albania, Andorra, Armenia,  Austria, Azerbaijan, Belarus, Belgium, Bosnia and Herzegovina, Bulgaria, Croatia,', 'Bangladesh, Bhutan, India, Nepal, Pakistan, Sri Lanka', 'Canada, China, Cuba, Japan, South Korea, Mexico,  Russia, United States, Faroe Islands, Ireland,', \"Algeria, Bulgaria, Burkina Faso, Cameroon, Central African Republic, Chad, DR Congo, Cote d'Ivoire, Egypt, Ethiopia,\", 'Canada, Mexico, United States', 'Bahamas, Belize, Canada, Costa Rica, El Salvador, Guatemala, Honduras, Mexico, Nicaragua, United States,', 'Antigua and Barbuda, Bahamas, Barbados, Belize, Canada, Colombia, Costa Rica, Cuba, Dominica, Dominican Republic,', 'Mexico, United States', 'Neotropical', 'Albania, Armenia, Bosnia and Herzegovina, Georgia, Israel, Liechtenstein, Mongolia, Montenegro, Norway, Poland,', 'Australia', 'China, Iceland, Japan, Kazakhstan, Latvia, United Kingdom,  Canada, Faroe Islands, Finland, Norway,', 'Bahamas, Canada, Cuba, Dominican Republic, Mexico, Jamaica,  United States, Netherlands, United Kingdom', 'Canada, Mexico, United States', 'Philippines', 'Albania, Algeria, Andorra, Angola, Armenia, Austria, Azerbaijan, Bahrain, Bangladesh, Belarus,', 'Afghanistan, Albania, Andorra, Armenia, Austria, Azerbaijan, Belarus, Belgium, Bhutan, Bosnia and Herzegovina,', 'Afghanistan, Algeria, Andorra, Azerbaijan, Egypt, Eritrea, Ethiopia, France, Greece, Iran,', 'Bhutan, Timor-Leste, Bangladesh, Cambodia, China, India, Indonesia, Laos, Malaysia, Myanmar,', 'Canada, Mexico, United States', 'Brazil', 'Algeria, Angola, Antigua and Barbuda, Argentina, Australia,  Bahamas, Bahrain, Bangladesh, Barbados, Belize,', 'Afghanistan, Albania, Andorra, Armenia, Austria, Azerbaijan, Belarus, Belgium, Bhutan, Bosnia and Herzegovina,', 'Bahamas, Canada, Mexico, United States', 'Afghanistan, Albania, Andorra, Armenia, Austria, Azerbaijan, Belarus, Belgium, Bosnia and Herzegovina, Bulgaria,', 'Chile, Colombia, Ecuador, El Salvador, Honduras, Mexico, Nicaragua, Panama, Peru, United States,', 'Albania, Algeria, Andorra, Armenia, Austria, Azerbaijan, Belarus, Belgium, Bhutan, Bosnia and Herzegovina,', \"Afghanistan, Bangladesh, Benin, Bhutan, Burkina Faso, Cameroon, Central African Republic, Chad, China, Cote d'Ivoire,\", 'Canada, United States', 'United States, Costa Rica, Nicaragua, Canada, Antigua and Barbuda, Bahamas, Barbados, Belize, Colombia, Cuba,', 'Australia, Indonesia, Papua New Guinea', 'United States, Belize, Canada, Colombia, Guatemala, Honduras, Mexico, Nicaragua, Costa Rica, El Salvador,', 'Algeria, Andorra, Azerbaijan, Belarus, Belgium, Bulgaria, Croatia, Cyprus, Czech Republic, Denmark,', 'Canada, United States, Mexico', 'Antigua and Barbuda, Bahamas, Barbados, Canada,  Chile, Colombia, Cuba, Dominica, Dominican Republic, Ecuador,', 'United States, Canada, Mexico, Bahamas', 'Afghanistan, Armenia, Azerbaijan,  China, Georgia, Iran, Kazakhstan, South Korea, North Korea, Laos,', 'Bolivia, Brazil, Paraguay', 'Argentina, Australia, Brazil, Chile, Madagascar, Mozambique, Namibia, New Zealand, South Africa, Uruguay,', 'Afghanistan, Bangladesh, Bhutan, Cambodia, China, India, Iran, Laos, Malaysia, Myanmar,', 'Albania, Armenia, Austria, Azerbaijan, Belarus, Belgium, Bosnia and Herzegovina,  Bulgaria, China, Croatia,', 'Kazakhstan, Mongolia, Russia, Turkmenistan, Belarus, Denmark, Finland, Germany, Greece, Latvia,', 'Canada,  Mexico, United States', 'Canada, United States', 'New Zealand', 'Nepal, Pakistan, Singapore,  Sri Lanka, Thailand, Viet Nam, Bhutan, Philippines, Oman, Iran, United Arab Emirates, Yemen, Palau', 'Algeria, Andorra, Austria, Azerbaijan,  Belarus, Belgium, Bulgaria, Croatia, Czech Republic, Denmark,', 'Austria, Belgium, Bulgaria, Croatia, Czech Republic, Denmark, France, Germany, Hungary, Italy,', 'Antigua and Barbuda, Bahamas,  Barbados, Canada, Colombia, Cuba, Dominica, Dominican Republic, Ecuador, El Salvador,', 'Albania, Algeria, Angola, Antigua and Barbuda, Argentina, Armenia, Australia, Austria, Azerbaijan, Bahamas,', 'Argentina, Belize, Bolivia, Brazil, Colombia, Costa Rica, Ecuador, El Salvador, Guatemala, Guyana,', 'China, Japan, North Korea, South Korea,  Russia, Taiwan, Belarus, Hong Kong, India, Mongolia,', 'Australia, New Zealand', 'Albania, Andorra, Armenia,  Austria, Azerbaijan, Belarus, Belgium, Bosnia and Herzegovina, Bulgaria, Croatia,', 'Cuba, United States', 'Russia, China, Japan, North Korea, South Korea, United States, Taiwan', \"Angola, Benin, Botswana, Burkina Faso, Burundi, Cameroon, Central African Republic, Chad, DR Congo, Cote d'Ivoire,\", 'Algeria, Andorra, Austria, Azerbaijan, Belgium, Bulgaria,  Croatia, Czech Republic, Denmark, Djibouti,', 'Afghanistan, Algeria, Austria, Azerbaijan, Belarus, Belgium, Bosnia and Herzegovina, Bulgaria, Croatia, Cyprus,', 'United States, Belize, Costa Rica, Nicaragua, Canada, Antigua and Barbuda, Bahamas, Barbados, Colombia, Cuba,', 'Albania, Algeria, Angola, Azerbaijan, Benin, Bulgaria, Burkina Faso, Chad, Comoros, DR Congo,', 'Canada, Costa Rica, Cuba, El Salvador, Guatemala, Honduras, Mexico, Nicaragua, Panama, Belize,', 'Algeria, Andorra, Azerbaijan, Belgium, Bosnia and Herzegovina, Bulgaria, Croatia, Cyprus, Czech Republic, Denmark,', 'Neotropical', 'Albania, Algeria, Austria, Belgium, Bulgaria, Burkina Faso, Burundi, DR Congo, Croatia, Czech Republic,', 'Canada, United States, Mexico, Bahamas', 'Algeria, Andorra, Austria, Azerbaijan, Bahrain, Bangladesh, Belarus, Belgium, Bulgaria, Croatia,', 'Albania, Algeria, Angola, Armenia, Austria, Azerbaijan, Bahrain, Bangladesh, Belarus, Belgium,', 'Algeria, Canada, Denmark, Faroe Islands, France, Iceland, Ireland, Morocco, Tunisia, Norway,', 'Australia, New Zealand, Chile', 'Null', 'Canada, Cuba, Mexico, United States, Antigua and Barbuda, Bahamas, Barbados, Denmark, Dominica, Iceland,', 'United States,  Russia, Finland, Iceland, Norway, Sweden, Canada, China, France, Japan,', 'Australia, Indonesia, Papua New Guinea', 'Albania, Algeria, Angola, Antigua and Barbuda, Armenia, Austria, Azerbaijan, Bahrain, Bangladesh, Barbados,', 'Belize, Canada, El Salvador, Guatemala, Honduras, Mexico, Nicaragua, United States, Cuba', 'Albania, Austria, Azerbaijan, Bahrain, Bangladesh, Belarus, Belgium, Bhutan, Bosnia and Herzegovina, Bulgaria,', 'Algeria, Andorra, Angola, Armenia, Austria, Azerbaijan, Bahrain, Bangladesh, Belgium, Benin,', 'Canada, El Salvador, Guatemala, Honduras, Mexico, Nicaragua, United States', 'Bahamas, Barbados, Belize, Canada, Colombia, Costa Rica, Cuba, Dominican Republic, Guatemala,  Honduras,', 'Canada, United States, Mexico', 'Canada, United States, Bahamas, Cuba, Mexico, Germany, United Kingdom', 'Argentina, Belize, Bolivia, Brazil, Canada, Chile, Colombia, Costa Rica, Ecuador, El Salvador,', 'India, Pakistan', 'Antigua and Barbuda, Argentina, Bahamas, Barbados, Bolivia, Brazil, Canada, Chile, Colombia, Cuba,', 'Canada, United States, Mexico', 'Canada, Suriname, United States, Uruguay, Argentina, Bahamas, Belize, Bolivia, Brazil, Chile,', 'United States, Costa Rica, Nicaragua, Argentina, Bahamas, Belize, Bolivia, Brazil, Canada, Colombia,', 'Albania, Algeria, Antigua and Barbuda, Azerbaijan, Bahamas, Barbados, Belgium, Brazil, Bulgaria, Canada,', 'Angola, Mozambique, Namibia, South Africa', 'Afghanistan, Albania, Armenia, Azerbaijan, Belarus, Belgium, Bosnia and Herzegovina, Bulgaria,  China, Croatia,', 'Canada, United States, Mexico', 'Afghanistan, Andorra, Austria, Azerbaijan, Belarus, Belgium, Bulgaria, Cyprus, Czech Republic, Denmark,', 'Afghanistan, Algeria, Andorra, Austria, Azerbaijan, Belarus, Belgium, Bulgaria, Croatia, Cyprus,', 'Argentina, Belize, Bolivia, Brazil, Chile, Colombia, Costa Rica, Dominica, Ecuador, El Salvador,', 'Afghanistan, Azerbaijan, Bulgaria, Cyprus, Egypt, Greece, Iran, Iraq, Israel, Jordan,', 'Canada, United States, Costa Rica, Guadeloupe,  Nicaragua, Antigua and Barbuda, Bahamas, Barbados, Belize, Bolivia,', 'Canada, United States', 'Albania, Austria, Azerbaijan, Belgium, Bosnia and Herzegovina, Bulgaria, Croatia, Czech Republic, Denmark, Finland,', 'Algeria, Andorra, Austria, Azerbaijan, Belgium, Bulgaria, Croatia, Czech Republic, Denmark, Egypt,', 'Albania, Algeria,  Andorra, Armenia, Austria, Azerbaijan, Bahrain, Bangladesh, Belarus, Belgium,', 'Australia, New Zealand', 'Argentina, Bolivia, Brazil, Paraguay, Uruguay', 'Argentina, Chile, South Africa', 'Canada, Mexico,  United States', 'Angola, Armenia, Australia, Azerbaijan, Bangladesh, Benin, Bhutan, Botswana, Brunei, Bulgaria,', 'Afghanistan, Albania, Algeria, Armenia, Austria, Azerbaijan, Belarus, Belgium, Bosnia and Herzegovina, Bulgaria,', 'Algeria, Angola, Armenia, Azerbaijan, Bahrain, Bangladesh, Botswana, Burundi, Cambodia, Cape Verde,', 'Bolivia, Brazil, Colombia, Ecuador, Guyana, Panama,  Paraguay, Peru, Suriname, Venezuela', 'Australia', 'Canada, Mexico, United States', 'Angola, Argentina, Australia, Austria, Belgium, Benin, Bolivia, Brazil, Cameroon, Canada,', 'Bahamas, Canada, United States, Mexico', 'Australia', 'Bhutan, Cambodia, China, India, Indonesia, Laos, Malaysia, Myanmar, Nepal, Thailand,', 'Australia', 'Australia, Indonesia, Papua New Guinea', 'Belgium, Cuba, Faroe Islands, Ireland, Netherlands, Portugal, United Kingdom, Canada, France, Iceland,', 'Bahamas, Canada, Cuba, Dominican Republic, El Salvador, Guatemala, Honduras, Mexico, Panama, United States,', 'Argentina, Belize, Bolivia, Brazil, Colombia, Costa Rica, Cuba, Ecuador, El Salvador, Guatemala,', 'Algeria, Angola, Antigua and Barbuda, Argentina, Armenia, Australia, Azerbaijan, Bahamas, Bahrain, Bangladesh,', 'Albania, Algeria, Andorra, Armenia, Austria, Azerbaijan, Belarus, Belgium, Bhutan, Bosnia and Herzegovina,', 'Argentina, Bahamas, Bolivia, Brazil, Canada, Colombia, Cuba, Dominican Republic, Ecuador, El Salvador,', 'Canada, United States, Bahamas, Dominican Republic, Norway, United Kingdom', 'Canada, China, India, Japan, South Korea, Mexico,  Russia, United States, Bahamas, Barbados,', 'Bahamas, Belize, Costa Rica, Cuba, El Salvador, Guatemala, Honduras, Mexico, Nicaragua, Panama,', 'Angola, Botswana, Burkina Faso, Burundi, Cameroon, Central African Republic, Chad, Congo, DR Congo, Djibouti,', 'India, Indonesia, Malaysia, Myanmar, Palau,  Papua New Guinea, Philippines, Solomon Islands, Thailand, Viet Nam,', 'Argentina, Australia, Chile, South Africa', 'Angola, Benin, Botswana, Burkina Faso, Burundi, Cameroon, Central African Republic, Chad, Congo, DR Congo,', 'Australia, Indonesia, Papua New Guinea', 'Algeria, Austria, Bangladesh, Belarus, Belgium, Bhutan, Bosnia and Herzegovina, China, Czech Republic, Denmark,', 'China, Japan, North Korea, South Korea, Mongolia, Russia, Taiwan', 'Canada, United States', 'Argentina, Bolivia, Brazil, Chile, Colombia, Costa Rica, Ecuador, El Salvador, Guatemala, Mexico,', 'Albania, Algeria, Armenia, Austria, Azerbaijan, Bhutan, Bosnia and Herzegovina, Bulgaria, China, Croatia,', 'Paraguay, Argentina, Bolivia, Brazil', 'Bolivia, Brazil, Colombia, Ecuador, Guyana, Peru, Suriname, Venezuela', 'China', 'Australia, Cambodia, China, India, Laos, Myanmar, Nepal, Pakistan, Viet Nam, Bangladesh', 'Antigua and Barbuda, Bahamas, Barbados, Belize, Bolivia, Canada, Colombia, Costa Rica, Cuba, Dominica,', 'United States, Uruguay, Argentina, Bahamas, Belize, Bolivia, Brazil, Canada, Chile, Colombia,', 'Argentina, Chile, South Africa', 'Canada', 'Afghanistan, Algeria, Andorra, Austria, Azerbaijan, Belarus, Belgium, Bulgaria, Chad,  Croatia,', 'Costa Rica, El Salvador, Guatemala, Honduras, Mexico, Nicaragua, Panama', 'Bahamas, Brazil, Colombia, Cuba, Dominican Republic, Ecuador, Guyana, Jamaica, Mexico, Suriname,', 'Canada, Cuba, Guatemala, Mexico, United States', 'Antigua and Barbuda, Bahamas, Barbados, Belize, Brazil, Canada, Chile, Colombia, Costa Rica, Cuba,', 'Australia', 'Australia, Timor-Leste', 'United States, Brazil, Costa Rica, Belize, Canada, El Salvador, Bahamas, Chile, Colombia, Cuba,', 'Canada, Mexico, United States', 'Costa Rica, Guatemala, United States, Canada, Mexico', 'Canada, Mexico, United States', 'Angola, Benin, Botswana, Burkina Faso, Burundi, Cameroon, Central African Republic, Chad, Congo, DR Congo,', 'Canada, Mexico, United States', 'Canada, United States, Belize, Costa Rica, Antigua and Barbuda, Bahamas, Barbados, Colombia, Cuba, Dominica,', 'United States', 'Albania, Algeria, Angola, Antigua and Barbuda, Argentina, Armenia, Austria, Azerbaijan, Bahamas, Bahrain,', 'Albania, Algeria, Angola, Armenia, Australia, Austria, Azerbaijan, Bahrain, Bangladesh, Belarus,', 'United States, Uruguay, Venezuela, Antigua and Barbuda, Argentina, Bahamas, Barbados, Belize, Bolivia,  Brazil,', 'Bahamas, Canada, Costa Rica, Cuba, Dominican Republic, El Salvador, Guatemala, Mexico, Nicaragua, United States', 'Australia, Papua New Guinea, Solomon Islands, Indonesia, New Zealand', 'Bangladesh, Bhutan, China, Hong Kong, India, Maldives, Myanmar, Nepal, Pakistan, Qatar,', 'United States, Canada, Mexico, Bahamas', 'Belize, United States, Costa Rica, Antigua and Barbuda, Barbados, Dominica, Dominican Republic, El Salvador, Grenada, Guadeloupe,', 'Algeria, Andorra, Austria, Azerbaijan, Belarus, Belgium, Bulgaria, Canada, Croatia, Cyprus,', 'Indonesia', 'United States, Bahamas, Canada, Cuba, Mexico, United Kingdom', 'China, India, Bangladesh, Bhutan, Myanmar, Nepal, Sri Lanka, Viet Nam, Afghanistan, Pakistan', 'Antigua and Barbuda, Bahamas, Barbados, Cuba, Dominica, Dominican Republic, Grenada, Guadeloupe, Jamaica, Saint Kitts and Nevis,', 'Cambodia, China, Indonesia, Laos, Myanmar, Thailand,   Viet Nam', 'Angola, Argentina, Australia, Bahamas, Bangladesh, Belize, Benin, Bhutan, Bolivia, Botswana,', 'United States', 'Argentina, Bolivia, Brazil, Guyana, Paraguay, Peru, Suriname, Uruguay', 'Albania,  Angola, Armenia, Azerbaijan, Bangladesh, Benin, Bosnia and Herzegovina, Botswana, Bulgaria, Burkina Faso,', 'China, Spain, France, Albania, Andorra, Austria, Bosnia and Herzegovina, Bulgaria, Croatia,  Germany,', 'Spain, Portugal, France, Finland, United Kingdom, Albania, Andorra, Austria, Belgium, Bosnia and Herzegovina,', 'Faroe Islands, Denmark, Estonia, Finland, France, Germany, Iceland, Latvia, Norway, Russia,', 'Antigua and Barbuda, Barbados, Bolivia, Brazil, Canada, Colombia, Cuba, Dominica, Dominican Republic, Ecuador,', 'Nicaragua', 'Canada, Mexico, United States,  Guatemala', 'Afghanistan, Algeria, Andorra, Austria, Azerbaijan, Bahrain, Bangladesh, Belgium, Bhutan, Bulgaria,', 'Azerbaijan, China, Iran, Kazakhstan, Mongolia, Russia, Uzbekistan, India, Pakistan, Turkmenistan,', 'Chile, Argentina, Brazil, Paraguay, Uruguay', 'Armenia, Austria, Bulgaria, China, Croatia, Czech Republic, Georgia, Germany, Greece, Hungary,', 'Australia', 'Belize, Guatemala, Mexico', 'Australia, Austria, Belgium, Bosnia and Herzegovina, China, Czech Republic, Guinea-Bissau, Hong Kong,  Kazakhstan, South Korea,', 'Ecuador', 'Belize, Costa Rica, El Salvador, Guatemala, Honduras, Mexico, Nicaragua, Panama, Canada, United States,', 'China, India, Bangladesh, Bhutan, Cambodia, Laos, Malaysia, Myanmar, Nepal, Thailand,', 'United States, Bahamas, Canada, Costa Rica, El Salvador, Guatemala, Honduras, Mexico, Nicaragua, Panama', 'United States, Belize, Costa Rica, Guadeloupe, Jamaica, Nicaragua, Canada, Bahamas, Colombia, Cuba,', 'Spain, France, United Kingdom, Albania, Austria, Belgium, Bosnia and Herzegovina, Bulgaria, Croatia, Denmark,', 'Mexico, Canada, United States', 'United States, Antigua and Barbuda, Bahamas, Barbados, Belize, Canada, Cuba, Dominica, Guadeloupe, Mexico,', 'Spain, Portugal, France, Finland, United Kingdom, Albania, Andorra, Austria, Belgium, Bosnia and Herzegovina,', 'Albania, Algeria, Andorra, Angola, Armenia, Azerbaijan, Benin, Bulgaria, Burkina Faso, Cameroon,', \"Algeria, Antigua and Barbuda, Bahrain, Bangladesh, Barbados, Benin, Burkina Faso, Cambodia, Cote d'Ivoire, Denmark,\", 'Australia, Bangladesh, Brunei, Cambodia, China, Hong Kong, India, Indonesia, Laos, Malaysia,', 'Afghanistan, Bangladesh, Bhutan, India, Iran, Iraq, Nepal, Oman, Pakistan, Sri Lanka,', 'Tanzania, Uganda, Zambia, Zimbabwe, Lesotho, Swaziland', 'Bhutan, China, India, Myanmar, Nepal, Pakistan, Afghanistan', 'Argentina, Brazil, Colombia, Guyana, Suriname, Trinidad and Tobago, Venezuela, Belize, Cuba, Dominica,', \"Angola, Benin, Botswana, Burkina Faso,  Burundi, Cameroon, Central African Republic, Chad, DR Congo, Cote d'Ivoire,\", 'Angola, Benin, Botswana, Burkina Faso, Burundi, Cameroon, Central African Republic, Chad, Congo, DR Congo,', 'Angola, Benin, Botswana, Burkina Faso, Burundi, Cameroon, Central African Republic, Chad, Comoros, Congo,', 'Canada, United States, Mexico', 'China, Hong Kong, North Korea, South Korea, Mongolia, Spain, Portugal, France, Albania, Andorra,', 'Albania, Armenia, Austria, Azerbaijan, Belarus, Belgium, Bosnia and Herzegovina, Bulgaria, China, Croatia,', 'Australia', 'New Zealand', 'Afghanistan, Kyrgyzstan, Mongolia, Russia, Tajikistan, Bhutan, China, India, Kazakhstan, Nepal,', \"Algeria,  Benin, Burkina Faso, Burundi, Cameroon, Central African Republic, Chad, Cote d'Ivoire, Djibouti,  Eritrea,\", 'Australia, Bangladesh, Brunei, Cambodia, China, India, Indonesia, Laos, Malaysia, Myanmar,', 'Mexico, United States', 'Belize, Bolivia, Brazil, Colombia, Costa Rica, Cuba, Ecuador, El Salvador, Guatemala, Guyana,', 'Honduras, Mexico, Nicaragua, Panama, Paraguay, Peru, Suriname, Trinidad and Tobago, Uruguay, Venezuela', 'Greece, Israel, Italy, Lebanon, Malta, Netherlands, Macedonia, Palestine, Portugal, Spain,', 'Uruguay, Argentina, Bolivia, Brazil, Colombia, Ecuador, Mexico, Paraguay, Peru, United States,', 'Canada, Mexico, United States', 'Albania, Andorra,  Armenia, Austria, Azerbaijan, Belarus, Belgium, Bosnia and Herzegovina, Bulgaria, China,', 'Canada, Mexico, United States, Bahamas, Guatemala', 'Antigua and Barbuda, Argentina, Bahamas, Barbados, Belize, Bolivia, Brazil, Canada, Colombia, Costa Rica,', 'Australia, Indonesia, Papua New Guinea', 'Albania, Armenia, Azerbaijan, Bulgaria, China, Egypt, Georgia, Greece, Hong Kong, India,', 'Antigua and Barbuda, Argentina, Bahamas, Barbados, Bolivia, Brazil, Chile, Colombia, Cuba, Dominica,', 'Bahamas, Belize, Canada, Cuba, El Salvador, Guatemala,  Honduras, Mexico, Nicaragua, Panama,', 'China, Japan, North Korea, Mongolia, Myanmar, Russia, Thailand, Bhutan, India,  South Korea,', 'Albania, Algeria, Argentina, Austria, Azerbaijan, Bahrain, Bangladesh, Belarus, Belgium, Bolivia,', 'United States, Canada', 'Argentina, Brazil, Chile, Peru, Uruguay', 'Bangladesh, Brunei, Cambodia, China, India, Indonesia, Laos, Malaysia, Maldives, Myanmar,', 'Canada, United States, Mexico, Bahamas, Denmark, Ireland, Morocco, Norway, Portugal,  Spain,', 'Australia, Gabon,  Kazakhstan, Kyrgyzstan, Mongolia, New Zealand, Russia, South Africa, Tajikistan, Turkmenistan,', 'Afghanistan, Algeria, Andorra, Austria, Azerbaijan, Belgium, Bulgaria, Croatia, Czech Republic, Denmark,', 'Albania, Andorra, Armenia, Austria, Azerbaijan, Belarus, Belgium, Bosnia and Herzegovina, China, Croatia,', 'Belgium, Bhutan, Bulgaria, Burkina Faso, Burundi, Cambodia, Cameroon, Canada, Central African Republic, Chad,', 'Canada, Mexico, United States', 'United States, Bahamas, Cuba, Guadeloupe, Jamaica, Mexico, Saint Kitts and Nevis, Nicaragua, Barbados, Canada,', 'United States, Bahamas, Canada, Cuba, Mexico, Panama, Russia, Belize, Jamaica, Japan,', 'Albania, Algeria, Angola, Austria, Azerbaijan, Bahrain, Bangladesh, Belarus, Belgium, Benin,', 'Austria, Azerbaijan, Belgium, Bulgaria, Canada, China, Croatia, Cuba, Czech Republic, Denmark,', 'Guatemala, Mexico, United States, Canada', 'Neotropical', 'Australia', 'Belarus, Czech Republic, Estonia, Finland, Ireland,  Latvia, Lithuania, Russia, Sweden, United Kingdom,', 'Mongolia, Norway, Russia, United States, Canada, Latvia, China, Estonia, Finland, Kazakhstan,', 'Argentina, Chile', 'Belize, Colombia, Costa Rica, El Salvador, Guatemala, Honduras,  Mexico, Nicaragua, Panama, United States,', 'Armenia, Canada, China, Estonia, Faroe Islands, Finland, Georgia, Greece, Ireland, Japan,', 'Albania, Antigua and Barbuda, Austria,  Azerbaijan, Bahamas, Bangladesh, Barbados, Belgium, Bhutan, Bosnia and Herzegovina,', 'Canada, Mexico, United States', 'Canada, Mexico, United States', 'United States, El Salvador, Guatemala, Canada, Honduras, Mexico, Bahamas, Cuba, Germany, Iceland,', 'Angola, Botswana, Ethiopia, Kenya, Mozambique, Namibia,  Somalia, South Africa, South Sudan, Sudan,', 'Angola, Botswana,  Burundi, Congo, DR Congo, Ethiopia, Kenya, Lesotho, Malawi, Mozambique,', 'Angola, Albania, Antigua and Barbuda, Azerbaijan, Bahamas, Bangladesh, Barbados, Benin, Botswana, Bulgaria,', 'Afghanistan, Armenia, China, Kazakhstan, Kyrgyzstan, Mongolia, Montenegro, Russia, Tajikistan, Uzbekistan,', 'Australia', 'Argentina, Bahamas, Belize, Bolivia, Brazil,   Chile, Colombia, Cuba, Ecuador, El Salvador,', 'Bangladesh, Bhutan, China, India, Kazakhstan, Kyrgyzstan, Malaysia, Mongolia, Myanmar, Nepal,', 'Albania, Armenia, Austria, Azerbaijan, Bahrain, Belarus, Belgium, Bulgaria, Croatia, Cyprus,', 'Australia', 'Argentina, Belize, Bolivia, Brazil, Colombia, Ecuador, El Salvador, Guatemala, Honduras, Mexico,', 'Antigua and Barbuda, Bahamas, Barbados, Belize, Brazil, Colombia,  Costa Rica, Cuba, Dominica, Dominican Republic,', 'Algeria, Bangladesh, Belgium, Bhutan, Bosnia and Herzegovina, Bulgaria,  Cambodia, Croatia, Cyprus, Denmark,', 'Canada, United States', 'Australia, Indonesia, Papua New Guinea, Solomon Islands', 'Canada, Antigua and Barbuda, Bahamas, Barbados, Cuba, Dominica, Dominican Republic, Jamaica, Saint Kitts and Nevis, Saint Lucia,', 'Antigua and Barbuda, Argentina, Bahamas, Barbados, Belize, Bolivia, Brazil, Canada, Chile, Colombia,', 'United States, Uruguay, Argentina, Belize, Bolivia, Brazil, Canada, Chile, Colombia, Costa Rica,', 'Australia, Indonesia, Papua New Guinea, Timor-Leste', 'Ecuador, Colombia', 'Antigua and Barbuda, Bahamas, Barbados, Belize, Canada, Costa Rica, Cuba, Dominica, Dominican Republic, El Salvador,', 'Belize, Colombia, Costa Rica, Guatemala, Honduras, Mexico, Nicaragua, Panama, Venezuela', 'United States, Mexico', 'Antigua and Barbuda, Bahamas, Barbados, Belize, Bolivia, Canada, Colombia, Cuba, Dominica, Dominican Republic,', 'Antigua and Barbuda, Bahamas, Barbados, Belize, Brazil, Canada, Colombia, Costa Rica, Cuba, Dominica,', 'China,  Japan, North Korea, South Korea, Mongolia, Russia, Kazakhstan, Taiwan', 'Algeria, Angola, Armenia, Australia, Austria, Azerbaijan, Bahrain, Bangladesh, Botswana, Brunei,', 'Mexico, United States', 'Antigua and Barbuda, Argentina, Bahamas, Barbados,  Belize, Bolivia, Brazil, Canada, Chile, Colombia,', 'Canada, El Salvador, Guatemala, Honduras, Mexico, Nicaragua, United States', 'Brunei, Indonesia, Malaysia, Thailand', 'Albania, Algeria, Angola, Antigua and Barbuda, Argentina,  Armenia, Australia, Austria, Azerbaijan, Bahamas,', 'Canada,  Japan, Russia, United States, South Korea, North Korea', 'Kazakhstan, Mongolia, Russia, Japan, South Korea, North Korea, China, Turkmenistan, Laos, Uzbekistan,', 'Indonesia, Timor-Leste', 'Bosnia and Herzegovina, Kazakhstan, Liechtenstein, Mongolia, Russia, Albania, Bahrain, Bangladesh, Canada, Cyprus,', 'Australia, Indonesia, Papua New Guinea, Solomon Islands, Timor-Leste', 'United States, Belize, Costa Rica, Guadeloupe, Jamaica, Nicaragua, Canada, Antigua and Barbuda, Bahamas, Barbados,', 'Canada, United States, Mexico, China, Japan, South Korea, North Korea, Russia, Iceland,  Austria,', 'New Zealand', 'Afghanistan, Azerbaijan, Bulgaria, Canada, Colombia, Croatia, Finland, Greece, Iran, Iraq,', 'Australia', 'Canada, United States, Mexico', \"Angola, Benin, Botswana, Burkina Faso, Burundi, Cameroon, Central African Republic, Chad, DR Congo, Cote d'Ivoire,\", 'Albania,  Austria, Belgium, China, Croatia, Denmark, France, Germany, Hungary, Iceland,', 'Angola, Benin, Botswana, Burkina Faso, Burundi, Cameroon, Central African Republic, Chad, Congo, DR Congo,', 'United States, Belize, Costa Rica, Dominican Republic, Jamaica, Nicaragua, Antigua and Barbuda, Bahamas, Barbados, Canada,', 'Canada, Jamaica, United States, Uruguay,  Antigua and Barbuda, Argentina, Bahamas, Barbados, Bolivia, Brazil,', 'Argentina, Bolivia, Brazil, Paraguay, Uruguay', 'Algeria, Austria, Azerbaijan, Bahrain,  Bangladesh, Belgium, Bhutan, Brunei, Bulgaria, Cambodia,', 'Bangladesh, Cambodia, China, India, Iran, Laos, Myanmar, Nepal, Pakistan, Sri Lanka,', 'Angola, Botswana, Burundi, Cameroon, DR Congo, Djibouti, Eritrea, Ethiopia, Gabon, Gambia,', 'Canada, Mexico, United States, Bahamas,  Barbados, Costa Rica, Cuba, Iceland, Panama', 'Argentina, Bolivia, Brazil, Colombia, Ecuador, Guyana,  Panama, Paraguay, Peru, Suriname,', 'Andorra, Austria, Azerbaijan, Belarus, Belgium, Bulgaria, Canada, Croatia, Czech Republic, Denmark,', 'Albania, Algeria, Andorra, Armenia, Austria, Azerbaijan, Belarus, Belgium, Belize, Bhutan,', 'Algeria, Angola,  Antigua and Barbuda, Argentina, Austria, Bahamas, Bangladesh, Barbados, Benin, Bolivia,', 'Macao, Georgia, Hong Kong, Israel, Kazakhstan, North Korea, Kyrgyzstan, Papua New Guinea, Russia, Senegal,', \"Angola, Benin, Botswana,  Burkina Faso, Cameroon, Central African Republic, Chad, DR Congo, Cote d'Ivoire, Djibouti,\", 'Austria, Bahamas, Belarus, Belgium, Bulgaria, Canada, China, Czech Republic, Denmark, Estonia,', 'Bolivia', 'Canada, Japan,  Marshall Islands, Mexico, Federated States of Micronesia, Russia, United States, New Zealand, China, South Korea,', 'Bahamas, Canada, Colombia, Cuba, Ecuador, El Salvador, Guatemala, Honduras, Mexico, Nicaragua,', 'Argentina, Bolivia, Colombia, Ecuador, Mexico,  Peru, Venezuela', 'Austria, Azerbaijan, Belgium, Bulgaria, Czech Republic, Faroe Islands, France, Greece, Hungary, Iran,', 'Angola, Botswana, Burundi, DR Congo, Kenya, Lesotho, Malawi, Mozambique, Namibia, Rwanda,', 'New Zealand', 'Antigua and Barbuda, Bahamas, Barbados, Canada, Colombia, Cuba, Dominica, Dominican Republic, El Salvador, Guatemala,', 'Brazil', 'Bhutan, India, Nepal, Cambodia, Laos, Myanmar, Pakistan, Sri Lanka, Thailand, Bangladesh,', 'Albania, Algeria, Angola, Azerbaijan, Benin, Bosnia and Herzegovina, Botswana, Burkina Faso, Burundi, Cameroon,', 'Namibia,  South Africa, Botswana, Lesotho, Swaziland, Zimbabwe', 'United States', 'Indonesia, Papua New Guinea', \"Benin, Burkina Faso, Cameroon, Central African Republic, Chad, Cote d'Ivoire, Gambia, Ghana, Guinea, Guinea-Bissau,\", 'China', 'Antigua and Barbuda, Argentina, Barbados, Brazil, Canada, Chile, Dominica, Guadeloupe, Japan, Maldives,', 'Canada, United States, Belize, Costa Rica, Guadeloupe,  Jamaica, Nicaragua, Antigua and Barbuda, Bahamas, Barbados,', 'Australia', 'Argentina, Bolivia, Brazil,  Chile, Ecuador, Paraguay, Peru, Uruguay', 'Australia, Indonesia, Papua New Guinea', 'United States, Canada, Mexico, Cuba', 'Belize, Guatemala, Mexico', 'Antigua and Barbuda, Bahamas, Barbados, Belize, Canada, Costa Rica, Cuba, Dominica, Ecuador, El Salvador,', 'Canada, United States, Mexico, Belize, Costa Rica, Cuba, El Salvador, Guatemala, Honduras, Dominican Republic,', 'United States, Canada, Mexico', 'South Africa, Argentina, Australia, Chile, New Zealand', 'Australia', 'Belize, Brazil, Colombia, Costa Rica, Cuba, El Salvador, Guatemala, Guyana, Honduras, Mexico,', 'Indonesia', 'Mexico, United States', 'Afghanistan, Albania, Armenia, Austria, Azerbaijan, Belarus, Bosnia and Herzegovina, China, Croatia, Czech Republic,', 'Antigua and Barbuda, Argentina, Australia, Bahamas, Barbados, Belize, Brazil, Cameroon, Canada, Chile,', 'Antigua and Barbuda, Bahamas, Barbados, Canada, Colombia, Cuba, Dominica, Dominican Republic, Grenada, Guatemala,', 'Costa Rica, Ecuador, Honduras, Nicaragua, Panama', 'Argentina, Bolivia, Chile, Peru', 'Canada, Mexico, United States', 'Albania,  Austria, Belarus, Bulgaria, China, Croatia, Czech Republic, Estonia, Finland, Hungary,', 'Japan, Russia, Canada, United States', 'Australia,  Argentina', 'China, Denmark, France, Japan, Mexico, Sweden, Faroe Islands, Germany,  Iceland, Ireland,', 'Afghanistan, Albania, Algeria, Armenia, Austria, Azerbaijan, Belarus, Belgium, Bosnia and Herzegovina, China,', 'United States', 'Antigua and Barbuda, Argentina, Bahamas, Barbados, Belize, Brazil, Chile, Colombia, Cuba, Dominica,', 'Indonesia, Papua New Guinea', \"Angola, Benin, Botswana, Burkina Faso, Burundi,  Cameroon, Central African Republic, Chad,  DR Congo, Cote d'Ivoire,\", 'Argentina, Bahamas, Barbados, Bolivia, Brazil, Canada, Chile, Colombia, Cuba, Ecuador,', 'Angola, Argentina, Australia, Brazil, Chile, Namibia, New Zealand, Peru, South Africa, Uruguay,', 'United States, Uruguay, Belize, Costa Rica, Antigua and Barbuda, Argentina, Bahamas, Barbados, Bolivia, Brazil,', 'Albania, Algeria, Angola, Antigua and Barbuda, Argentina, Armenia, Australia, Austria, Azerbaijan, Bahamas,', 'Antigua and Barbuda, Argentina, Bahamas, Barbados, Belize, Bolivia, Brazil, Canada, Colombia, Costa Rica,', 'Ecuador', 'Antigua and Barbuda, Bahamas, Barbados, Belize, Brazil, Canada, Colombia, Cuba, Dominica, Dominican Republic,', 'Angola, Bahrain, Bangladesh, Benin, Bhutan, Botswana, Burkina Faso,  Burundi, Cambodia, Cameroon,', 'Mauritius', 'United States, Belize, Costa Rica, Antigua and Barbuda,  Bahamas, Barbados, Canada, Colombia, Cuba, Dominica,', 'Antigua and Barbuda, Argentina, Bahamas, Barbados, Belize, Bolivia, Brazil, Canada, Chile, Colombia,', 'Philippines', 'Guatemala, Honduras, Nicaragua, United States, Canada, Mexico', 'Australia', 'Australia, Indonesia, Federated States of Micronesia, New Zealand, Palau, Papua New Guinea, Samoa, Solomon Islands, Tonga, Vanuatu,', 'Argentina, Australia, Chile, South Africa, Brazil, Madagascar, Mozambique, Namibia, New Zealand, Uruguay,', 'Indonesia, Japan, South Korea, Philippines, Timor-Leste', 'Canada, United States, Mexico, Ecuador', 'Bahamas, Chile,  Cuba, Dominica, Dominican Republic, Ecuador, Honduras, Mexico, Peru, Saint Kitts and Nevis,', 'New Zealand', 'Belgium, Czech Republic, France, Ireland, Netherlands, Romania, United Kingdom, Denmark, Germany, Sweden,', 'Mexico, United States', 'New Zealand', 'Canada, Mexico, United States', 'Neotropical', 'Albania, Algeria, Armenia,  Benin, Botswana, Bulgaria, Burkina Faso, Burundi, Cameroon, Chad,', 'Cambodia, China, Myanmar, Thailand, Viet Nam, Laos, Argentina', 'Argentina, Bolivia, Brazil, Paraguay', 'Australia', 'El Salvador, Guatemala, Honduras, Mexico, Nicaragua', 'Costa Rica, El Salvador, Guatemala, Honduras, Mexico, Nicaragua, Belize', 'Argentina, Chile, Australia, New Zealand', 'Australia, Bangladesh, Brazil, Chile, China, Colombia, Comoros, Costa Rica, Fiji, India,', 'United States, Belize, Costa Rica, Bahamas, Canada, Cuba, El Salvador, Guatemala, Honduras, Mexico,', 'Costa Rica, El Salvador, Guatemala,  Honduras, Mexico, Nicaragua, United States, Belize, Canada', 'Canada, Guatemala,  Mexico, United States', 'Russia, United States, Iran, Marshall Islands, Federated States of Micronesia, Palau, Philippines, Saudi Arabia, Sudan, Yemen,', 'Argentina, Brazil, Chile, Uruguay', 'Australia', 'Australia', 'Costa Rica, El Salvador, Guatemala, Mexico, Honduras, Nicaragua', 'United States, Uruguay, Argentina, Belize, Bolivia, Brazil, Colombia, Costa Rica, Cuba, Ecuador,', 'New Zealand', 'Cameroon, Chad, Ethiopia, Gambia, Guinea, Guinea-Bissau, Kenya, Mali, Mauritania, Niger,', 'Canada, United States, Bahamas, Colombia, Cuba, Ecuador, Guatemala, Mexico, Peru', 'New Zealand', 'Canada, Costa Rica, El Salvador, Guatemala, Honduras, Mexico, United States, Venezuela, Antigua and Barbuda, Barbados,', 'Indonesia', 'New Zealand', 'Indonesia', 'United States, Canada, Mexico', 'Canada, Jamaica, United States,  Costa Rica, Nicaragua, Bahamas, Belize, Colombia, Cuba, Dominican Republic,', 'Angola, Colombia,  DR Congo, Ecuador, Namibia, Peru, South Africa, Brazil, Canada, Congo,', 'Canada, China, Japan, South Korea, Mexico, Russia, Taiwan, United States, Philippines', 'Angola, Botswana, Burundi, Congo, DR Congo, Gabon, Kenya, Lesotho, Malawi,  Mozambique,', 'United States', 'Bolivia, Brazil, Colombia, Costa Rica, Ecuador, Guyana,  Panama, Peru, Suriname, Trinidad and Tobago,', 'Argentina, Belize, Bolivia, Brazil, Chile, Colombia,  Ecuador, Guatemala, Guyana, Honduras,', 'Canada, United States, Guatemala, Mexico', 'Bangladesh, Bhutan, Cambodia, India, Indonesia, Laos, Malaysia, Myanmar, Nepal, Pakistan,', 'Belize, Bolivia, Brazil, Colombia, Costa Rica, Ecuador, El Salvador, Guatemala, Guyana, Honduras,', 'Belize, Bolivia, Colombia, Ecuador, Guatemala, Honduras, Mexico, Nicaragua, Peru, Venezuela,', 'Chile, Colombia, Ecuador,  Peru', 'United States, Belize, Costa Rica, Guadeloupe, Jamaica, Uruguay,  Antigua and Barbuda, Argentina, Bahamas, Barbados,', 'Canada, United States, Costa Rica, Jamaica, Nicaragua, Antigua and Barbuda, Bahamas, Barbados, Belize, Bolivia,', 'Australia, Fiji, Indonesia, New Zealand, Papua New Guinea, Timor-Leste, China, Solomon Islands', 'Chile, Colombia, Ecuador, Peru, Panama', 'Mexico, United States, Canada', 'Antigua and Barbuda, Australia, Bahamas, Belize, Brazil, Canada, China, Cuba, Dominica, Dominican Republic,', 'Angola, Benin, Botswana, Burkina Faso, Burundi, Cameroon, Central African Republic, Chad, Congo, DR Congo,', 'New Zealand, Australia, Argentina', 'Canada, Mexico, United States', 'Antigua and Barbuda, Bahamas, Barbados, Belize, Cuba, Dominica,  Dominican Republic, Guadeloupe, Mexico, Panama,', 'Bahamas, Colombia, Cuba, Ecuador, El Salvador, Guatemala, Honduras, Mexico, Nicaragua, Panama,', 'Belize, Colombia, Costa Rica, El Salvador, Guatemala, Honduras, Mexico, Nicaragua, Panama,  United States', 'New Zealand', 'Russia, United States, Canada, Japan', 'Bangladesh, Cambodia, India, Indonesia, Laos, Myanmar, Thailand,  Viet Nam, Malaysia', 'Belize, Colombia, Costa Rica, Guatemala,  Honduras, Mexico, Nicaragua, Panama, Venezuela', 'Australia, Indonesia, Papua New Guinea', 'Australia, Bangladesh, Brunei, Cambodia, Eritrea, Fiji, India, Indonesia,  Laos, Malaysia,', 'United States, Belize, Costa Rica, Uruguay, Guadeloupe, Antigua and Barbuda, Argentina, Bahamas, Barbados,  Bolivia,', 'China, Japan, North Korea, South Korea, Mongolia, Russia, Kazakhstan, Taiwan', 'Bolivia, Brazil, Colombia, Ecuador, Guyana, Peru, Suriname, Trinidad and Tobago,  Venezuela', 'New Zealand', 'Bolivia, Brazil, Costa Rica, Ecuador, Guyana, Panama, Peru, Suriname, Trinidad and Tobago, Venezuela', 'Argentina, Belize, Bolivia,  Brazil, Colombia, Costa Rica, Ecuador, El Salvador, Guatemala, Guyana,', 'Bahamas, Cuba', 'Russia, Canada, United States, Belgium, Czech Republic, Denmark, Faroe Islands, Finland, France, Germany,', 'New Zealand', 'United States', 'Andorra, Austria, Azerbaijan, Belarus, Belgium, Bhutan, Bulgaria, Croatia, Cyprus, Czech Republic,', 'Canada, Guatemala, United States, Mexico, United Kingdom', 'Andorra, Austria, Canada, China, Finland, France, Germany, Iceland, Italy, Japan,', 'Algeria, Andorra, Austria, Azerbaijan, Belarus, Belgium, Bulgaria, Croatia, Cyprus, Czech Republic,', 'Mexico, United States', 'Bahamas, Belize, Canada, Colombia, Costa Rica, Cuba, Dominican Republic, Ecuador, El Salvador, Guatemala,', 'Canada, Belize, Costa Rica, Cuba, Nicaragua, Panama, El Salvador, Guatemala, Honduras, Mexico,', 'Canada, Mexico, United States', 'Algeria, Austria, Azerbaijan, Belgium, Bosnia and Herzegovina, Bulgaria, Croatia, Czech Republic, Denmark, Egypt,', 'Andorra, Austria, Azerbaijan, Belarus, Belgium, Bosnia and Herzegovina, Bulgaria, Croatia, Cyprus, Czech Republic,', 'Angola, Botswana, DR Congo, Swaziland, Kenya, Lesotho, South Africa, Zambia', 'Brazil, Guyana, Suriname, Venezuela', 'Cambodia, Indonesia, Laos, Myanmar, Thailand, Viet Nam', 'Belarus, Belgium, China, Denmark, Estonia, Faroe Islands, Finland, France, Germany, Iceland,', \"Angola, Burundi, Cameroon, Central African Republic, Congo, DR Congo, Cote d'Ivoire, Equatorial Guinea, Gabon, Ghana,\", 'Mexico, United States', 'China, Japan, Russia', 'Australia', \"Angola, Burundi, Cameroon, Central African Republic, Congo, DR Congo, Cote d'Ivoire, Equatorial Guinea, Ethiopia, Gabon,\", 'Algeria,  Bhutan, Croatia, Cyprus, Egypt, Eritrea, Ethiopia, France, Greece, India,', 'Null', 'Papua New Guinea', 'Null', 'Algeria, Andorra, Austria, Azerbaijan,  Belarus, Belgium, Bulgaria, Croatia, Cyprus, Czech Republic,', 'Finland, Russia, Ukraine, Belarus, China, Kazakhstan, Lithuania, Mongolia, Norway, Sweden,', 'Canada, United States', 'Bhutan, China, Hong Kong, India, Japan, Kazakhstan, South Korea, North Korea, Mongolia, Myanmar,', 'Dominican Republic, Jamaica', 'Andorra, Austria, Belarus, Bulgaria, China, Croatia, Czech Republic, Estonia, Finland, France,', 'Portugal, Spain', 'Solomon Islands, Australia, Papua New Guinea, Indonesia', 'Bangladesh, Brunei, Cambodia, China, India, Indonesia, Laos, Malaysia,  Myanmar, Nepal,', 'Afghanistan, Bangladesh, Bhutan, Cambodia, India, Laos, Myanmar, Nepal, Pakistan, Sri Lanka,', 'Algeria, Denmark, Egypt, Finland, France, Germany, Greece, Iran, Iraq, Kuwait,', 'Albania, Algeria, Armenia, Azerbaijan, Bangladesh, Belarus, Bhutan, Bosnia and Herzegovina, Bulgaria, China,', 'Albania, Andorra, Armenia, Austria, Azerbaijan, Belarus, Belgium, Bosnia and Herzegovina, Bulgaria, China,', 'Afghanistan, Andorra, Austria, Azerbaijan, Belarus, Belgium,  Bulgaria, Croatia, Cyprus, Czech Republic,', 'Andorra, Austria, Azerbaijan, Belarus, Belgium, Bulgaria, Croatia, Czech Republic, Denmark, Estonia,', 'India, Pakistan, Nepal, Afghanistan', 'Afghanistan, Albania, Andorra, Armenia, Austria, Azerbaijan, Belarus, Belgium, Bosnia and Herzegovina, China,', 'United States', 'Afghanistan, Albania, Algeria, Andorra, Armenia, Austria, Azerbaijan, Belarus, Belgium, Bhutan,', 'United States, Canada, Cuba, Mexico, Jamaica, Bahamas, Finland, France, Iceland, Japan,', 'Bangladesh, Bhutan, Brunei, Cambodia, China, India, Indonesia, Laos, Malaysia, Myanmar,', \"Angola, Benin, Burundi, Cameroon, Central African Republic, Congo, DR Congo, Cote d'Ivoire, Equatorial Guinea, Gabon,\", 'Indonesia,  Papua New Guinea', 'Angola, Botswana, DR Congo, Ethiopia, Malawi, Mozambique, Namibia, South Africa, Tanzania, Zambia,', 'Mozambique, South Africa, Swaziland', 'Australia, Indonesia, Papua New Guinea', 'Angola, Benin, Botswana, Burkina Faso, Burundi, Cameroon, Central African Republic, Chad, Congo, DR Congo,', 'Ecuador', 'Mexico, United States, Canada', 'Australia, New Zealand', \"Burundi, Cameroon, Central African Republic, Chad, Congo, DR Congo, Cote d'Ivoire, Djibouti, Eritrea, Ethiopia, Gabon, Gambia, Kenya, Lesotho, Liberia, Madagascar, Malawi, Mali, Mauritania, Mozambique, Namibia, Niger, Nigeria, Rwanda, Senegal, Sierra Leone, Somalia, Sudan, Uganda, Zimbabwe, Oman, Ghana\", 'Belarus, Estonia, Finland, Kazakhstan, Latvia, Lithuania, Russia, Angola, Benin, Botswana,', 'Australia', 'Argentina, Belize, Bolivia, Brazil, Colombia, Costa Rica, Ecuador, El Salvador, Guatemala, Guyana,', 'Cambodia, Indonesia, Malaysia, Thailand, Viet Nam', 'El Salvador, Guatemala, Honduras, Mexico, Nicaragua, United States', 'Canada, China, Japan, North Korea, South Korea, Mexico, Russia, Taiwan, United States', 'United States, Canada', 'Angola, Botswana, DR Congo, Kenya, Lesotho, Malawi, Mozambique, Namibia, South Africa, Tanzania,', 'Argentina, Belize, Bolivia, Brazil, Colombia, Costa Rica, Ecuador, El Salvador, Guatemala,  Guyana,', 'United States, Russia, Norway', 'United States, Canada, Mexico', 'Bangladesh, Comoros, Djibouti, Egypt, Eritrea, India, Iran, Iraq, Kenya, Kuwait,', 'Uruguay, Argentina, Bolivia, Brazil, Paraguay', 'New Zealand', 'Argentina, Belize, Bolivia, Brazil, Colombia, Costa Rica, Ecuador, El Salvador, Guatemala, Guyana,', 'United States, Canada', 'United States', 'Indonesia, Malaysia, Myanmar, Thailand', \"Cote d'Ivoire, Djibouti, Equatorial Guinea, Ethiopia, Gabon, Gambia, Ghana, Guinea, Guinea-Bissau, Kenya, Liberia, Malawi, Mali, Mauritania, Mozambique, Namibia, Niger, Nigeria, Rwanda, Senegal, Sierra Leone,  Somalia, South Africa, South Sudan, Sudan, Swaziland, Tanzania, Togo, Uganda, Zambia, Zimbabwe, Portugal\", 'Brunei, Indonesia, Malaysia, Myanmar, Thailand, Singapore', 'New Zealand', 'DR Congo, Malawi, Mozambique, South Africa, Tanzania, Zambia, Zimbabwe, Kenya, Uganda', 'Mexico', 'Australia', 'Belize, Colombia, Costa Rica, Ecuador, El Salvador, Grenada, Guatemala, Guyana, Honduras, Mexico,']\n"
          ]
        }
      ]
    },
    {
      "cell_type": "code",
      "source": [
        "#count of regions\n",
        "count_regions=[]\n",
        "for i in range(len(regions1)):\n",
        "  count_regions.append(len(regions1[i].split(',')))"
      ],
      "metadata": {
        "id": "FnWVtjPnrfPu"
      },
      "execution_count": null,
      "outputs": []
    },
    {
      "cell_type": "code",
      "source": [
        "finaldf['N_loc'] = count_regions"
      ],
      "metadata": {
        "colab": {
          "base_uri": "https://localhost:8080/"
        },
        "id": "u2ODIC1zWJNg",
        "outputId": "550d7c3b-0372-4d50-cbd9-831816fd3d57"
      },
      "execution_count": null,
      "outputs": [
        {
          "output_type": "stream",
          "name": "stderr",
          "text": [
            "<ipython-input-52-1fd6de264c4f>:1: SettingWithCopyWarning: \n",
            "A value is trying to be set on a copy of a slice from a DataFrame.\n",
            "Try using .loc[row_indexer,col_indexer] = value instead\n",
            "\n",
            "See the caveats in the documentation: https://pandas.pydata.org/pandas-docs/stable/user_guide/indexing.html#returning-a-view-versus-a-copy\n",
            "  finaldf['N_loc'] = count_regions\n"
          ]
        }
      ]
    },
    {
      "cell_type": "code",
      "source": [
        "finaldf"
      ],
      "metadata": {
        "colab": {
          "base_uri": "https://localhost:8080/",
          "height": 423
        },
        "id": "1UyIn1-br0KZ",
        "outputId": "b3ef26c3-ff54-46e9-be3d-ed9d58a4b956"
      },
      "execution_count": null,
      "outputs": [
        {
          "output_type": "execute_result",
          "data": {
            "text/plain": [
              "                     Name   Class_x  Suborder_x  average_pregnancy_duration  \\\n",
              "0               Grey Wolf  Mammalia  Caniformia                          61   \n",
              "1                   Tiger  Mammalia  Feliformia                         103   \n",
              "2              Brown Bear  Mammalia  Caniformia                          56   \n",
              "3              Blue Whale  Mammalia         NaN                         365   \n",
              "4            Killer Whale  Mammalia         NaN                         495   \n",
              "...                   ...       ...         ...                         ...   \n",
              "1801           Brown Teal      Aves         NaN                           0   \n",
              "1802         Blue Swallow      Aves         NaN                           0   \n",
              "1803  Blue-Crowned Motmot      Aves         NaN                           0   \n",
              "1804     Crested Bellbird      Aves         NaN                           0   \n",
              "1805    Common Black Hawk      Aves         NaN                           0   \n",
              "\n",
              "           diet  average_life_span  Avg_Pop_Size   Pop_Trend  \\\n",
              "0     Carnivore                 15        400000      Stable   \n",
              "1     Carnivore                 12          2656  Decreasing   \n",
              "2      Omnivore                 35        200000      Stable   \n",
              "3     Carnivore                 85         17500  Increasing   \n",
              "4     Carnivore                 65         50000         NaN   \n",
              "...         ...                ...           ...         ...   \n",
              "1801   Omnivore                  0          2000  Increasing   \n",
              "1802  Carnivore                  0          2750  Decreasing   \n",
              "1803  Carnivore                  0      27500000  Decreasing   \n",
              "1804  Herbivore                  0        113715  Decreasing   \n",
              "1805  Carnivore                  0       2000000  Decreasing   \n",
              "\n",
              "                Pop_Status  N_loc  \n",
              "0       Least concern (LC)     11  \n",
              "1          Endangered (EN)     11  \n",
              "2       Least concern (LC)     11  \n",
              "3          Endangered (EN)     11  \n",
              "4      Data deficient (DD)     11  \n",
              "...                    ...    ...  \n",
              "1801  Near Threatened (NT)      1  \n",
              "1802       Vulnerable (VU)      9  \n",
              "1803    Least concern (LC)      1  \n",
              "1804    Least concern (LC)      1  \n",
              "1805    Least concern (LC)     11  \n",
              "\n",
              "[1806 rows x 10 columns]"
            ],
            "text/html": [
              "\n",
              "  <div id=\"df-116fe680-ed72-4245-b078-a85df229ab51\">\n",
              "    <div class=\"colab-df-container\">\n",
              "      <div>\n",
              "<style scoped>\n",
              "    .dataframe tbody tr th:only-of-type {\n",
              "        vertical-align: middle;\n",
              "    }\n",
              "\n",
              "    .dataframe tbody tr th {\n",
              "        vertical-align: top;\n",
              "    }\n",
              "\n",
              "    .dataframe thead th {\n",
              "        text-align: right;\n",
              "    }\n",
              "</style>\n",
              "<table border=\"1\" class=\"dataframe\">\n",
              "  <thead>\n",
              "    <tr style=\"text-align: right;\">\n",
              "      <th></th>\n",
              "      <th>Name</th>\n",
              "      <th>Class_x</th>\n",
              "      <th>Suborder_x</th>\n",
              "      <th>average_pregnancy_duration</th>\n",
              "      <th>diet</th>\n",
              "      <th>average_life_span</th>\n",
              "      <th>Avg_Pop_Size</th>\n",
              "      <th>Pop_Trend</th>\n",
              "      <th>Pop_Status</th>\n",
              "      <th>N_loc</th>\n",
              "    </tr>\n",
              "  </thead>\n",
              "  <tbody>\n",
              "    <tr>\n",
              "      <th>0</th>\n",
              "      <td>Grey Wolf</td>\n",
              "      <td>Mammalia</td>\n",
              "      <td>Caniformia</td>\n",
              "      <td>61</td>\n",
              "      <td>Carnivore</td>\n",
              "      <td>15</td>\n",
              "      <td>400000</td>\n",
              "      <td>Stable</td>\n",
              "      <td>Least concern (LC)</td>\n",
              "      <td>11</td>\n",
              "    </tr>\n",
              "    <tr>\n",
              "      <th>1</th>\n",
              "      <td>Tiger</td>\n",
              "      <td>Mammalia</td>\n",
              "      <td>Feliformia</td>\n",
              "      <td>103</td>\n",
              "      <td>Carnivore</td>\n",
              "      <td>12</td>\n",
              "      <td>2656</td>\n",
              "      <td>Decreasing</td>\n",
              "      <td>Endangered (EN)</td>\n",
              "      <td>11</td>\n",
              "    </tr>\n",
              "    <tr>\n",
              "      <th>2</th>\n",
              "      <td>Brown Bear</td>\n",
              "      <td>Mammalia</td>\n",
              "      <td>Caniformia</td>\n",
              "      <td>56</td>\n",
              "      <td>Omnivore</td>\n",
              "      <td>35</td>\n",
              "      <td>200000</td>\n",
              "      <td>Stable</td>\n",
              "      <td>Least concern (LC)</td>\n",
              "      <td>11</td>\n",
              "    </tr>\n",
              "    <tr>\n",
              "      <th>3</th>\n",
              "      <td>Blue Whale</td>\n",
              "      <td>Mammalia</td>\n",
              "      <td>NaN</td>\n",
              "      <td>365</td>\n",
              "      <td>Carnivore</td>\n",
              "      <td>85</td>\n",
              "      <td>17500</td>\n",
              "      <td>Increasing</td>\n",
              "      <td>Endangered (EN)</td>\n",
              "      <td>11</td>\n",
              "    </tr>\n",
              "    <tr>\n",
              "      <th>4</th>\n",
              "      <td>Killer Whale</td>\n",
              "      <td>Mammalia</td>\n",
              "      <td>NaN</td>\n",
              "      <td>495</td>\n",
              "      <td>Carnivore</td>\n",
              "      <td>65</td>\n",
              "      <td>50000</td>\n",
              "      <td>NaN</td>\n",
              "      <td>Data deficient (DD)</td>\n",
              "      <td>11</td>\n",
              "    </tr>\n",
              "    <tr>\n",
              "      <th>...</th>\n",
              "      <td>...</td>\n",
              "      <td>...</td>\n",
              "      <td>...</td>\n",
              "      <td>...</td>\n",
              "      <td>...</td>\n",
              "      <td>...</td>\n",
              "      <td>...</td>\n",
              "      <td>...</td>\n",
              "      <td>...</td>\n",
              "      <td>...</td>\n",
              "    </tr>\n",
              "    <tr>\n",
              "      <th>1801</th>\n",
              "      <td>Brown Teal</td>\n",
              "      <td>Aves</td>\n",
              "      <td>NaN</td>\n",
              "      <td>0</td>\n",
              "      <td>Omnivore</td>\n",
              "      <td>0</td>\n",
              "      <td>2000</td>\n",
              "      <td>Increasing</td>\n",
              "      <td>Near Threatened (NT)</td>\n",
              "      <td>1</td>\n",
              "    </tr>\n",
              "    <tr>\n",
              "      <th>1802</th>\n",
              "      <td>Blue Swallow</td>\n",
              "      <td>Aves</td>\n",
              "      <td>NaN</td>\n",
              "      <td>0</td>\n",
              "      <td>Carnivore</td>\n",
              "      <td>0</td>\n",
              "      <td>2750</td>\n",
              "      <td>Decreasing</td>\n",
              "      <td>Vulnerable (VU)</td>\n",
              "      <td>9</td>\n",
              "    </tr>\n",
              "    <tr>\n",
              "      <th>1803</th>\n",
              "      <td>Blue-Crowned Motmot</td>\n",
              "      <td>Aves</td>\n",
              "      <td>NaN</td>\n",
              "      <td>0</td>\n",
              "      <td>Carnivore</td>\n",
              "      <td>0</td>\n",
              "      <td>27500000</td>\n",
              "      <td>Decreasing</td>\n",
              "      <td>Least concern (LC)</td>\n",
              "      <td>1</td>\n",
              "    </tr>\n",
              "    <tr>\n",
              "      <th>1804</th>\n",
              "      <td>Crested Bellbird</td>\n",
              "      <td>Aves</td>\n",
              "      <td>NaN</td>\n",
              "      <td>0</td>\n",
              "      <td>Herbivore</td>\n",
              "      <td>0</td>\n",
              "      <td>113715</td>\n",
              "      <td>Decreasing</td>\n",
              "      <td>Least concern (LC)</td>\n",
              "      <td>1</td>\n",
              "    </tr>\n",
              "    <tr>\n",
              "      <th>1805</th>\n",
              "      <td>Common Black Hawk</td>\n",
              "      <td>Aves</td>\n",
              "      <td>NaN</td>\n",
              "      <td>0</td>\n",
              "      <td>Carnivore</td>\n",
              "      <td>0</td>\n",
              "      <td>2000000</td>\n",
              "      <td>Decreasing</td>\n",
              "      <td>Least concern (LC)</td>\n",
              "      <td>11</td>\n",
              "    </tr>\n",
              "  </tbody>\n",
              "</table>\n",
              "<p>1806 rows × 10 columns</p>\n",
              "</div>\n",
              "      <button class=\"colab-df-convert\" onclick=\"convertToInteractive('df-116fe680-ed72-4245-b078-a85df229ab51')\"\n",
              "              title=\"Convert this dataframe to an interactive table.\"\n",
              "              style=\"display:none;\">\n",
              "        \n",
              "  <svg xmlns=\"http://www.w3.org/2000/svg\" height=\"24px\"viewBox=\"0 0 24 24\"\n",
              "       width=\"24px\">\n",
              "    <path d=\"M0 0h24v24H0V0z\" fill=\"none\"/>\n",
              "    <path d=\"M18.56 5.44l.94 2.06.94-2.06 2.06-.94-2.06-.94-.94-2.06-.94 2.06-2.06.94zm-11 1L8.5 8.5l.94-2.06 2.06-.94-2.06-.94L8.5 2.5l-.94 2.06-2.06.94zm10 10l.94 2.06.94-2.06 2.06-.94-2.06-.94-.94-2.06-.94 2.06-2.06.94z\"/><path d=\"M17.41 7.96l-1.37-1.37c-.4-.4-.92-.59-1.43-.59-.52 0-1.04.2-1.43.59L10.3 9.45l-7.72 7.72c-.78.78-.78 2.05 0 2.83L4 21.41c.39.39.9.59 1.41.59.51 0 1.02-.2 1.41-.59l7.78-7.78 2.81-2.81c.8-.78.8-2.07 0-2.86zM5.41 20L4 18.59l7.72-7.72 1.47 1.35L5.41 20z\"/>\n",
              "  </svg>\n",
              "      </button>\n",
              "      \n",
              "  <style>\n",
              "    .colab-df-container {\n",
              "      display:flex;\n",
              "      flex-wrap:wrap;\n",
              "      gap: 12px;\n",
              "    }\n",
              "\n",
              "    .colab-df-convert {\n",
              "      background-color: #E8F0FE;\n",
              "      border: none;\n",
              "      border-radius: 50%;\n",
              "      cursor: pointer;\n",
              "      display: none;\n",
              "      fill: #1967D2;\n",
              "      height: 32px;\n",
              "      padding: 0 0 0 0;\n",
              "      width: 32px;\n",
              "    }\n",
              "\n",
              "    .colab-df-convert:hover {\n",
              "      background-color: #E2EBFA;\n",
              "      box-shadow: 0px 1px 2px rgba(60, 64, 67, 0.3), 0px 1px 3px 1px rgba(60, 64, 67, 0.15);\n",
              "      fill: #174EA6;\n",
              "    }\n",
              "\n",
              "    [theme=dark] .colab-df-convert {\n",
              "      background-color: #3B4455;\n",
              "      fill: #D2E3FC;\n",
              "    }\n",
              "\n",
              "    [theme=dark] .colab-df-convert:hover {\n",
              "      background-color: #434B5C;\n",
              "      box-shadow: 0px 1px 3px 1px rgba(0, 0, 0, 0.15);\n",
              "      filter: drop-shadow(0px 1px 2px rgba(0, 0, 0, 0.3));\n",
              "      fill: #FFFFFF;\n",
              "    }\n",
              "  </style>\n",
              "\n",
              "      <script>\n",
              "        const buttonEl =\n",
              "          document.querySelector('#df-116fe680-ed72-4245-b078-a85df229ab51 button.colab-df-convert');\n",
              "        buttonEl.style.display =\n",
              "          google.colab.kernel.accessAllowed ? 'block' : 'none';\n",
              "\n",
              "        async function convertToInteractive(key) {\n",
              "          const element = document.querySelector('#df-116fe680-ed72-4245-b078-a85df229ab51');\n",
              "          const dataTable =\n",
              "            await google.colab.kernel.invokeFunction('convertToInteractive',\n",
              "                                                     [key], {});\n",
              "          if (!dataTable) return;\n",
              "\n",
              "          const docLinkHtml = 'Like what you see? Visit the ' +\n",
              "            '<a target=\"_blank\" href=https://colab.research.google.com/notebooks/data_table.ipynb>data table notebook</a>'\n",
              "            + ' to learn more about interactive tables.';\n",
              "          element.innerHTML = '';\n",
              "          dataTable['output_type'] = 'display_data';\n",
              "          await google.colab.output.renderOutput(dataTable, element);\n",
              "          const docLink = document.createElement('div');\n",
              "          docLink.innerHTML = docLinkHtml;\n",
              "          element.appendChild(docLink);\n",
              "        }\n",
              "      </script>\n",
              "    </div>\n",
              "  </div>\n",
              "  "
            ]
          },
          "metadata": {},
          "execution_count": 53
        }
      ]
    },
    {
      "cell_type": "code",
      "source": [
        "finaldf['Pop_Trend'].value_counts()"
      ],
      "metadata": {
        "colab": {
          "base_uri": "https://localhost:8080/"
        },
        "id": "6MWN9W8WF6BI",
        "outputId": "71715b66-27b6-4e56-d8a2-affe49b45247"
      },
      "execution_count": null,
      "outputs": [
        {
          "output_type": "execute_result",
          "data": {
            "text/plain": [
              "Decreasing    787\n",
              "Stable        539\n",
              "NaN           270\n",
              "Increasing    207\n",
              "Unknown         3\n",
              "Name: Pop_Trend, dtype: int64"
            ]
          },
          "metadata": {},
          "execution_count": 54
        }
      ]
    },
    {
      "cell_type": "code",
      "source": [
        "finaldf['Pop_Trend'] = finaldf['Pop_Trend'].replace('NaN','Unknown')"
      ],
      "metadata": {
        "colab": {
          "base_uri": "https://localhost:8080/"
        },
        "id": "9XwI2V8g7m1R",
        "outputId": "49b74538-afdd-4277-e4cd-7957c7234e36"
      },
      "execution_count": null,
      "outputs": [
        {
          "output_type": "stream",
          "name": "stderr",
          "text": [
            "<ipython-input-55-f1c99abc7dec>:1: SettingWithCopyWarning: \n",
            "A value is trying to be set on a copy of a slice from a DataFrame.\n",
            "Try using .loc[row_indexer,col_indexer] = value instead\n",
            "\n",
            "See the caveats in the documentation: https://pandas.pydata.org/pandas-docs/stable/user_guide/indexing.html#returning-a-view-versus-a-copy\n",
            "  finaldf['Pop_Trend'] = finaldf['Pop_Trend'].replace('NaN','Unknown')\n"
          ]
        }
      ]
    },
    {
      "cell_type": "markdown",
      "source": [
        "# Grouping Pop_status variables"
      ],
      "metadata": {
        "id": "BhyFkGitjkH0"
      }
    },
    {
      "cell_type": "code",
      "source": [
        "finaldf['Pop_Status']=finaldf['Pop_Status'].replace({'Near Threatened (NT)':'Vulnerable (VU)','Critically endangered (CR)':'Endangered (EN)','NaN':'Data deficient (DD)','Not evaluated (NE)':'Data deficient (DD)'})"
      ],
      "metadata": {
        "colab": {
          "base_uri": "https://localhost:8080/"
        },
        "id": "9hHw7vurjoxx",
        "outputId": "a9ff26d5-a74f-47dd-a3c4-9b664ceae854"
      },
      "execution_count": null,
      "outputs": [
        {
          "output_type": "stream",
          "name": "stderr",
          "text": [
            "<ipython-input-66-854795794ecb>:1: SettingWithCopyWarning: \n",
            "A value is trying to be set on a copy of a slice from a DataFrame.\n",
            "Try using .loc[row_indexer,col_indexer] = value instead\n",
            "\n",
            "See the caveats in the documentation: https://pandas.pydata.org/pandas-docs/stable/user_guide/indexing.html#returning-a-view-versus-a-copy\n",
            "  finaldf['Pop_Status']=finaldf['Pop_Status'].replace({'Near Threatened (NT)':'Vulnerable (VU)','Critically endangered (CR)':'Endangered (EN)','NaN':'Data deficient (DD)','Not evaluated (NE)':'Data deficient (DD)'})\n"
          ]
        }
      ]
    },
    {
      "cell_type": "code",
      "source": [
        "finaldf['Pop_Status'].value_counts()"
      ],
      "metadata": {
        "colab": {
          "base_uri": "https://localhost:8080/"
        },
        "id": "kz10HlPWjym8",
        "outputId": "40d9b6b1-0e7f-41ff-871e-b33c715acc4a"
      },
      "execution_count": null,
      "outputs": [
        {
          "output_type": "execute_result",
          "data": {
            "text/plain": [
              "Least concern (LC)          1103\n",
              "Vulnerable (VU)              346\n",
              "Endangered (EN)              253\n",
              "Data deficient (DD)           60\n",
              "Data deficient (DD)           42\n",
              "Extinct in the wild (EW)       2\n",
              "Name: Pop_Status, dtype: int64"
            ]
          },
          "metadata": {},
          "execution_count": 67
        }
      ]
    },
    {
      "cell_type": "code",
      "source": [],
      "metadata": {
        "id": "2D6cS2ElkOI0"
      },
      "execution_count": null,
      "outputs": []
    },
    {
      "cell_type": "markdown",
      "source": [
        "## Chi-square Test"
      ],
      "metadata": {
        "id": "-h-rrNjc7nhs"
      }
    },
    {
      "cell_type": "code",
      "source": [
        "from scipy.stats import chi2_contingency"
      ],
      "metadata": {
        "id": "zZtp3ap2yDsm"
      },
      "execution_count": null,
      "outputs": []
    },
    {
      "cell_type": "code",
      "source": [
        "from numpy.core.numeric import cross\n",
        "# Observed values\n",
        "cross_Tab = pd.crosstab(finaldf['diet'],finaldf['Pop_Status'])\n",
        "observed_values = cross_Tab.values\n",
        "print('Observed values \\n', observed_values)\n",
        "print(cross_Tab)"
      ],
      "metadata": {
        "colab": {
          "base_uri": "https://localhost:8080/"
        },
        "id": "6E1bEcz6-7Cp",
        "outputId": "fe53ad3e-94fb-4417-8f40-2fda63480093"
      },
      "execution_count": null,
      "outputs": [
        {
          "output_type": "stream",
          "name": "stdout",
          "text": [
            "Observed values \n",
            " [[ 24  27  53   0 581   4  63  42  87]\n",
            " [ 45   5  86   2 292   5  62  12  82]\n",
            " [ 15   1  30   0 230   0  16   6  36]]\n",
            "Pop_Status  Critically endangered (CR)  Data deficient (DD)  Endangered (EN)  \\\n",
            "diet                                                                           \n",
            "Carnivore                           24                   27               53   \n",
            "Herbivore                           45                    5               86   \n",
            "Omnivore                            15                    1               30   \n",
            "\n",
            "Pop_Status  Extinct in the wild (EW)  Least concern (LC)  NaN  \\\n",
            "diet                                                            \n",
            "Carnivore                          0                 581    4   \n",
            "Herbivore                          2                 292    5   \n",
            "Omnivore                           0                 230    0   \n",
            "\n",
            "Pop_Status  Near Threatened (NT)  Not evaluated (NE)  Vulnerable (VU)  \n",
            "diet                                                                   \n",
            "Carnivore                     63                  42               87  \n",
            "Herbivore                     62                  12               82  \n",
            "Omnivore                      16                   6               36  \n"
          ]
        }
      ]
    },
    {
      "cell_type": "code",
      "source": [
        "val = chi2_contingency(cross_Tab)\n",
        "print(val)"
      ],
      "metadata": {
        "colab": {
          "base_uri": "https://localhost:8080/"
        },
        "id": "1xEFk3YCA-Bp",
        "outputId": "91138101-170f-485c-e964-152fe5741fe6"
      },
      "execution_count": null,
      "outputs": [
        {
          "output_type": "stream",
          "name": "stdout",
          "text": [
            "Chi2ContingencyResult(statistic=113.51255363631572, pvalue=9.60994841473543e-17, dof=16, expected_freq=array([[4.09767442e+01, 1.60980066e+01, 8.24413068e+01, 9.75636766e-01,\n",
            "        5.38063677e+02, 4.39036545e+00, 6.87823920e+01, 2.92691030e+01,\n",
            "        1.00002769e+02],\n",
            "       [2.74883721e+01, 1.07990033e+01, 5.53039867e+01, 6.54485050e-01,\n",
            "        3.60948505e+02, 2.94518272e+00, 4.61411960e+01, 1.96345515e+01,\n",
            "        6.70847176e+01],\n",
            "       [1.55348837e+01, 6.10299003e+00, 3.12547065e+01, 3.69878184e-01,\n",
            "        2.03987818e+02, 1.66445183e+00, 2.60764120e+01, 1.10963455e+01,\n",
            "        3.79125138e+01]]))\n"
          ]
        }
      ]
    },
    {
      "cell_type": "code",
      "source": [
        "expected_Values = val[3]\n",
        "expected_Values"
      ],
      "metadata": {
        "colab": {
          "base_uri": "https://localhost:8080/"
        },
        "id": "wcjxwb-ABwBR",
        "outputId": "014998d1-c412-4912-9deb-cbff4fe8cde1"
      },
      "execution_count": null,
      "outputs": [
        {
          "output_type": "execute_result",
          "data": {
            "text/plain": [
              "array([[4.09767442e+01, 1.60980066e+01, 8.24413068e+01, 9.75636766e-01,\n",
              "        5.38063677e+02, 4.39036545e+00, 6.87823920e+01, 2.92691030e+01,\n",
              "        1.00002769e+02],\n",
              "       [2.74883721e+01, 1.07990033e+01, 5.53039867e+01, 6.54485050e-01,\n",
              "        3.60948505e+02, 2.94518272e+00, 4.61411960e+01, 1.96345515e+01,\n",
              "        6.70847176e+01],\n",
              "       [1.55348837e+01, 6.10299003e+00, 3.12547065e+01, 3.69878184e-01,\n",
              "        2.03987818e+02, 1.66445183e+00, 2.60764120e+01, 1.10963455e+01,\n",
              "        3.79125138e+01]])"
            ]
          },
          "metadata": {},
          "execution_count": 59
        }
      ]
    },
    {
      "cell_type": "code",
      "source": [
        "from scipy.stats import chi2 \n",
        "chi_sqaure = sum([(o-e)**2/e for o,e in zip(observed_values,expected_Values)])\n",
        "chisquare_stat = (chi_sqaure[0]+chi_sqaure[1])\n",
        "chisquare_stat"
      ],
      "metadata": {
        "colab": {
          "base_uri": "https://localhost:8080/"
        },
        "id": "7cZs5PORB_KB",
        "outputId": "a8dce891-23c1-41ae-b89a-e6b2c778ad52"
      },
      "execution_count": null,
      "outputs": [
        {
          "output_type": "execute_result",
          "data": {
            "text/plain": [
              "32.97179177637877"
            ]
          },
          "metadata": {},
          "execution_count": 60
        }
      ]
    },
    {
      "cell_type": "code",
      "source": [
        "critical_val = chi2.ppf(q=1-0.05, df=24)\n",
        "print(critical_val)"
      ],
      "metadata": {
        "colab": {
          "base_uri": "https://localhost:8080/"
        },
        "id": "9Cb3IDEWC1Uo",
        "outputId": "cfe8eb16-ffda-43ec-c787-735a84d4a685"
      },
      "execution_count": null,
      "outputs": [
        {
          "output_type": "stream",
          "name": "stdout",
          "text": [
            "36.41502850180731\n"
          ]
        }
      ]
    },
    {
      "cell_type": "code",
      "source": [
        "p_value = 1-chi2.cdf(x=chisquare_stat,df=24)\n",
        "print(p_value)"
      ],
      "metadata": {
        "id": "gvUBEFQQev29",
        "colab": {
          "base_uri": "https://localhost:8080/"
        },
        "outputId": "4a3d4382-ff1c-4f5c-c6b9-b84b68c03ed3"
      },
      "execution_count": null,
      "outputs": [
        {
          "output_type": "stream",
          "name": "stdout",
          "text": [
            "0.10467006285018932\n"
          ]
        }
      ]
    },
    {
      "cell_type": "markdown",
      "source": [
        "# Observation \n",
        "\n",
        "Since the p value is greater than 0.05, rejecting the null hypothesis and accepting the Alternate hypothesis i.e. theres is no multicolinearity"
      ],
      "metadata": {
        "id": "x5dyYQDncPfC"
      }
    },
    {
      "cell_type": "code",
      "source": [
        "import numpy as np\n",
        "finaldf['Avg_Pop_Size'] = finaldf['Avg_Pop_Size'].replace(0,np.nan)\n",
        "finaldf['average_life_span'] = finaldf['average_life_span'].replace(0,np.nan)\n",
        "finaldf['N_loc'] = finaldf['N_loc'].replace(0,np.nan)"
      ],
      "metadata": {
        "colab": {
          "base_uri": "https://localhost:8080/"
        },
        "id": "uyJ820UVrkdV",
        "outputId": "f314067f-5f65-4414-ba8e-be8c53e7a6b2"
      },
      "execution_count": null,
      "outputs": [
        {
          "output_type": "stream",
          "name": "stderr",
          "text": [
            "<ipython-input-63-9c1696b2af3b>:2: SettingWithCopyWarning: \n",
            "A value is trying to be set on a copy of a slice from a DataFrame.\n",
            "Try using .loc[row_indexer,col_indexer] = value instead\n",
            "\n",
            "See the caveats in the documentation: https://pandas.pydata.org/pandas-docs/stable/user_guide/indexing.html#returning-a-view-versus-a-copy\n",
            "  finaldf['Avg_Pop_Size'] = finaldf['Avg_Pop_Size'].replace(0,np.nan)\n",
            "<ipython-input-63-9c1696b2af3b>:3: SettingWithCopyWarning: \n",
            "A value is trying to be set on a copy of a slice from a DataFrame.\n",
            "Try using .loc[row_indexer,col_indexer] = value instead\n",
            "\n",
            "See the caveats in the documentation: https://pandas.pydata.org/pandas-docs/stable/user_guide/indexing.html#returning-a-view-versus-a-copy\n",
            "  finaldf['average_life_span'] = finaldf['average_life_span'].replace(0,np.nan)\n",
            "<ipython-input-63-9c1696b2af3b>:4: SettingWithCopyWarning: \n",
            "A value is trying to be set on a copy of a slice from a DataFrame.\n",
            "Try using .loc[row_indexer,col_indexer] = value instead\n",
            "\n",
            "See the caveats in the documentation: https://pandas.pydata.org/pandas-docs/stable/user_guide/indexing.html#returning-a-view-versus-a-copy\n",
            "  finaldf['N_loc'] = finaldf['N_loc'].replace(0,np.nan)\n"
          ]
        }
      ]
    },
    {
      "cell_type": "code",
      "source": [
        "finaldf.isnull().sum()"
      ],
      "metadata": {
        "colab": {
          "base_uri": "https://localhost:8080/"
        },
        "id": "4ULcfVPMr6nA",
        "outputId": "b5b8da20-f154-4198-eb1a-bd1f13529c9c"
      },
      "execution_count": null,
      "outputs": [
        {
          "output_type": "execute_result",
          "data": {
            "text/plain": [
              "Name                             0\n",
              "Class_x                          0\n",
              "Suborder_x                    1220\n",
              "average_pregnancy_duration       0\n",
              "diet                             0\n",
              "average_life_span              719\n",
              "Avg_Pop_Size                     0\n",
              "Pop_Trend                        0\n",
              "Pop_Status                       0\n",
              "N_loc                            0\n",
              "dtype: int64"
            ]
          },
          "metadata": {},
          "execution_count": 64
        }
      ]
    },
    {
      "cell_type": "markdown",
      "source": [
        "## Null values - Population Size imputed by KNN"
      ],
      "metadata": {
        "id": "-CNDltOMwlC_"
      }
    },
    {
      "cell_type": "code",
      "source": [
        "x_head = finaldf[['Avg_Pop_Size']]\n"
      ],
      "metadata": {
        "id": "hwZmSB64sDJB"
      },
      "execution_count": null,
      "outputs": []
    },
    {
      "cell_type": "code",
      "source": [
        "from sklearn.model_selection import train_test_split\n",
        "from sklearn.impute import KNNImputer,SimpleImputer\n",
        "from sklearn.linear_model import LogisticRegression\n",
        "from sklearn.metrics import accuracy_score"
      ],
      "metadata": {
        "id": "9I31b23nteDz"
      },
      "execution_count": null,
      "outputs": []
    },
    {
      "cell_type": "code",
      "source": [
        "knn = KNNImputer(n_neighbors=5,weights='distance')\n",
        "x_trf = knn.fit_transform(x_head)\n"
      ],
      "metadata": {
        "id": "qbuWOMUFuGH-"
      },
      "execution_count": null,
      "outputs": []
    },
    {
      "cell_type": "code",
      "source": [
        "finaldf['Popsize_Imp'] = pd.DataFrame(x_trf,columns=x_head.columns)"
      ],
      "metadata": {
        "colab": {
          "base_uri": "https://localhost:8080/"
        },
        "id": "lHnTe1pcueK7",
        "outputId": "bc7c487a-bc01-4162-b34a-af917bc66e0c"
      },
      "execution_count": null,
      "outputs": [
        {
          "output_type": "stream",
          "name": "stderr",
          "text": [
            "<ipython-input-68-1b7cca8ddfdd>:1: SettingWithCopyWarning: \n",
            "A value is trying to be set on a copy of a slice from a DataFrame.\n",
            "Try using .loc[row_indexer,col_indexer] = value instead\n",
            "\n",
            "See the caveats in the documentation: https://pandas.pydata.org/pandas-docs/stable/user_guide/indexing.html#returning-a-view-versus-a-copy\n",
            "  finaldf['Popsize_Imp'] = pd.DataFrame(x_trf,columns=x_head.columns)\n"
          ]
        }
      ]
    },
    {
      "cell_type": "code",
      "source": [
        "finaldf"
      ],
      "metadata": {
        "id": "FqKx4ppmurgl",
        "colab": {
          "base_uri": "https://localhost:8080/",
          "height": 423
        },
        "outputId": "9c90945d-99e5-4587-e73c-08e07e5cbb80"
      },
      "execution_count": null,
      "outputs": [
        {
          "output_type": "execute_result",
          "data": {
            "text/plain": [
              "                     Name   Class_x  Suborder_x  average_pregnancy_duration  \\\n",
              "0               Grey Wolf  Mammalia  Caniformia                          61   \n",
              "1                   Tiger  Mammalia  Feliformia                         103   \n",
              "2              Brown Bear  Mammalia  Caniformia                          56   \n",
              "3              Blue Whale  Mammalia         NaN                         365   \n",
              "4            Killer Whale  Mammalia         NaN                         495   \n",
              "...                   ...       ...         ...                         ...   \n",
              "1801           Brown Teal      Aves         NaN                           0   \n",
              "1802         Blue Swallow      Aves         NaN                           0   \n",
              "1803  Blue-Crowned Motmot      Aves         NaN                           0   \n",
              "1804     Crested Bellbird      Aves         NaN                           0   \n",
              "1805    Common Black Hawk      Aves         NaN                           0   \n",
              "\n",
              "           diet  average_life_span  Avg_Pop_Size   Pop_Trend  \\\n",
              "0     Carnivore               15.0        400000      Stable   \n",
              "1     Carnivore               12.0          2656  Decreasing   \n",
              "2      Omnivore               35.0        200000      Stable   \n",
              "3     Carnivore               85.0         17500  Increasing   \n",
              "4     Carnivore               65.0         50000     Unknown   \n",
              "...         ...                ...           ...         ...   \n",
              "1801   Omnivore                NaN          2000  Increasing   \n",
              "1802  Carnivore                NaN          2750  Decreasing   \n",
              "1803  Carnivore                NaN      27500000  Decreasing   \n",
              "1804  Herbivore                NaN        113715  Decreasing   \n",
              "1805  Carnivore                NaN       2000000  Decreasing   \n",
              "\n",
              "                Pop_Status  N_loc  Popsize_Imp  \n",
              "0       Least concern (LC)     11     400000.0  \n",
              "1          Endangered (EN)     11       2656.0  \n",
              "2       Least concern (LC)     11     200000.0  \n",
              "3          Endangered (EN)     11      17500.0  \n",
              "4      Data deficient (DD)     11      50000.0  \n",
              "...                    ...    ...          ...  \n",
              "1801  Near Threatened (NT)      1       2000.0  \n",
              "1802       Vulnerable (VU)      9       2750.0  \n",
              "1803    Least concern (LC)      1   27500000.0  \n",
              "1804    Least concern (LC)      1     113715.0  \n",
              "1805    Least concern (LC)     11    2000000.0  \n",
              "\n",
              "[1806 rows x 11 columns]"
            ],
            "text/html": [
              "\n",
              "  <div id=\"df-230d9b96-e3fe-4fc0-8ab4-3c5b91d691c7\">\n",
              "    <div class=\"colab-df-container\">\n",
              "      <div>\n",
              "<style scoped>\n",
              "    .dataframe tbody tr th:only-of-type {\n",
              "        vertical-align: middle;\n",
              "    }\n",
              "\n",
              "    .dataframe tbody tr th {\n",
              "        vertical-align: top;\n",
              "    }\n",
              "\n",
              "    .dataframe thead th {\n",
              "        text-align: right;\n",
              "    }\n",
              "</style>\n",
              "<table border=\"1\" class=\"dataframe\">\n",
              "  <thead>\n",
              "    <tr style=\"text-align: right;\">\n",
              "      <th></th>\n",
              "      <th>Name</th>\n",
              "      <th>Class_x</th>\n",
              "      <th>Suborder_x</th>\n",
              "      <th>average_pregnancy_duration</th>\n",
              "      <th>diet</th>\n",
              "      <th>average_life_span</th>\n",
              "      <th>Avg_Pop_Size</th>\n",
              "      <th>Pop_Trend</th>\n",
              "      <th>Pop_Status</th>\n",
              "      <th>N_loc</th>\n",
              "      <th>Popsize_Imp</th>\n",
              "    </tr>\n",
              "  </thead>\n",
              "  <tbody>\n",
              "    <tr>\n",
              "      <th>0</th>\n",
              "      <td>Grey Wolf</td>\n",
              "      <td>Mammalia</td>\n",
              "      <td>Caniformia</td>\n",
              "      <td>61</td>\n",
              "      <td>Carnivore</td>\n",
              "      <td>15.0</td>\n",
              "      <td>400000</td>\n",
              "      <td>Stable</td>\n",
              "      <td>Least concern (LC)</td>\n",
              "      <td>11</td>\n",
              "      <td>400000.0</td>\n",
              "    </tr>\n",
              "    <tr>\n",
              "      <th>1</th>\n",
              "      <td>Tiger</td>\n",
              "      <td>Mammalia</td>\n",
              "      <td>Feliformia</td>\n",
              "      <td>103</td>\n",
              "      <td>Carnivore</td>\n",
              "      <td>12.0</td>\n",
              "      <td>2656</td>\n",
              "      <td>Decreasing</td>\n",
              "      <td>Endangered (EN)</td>\n",
              "      <td>11</td>\n",
              "      <td>2656.0</td>\n",
              "    </tr>\n",
              "    <tr>\n",
              "      <th>2</th>\n",
              "      <td>Brown Bear</td>\n",
              "      <td>Mammalia</td>\n",
              "      <td>Caniformia</td>\n",
              "      <td>56</td>\n",
              "      <td>Omnivore</td>\n",
              "      <td>35.0</td>\n",
              "      <td>200000</td>\n",
              "      <td>Stable</td>\n",
              "      <td>Least concern (LC)</td>\n",
              "      <td>11</td>\n",
              "      <td>200000.0</td>\n",
              "    </tr>\n",
              "    <tr>\n",
              "      <th>3</th>\n",
              "      <td>Blue Whale</td>\n",
              "      <td>Mammalia</td>\n",
              "      <td>NaN</td>\n",
              "      <td>365</td>\n",
              "      <td>Carnivore</td>\n",
              "      <td>85.0</td>\n",
              "      <td>17500</td>\n",
              "      <td>Increasing</td>\n",
              "      <td>Endangered (EN)</td>\n",
              "      <td>11</td>\n",
              "      <td>17500.0</td>\n",
              "    </tr>\n",
              "    <tr>\n",
              "      <th>4</th>\n",
              "      <td>Killer Whale</td>\n",
              "      <td>Mammalia</td>\n",
              "      <td>NaN</td>\n",
              "      <td>495</td>\n",
              "      <td>Carnivore</td>\n",
              "      <td>65.0</td>\n",
              "      <td>50000</td>\n",
              "      <td>Unknown</td>\n",
              "      <td>Data deficient (DD)</td>\n",
              "      <td>11</td>\n",
              "      <td>50000.0</td>\n",
              "    </tr>\n",
              "    <tr>\n",
              "      <th>...</th>\n",
              "      <td>...</td>\n",
              "      <td>...</td>\n",
              "      <td>...</td>\n",
              "      <td>...</td>\n",
              "      <td>...</td>\n",
              "      <td>...</td>\n",
              "      <td>...</td>\n",
              "      <td>...</td>\n",
              "      <td>...</td>\n",
              "      <td>...</td>\n",
              "      <td>...</td>\n",
              "    </tr>\n",
              "    <tr>\n",
              "      <th>1801</th>\n",
              "      <td>Brown Teal</td>\n",
              "      <td>Aves</td>\n",
              "      <td>NaN</td>\n",
              "      <td>0</td>\n",
              "      <td>Omnivore</td>\n",
              "      <td>NaN</td>\n",
              "      <td>2000</td>\n",
              "      <td>Increasing</td>\n",
              "      <td>Near Threatened (NT)</td>\n",
              "      <td>1</td>\n",
              "      <td>2000.0</td>\n",
              "    </tr>\n",
              "    <tr>\n",
              "      <th>1802</th>\n",
              "      <td>Blue Swallow</td>\n",
              "      <td>Aves</td>\n",
              "      <td>NaN</td>\n",
              "      <td>0</td>\n",
              "      <td>Carnivore</td>\n",
              "      <td>NaN</td>\n",
              "      <td>2750</td>\n",
              "      <td>Decreasing</td>\n",
              "      <td>Vulnerable (VU)</td>\n",
              "      <td>9</td>\n",
              "      <td>2750.0</td>\n",
              "    </tr>\n",
              "    <tr>\n",
              "      <th>1803</th>\n",
              "      <td>Blue-Crowned Motmot</td>\n",
              "      <td>Aves</td>\n",
              "      <td>NaN</td>\n",
              "      <td>0</td>\n",
              "      <td>Carnivore</td>\n",
              "      <td>NaN</td>\n",
              "      <td>27500000</td>\n",
              "      <td>Decreasing</td>\n",
              "      <td>Least concern (LC)</td>\n",
              "      <td>1</td>\n",
              "      <td>27500000.0</td>\n",
              "    </tr>\n",
              "    <tr>\n",
              "      <th>1804</th>\n",
              "      <td>Crested Bellbird</td>\n",
              "      <td>Aves</td>\n",
              "      <td>NaN</td>\n",
              "      <td>0</td>\n",
              "      <td>Herbivore</td>\n",
              "      <td>NaN</td>\n",
              "      <td>113715</td>\n",
              "      <td>Decreasing</td>\n",
              "      <td>Least concern (LC)</td>\n",
              "      <td>1</td>\n",
              "      <td>113715.0</td>\n",
              "    </tr>\n",
              "    <tr>\n",
              "      <th>1805</th>\n",
              "      <td>Common Black Hawk</td>\n",
              "      <td>Aves</td>\n",
              "      <td>NaN</td>\n",
              "      <td>0</td>\n",
              "      <td>Carnivore</td>\n",
              "      <td>NaN</td>\n",
              "      <td>2000000</td>\n",
              "      <td>Decreasing</td>\n",
              "      <td>Least concern (LC)</td>\n",
              "      <td>11</td>\n",
              "      <td>2000000.0</td>\n",
              "    </tr>\n",
              "  </tbody>\n",
              "</table>\n",
              "<p>1806 rows × 11 columns</p>\n",
              "</div>\n",
              "      <button class=\"colab-df-convert\" onclick=\"convertToInteractive('df-230d9b96-e3fe-4fc0-8ab4-3c5b91d691c7')\"\n",
              "              title=\"Convert this dataframe to an interactive table.\"\n",
              "              style=\"display:none;\">\n",
              "        \n",
              "  <svg xmlns=\"http://www.w3.org/2000/svg\" height=\"24px\"viewBox=\"0 0 24 24\"\n",
              "       width=\"24px\">\n",
              "    <path d=\"M0 0h24v24H0V0z\" fill=\"none\"/>\n",
              "    <path d=\"M18.56 5.44l.94 2.06.94-2.06 2.06-.94-2.06-.94-.94-2.06-.94 2.06-2.06.94zm-11 1L8.5 8.5l.94-2.06 2.06-.94-2.06-.94L8.5 2.5l-.94 2.06-2.06.94zm10 10l.94 2.06.94-2.06 2.06-.94-2.06-.94-.94-2.06-.94 2.06-2.06.94z\"/><path d=\"M17.41 7.96l-1.37-1.37c-.4-.4-.92-.59-1.43-.59-.52 0-1.04.2-1.43.59L10.3 9.45l-7.72 7.72c-.78.78-.78 2.05 0 2.83L4 21.41c.39.39.9.59 1.41.59.51 0 1.02-.2 1.41-.59l7.78-7.78 2.81-2.81c.8-.78.8-2.07 0-2.86zM5.41 20L4 18.59l7.72-7.72 1.47 1.35L5.41 20z\"/>\n",
              "  </svg>\n",
              "      </button>\n",
              "      \n",
              "  <style>\n",
              "    .colab-df-container {\n",
              "      display:flex;\n",
              "      flex-wrap:wrap;\n",
              "      gap: 12px;\n",
              "    }\n",
              "\n",
              "    .colab-df-convert {\n",
              "      background-color: #E8F0FE;\n",
              "      border: none;\n",
              "      border-radius: 50%;\n",
              "      cursor: pointer;\n",
              "      display: none;\n",
              "      fill: #1967D2;\n",
              "      height: 32px;\n",
              "      padding: 0 0 0 0;\n",
              "      width: 32px;\n",
              "    }\n",
              "\n",
              "    .colab-df-convert:hover {\n",
              "      background-color: #E2EBFA;\n",
              "      box-shadow: 0px 1px 2px rgba(60, 64, 67, 0.3), 0px 1px 3px 1px rgba(60, 64, 67, 0.15);\n",
              "      fill: #174EA6;\n",
              "    }\n",
              "\n",
              "    [theme=dark] .colab-df-convert {\n",
              "      background-color: #3B4455;\n",
              "      fill: #D2E3FC;\n",
              "    }\n",
              "\n",
              "    [theme=dark] .colab-df-convert:hover {\n",
              "      background-color: #434B5C;\n",
              "      box-shadow: 0px 1px 3px 1px rgba(0, 0, 0, 0.15);\n",
              "      filter: drop-shadow(0px 1px 2px rgba(0, 0, 0, 0.3));\n",
              "      fill: #FFFFFF;\n",
              "    }\n",
              "  </style>\n",
              "\n",
              "      <script>\n",
              "        const buttonEl =\n",
              "          document.querySelector('#df-230d9b96-e3fe-4fc0-8ab4-3c5b91d691c7 button.colab-df-convert');\n",
              "        buttonEl.style.display =\n",
              "          google.colab.kernel.accessAllowed ? 'block' : 'none';\n",
              "\n",
              "        async function convertToInteractive(key) {\n",
              "          const element = document.querySelector('#df-230d9b96-e3fe-4fc0-8ab4-3c5b91d691c7');\n",
              "          const dataTable =\n",
              "            await google.colab.kernel.invokeFunction('convertToInteractive',\n",
              "                                                     [key], {});\n",
              "          if (!dataTable) return;\n",
              "\n",
              "          const docLinkHtml = 'Like what you see? Visit the ' +\n",
              "            '<a target=\"_blank\" href=https://colab.research.google.com/notebooks/data_table.ipynb>data table notebook</a>'\n",
              "            + ' to learn more about interactive tables.';\n",
              "          element.innerHTML = '';\n",
              "          dataTable['output_type'] = 'display_data';\n",
              "          await google.colab.output.renderOutput(dataTable, element);\n",
              "          const docLink = document.createElement('div');\n",
              "          docLink.innerHTML = docLinkHtml;\n",
              "          element.appendChild(docLink);\n",
              "        }\n",
              "      </script>\n",
              "    </div>\n",
              "  </div>\n",
              "  "
            ]
          },
          "metadata": {},
          "execution_count": 69
        }
      ]
    },
    {
      "cell_type": "code",
      "source": [
        "\n",
        "SI = SimpleImputer(strategy='median')\n",
        "x_trf = SI.fit_transform(x_head)\n",
        "finaldf['popsize_med'] = pd.DataFrame(x_trf,columns=x_head.columns)"
      ],
      "metadata": {
        "colab": {
          "base_uri": "https://localhost:8080/"
        },
        "id": "nOkfaorwuY4P",
        "outputId": "a0b724fc-b052-45b9-a7b3-167a510b974e"
      },
      "execution_count": null,
      "outputs": [
        {
          "output_type": "stream",
          "name": "stderr",
          "text": [
            "<ipython-input-70-190559cba93a>:3: SettingWithCopyWarning: \n",
            "A value is trying to be set on a copy of a slice from a DataFrame.\n",
            "Try using .loc[row_indexer,col_indexer] = value instead\n",
            "\n",
            "See the caveats in the documentation: https://pandas.pydata.org/pandas-docs/stable/user_guide/indexing.html#returning-a-view-versus-a-copy\n",
            "  finaldf['popsize_med'] = pd.DataFrame(x_trf,columns=x_head.columns)\n"
          ]
        }
      ]
    },
    {
      "cell_type": "code",
      "source": [
        "finaldf"
      ],
      "metadata": {
        "id": "okDFNVTQukJ5",
        "colab": {
          "base_uri": "https://localhost:8080/",
          "height": 467
        },
        "outputId": "7cad0ee5-c651-4070-8b6f-9b283315cb87"
      },
      "execution_count": null,
      "outputs": [
        {
          "output_type": "execute_result",
          "data": {
            "text/plain": [
              "                     Name   Class_x  Suborder_x  average_pregnancy_duration  \\\n",
              "0               Grey Wolf  Mammalia  Caniformia                          61   \n",
              "1                   Tiger  Mammalia  Feliformia                         103   \n",
              "2              Brown Bear  Mammalia  Caniformia                          56   \n",
              "3              Blue Whale  Mammalia         NaN                         365   \n",
              "4            Killer Whale  Mammalia         NaN                         495   \n",
              "...                   ...       ...         ...                         ...   \n",
              "1801           Brown Teal      Aves         NaN                           0   \n",
              "1802         Blue Swallow      Aves         NaN                           0   \n",
              "1803  Blue-Crowned Motmot      Aves         NaN                           0   \n",
              "1804     Crested Bellbird      Aves         NaN                           0   \n",
              "1805    Common Black Hawk      Aves         NaN                           0   \n",
              "\n",
              "           diet  average_life_span  Avg_Pop_Size   Pop_Trend  \\\n",
              "0     Carnivore               15.0        400000      Stable   \n",
              "1     Carnivore               12.0          2656  Decreasing   \n",
              "2      Omnivore               35.0        200000      Stable   \n",
              "3     Carnivore               85.0         17500  Increasing   \n",
              "4     Carnivore               65.0         50000     Unknown   \n",
              "...         ...                ...           ...         ...   \n",
              "1801   Omnivore                NaN          2000  Increasing   \n",
              "1802  Carnivore                NaN          2750  Decreasing   \n",
              "1803  Carnivore                NaN      27500000  Decreasing   \n",
              "1804  Herbivore                NaN        113715  Decreasing   \n",
              "1805  Carnivore                NaN       2000000  Decreasing   \n",
              "\n",
              "                Pop_Status  N_loc  Popsize_Imp  popsize_med  \n",
              "0       Least concern (LC)     11     400000.0     400000.0  \n",
              "1          Endangered (EN)     11       2656.0       2656.0  \n",
              "2       Least concern (LC)     11     200000.0     200000.0  \n",
              "3          Endangered (EN)     11      17500.0      17500.0  \n",
              "4      Data deficient (DD)     11      50000.0      50000.0  \n",
              "...                    ...    ...          ...          ...  \n",
              "1801  Near Threatened (NT)      1       2000.0       2000.0  \n",
              "1802       Vulnerable (VU)      9       2750.0       2750.0  \n",
              "1803    Least concern (LC)      1   27500000.0   27500000.0  \n",
              "1804    Least concern (LC)      1     113715.0     113715.0  \n",
              "1805    Least concern (LC)     11    2000000.0    2000000.0  \n",
              "\n",
              "[1806 rows x 12 columns]"
            ],
            "text/html": [
              "\n",
              "  <div id=\"df-dedba406-5079-4946-934f-7f97618f5825\">\n",
              "    <div class=\"colab-df-container\">\n",
              "      <div>\n",
              "<style scoped>\n",
              "    .dataframe tbody tr th:only-of-type {\n",
              "        vertical-align: middle;\n",
              "    }\n",
              "\n",
              "    .dataframe tbody tr th {\n",
              "        vertical-align: top;\n",
              "    }\n",
              "\n",
              "    .dataframe thead th {\n",
              "        text-align: right;\n",
              "    }\n",
              "</style>\n",
              "<table border=\"1\" class=\"dataframe\">\n",
              "  <thead>\n",
              "    <tr style=\"text-align: right;\">\n",
              "      <th></th>\n",
              "      <th>Name</th>\n",
              "      <th>Class_x</th>\n",
              "      <th>Suborder_x</th>\n",
              "      <th>average_pregnancy_duration</th>\n",
              "      <th>diet</th>\n",
              "      <th>average_life_span</th>\n",
              "      <th>Avg_Pop_Size</th>\n",
              "      <th>Pop_Trend</th>\n",
              "      <th>Pop_Status</th>\n",
              "      <th>N_loc</th>\n",
              "      <th>Popsize_Imp</th>\n",
              "      <th>popsize_med</th>\n",
              "    </tr>\n",
              "  </thead>\n",
              "  <tbody>\n",
              "    <tr>\n",
              "      <th>0</th>\n",
              "      <td>Grey Wolf</td>\n",
              "      <td>Mammalia</td>\n",
              "      <td>Caniformia</td>\n",
              "      <td>61</td>\n",
              "      <td>Carnivore</td>\n",
              "      <td>15.0</td>\n",
              "      <td>400000</td>\n",
              "      <td>Stable</td>\n",
              "      <td>Least concern (LC)</td>\n",
              "      <td>11</td>\n",
              "      <td>400000.0</td>\n",
              "      <td>400000.0</td>\n",
              "    </tr>\n",
              "    <tr>\n",
              "      <th>1</th>\n",
              "      <td>Tiger</td>\n",
              "      <td>Mammalia</td>\n",
              "      <td>Feliformia</td>\n",
              "      <td>103</td>\n",
              "      <td>Carnivore</td>\n",
              "      <td>12.0</td>\n",
              "      <td>2656</td>\n",
              "      <td>Decreasing</td>\n",
              "      <td>Endangered (EN)</td>\n",
              "      <td>11</td>\n",
              "      <td>2656.0</td>\n",
              "      <td>2656.0</td>\n",
              "    </tr>\n",
              "    <tr>\n",
              "      <th>2</th>\n",
              "      <td>Brown Bear</td>\n",
              "      <td>Mammalia</td>\n",
              "      <td>Caniformia</td>\n",
              "      <td>56</td>\n",
              "      <td>Omnivore</td>\n",
              "      <td>35.0</td>\n",
              "      <td>200000</td>\n",
              "      <td>Stable</td>\n",
              "      <td>Least concern (LC)</td>\n",
              "      <td>11</td>\n",
              "      <td>200000.0</td>\n",
              "      <td>200000.0</td>\n",
              "    </tr>\n",
              "    <tr>\n",
              "      <th>3</th>\n",
              "      <td>Blue Whale</td>\n",
              "      <td>Mammalia</td>\n",
              "      <td>NaN</td>\n",
              "      <td>365</td>\n",
              "      <td>Carnivore</td>\n",
              "      <td>85.0</td>\n",
              "      <td>17500</td>\n",
              "      <td>Increasing</td>\n",
              "      <td>Endangered (EN)</td>\n",
              "      <td>11</td>\n",
              "      <td>17500.0</td>\n",
              "      <td>17500.0</td>\n",
              "    </tr>\n",
              "    <tr>\n",
              "      <th>4</th>\n",
              "      <td>Killer Whale</td>\n",
              "      <td>Mammalia</td>\n",
              "      <td>NaN</td>\n",
              "      <td>495</td>\n",
              "      <td>Carnivore</td>\n",
              "      <td>65.0</td>\n",
              "      <td>50000</td>\n",
              "      <td>Unknown</td>\n",
              "      <td>Data deficient (DD)</td>\n",
              "      <td>11</td>\n",
              "      <td>50000.0</td>\n",
              "      <td>50000.0</td>\n",
              "    </tr>\n",
              "    <tr>\n",
              "      <th>...</th>\n",
              "      <td>...</td>\n",
              "      <td>...</td>\n",
              "      <td>...</td>\n",
              "      <td>...</td>\n",
              "      <td>...</td>\n",
              "      <td>...</td>\n",
              "      <td>...</td>\n",
              "      <td>...</td>\n",
              "      <td>...</td>\n",
              "      <td>...</td>\n",
              "      <td>...</td>\n",
              "      <td>...</td>\n",
              "    </tr>\n",
              "    <tr>\n",
              "      <th>1801</th>\n",
              "      <td>Brown Teal</td>\n",
              "      <td>Aves</td>\n",
              "      <td>NaN</td>\n",
              "      <td>0</td>\n",
              "      <td>Omnivore</td>\n",
              "      <td>NaN</td>\n",
              "      <td>2000</td>\n",
              "      <td>Increasing</td>\n",
              "      <td>Near Threatened (NT)</td>\n",
              "      <td>1</td>\n",
              "      <td>2000.0</td>\n",
              "      <td>2000.0</td>\n",
              "    </tr>\n",
              "    <tr>\n",
              "      <th>1802</th>\n",
              "      <td>Blue Swallow</td>\n",
              "      <td>Aves</td>\n",
              "      <td>NaN</td>\n",
              "      <td>0</td>\n",
              "      <td>Carnivore</td>\n",
              "      <td>NaN</td>\n",
              "      <td>2750</td>\n",
              "      <td>Decreasing</td>\n",
              "      <td>Vulnerable (VU)</td>\n",
              "      <td>9</td>\n",
              "      <td>2750.0</td>\n",
              "      <td>2750.0</td>\n",
              "    </tr>\n",
              "    <tr>\n",
              "      <th>1803</th>\n",
              "      <td>Blue-Crowned Motmot</td>\n",
              "      <td>Aves</td>\n",
              "      <td>NaN</td>\n",
              "      <td>0</td>\n",
              "      <td>Carnivore</td>\n",
              "      <td>NaN</td>\n",
              "      <td>27500000</td>\n",
              "      <td>Decreasing</td>\n",
              "      <td>Least concern (LC)</td>\n",
              "      <td>1</td>\n",
              "      <td>27500000.0</td>\n",
              "      <td>27500000.0</td>\n",
              "    </tr>\n",
              "    <tr>\n",
              "      <th>1804</th>\n",
              "      <td>Crested Bellbird</td>\n",
              "      <td>Aves</td>\n",
              "      <td>NaN</td>\n",
              "      <td>0</td>\n",
              "      <td>Herbivore</td>\n",
              "      <td>NaN</td>\n",
              "      <td>113715</td>\n",
              "      <td>Decreasing</td>\n",
              "      <td>Least concern (LC)</td>\n",
              "      <td>1</td>\n",
              "      <td>113715.0</td>\n",
              "      <td>113715.0</td>\n",
              "    </tr>\n",
              "    <tr>\n",
              "      <th>1805</th>\n",
              "      <td>Common Black Hawk</td>\n",
              "      <td>Aves</td>\n",
              "      <td>NaN</td>\n",
              "      <td>0</td>\n",
              "      <td>Carnivore</td>\n",
              "      <td>NaN</td>\n",
              "      <td>2000000</td>\n",
              "      <td>Decreasing</td>\n",
              "      <td>Least concern (LC)</td>\n",
              "      <td>11</td>\n",
              "      <td>2000000.0</td>\n",
              "      <td>2000000.0</td>\n",
              "    </tr>\n",
              "  </tbody>\n",
              "</table>\n",
              "<p>1806 rows × 12 columns</p>\n",
              "</div>\n",
              "      <button class=\"colab-df-convert\" onclick=\"convertToInteractive('df-dedba406-5079-4946-934f-7f97618f5825')\"\n",
              "              title=\"Convert this dataframe to an interactive table.\"\n",
              "              style=\"display:none;\">\n",
              "        \n",
              "  <svg xmlns=\"http://www.w3.org/2000/svg\" height=\"24px\"viewBox=\"0 0 24 24\"\n",
              "       width=\"24px\">\n",
              "    <path d=\"M0 0h24v24H0V0z\" fill=\"none\"/>\n",
              "    <path d=\"M18.56 5.44l.94 2.06.94-2.06 2.06-.94-2.06-.94-.94-2.06-.94 2.06-2.06.94zm-11 1L8.5 8.5l.94-2.06 2.06-.94-2.06-.94L8.5 2.5l-.94 2.06-2.06.94zm10 10l.94 2.06.94-2.06 2.06-.94-2.06-.94-.94-2.06-.94 2.06-2.06.94z\"/><path d=\"M17.41 7.96l-1.37-1.37c-.4-.4-.92-.59-1.43-.59-.52 0-1.04.2-1.43.59L10.3 9.45l-7.72 7.72c-.78.78-.78 2.05 0 2.83L4 21.41c.39.39.9.59 1.41.59.51 0 1.02-.2 1.41-.59l7.78-7.78 2.81-2.81c.8-.78.8-2.07 0-2.86zM5.41 20L4 18.59l7.72-7.72 1.47 1.35L5.41 20z\"/>\n",
              "  </svg>\n",
              "      </button>\n",
              "      \n",
              "  <style>\n",
              "    .colab-df-container {\n",
              "      display:flex;\n",
              "      flex-wrap:wrap;\n",
              "      gap: 12px;\n",
              "    }\n",
              "\n",
              "    .colab-df-convert {\n",
              "      background-color: #E8F0FE;\n",
              "      border: none;\n",
              "      border-radius: 50%;\n",
              "      cursor: pointer;\n",
              "      display: none;\n",
              "      fill: #1967D2;\n",
              "      height: 32px;\n",
              "      padding: 0 0 0 0;\n",
              "      width: 32px;\n",
              "    }\n",
              "\n",
              "    .colab-df-convert:hover {\n",
              "      background-color: #E2EBFA;\n",
              "      box-shadow: 0px 1px 2px rgba(60, 64, 67, 0.3), 0px 1px 3px 1px rgba(60, 64, 67, 0.15);\n",
              "      fill: #174EA6;\n",
              "    }\n",
              "\n",
              "    [theme=dark] .colab-df-convert {\n",
              "      background-color: #3B4455;\n",
              "      fill: #D2E3FC;\n",
              "    }\n",
              "\n",
              "    [theme=dark] .colab-df-convert:hover {\n",
              "      background-color: #434B5C;\n",
              "      box-shadow: 0px 1px 3px 1px rgba(0, 0, 0, 0.15);\n",
              "      filter: drop-shadow(0px 1px 2px rgba(0, 0, 0, 0.3));\n",
              "      fill: #FFFFFF;\n",
              "    }\n",
              "  </style>\n",
              "\n",
              "      <script>\n",
              "        const buttonEl =\n",
              "          document.querySelector('#df-dedba406-5079-4946-934f-7f97618f5825 button.colab-df-convert');\n",
              "        buttonEl.style.display =\n",
              "          google.colab.kernel.accessAllowed ? 'block' : 'none';\n",
              "\n",
              "        async function convertToInteractive(key) {\n",
              "          const element = document.querySelector('#df-dedba406-5079-4946-934f-7f97618f5825');\n",
              "          const dataTable =\n",
              "            await google.colab.kernel.invokeFunction('convertToInteractive',\n",
              "                                                     [key], {});\n",
              "          if (!dataTable) return;\n",
              "\n",
              "          const docLinkHtml = 'Like what you see? Visit the ' +\n",
              "            '<a target=\"_blank\" href=https://colab.research.google.com/notebooks/data_table.ipynb>data table notebook</a>'\n",
              "            + ' to learn more about interactive tables.';\n",
              "          element.innerHTML = '';\n",
              "          dataTable['output_type'] = 'display_data';\n",
              "          await google.colab.output.renderOutput(dataTable, element);\n",
              "          const docLink = document.createElement('div');\n",
              "          docLink.innerHTML = docLinkHtml;\n",
              "          element.appendChild(docLink);\n",
              "        }\n",
              "      </script>\n",
              "    </div>\n",
              "  </div>\n",
              "  "
            ]
          },
          "metadata": {},
          "execution_count": 71
        }
      ]
    },
    {
      "cell_type": "code",
      "source": [
        "import seaborn as sns\n",
        "sns.histplot(data=l,x='Avg_Pop_Size',kde=True,log_scale=True)"
      ],
      "metadata": {
        "colab": {
          "base_uri": "https://localhost:8080/",
          "height": 472
        },
        "id": "HdFEHKu5u6Bn",
        "outputId": "512c64c7-e51f-477d-e4ee-939108f72eef"
      },
      "execution_count": null,
      "outputs": [
        {
          "output_type": "execute_result",
          "data": {
            "text/plain": [
              "<Axes: xlabel='Avg_Pop_Size', ylabel='Count'>"
            ]
          },
          "metadata": {},
          "execution_count": 72
        },
        {
          "output_type": "display_data",
          "data": {
            "text/plain": [
              "<Figure size 640x480 with 1 Axes>"
            ],
            "image/png": "[encoded data removed]"
          },
          "metadata": {}
        }
      ]
    },
    {
      "cell_type": "code",
      "source": [
        "import seaborn as sns\n",
        "sns.histplot(data=finaldf,x='Popsize_Imp',kde=True,log_scale=True)"
      ],
      "metadata": {
        "colab": {
          "base_uri": "https://localhost:8080/",
          "height": 472
        },
        "id": "KFMU55tRu4iw",
        "outputId": "2e08ef2f-5f12-49f5-e3db-8eed33ec4f7e"
      },
      "execution_count": null,
      "outputs": [
        {
          "output_type": "execute_result",
          "data": {
            "text/plain": [
              "<Axes: xlabel='Popsize_Imp', ylabel='Count'>"
            ]
          },
          "metadata": {},
          "execution_count": 73
        },
        {
          "output_type": "display_data",
          "data": {
            "text/plain": [
              "<Figure size 640x480 with 1 Axes>"
            ],
            "image/png": "[encoded data removed]"
          },
          "metadata": {}
        }
      ]
    },
    {
      "cell_type": "code",
      "source": [
        "import seaborn as sns\n",
        "sns.histplot(data=finaldf,x='popsize_med',kde=True,log_scale=True)"
      ],
      "metadata": {
        "colab": {
          "base_uri": "https://localhost:8080/",
          "height": 472
        },
        "id": "eM03z_1buHZS",
        "outputId": "6b788374-7f51-4ea4-f20e-bbf1faf13063"
      },
      "execution_count": null,
      "outputs": [
        {
          "output_type": "execute_result",
          "data": {
            "text/plain": [
              "<Axes: xlabel='popsize_med', ylabel='Count'>"
            ]
          },
          "metadata": {},
          "execution_count": 74
        },
        {
          "output_type": "display_data",
          "data": {
            "text/plain": [
              "<Figure size 640x480 with 1 Axes>"
            ],
            "image/png": "[encoded data removed]"
          },
          "metadata": {}
        }
      ]
    },
    {
      "cell_type": "code",
      "source": [
        "import matplotlib.pyplot as plt\n",
        "fig = plt.figure()\n",
        "ax = fig.add_subplot(111)\n",
        "finaldf['Avg_Pop_Size'].plot(kind='kde',ax=ax,color='red')\n",
        "finaldf['Popsize_Imp'].plot(kind='kde',ax=ax,color='green')\n",
        "finaldf['popsize_med'].plot(kind='kde',ax=ax,color='grey')\n",
        "lines, labels =ax.get_legend_handles_labels()\n",
        "ax.legend(lines, labels)"
      ],
      "metadata": {
        "colab": {
          "base_uri": "https://localhost:8080/",
          "height": 307
        },
        "id": "IPdP9ci_vY8K",
        "outputId": "57af0d15-ae35-460f-99cc-09cf6814c279"
      },
      "execution_count": null,
      "outputs": [
        {
          "output_type": "execute_result",
          "data": {
            "text/plain": [
              "<matplotlib.legend.Legend at 0x7fa6ee66b9d0>"
            ]
          },
          "metadata": {},
          "execution_count": 64
        },
        {
          "output_type": "display_data",
          "data": {
            "text/plain": [
              "<Figure size 432x288 with 1 Axes>"
            ],
            "image/png": "[encoded data removed]"
          },
          "metadata": {
            "needs_background": "light"
          }
        }
      ]
    },
    {
      "cell_type": "code",
      "source": [
        "finaldf['lifespan_random'].skew()"
      ],
      "metadata": {
        "id": "XTmvigpeIJP0"
      },
      "execution_count": null,
      "outputs": []
    },
    {
      "cell_type": "code",
      "source": [
        "finaldf['lifespan_random'].describe()"
      ],
      "metadata": {
        "id": "7UUBFAP3I5j7"
      },
      "execution_count": null,
      "outputs": []
    },
    {
      "cell_type": "code",
      "source": [],
      "metadata": {
        "id": "_T_N6RFQI5Od"
      },
      "execution_count": null,
      "outputs": []
    },
    {
      "cell_type": "markdown",
      "source": [
        "## Impute average life span by median"
      ],
      "metadata": {
        "id": "2VujBOw1w_iC"
      }
    },
    {
      "cell_type": "code",
      "source": [
        "x_head = finaldf[['average_life_span']]"
      ],
      "metadata": {
        "id": "42hBDr22xQXC"
      },
      "execution_count": null,
      "outputs": []
    },
    {
      "cell_type": "code",
      "source": [
        "SI = SimpleImputer(strategy='median')\n",
        "x_trf = SI.fit_transform(x_head)\n",
        "finaldf['lifespan_Imp'] = pd.DataFrame(x_trf,columns=x_head.columns)"
      ],
      "metadata": {
        "colab": {
          "base_uri": "https://localhost:8080/"
        },
        "id": "Kxv2Jfdtwv8Y",
        "outputId": "a517ab4a-d012-4746-dadc-7a34a1c9ba81"
      },
      "execution_count": null,
      "outputs": [
        {
          "output_type": "stream",
          "name": "stderr",
          "text": [
            "<ipython-input-60-594d5e0be62a>:3: SettingWithCopyWarning: \n",
            "A value is trying to be set on a copy of a slice from a DataFrame.\n",
            "Try using .loc[row_indexer,col_indexer] = value instead\n",
            "\n",
            "See the caveats in the documentation: https://pandas.pydata.org/pandas-docs/stable/user_guide/indexing.html#returning-a-view-versus-a-copy\n",
            "  finaldf['lifespan_Imp'] = pd.DataFrame(x_trf,columns=x_head.columns)\n"
          ]
        }
      ]
    },
    {
      "cell_type": "code",
      "source": [
        "finaldf['average_pregnancy_duration'] = finaldf['average_pregnancy_duration'].replace(0,np.nan)"
      ],
      "metadata": {
        "colab": {
          "base_uri": "https://localhost:8080/"
        },
        "id": "RZp79ELaJmaY",
        "outputId": "3e7d0fd8-ded3-41ed-ab34-3352209cb489"
      },
      "execution_count": null,
      "outputs": [
        {
          "output_type": "stream",
          "name": "stderr",
          "text": [
            "<ipython-input-61-eb79e488b229>:1: SettingWithCopyWarning: \n",
            "A value is trying to be set on a copy of a slice from a DataFrame.\n",
            "Try using .loc[row_indexer,col_indexer] = value instead\n",
            "\n",
            "See the caveats in the documentation: https://pandas.pydata.org/pandas-docs/stable/user_guide/indexing.html#returning-a-view-versus-a-copy\n",
            "  finaldf['average_pregnancy_duration'] = finaldf['average_pregnancy_duration'].replace(0,np.nan)\n"
          ]
        }
      ]
    },
    {
      "cell_type": "code",
      "source": [
        "x_head = finaldf[['average_pregnancy_duration']]\n",
        "SI = SimpleImputer(strategy='median')\n",
        "x_trf = SI.fit_transform(x_head)\n",
        "finaldf['pregDuration_Imp'] = pd.DataFrame(x_trf,columns=x_head.columns)"
      ],
      "metadata": {
        "colab": {
          "base_uri": "https://localhost:8080/"
        },
        "id": "N85uZvXtJW0J",
        "outputId": "cef77c92-0dc8-49d8-c2d5-92fc2e2ad767"
      },
      "execution_count": null,
      "outputs": [
        {
          "output_type": "stream",
          "name": "stderr",
          "text": [
            "<ipython-input-65-e3e1cb414bc6>:4: SettingWithCopyWarning: \n",
            "A value is trying to be set on a copy of a slice from a DataFrame.\n",
            "Try using .loc[row_indexer,col_indexer] = value instead\n",
            "\n",
            "See the caveats in the documentation: https://pandas.pydata.org/pandas-docs/stable/user_guide/indexing.html#returning-a-view-versus-a-copy\n",
            "  finaldf['pregDuration_Imp'] = pd.DataFrame(x_trf,columns=x_head.columns)\n"
          ]
        }
      ]
    },
    {
      "cell_type": "code",
      "source": [
        "finaldf['average_pregnancy_duration']"
      ],
      "metadata": {
        "id": "S7OG21sxJ7Ew",
        "colab": {
          "base_uri": "https://localhost:8080/"
        },
        "outputId": "4f046bb3-dacd-4cc7-f5c9-4f3bddb0ef3c"
      },
      "execution_count": null,
      "outputs": [
        {
          "output_type": "execute_result",
          "data": {
            "text/plain": [
              "0        61.0\n",
              "1       103.0\n",
              "2        56.0\n",
              "3       365.0\n",
              "4       495.0\n",
              "        ...  \n",
              "1801      NaN\n",
              "1802      NaN\n",
              "1803      NaN\n",
              "1804      NaN\n",
              "1805      NaN\n",
              "Name: average_pregnancy_duration, Length: 1806, dtype: float64"
            ]
          },
          "metadata": {},
          "execution_count": 66
        }
      ]
    },
    {
      "cell_type": "code",
      "source": [
        "finaldf['average_life_span'].isnull().sum()"
      ],
      "metadata": {
        "colab": {
          "base_uri": "https://localhost:8080/"
        },
        "id": "TDnLsOrgCK1o",
        "outputId": "a3d6fbd8-40af-40d1-b5df-85fe86c740cc"
      },
      "execution_count": null,
      "outputs": [
        {
          "output_type": "execute_result",
          "data": {
            "text/plain": [
              "0"
            ]
          },
          "metadata": {},
          "execution_count": 64
        }
      ]
    },
    {
      "cell_type": "markdown",
      "source": [
        "# lifespan random imputation"
      ],
      "metadata": {
        "id": "1YXaFeeOACRK"
      }
    },
    {
      "cell_type": "code",
      "source": [
        "# random sample imputation in lifespan\n",
        "finaldf['lifespan_random'] = finaldf['average_life_span']\n",
        "finaldf['lifespan_random'][finaldf['lifespan_random'].isnull()]=finaldf['lifespan_random'].dropna().sample(finaldf['lifespan_random'].isnull().sum()).values"
      ],
      "metadata": {
        "colab": {
          "base_uri": "https://localhost:8080/"
        },
        "id": "1rUqj4zv-btL",
        "outputId": "d98208c7-0e9a-489c-a170-030e60a27043"
      },
      "execution_count": null,
      "outputs": [
        {
          "output_type": "stream",
          "name": "stderr",
          "text": [
            "<ipython-input-70-f36f15423997>:2: SettingWithCopyWarning: \n",
            "A value is trying to be set on a copy of a slice from a DataFrame.\n",
            "Try using .loc[row_indexer,col_indexer] = value instead\n",
            "\n",
            "See the caveats in the documentation: https://pandas.pydata.org/pandas-docs/stable/user_guide/indexing.html#returning-a-view-versus-a-copy\n",
            "  finaldf['lifespan_random'] = finaldf['average_life_span']\n",
            "<ipython-input-70-f36f15423997>:3: SettingWithCopyWarning: \n",
            "A value is trying to be set on a copy of a slice from a DataFrame\n",
            "\n",
            "See the caveats in the documentation: https://pandas.pydata.org/pandas-docs/stable/user_guide/indexing.html#returning-a-view-versus-a-copy\n",
            "  finaldf['lifespan_random'][finaldf['lifespan_random'].isnull()]=finaldf['lifespan_random'].dropna().sample(finaldf['lifespan_random'].isnull().sum()).values\n",
            "/usr/local/lib/python3.8/dist-packages/pandas/core/generic.py:8870: SettingWithCopyWarning: \n",
            "A value is trying to be set on a copy of a slice from a DataFrame\n",
            "\n",
            "See the caveats in the documentation: https://pandas.pydata.org/pandas-docs/stable/user_guide/indexing.html#returning-a-view-versus-a-copy\n",
            "  return self._update_inplace(result)\n"
          ]
        }
      ]
    },
    {
      "cell_type": "code",
      "source": [
        "finaldf"
      ],
      "metadata": {
        "colab": {
          "base_uri": "https://localhost:8080/",
          "height": 571
        },
        "id": "dgAWsgHa_yoU",
        "outputId": "21d3c571-3f63-4533-c61f-c785c6389cb9"
      },
      "execution_count": null,
      "outputs": [
        {
          "output_type": "execute_result",
          "data": {
            "text/plain": [
              "                     Name   Class_x  Suborder_x  average_pregnancy_duration  \\\n",
              "0               Grey Wolf  Mammalia  Caniformia                        61.0   \n",
              "1                   Tiger  Mammalia  Feliformia                       103.0   \n",
              "2              Brown Bear  Mammalia  Caniformia                        56.0   \n",
              "3              Blue Whale  Mammalia         NaN                       365.0   \n",
              "4            Killer Whale  Mammalia         NaN                       495.0   \n",
              "...                   ...       ...         ...                         ...   \n",
              "1801           Brown Teal      Aves         NaN                         NaN   \n",
              "1802         Blue Swallow      Aves         NaN                         NaN   \n",
              "1803  Blue-Crowned Motmot      Aves         NaN                         NaN   \n",
              "1804     Crested Bellbird      Aves         NaN                         NaN   \n",
              "1805    Common Black Hawk      Aves         NaN                         NaN   \n",
              "\n",
              "           diet  average_life_span  Avg_Pop_Size   Pop_Trend  \\\n",
              "0     Carnivore               15.0      400000.0      Stable   \n",
              "1     Carnivore               12.0        2656.0  Decreasing   \n",
              "2      Omnivore               35.0      200000.0      Stable   \n",
              "3     Carnivore               85.0       17500.0  Increasing   \n",
              "4     Carnivore               65.0       50000.0     Unknown   \n",
              "...         ...                ...           ...         ...   \n",
              "1801   Omnivore                NaN        2000.0  Increasing   \n",
              "1802  Carnivore                NaN        2750.0  Decreasing   \n",
              "1803  Carnivore                NaN    27500000.0  Decreasing   \n",
              "1804  Herbivore                NaN           NaN  Decreasing   \n",
              "1805  Carnivore                NaN     2000000.0  Decreasing   \n",
              "\n",
              "               Pop_Status  N_loc   Popsize_Imp  popsize_med  lifespan_Imp  \\\n",
              "0      Least concern (LC)     11  4.000000e+05     400000.0          15.0   \n",
              "1         Endangered (EN)     11  2.656000e+03       2656.0          12.0   \n",
              "2      Least concern (LC)     11  2.000000e+05     200000.0          35.0   \n",
              "3         Endangered (EN)     11  1.750000e+04      17500.0          85.0   \n",
              "4     Data deficient (DD)     11  5.000000e+04      50000.0          65.0   \n",
              "...                   ...    ...           ...          ...           ...   \n",
              "1801      Vulnerable (VU)      1  2.000000e+03       2000.0          15.0   \n",
              "1802      Vulnerable (VU)      9  2.750000e+03       2750.0          15.0   \n",
              "1803   Least concern (LC)      1  2.750000e+07   27500000.0          15.0   \n",
              "1804   Least concern (LC)      1  1.394326e+07     113715.5          15.0   \n",
              "1805   Least concern (LC)     11  2.000000e+06    2000000.0          15.0   \n",
              "\n",
              "      pregDuration_Imp  lifespan_random  \n",
              "0                 61.0             15.0  \n",
              "1                103.0             12.0  \n",
              "2                 56.0             35.0  \n",
              "3                365.0             85.0  \n",
              "4                495.0             65.0  \n",
              "...                ...              ...  \n",
              "1801             120.0              7.0  \n",
              "1802             120.0             13.0  \n",
              "1803             120.0              5.0  \n",
              "1804             120.0              6.0  \n",
              "1805             120.0              8.0  \n",
              "\n",
              "[1806 rows x 15 columns]"
            ],
            "text/html": [
              "\n",
              "  <div id=\"df-d782c9c2-0437-4916-b2d0-a3bcc823741f\">\n",
              "    <div class=\"colab-df-container\">\n",
              "      <div>\n",
              "<style scoped>\n",
              "    .dataframe tbody tr th:only-of-type {\n",
              "        vertical-align: middle;\n",
              "    }\n",
              "\n",
              "    .dataframe tbody tr th {\n",
              "        vertical-align: top;\n",
              "    }\n",
              "\n",
              "    .dataframe thead th {\n",
              "        text-align: right;\n",
              "    }\n",
              "</style>\n",
              "<table border=\"1\" class=\"dataframe\">\n",
              "  <thead>\n",
              "    <tr style=\"text-align: right;\">\n",
              "      <th></th>\n",
              "      <th>Name</th>\n",
              "      <th>Class_x</th>\n",
              "      <th>Suborder_x</th>\n",
              "      <th>average_pregnancy_duration</th>\n",
              "      <th>diet</th>\n",
              "      <th>average_life_span</th>\n",
              "      <th>Avg_Pop_Size</th>\n",
              "      <th>Pop_Trend</th>\n",
              "      <th>Pop_Status</th>\n",
              "      <th>N_loc</th>\n",
              "      <th>Popsize_Imp</th>\n",
              "      <th>popsize_med</th>\n",
              "      <th>lifespan_Imp</th>\n",
              "      <th>pregDuration_Imp</th>\n",
              "      <th>lifespan_random</th>\n",
              "    </tr>\n",
              "  </thead>\n",
              "  <tbody>\n",
              "    <tr>\n",
              "      <th>0</th>\n",
              "      <td>Grey Wolf</td>\n",
              "      <td>Mammalia</td>\n",
              "      <td>Caniformia</td>\n",
              "      <td>61.0</td>\n",
              "      <td>Carnivore</td>\n",
              "      <td>15.0</td>\n",
              "      <td>400000.0</td>\n",
              "      <td>Stable</td>\n",
              "      <td>Least concern (LC)</td>\n",
              "      <td>11</td>\n",
              "      <td>4.000000e+05</td>\n",
              "      <td>400000.0</td>\n",
              "      <td>15.0</td>\n",
              "      <td>61.0</td>\n",
              "      <td>15.0</td>\n",
              "    </tr>\n",
              "    <tr>\n",
              "      <th>1</th>\n",
              "      <td>Tiger</td>\n",
              "      <td>Mammalia</td>\n",
              "      <td>Feliformia</td>\n",
              "      <td>103.0</td>\n",
              "      <td>Carnivore</td>\n",
              "      <td>12.0</td>\n",
              "      <td>2656.0</td>\n",
              "      <td>Decreasing</td>\n",
              "      <td>Endangered (EN)</td>\n",
              "      <td>11</td>\n",
              "      <td>2.656000e+03</td>\n",
              "      <td>2656.0</td>\n",
              "      <td>12.0</td>\n",
              "      <td>103.0</td>\n",
              "      <td>12.0</td>\n",
              "    </tr>\n",
              "    <tr>\n",
              "      <th>2</th>\n",
              "      <td>Brown Bear</td>\n",
              "      <td>Mammalia</td>\n",
              "      <td>Caniformia</td>\n",
              "      <td>56.0</td>\n",
              "      <td>Omnivore</td>\n",
              "      <td>35.0</td>\n",
              "      <td>200000.0</td>\n",
              "      <td>Stable</td>\n",
              "      <td>Least concern (LC)</td>\n",
              "      <td>11</td>\n",
              "      <td>2.000000e+05</td>\n",
              "      <td>200000.0</td>\n",
              "      <td>35.0</td>\n",
              "      <td>56.0</td>\n",
              "      <td>35.0</td>\n",
              "    </tr>\n",
              "    <tr>\n",
              "      <th>3</th>\n",
              "      <td>Blue Whale</td>\n",
              "      <td>Mammalia</td>\n",
              "      <td>NaN</td>\n",
              "      <td>365.0</td>\n",
              "      <td>Carnivore</td>\n",
              "      <td>85.0</td>\n",
              "      <td>17500.0</td>\n",
              "      <td>Increasing</td>\n",
              "      <td>Endangered (EN)</td>\n",
              "      <td>11</td>\n",
              "      <td>1.750000e+04</td>\n",
              "      <td>17500.0</td>\n",
              "      <td>85.0</td>\n",
              "      <td>365.0</td>\n",
              "      <td>85.0</td>\n",
              "    </tr>\n",
              "    <tr>\n",
              "      <th>4</th>\n",
              "      <td>Killer Whale</td>\n",
              "      <td>Mammalia</td>\n",
              "      <td>NaN</td>\n",
              "      <td>495.0</td>\n",
              "      <td>Carnivore</td>\n",
              "      <td>65.0</td>\n",
              "      <td>50000.0</td>\n",
              "      <td>Unknown</td>\n",
              "      <td>Data deficient (DD)</td>\n",
              "      <td>11</td>\n",
              "      <td>5.000000e+04</td>\n",
              "      <td>50000.0</td>\n",
              "      <td>65.0</td>\n",
              "      <td>495.0</td>\n",
              "      <td>65.0</td>\n",
              "    </tr>\n",
              "    <tr>\n",
              "      <th>...</th>\n",
              "      <td>...</td>\n",
              "      <td>...</td>\n",
              "      <td>...</td>\n",
              "      <td>...</td>\n",
              "      <td>...</td>\n",
              "      <td>...</td>\n",
              "      <td>...</td>\n",
              "      <td>...</td>\n",
              "      <td>...</td>\n",
              "      <td>...</td>\n",
              "      <td>...</td>\n",
              "      <td>...</td>\n",
              "      <td>...</td>\n",
              "      <td>...</td>\n",
              "      <td>...</td>\n",
              "    </tr>\n",
              "    <tr>\n",
              "      <th>1801</th>\n",
              "      <td>Brown Teal</td>\n",
              "      <td>Aves</td>\n",
              "      <td>NaN</td>\n",
              "      <td>NaN</td>\n",
              "      <td>Omnivore</td>\n",
              "      <td>NaN</td>\n",
              "      <td>2000.0</td>\n",
              "      <td>Increasing</td>\n",
              "      <td>Vulnerable (VU)</td>\n",
              "      <td>1</td>\n",
              "      <td>2.000000e+03</td>\n",
              "      <td>2000.0</td>\n",
              "      <td>15.0</td>\n",
              "      <td>120.0</td>\n",
              "      <td>7.0</td>\n",
              "    </tr>\n",
              "    <tr>\n",
              "      <th>1802</th>\n",
              "      <td>Blue Swallow</td>\n",
              "      <td>Aves</td>\n",
              "      <td>NaN</td>\n",
              "      <td>NaN</td>\n",
              "      <td>Carnivore</td>\n",
              "      <td>NaN</td>\n",
              "      <td>2750.0</td>\n",
              "      <td>Decreasing</td>\n",
              "      <td>Vulnerable (VU)</td>\n",
              "      <td>9</td>\n",
              "      <td>2.750000e+03</td>\n",
              "      <td>2750.0</td>\n",
              "      <td>15.0</td>\n",
              "      <td>120.0</td>\n",
              "      <td>13.0</td>\n",
              "    </tr>\n",
              "    <tr>\n",
              "      <th>1803</th>\n",
              "      <td>Blue-Crowned Motmot</td>\n",
              "      <td>Aves</td>\n",
              "      <td>NaN</td>\n",
              "      <td>NaN</td>\n",
              "      <td>Carnivore</td>\n",
              "      <td>NaN</td>\n",
              "      <td>27500000.0</td>\n",
              "      <td>Decreasing</td>\n",
              "      <td>Least concern (LC)</td>\n",
              "      <td>1</td>\n",
              "      <td>2.750000e+07</td>\n",
              "      <td>27500000.0</td>\n",
              "      <td>15.0</td>\n",
              "      <td>120.0</td>\n",
              "      <td>5.0</td>\n",
              "    </tr>\n",
              "    <tr>\n",
              "      <th>1804</th>\n",
              "      <td>Crested Bellbird</td>\n",
              "      <td>Aves</td>\n",
              "      <td>NaN</td>\n",
              "      <td>NaN</td>\n",
              "      <td>Herbivore</td>\n",
              "      <td>NaN</td>\n",
              "      <td>NaN</td>\n",
              "      <td>Decreasing</td>\n",
              "      <td>Least concern (LC)</td>\n",
              "      <td>1</td>\n",
              "      <td>1.394326e+07</td>\n",
              "      <td>113715.5</td>\n",
              "      <td>15.0</td>\n",
              "      <td>120.0</td>\n",
              "      <td>6.0</td>\n",
              "    </tr>\n",
              "    <tr>\n",
              "      <th>1805</th>\n",
              "      <td>Common Black Hawk</td>\n",
              "      <td>Aves</td>\n",
              "      <td>NaN</td>\n",
              "      <td>NaN</td>\n",
              "      <td>Carnivore</td>\n",
              "      <td>NaN</td>\n",
              "      <td>2000000.0</td>\n",
              "      <td>Decreasing</td>\n",
              "      <td>Least concern (LC)</td>\n",
              "      <td>11</td>\n",
              "      <td>2.000000e+06</td>\n",
              "      <td>2000000.0</td>\n",
              "      <td>15.0</td>\n",
              "      <td>120.0</td>\n",
              "      <td>8.0</td>\n",
              "    </tr>\n",
              "  </tbody>\n",
              "</table>\n",
              "<p>1806 rows × 15 columns</p>\n",
              "</div>\n",
              "      <button class=\"colab-df-convert\" onclick=\"convertToInteractive('df-d782c9c2-0437-4916-b2d0-a3bcc823741f')\"\n",
              "              title=\"Convert this dataframe to an interactive table.\"\n",
              "              style=\"display:none;\">\n",
              "        \n",
              "  <svg xmlns=\"http://www.w3.org/2000/svg\" height=\"24px\"viewBox=\"0 0 24 24\"\n",
              "       width=\"24px\">\n",
              "    <path d=\"M0 0h24v24H0V0z\" fill=\"none\"/>\n",
              "    <path d=\"M18.56 5.44l.94 2.06.94-2.06 2.06-.94-2.06-.94-.94-2.06-.94 2.06-2.06.94zm-11 1L8.5 8.5l.94-2.06 2.06-.94-2.06-.94L8.5 2.5l-.94 2.06-2.06.94zm10 10l.94 2.06.94-2.06 2.06-.94-2.06-.94-.94-2.06-.94 2.06-2.06.94z\"/><path d=\"M17.41 7.96l-1.37-1.37c-.4-.4-.92-.59-1.43-.59-.52 0-1.04.2-1.43.59L10.3 9.45l-7.72 7.72c-.78.78-.78 2.05 0 2.83L4 21.41c.39.39.9.59 1.41.59.51 0 1.02-.2 1.41-.59l7.78-7.78 2.81-2.81c.8-.78.8-2.07 0-2.86zM5.41 20L4 18.59l7.72-7.72 1.47 1.35L5.41 20z\"/>\n",
              "  </svg>\n",
              "      </button>\n",
              "      \n",
              "  <style>\n",
              "    .colab-df-container {\n",
              "      display:flex;\n",
              "      flex-wrap:wrap;\n",
              "      gap: 12px;\n",
              "    }\n",
              "\n",
              "    .colab-df-convert {\n",
              "      background-color: #E8F0FE;\n",
              "      border: none;\n",
              "      border-radius: 50%;\n",
              "      cursor: pointer;\n",
              "      display: none;\n",
              "      fill: #1967D2;\n",
              "      height: 32px;\n",
              "      padding: 0 0 0 0;\n",
              "      width: 32px;\n",
              "    }\n",
              "\n",
              "    .colab-df-convert:hover {\n",
              "      background-color: #E2EBFA;\n",
              "      box-shadow: 0px 1px 2px rgba(60, 64, 67, 0.3), 0px 1px 3px 1px rgba(60, 64, 67, 0.15);\n",
              "      fill: #174EA6;\n",
              "    }\n",
              "\n",
              "    [theme=dark] .colab-df-convert {\n",
              "      background-color: #3B4455;\n",
              "      fill: #D2E3FC;\n",
              "    }\n",
              "\n",
              "    [theme=dark] .colab-df-convert:hover {\n",
              "      background-color: #434B5C;\n",
              "      box-shadow: 0px 1px 3px 1px rgba(0, 0, 0, 0.15);\n",
              "      filter: drop-shadow(0px 1px 2px rgba(0, 0, 0, 0.3));\n",
              "      fill: #FFFFFF;\n",
              "    }\n",
              "  </style>\n",
              "\n",
              "      <script>\n",
              "        const buttonEl =\n",
              "          document.querySelector('#df-d782c9c2-0437-4916-b2d0-a3bcc823741f button.colab-df-convert');\n",
              "        buttonEl.style.display =\n",
              "          google.colab.kernel.accessAllowed ? 'block' : 'none';\n",
              "\n",
              "        async function convertToInteractive(key) {\n",
              "          const element = document.querySelector('#df-d782c9c2-0437-4916-b2d0-a3bcc823741f');\n",
              "          const dataTable =\n",
              "            await google.colab.kernel.invokeFunction('convertToInteractive',\n",
              "                                                     [key], {});\n",
              "          if (!dataTable) return;\n",
              "\n",
              "          const docLinkHtml = 'Like what you see? Visit the ' +\n",
              "            '<a target=\"_blank\" href=https://colab.research.google.com/notebooks/data_table.ipynb>data table notebook</a>'\n",
              "            + ' to learn more about interactive tables.';\n",
              "          element.innerHTML = '';\n",
              "          dataTable['output_type'] = 'display_data';\n",
              "          await google.colab.output.renderOutput(dataTable, element);\n",
              "          const docLink = document.createElement('div');\n",
              "          docLink.innerHTML = docLinkHtml;\n",
              "          element.appendChild(docLink);\n",
              "        }\n",
              "      </script>\n",
              "    </div>\n",
              "  </div>\n",
              "  "
            ]
          },
          "metadata": {},
          "execution_count": 72
        }
      ]
    },
    {
      "cell_type": "code",
      "source": [
        "finaldf.isnull().sum()"
      ],
      "metadata": {
        "colab": {
          "base_uri": "https://localhost:8080/"
        },
        "id": "wsbIl95DE7W-",
        "outputId": "2b4677b4-6f8b-46dd-f743-0b51143209e2"
      },
      "execution_count": null,
      "outputs": [
        {
          "output_type": "execute_result",
          "data": {
            "text/plain": [
              "Name                             0\n",
              "Class_x                          0\n",
              "Suborder_x                    1220\n",
              "average_pregnancy_duration     853\n",
              "diet                             0\n",
              "average_life_span                0\n",
              "Avg_Pop_Size                     0\n",
              "Pop_Trend                        0\n",
              "Pop_Status                       0\n",
              "N_loc                            0\n",
              "lifespan_Imp                     0\n",
              "pregDuration_Imp                 0\n",
              "dtype: int64"
            ]
          },
          "metadata": {},
          "execution_count": 67
        }
      ]
    },
    {
      "cell_type": "code",
      "source": [
        "data = finaldf.to_csv('data.csv', index = True)\n",
        "print('\\nCSV String:\\n', data)"
      ],
      "metadata": {
        "colab": {
          "base_uri": "https://localhost:8080/"
        },
        "id": "I4QKxadfI0BN",
        "outputId": "75e608db-97b9-4aa3-fe3d-f0feb0090707"
      },
      "execution_count": null,
      "outputs": [
        {
          "output_type": "stream",
          "name": "stdout",
          "text": [
            "\n",
            "CSV String:\n",
            " None\n"
          ]
        }
      ]
    },
    {
      "cell_type": "code",
      "source": [
        "finaldf['lifespan_random'].hist()"
      ],
      "metadata": {
        "colab": {
          "base_uri": "https://localhost:8080/",
          "height": 279
        },
        "id": "-CfKTyeZScBy",
        "outputId": "900171c9-f35d-4256-b56e-0bfa2d265f25"
      },
      "execution_count": null,
      "outputs": [
        {
          "output_type": "execute_result",
          "data": {
            "text/plain": [
              "<matplotlib.axes._subplots.AxesSubplot at 0x7fa6ee5e0ee0>"
            ]
          },
          "metadata": {},
          "execution_count": 74
        },
        {
          "output_type": "display_data",
          "data": {
            "text/plain": [
              "<Figure size 540x252 with 1 Axes>"
            ],
            "image/png": "[encoded data removed]"
          },
          "metadata": {
            "needs_background": "light"
          }
        }
      ]
    },
    {
      "cell_type": "code",
      "source": [
        "finaldf['lifespan_random'].skew()"
      ],
      "metadata": {
        "colab": {
          "base_uri": "https://localhost:8080/"
        },
        "id": "vFEmBSdcIQmq",
        "outputId": "9ac961a2-8fe0-40b1-e34c-8cd6315fc288"
      },
      "execution_count": null,
      "outputs": [
        {
          "output_type": "execute_result",
          "data": {
            "text/plain": [
              "3.061821826340199"
            ]
          },
          "metadata": {},
          "execution_count": 75
        }
      ]
    },
    {
      "cell_type": "code",
      "source": [
        "finaldf['lifespan_random'].describe()"
      ],
      "metadata": {
        "id": "LByRROdGSQ1h"
      },
      "execution_count": null,
      "outputs": []
    },
    {
      "cell_type": "code",
      "source": [
        "IQR = finaldf.lifespan_random.quantile(0.75) - finaldf.lifespan_random.quantile(0.25)\n",
        "IQR"
      ],
      "metadata": {
        "colab": {
          "base_uri": "https://localhost:8080/"
        },
        "id": "xRKyThgxSVPb",
        "outputId": "0f42333c-284b-43bc-9a9f-86266563bf0f"
      },
      "execution_count": null,
      "outputs": [
        {
          "output_type": "execute_result",
          "data": {
            "text/plain": [
              "13.0"
            ]
          },
          "metadata": {},
          "execution_count": 76
        }
      ]
    },
    {
      "cell_type": "code",
      "source": [
        "upper_bridge = finaldf['lifespan_random'].quantile(0.75) + (IQR*1.5)\n",
        "lower_bridge = finaldf['lifespan_random'].quantile(0.25) - (IQR*1.5)\n",
        "print(lower_bridge),print(upper_bridge)"
      ],
      "metadata": {
        "colab": {
          "base_uri": "https://localhost:8080/"
        },
        "id": "jkns46jpSVM7",
        "outputId": "e0a2ea5c-0bd1-4ea5-f33b-13ac737b07d3"
      },
      "execution_count": null,
      "outputs": [
        {
          "output_type": "stream",
          "name": "stdout",
          "text": [
            "-10.5\n",
            "41.5\n"
          ]
        },
        {
          "output_type": "execute_result",
          "data": {
            "text/plain": [
              "(None, None)"
            ]
          },
          "metadata": {},
          "execution_count": 77
        }
      ]
    },
    {
      "cell_type": "code",
      "source": [
        "# Extreme Outliers\n",
        "upper_bridge = finaldf['lifespan_random'].quantile(0.75) + (IQR*3)\n",
        "lower_bridge = finaldf['lifespan_random'].quantile(0.25) - (IQR*3)\n",
        "print(lower_bridge),print(upper_bridge)"
      ],
      "metadata": {
        "colab": {
          "base_uri": "https://localhost:8080/"
        },
        "id": "onIU3hP5SVKR",
        "outputId": "a2ed8e40-2de2-4e15-f9fc-7f1172ab0e49"
      },
      "execution_count": null,
      "outputs": [
        {
          "output_type": "stream",
          "name": "stdout",
          "text": [
            "-30.0\n",
            "61.0\n"
          ]
        },
        {
          "output_type": "execute_result",
          "data": {
            "text/plain": [
              "(None, None)"
            ]
          },
          "metadata": {},
          "execution_count": 78
        }
      ]
    },
    {
      "cell_type": "code",
      "source": [
        "finaldf['lifespan_random_new'] = finaldf['lifespan_random'] "
      ],
      "metadata": {
        "colab": {
          "base_uri": "https://localhost:8080/"
        },
        "id": "XX9OsjTBSVHa",
        "outputId": "fb508dfa-d8fc-427e-d734-c30b0cc8c26c"
      },
      "execution_count": null,
      "outputs": [
        {
          "output_type": "stream",
          "name": "stderr",
          "text": [
            "<ipython-input-79-c75a191ce940>:1: SettingWithCopyWarning: \n",
            "A value is trying to be set on a copy of a slice from a DataFrame.\n",
            "Try using .loc[row_indexer,col_indexer] = value instead\n",
            "\n",
            "See the caveats in the documentation: https://pandas.pydata.org/pandas-docs/stable/user_guide/indexing.html#returning-a-view-versus-a-copy\n",
            "  finaldf['lifespan_random_new'] = finaldf['lifespan_random']\n"
          ]
        }
      ]
    },
    {
      "cell_type": "code",
      "source": [
        "finaldf.loc[finaldf['lifespan_random_new']>=61,'lifespan_random_new'] = 61"
      ],
      "metadata": {
        "colab": {
          "base_uri": "https://localhost:8080/"
        },
        "id": "X8TCO5r1SVEQ",
        "outputId": "74255848-f35e-438a-cb70-1e65954e86ad"
      },
      "execution_count": null,
      "outputs": [
        {
          "output_type": "stream",
          "name": "stderr",
          "text": [
            "/usr/local/lib/python3.8/dist-packages/pandas/core/indexing.py:1817: SettingWithCopyWarning: \n",
            "A value is trying to be set on a copy of a slice from a DataFrame.\n",
            "Try using .loc[row_indexer,col_indexer] = value instead\n",
            "\n",
            "See the caveats in the documentation: https://pandas.pydata.org/pandas-docs/stable/user_guide/indexing.html#returning-a-view-versus-a-copy\n",
            "  self._setitem_single_column(loc, value, pi)\n"
          ]
        }
      ]
    },
    {
      "cell_type": "code",
      "source": [
        "new_df=finaldf.copy()\n",
        "new_df['lifespan_random']=np.where(new_df['lifespan_random']>upper_bridge,upper_bridge,np.where(new_df['lifespan_random']<lower_bridge,lower_bridge,new_df['lifespan_random']))"
      ],
      "metadata": {
        "id": "NHwvCrhwWhki"
      },
      "execution_count": null,
      "outputs": []
    },
    {
      "cell_type": "code",
      "source": [
        "sns.boxplot(new_df['lifespan_random'])"
      ],
      "metadata": {
        "colab": {
          "base_uri": "https://localhost:8080/",
          "height": 335
        },
        "id": "gy_r22JrV1dL",
        "outputId": "048f91a5-4c10-4685-b379-090134975071"
      },
      "execution_count": null,
      "outputs": [
        {
          "output_type": "stream",
          "name": "stderr",
          "text": [
            "/usr/local/lib/python3.8/dist-packages/seaborn/_decorators.py:36: FutureWarning: Pass the following variable as a keyword arg: x. From version 0.12, the only valid positional argument will be `data`, and passing other arguments without an explicit keyword will result in an error or misinterpretation.\n",
            "  warnings.warn(\n"
          ]
        },
        {
          "output_type": "execute_result",
          "data": {
            "text/plain": [
              "<matplotlib.axes._subplots.AxesSubplot at 0x7fa6ee458850>"
            ]
          },
          "metadata": {},
          "execution_count": 82
        },
        {
          "output_type": "display_data",
          "data": {
            "text/plain": [
              "<Figure size 540x252 with 1 Axes>"
            ],
            "image/png": "[encoded data removed]"
          },
          "metadata": {
            "needs_background": "light"
          }
        }
      ]
    },
    {
      "cell_type": "code",
      "source": [
        "# random sample imputation in lifespan\n",
        "finaldf['pregDuration_random'] = finaldf['average_pregnancy_duration']\n",
        "finaldf['pregDuration_random'][finaldf['pregDuration_random'].isnull()]=finaldf['pregDuration_random'].dropna().sample(finaldf['pregDuration_random'].isnull().sum()).values"
      ],
      "metadata": {
        "colab": {
          "base_uri": "https://localhost:8080/"
        },
        "id": "ZsC4gNB4AeJB",
        "outputId": "764b1126-1e8a-412e-cbbe-82df8a7645b6"
      },
      "execution_count": null,
      "outputs": [
        {
          "output_type": "stream",
          "name": "stderr",
          "text": [
            "<ipython-input-83-05e79681fbb6>:2: SettingWithCopyWarning: \n",
            "A value is trying to be set on a copy of a slice from a DataFrame.\n",
            "Try using .loc[row_indexer,col_indexer] = value instead\n",
            "\n",
            "See the caveats in the documentation: https://pandas.pydata.org/pandas-docs/stable/user_guide/indexing.html#returning-a-view-versus-a-copy\n",
            "  finaldf['pregDuration_random'] = finaldf['average_pregnancy_duration']\n",
            "<ipython-input-83-05e79681fbb6>:3: SettingWithCopyWarning: \n",
            "A value is trying to be set on a copy of a slice from a DataFrame\n",
            "\n",
            "See the caveats in the documentation: https://pandas.pydata.org/pandas-docs/stable/user_guide/indexing.html#returning-a-view-versus-a-copy\n",
            "  finaldf['pregDuration_random'][finaldf['pregDuration_random'].isnull()]=finaldf['pregDuration_random'].dropna().sample(finaldf['pregDuration_random'].isnull().sum()).values\n",
            "/usr/local/lib/python3.8/dist-packages/pandas/core/generic.py:8870: SettingWithCopyWarning: \n",
            "A value is trying to be set on a copy of a slice from a DataFrame\n",
            "\n",
            "See the caveats in the documentation: https://pandas.pydata.org/pandas-docs/stable/user_guide/indexing.html#returning-a-view-versus-a-copy\n",
            "  return self._update_inplace(result)\n"
          ]
        }
      ]
    },
    {
      "cell_type": "code",
      "source": [
        "plt.rcParams[\"figure.figsize\"] = [7.50, 3.50]\n",
        "plt.rcParams[\"figure.autolayout\"] = True\n",
        "ax =finaldf[['average_pregnancy_duration','pregDuration_random','pregDuration_Imp']].plot(kind='box', title='boxplot')\n",
        "plt.show()"
      ],
      "metadata": {
        "colab": {
          "base_uri": "https://localhost:8080/",
          "height": 317
        },
        "id": "tOypzJUPAysF",
        "outputId": "cce28d32-eaa5-4bb9-9f49-a5a0e205dd46"
      },
      "execution_count": null,
      "outputs": [
        {
          "output_type": "stream",
          "name": "stderr",
          "text": [
            "/usr/local/lib/python3.8/dist-packages/matplotlib/cbook/__init__.py:1376: VisibleDeprecationWarning: Creating an ndarray from ragged nested sequences (which is a list-or-tuple of lists-or-tuples-or ndarrays with different lengths or shapes) is deprecated. If you meant to do this, you must specify 'dtype=object' when creating the ndarray.\n",
            "  X = np.atleast_1d(X.T if isinstance(X, np.ndarray) else np.asarray(X))\n"
          ]
        },
        {
          "output_type": "display_data",
          "data": {
            "text/plain": [
              "<Figure size 540x252 with 1 Axes>"
            ],
            "image/png": "[encoded data removed]"
          },
          "metadata": {
            "needs_background": "light"
          }
        }
      ]
    },
    {
      "cell_type": "markdown",
      "source": [
        "# outlier adjustment can be done here"
      ],
      "metadata": {
        "id": "17S1eU4hA9aS"
      }
    },
    {
      "cell_type": "code",
      "source": [
        "sns.boxplot(finaldf['lifespan_Imp'])"
      ],
      "metadata": {
        "colab": {
          "base_uri": "https://localhost:8080/",
          "height": 335
        },
        "id": "Q9yenBGxAr3y",
        "outputId": "183578b5-df8c-4498-c321-52e2a145cd1d"
      },
      "execution_count": null,
      "outputs": [
        {
          "output_type": "stream",
          "name": "stderr",
          "text": [
            "/usr/local/lib/python3.8/dist-packages/seaborn/_decorators.py:36: FutureWarning: Pass the following variable as a keyword arg: x. From version 0.12, the only valid positional argument will be `data`, and passing other arguments without an explicit keyword will result in an error or misinterpretation.\n",
            "  warnings.warn(\n"
          ]
        },
        {
          "output_type": "execute_result",
          "data": {
            "text/plain": [
              "<matplotlib.axes._subplots.AxesSubplot at 0x7fa6ee4024f0>"
            ]
          },
          "metadata": {},
          "execution_count": 85
        },
        {
          "output_type": "display_data",
          "data": {
            "text/plain": [
              "<Figure size 540x252 with 1 Axes>"
            ],
            "image/png": "[encoded data removed]"
          },
          "metadata": {
            "needs_background": "light"
          }
        }
      ]
    },
    {
      "cell_type": "code",
      "source": [
        "finaldf"
      ],
      "metadata": {
        "id": "5WMjZs3OIYm_"
      },
      "execution_count": null,
      "outputs": []
    },
    {
      "cell_type": "code",
      "source": [
        "finaldf.columns"
      ],
      "metadata": {
        "id": "pf4zne_mInE8"
      },
      "execution_count": null,
      "outputs": []
    },
    {
      "cell_type": "code",
      "source": [
        "import seaborn as sns\n",
        "import matplotlib.pyplot as plt"
      ],
      "metadata": {
        "id": "C4lYWsL83f7I"
      },
      "execution_count": null,
      "outputs": []
    },
    {
      "cell_type": "code",
      "source": [
        "plt.figure(figsize=(8,5))\n",
        "sns.heatmap(finaldf[['Popsize_Imp','pregDuration_Imp','N_loc','lifespan_random_new']].corr(),annot=True)\n",
        "plt.show()"
      ],
      "metadata": {
        "colab": {
          "base_uri": "https://localhost:8080/",
          "height": 369
        },
        "id": "T7z_cYiGIfcg",
        "outputId": "027bc3f9-e6b8-4097-9b2b-5df2e5bac7de"
      },
      "execution_count": null,
      "outputs": [
        {
          "output_type": "display_data",
          "data": {
            "text/plain": [
              "<Figure size 576x360 with 2 Axes>"
            ],
            "image/png": "[encoded data removed]"
          },
          "metadata": {
            "needs_background": "light"
          }
        }
      ]
    },
    {
      "cell_type": "markdown",
      "source": [
        "# Label Encoding"
      ],
      "metadata": {
        "id": "oyo2S4OrzMW9"
      }
    },
    {
      "cell_type": "code",
      "source": [
        "from sklearn.preprocessing import LabelEncoder\n",
        "label_encoder = LabelEncoder()\n",
        "finaldf['Pop_Trend'] = label_encoder.fit_transform(finaldf['Pop_Trend'])"
      ],
      "metadata": {
        "colab": {
          "base_uri": "https://localhost:8080/"
        },
        "id": "XJ-fqyyvx_BF",
        "outputId": "5a6fdde4-8de5-405b-f512-d78bb9695379"
      },
      "execution_count": null,
      "outputs": [
        {
          "output_type": "stream",
          "name": "stderr",
          "text": [
            "<ipython-input-89-1cddd05d9f51>:3: SettingWithCopyWarning: \n",
            "A value is trying to be set on a copy of a slice from a DataFrame.\n",
            "Try using .loc[row_indexer,col_indexer] = value instead\n",
            "\n",
            "See the caveats in the documentation: https://pandas.pydata.org/pandas-docs/stable/user_guide/indexing.html#returning-a-view-versus-a-copy\n",
            "  finaldf['Pop_Trend'] = label_encoder.fit_transform(finaldf['Pop_Trend'])\n"
          ]
        }
      ]
    },
    {
      "cell_type": "code",
      "source": [
        "finaldf['Pop_Status'].value_counts()"
      ],
      "metadata": {
        "colab": {
          "base_uri": "https://localhost:8080/"
        },
        "id": "JqL181k7z8Tm",
        "outputId": "f753a02f-346e-436f-c4c3-fd9b65b0f150"
      },
      "execution_count": null,
      "outputs": [
        {
          "output_type": "execute_result",
          "data": {
            "text/plain": [
              "Least concern (LC)          1103\n",
              "Vulnerable (VU)              346\n",
              "Endangered (EN)              253\n",
              "Data deficient (DD)           60\n",
              "Data deficient (DD)           42\n",
              "Extinct in the wild (EW)       2\n",
              "Name: Pop_Status, dtype: int64"
            ]
          },
          "metadata": {},
          "execution_count": 90
        }
      ]
    },
    {
      "cell_type": "code",
      "source": [
        "finaldf['Pop__Status'] = finaldf['Pop_Status'].replace('NaN','Data deficient (DD)')"
      ],
      "metadata": {
        "colab": {
          "base_uri": "https://localhost:8080/"
        },
        "id": "hVc_bKNW2gz6",
        "outputId": "eb333063-0cd8-4b9a-afdc-8473afe0448c"
      },
      "execution_count": null,
      "outputs": [
        {
          "output_type": "stream",
          "name": "stderr",
          "text": [
            "<ipython-input-91-23336ba95e1c>:1: SettingWithCopyWarning: \n",
            "A value is trying to be set on a copy of a slice from a DataFrame.\n",
            "Try using .loc[row_indexer,col_indexer] = value instead\n",
            "\n",
            "See the caveats in the documentation: https://pandas.pydata.org/pandas-docs/stable/user_guide/indexing.html#returning-a-view-versus-a-copy\n",
            "  finaldf['Pop__Status'] = finaldf['Pop_Status'].replace('NaN','Data deficient (DD)')\n"
          ]
        }
      ]
    },
    {
      "cell_type": "code",
      "source": [
        "finaldf['Pop__Status'].isnull().sum()"
      ],
      "metadata": {
        "colab": {
          "base_uri": "https://localhost:8080/"
        },
        "id": "M1l2F_WZ5vDN",
        "outputId": "88266d11-a02f-4acd-d400-e6699099c4d0"
      },
      "execution_count": null,
      "outputs": [
        {
          "output_type": "execute_result",
          "data": {
            "text/plain": [
              "0"
            ]
          },
          "metadata": {},
          "execution_count": 92
        }
      ]
    },
    {
      "cell_type": "markdown",
      "source": [
        "# ordinal Encoding"
      ],
      "metadata": {
        "id": "JjVX7a7g7vfO"
      }
    },
    {
      "cell_type": "code",
      "source": [
        "dummy1 = pd.get_dummies(finaldf['diet'])\n",
        "finaldf = pd.concat([finaldf,dummy1],axis=1).drop('diet',axis=1)\n",
        "finaldf.head()"
      ],
      "metadata": {
        "colab": {
          "base_uri": "https://localhost:8080/",
          "height": 409
        },
        "id": "pGiH3EYI7O2F",
        "outputId": "186da6fb-554c-4651-9bd1-35771143c9ef"
      },
      "execution_count": null,
      "outputs": [
        {
          "output_type": "execute_result",
          "data": {
            "text/plain": [
              "           Name   Class_x  Suborder_x  average_pregnancy_duration  \\\n",
              "0     Grey Wolf  Mammalia  Caniformia                        61.0   \n",
              "1         Tiger  Mammalia  Feliformia                       103.0   \n",
              "2    Brown Bear  Mammalia  Caniformia                        56.0   \n",
              "3    Blue Whale  Mammalia         NaN                       365.0   \n",
              "4  Killer Whale  Mammalia         NaN                       495.0   \n",
              "\n",
              "   average_life_span  Avg_Pop_Size  Pop_Trend           Pop_Status  N_loc  \\\n",
              "0               15.0      400000.0          2   Least concern (LC)     11   \n",
              "1               12.0        2656.0          0      Endangered (EN)     11   \n",
              "2               35.0      200000.0          2   Least concern (LC)     11   \n",
              "3               85.0       17500.0          1      Endangered (EN)     11   \n",
              "4               65.0       50000.0          3  Data deficient (DD)     11   \n",
              "\n",
              "   Popsize_Imp  popsize_med  lifespan_Imp  pregDuration_Imp  lifespan_random  \\\n",
              "0     400000.0     400000.0          15.0              61.0             15.0   \n",
              "1       2656.0       2656.0          12.0             103.0             12.0   \n",
              "2     200000.0     200000.0          35.0              56.0             35.0   \n",
              "3      17500.0      17500.0          85.0             365.0             85.0   \n",
              "4      50000.0      50000.0          65.0             495.0             65.0   \n",
              "\n",
              "   lifespan_random_new  pregDuration_random          Pop__Status  Carnivore  \\\n",
              "0                 15.0                 61.0   Least concern (LC)          1   \n",
              "1                 12.0                103.0      Endangered (EN)          1   \n",
              "2                 35.0                 56.0   Least concern (LC)          0   \n",
              "3                 61.0                365.0      Endangered (EN)          1   \n",
              "4                 61.0                495.0  Data deficient (DD)          1   \n",
              "\n",
              "   Herbivore  Omnivore  \n",
              "0          0         0  \n",
              "1          0         0  \n",
              "2          0         1  \n",
              "3          0         0  \n",
              "4          0         0  "
            ],
            "text/html": [
              "\n",
              "  <div id=\"df-d67079a6-960c-4f57-bc0e-453e05c1234e\">\n",
              "    <div class=\"colab-df-container\">\n",
              "      <div>\n",
              "<style scoped>\n",
              "    .dataframe tbody tr th:only-of-type {\n",
              "        vertical-align: middle;\n",
              "    }\n",
              "\n",
              "    .dataframe tbody tr th {\n",
              "        vertical-align: top;\n",
              "    }\n",
              "\n",
              "    .dataframe thead th {\n",
              "        text-align: right;\n",
              "    }\n",
              "</style>\n",
              "<table border=\"1\" class=\"dataframe\">\n",
              "  <thead>\n",
              "    <tr style=\"text-align: right;\">\n",
              "      <th></th>\n",
              "      <th>Name</th>\n",
              "      <th>Class_x</th>\n",
              "      <th>Suborder_x</th>\n",
              "      <th>average_pregnancy_duration</th>\n",
              "      <th>average_life_span</th>\n",
              "      <th>Avg_Pop_Size</th>\n",
              "      <th>Pop_Trend</th>\n",
              "      <th>Pop_Status</th>\n",
              "      <th>N_loc</th>\n",
              "      <th>Popsize_Imp</th>\n",
              "      <th>popsize_med</th>\n",
              "      <th>lifespan_Imp</th>\n",
              "      <th>pregDuration_Imp</th>\n",
              "      <th>lifespan_random</th>\n",
              "      <th>lifespan_random_new</th>\n",
              "      <th>pregDuration_random</th>\n",
              "      <th>Pop__Status</th>\n",
              "      <th>Carnivore</th>\n",
              "      <th>Herbivore</th>\n",
              "      <th>Omnivore</th>\n",
              "    </tr>\n",
              "  </thead>\n",
              "  <tbody>\n",
              "    <tr>\n",
              "      <th>0</th>\n",
              "      <td>Grey Wolf</td>\n",
              "      <td>Mammalia</td>\n",
              "      <td>Caniformia</td>\n",
              "      <td>61.0</td>\n",
              "      <td>15.0</td>\n",
              "      <td>400000.0</td>\n",
              "      <td>2</td>\n",
              "      <td>Least concern (LC)</td>\n",
              "      <td>11</td>\n",
              "      <td>400000.0</td>\n",
              "      <td>400000.0</td>\n",
              "      <td>15.0</td>\n",
              "      <td>61.0</td>\n",
              "      <td>15.0</td>\n",
              "      <td>15.0</td>\n",
              "      <td>61.0</td>\n",
              "      <td>Least concern (LC)</td>\n",
              "      <td>1</td>\n",
              "      <td>0</td>\n",
              "      <td>0</td>\n",
              "    </tr>\n",
              "    <tr>\n",
              "      <th>1</th>\n",
              "      <td>Tiger</td>\n",
              "      <td>Mammalia</td>\n",
              "      <td>Feliformia</td>\n",
              "      <td>103.0</td>\n",
              "      <td>12.0</td>\n",
              "      <td>2656.0</td>\n",
              "      <td>0</td>\n",
              "      <td>Endangered (EN)</td>\n",
              "      <td>11</td>\n",
              "      <td>2656.0</td>\n",
              "      <td>2656.0</td>\n",
              "      <td>12.0</td>\n",
              "      <td>103.0</td>\n",
              "      <td>12.0</td>\n",
              "      <td>12.0</td>\n",
              "      <td>103.0</td>\n",
              "      <td>Endangered (EN)</td>\n",
              "      <td>1</td>\n",
              "      <td>0</td>\n",
              "      <td>0</td>\n",
              "    </tr>\n",
              "    <tr>\n",
              "      <th>2</th>\n",
              "      <td>Brown Bear</td>\n",
              "      <td>Mammalia</td>\n",
              "      <td>Caniformia</td>\n",
              "      <td>56.0</td>\n",
              "      <td>35.0</td>\n",
              "      <td>200000.0</td>\n",
              "      <td>2</td>\n",
              "      <td>Least concern (LC)</td>\n",
              "      <td>11</td>\n",
              "      <td>200000.0</td>\n",
              "      <td>200000.0</td>\n",
              "      <td>35.0</td>\n",
              "      <td>56.0</td>\n",
              "      <td>35.0</td>\n",
              "      <td>35.0</td>\n",
              "      <td>56.0</td>\n",
              "      <td>Least concern (LC)</td>\n",
              "      <td>0</td>\n",
              "      <td>0</td>\n",
              "      <td>1</td>\n",
              "    </tr>\n",
              "    <tr>\n",
              "      <th>3</th>\n",
              "      <td>Blue Whale</td>\n",
              "      <td>Mammalia</td>\n",
              "      <td>NaN</td>\n",
              "      <td>365.0</td>\n",
              "      <td>85.0</td>\n",
              "      <td>17500.0</td>\n",
              "      <td>1</td>\n",
              "      <td>Endangered (EN)</td>\n",
              "      <td>11</td>\n",
              "      <td>17500.0</td>\n",
              "      <td>17500.0</td>\n",
              "      <td>85.0</td>\n",
              "      <td>365.0</td>\n",
              "      <td>85.0</td>\n",
              "      <td>61.0</td>\n",
              "      <td>365.0</td>\n",
              "      <td>Endangered (EN)</td>\n",
              "      <td>1</td>\n",
              "      <td>0</td>\n",
              "      <td>0</td>\n",
              "    </tr>\n",
              "    <tr>\n",
              "      <th>4</th>\n",
              "      <td>Killer Whale</td>\n",
              "      <td>Mammalia</td>\n",
              "      <td>NaN</td>\n",
              "      <td>495.0</td>\n",
              "      <td>65.0</td>\n",
              "      <td>50000.0</td>\n",
              "      <td>3</td>\n",
              "      <td>Data deficient (DD)</td>\n",
              "      <td>11</td>\n",
              "      <td>50000.0</td>\n",
              "      <td>50000.0</td>\n",
              "      <td>65.0</td>\n",
              "      <td>495.0</td>\n",
              "      <td>65.0</td>\n",
              "      <td>61.0</td>\n",
              "      <td>495.0</td>\n",
              "      <td>Data deficient (DD)</td>\n",
              "      <td>1</td>\n",
              "      <td>0</td>\n",
              "      <td>0</td>\n",
              "    </tr>\n",
              "  </tbody>\n",
              "</table>\n",
              "</div>\n",
              "      <button class=\"colab-df-convert\" onclick=\"convertToInteractive('df-d67079a6-960c-4f57-bc0e-453e05c1234e')\"\n",
              "              title=\"Convert this dataframe to an interactive table.\"\n",
              "              style=\"display:none;\">\n",
              "        \n",
              "  <svg xmlns=\"http://www.w3.org/2000/svg\" height=\"24px\"viewBox=\"0 0 24 24\"\n",
              "       width=\"24px\">\n",
              "    <path d=\"M0 0h24v24H0V0z\" fill=\"none\"/>\n",
              "    <path d=\"M18.56 5.44l.94 2.06.94-2.06 2.06-.94-2.06-.94-.94-2.06-.94 2.06-2.06.94zm-11 1L8.5 8.5l.94-2.06 2.06-.94-2.06-.94L8.5 2.5l-.94 2.06-2.06.94zm10 10l.94 2.06.94-2.06 2.06-.94-2.06-.94-.94-2.06-.94 2.06-2.06.94z\"/><path d=\"M17.41 7.96l-1.37-1.37c-.4-.4-.92-.59-1.43-.59-.52 0-1.04.2-1.43.59L10.3 9.45l-7.72 7.72c-.78.78-.78 2.05 0 2.83L4 21.41c.39.39.9.59 1.41.59.51 0 1.02-.2 1.41-.59l7.78-7.78 2.81-2.81c.8-.78.8-2.07 0-2.86zM5.41 20L4 18.59l7.72-7.72 1.47 1.35L5.41 20z\"/>\n",
              "  </svg>\n",
              "      </button>\n",
              "      \n",
              "  <style>\n",
              "    .colab-df-container {\n",
              "      display:flex;\n",
              "      flex-wrap:wrap;\n",
              "      gap: 12px;\n",
              "    }\n",
              "\n",
              "    .colab-df-convert {\n",
              "      background-color: #E8F0FE;\n",
              "      border: none;\n",
              "      border-radius: 50%;\n",
              "      cursor: pointer;\n",
              "      display: none;\n",
              "      fill: #1967D2;\n",
              "      height: 32px;\n",
              "      padding: 0 0 0 0;\n",
              "      width: 32px;\n",
              "    }\n",
              "\n",
              "    .colab-df-convert:hover {\n",
              "      background-color: #E2EBFA;\n",
              "      box-shadow: 0px 1px 2px rgba(60, 64, 67, 0.3), 0px 1px 3px 1px rgba(60, 64, 67, 0.15);\n",
              "      fill: #174EA6;\n",
              "    }\n",
              "\n",
              "    [theme=dark] .colab-df-convert {\n",
              "      background-color: #3B4455;\n",
              "      fill: #D2E3FC;\n",
              "    }\n",
              "\n",
              "    [theme=dark] .colab-df-convert:hover {\n",
              "      background-color: #434B5C;\n",
              "      box-shadow: 0px 1px 3px 1px rgba(0, 0, 0, 0.15);\n",
              "      filter: drop-shadow(0px 1px 2px rgba(0, 0, 0, 0.3));\n",
              "      fill: #FFFFFF;\n",
              "    }\n",
              "  </style>\n",
              "\n",
              "      <script>\n",
              "        const buttonEl =\n",
              "          document.querySelector('#df-d67079a6-960c-4f57-bc0e-453e05c1234e button.colab-df-convert');\n",
              "        buttonEl.style.display =\n",
              "          google.colab.kernel.accessAllowed ? 'block' : 'none';\n",
              "\n",
              "        async function convertToInteractive(key) {\n",
              "          const element = document.querySelector('#df-d67079a6-960c-4f57-bc0e-453e05c1234e');\n",
              "          const dataTable =\n",
              "            await google.colab.kernel.invokeFunction('convertToInteractive',\n",
              "                                                     [key], {});\n",
              "          if (!dataTable) return;\n",
              "\n",
              "          const docLinkHtml = 'Like what you see? Visit the ' +\n",
              "            '<a target=\"_blank\" href=https://colab.research.google.com/notebooks/data_table.ipynb>data table notebook</a>'\n",
              "            + ' to learn more about interactive tables.';\n",
              "          element.innerHTML = '';\n",
              "          dataTable['output_type'] = 'display_data';\n",
              "          await google.colab.output.renderOutput(dataTable, element);\n",
              "          const docLink = document.createElement('div');\n",
              "          docLink.innerHTML = docLinkHtml;\n",
              "          element.appendChild(docLink);\n",
              "        }\n",
              "      </script>\n",
              "    </div>\n",
              "  </div>\n",
              "  "
            ]
          },
          "metadata": {},
          "execution_count": 93
        }
      ]
    },
    {
      "cell_type": "code",
      "source": [
        "finaldf.isnull().sum()"
      ],
      "metadata": {
        "colab": {
          "base_uri": "https://localhost:8080/"
        },
        "id": "bKRxVAxp7y-G",
        "outputId": "323c4fff-926b-436c-de9d-cf7dba49be20"
      },
      "execution_count": null,
      "outputs": [
        {
          "output_type": "execute_result",
          "data": {
            "text/plain": [
              "Name                             0\n",
              "Class_x                          0\n",
              "Suborder_x                    1220\n",
              "average_pregnancy_duration     853\n",
              "average_life_span              719\n",
              "Avg_Pop_Size                   970\n",
              "Pop_Trend                        0\n",
              "Pop_Status                       0\n",
              "N_loc                            0\n",
              "Popsize_Imp                      0\n",
              "popsize_med                      0\n",
              "lifespan_Imp                     0\n",
              "pregDuration_Imp                 0\n",
              "lifespan_random                  0\n",
              "lifespan_random_new              0\n",
              "pregDuration_random              0\n",
              "Pop__Status                      0\n",
              "Carnivore                        0\n",
              "Herbivore                        0\n",
              "Omnivore                         0\n",
              "dtype: int64"
            ]
          },
          "metadata": {},
          "execution_count": 94
        }
      ]
    },
    {
      "cell_type": "code",
      "source": [
        "sns.boxplot(finaldf['lifespan_Imp'])"
      ],
      "metadata": {
        "colab": {
          "base_uri": "https://localhost:8080/",
          "height": 335
        },
        "id": "8B56isfQ77nP",
        "outputId": "d04d296a-7831-4771-e3fb-d55c3fd957c9"
      },
      "execution_count": null,
      "outputs": [
        {
          "output_type": "stream",
          "name": "stderr",
          "text": [
            "/usr/local/lib/python3.8/dist-packages/seaborn/_decorators.py:36: FutureWarning: Pass the following variable as a keyword arg: x. From version 0.12, the only valid positional argument will be `data`, and passing other arguments without an explicit keyword will result in an error or misinterpretation.\n",
            "  warnings.warn(\n"
          ]
        },
        {
          "output_type": "execute_result",
          "data": {
            "text/plain": [
              "<matplotlib.axes._subplots.AxesSubplot at 0x7fa6ee303730>"
            ]
          },
          "metadata": {},
          "execution_count": 95
        },
        {
          "output_type": "display_data",
          "data": {
            "text/plain": [
              "<Figure size 540x252 with 1 Axes>"
            ],
            "image/png": "[encoded data removed]"
          },
          "metadata": {
            "needs_background": "light"
          }
        }
      ]
    },
    {
      "cell_type": "code",
      "source": [
        "finaldf['Pop_Trend'].value_counts()"
      ],
      "metadata": {
        "colab": {
          "base_uri": "https://localhost:8080/"
        },
        "id": "sQ4s_s3OGO1u",
        "outputId": "74d77c43-93bb-43b0-874a-26a8267b2e47"
      },
      "execution_count": null,
      "outputs": [
        {
          "output_type": "execute_result",
          "data": {
            "text/plain": [
              "0    787\n",
              "2    539\n",
              "3    273\n",
              "1    207\n",
              "Name: Pop_Trend, dtype: int64"
            ]
          },
          "metadata": {},
          "execution_count": 96
        }
      ]
    },
    {
      "cell_type": "code",
      "source": [
        "plt.figure(figsize=(10,8))\n",
        "plt.title('Classification of groups in the response variables')\n",
        "finaldf['Pop_Status'].value_counts().plot(kind='bar')"
      ],
      "metadata": {
        "colab": {
          "base_uri": "https://localhost:8080/",
          "height": 603
        },
        "id": "aftIBpbWiRby",
        "outputId": "4c85ff37-4593-4961-fa27-b665c565e808"
      },
      "execution_count": null,
      "outputs": [
        {
          "output_type": "execute_result",
          "data": {
            "text/plain": [
              "<matplotlib.axes._subplots.AxesSubplot at 0x7fa6f4fba310>"
            ]
          },
          "metadata": {},
          "execution_count": 102
        },
        {
          "output_type": "display_data",
          "data": {
            "text/plain": [
              "<Figure size 720x576 with 1 Axes>"
            ],
            "image/png": "[encoded data removed]"
          },
          "metadata": {
            "needs_background": "light"
          }
        }
      ]
    },
    {
      "cell_type": "code",
      "source": [],
      "metadata": {
        "id": "zVyF1GyUirop"
      },
      "execution_count": null,
      "outputs": []
    }
  ]
}